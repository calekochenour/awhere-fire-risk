{
 "cells": [
  {
   "cell_type": "markdown",
   "metadata": {},
   "source": [
    "# Test/Demo Classes\n",
    "\n",
    "Step 1 - Create aWhere object of desired class.\n",
    "\n",
    "Step 2 - Call the api_to_gdf() class method (with optional parameters) to go return geodataframe of the extracted and cleaned API data."
   ]
  },
  {
   "cell_type": "markdown",
   "metadata": {},
   "source": [
    "## Environment Setup"
   ]
  },
  {
   "cell_type": "code",
   "execution_count": 1,
   "metadata": {},
   "outputs": [],
   "source": [
    "# Imports\n",
    "import os\n",
    "from awhere_classes import *\n",
    "\n",
    "# Show all pandas columns and rows\n",
    "pd.set_option('max_columns', None)\n",
    "pd.set_option('max_rows', None)"
   ]
  },
  {
   "cell_type": "code",
   "execution_count": 2,
   "metadata": {},
   "outputs": [],
   "source": [
    "# Define aWhere API key and secret\n",
    "api_key = os.environ.get('AWHERE_API_KEY')\n",
    "api_secret = os.environ.get('AWHERE_API_SECRET')"
   ]
  },
  {
   "cell_type": "markdown",
   "metadata": {},
   "source": [
    "## Weather Norms - Location"
   ]
  },
  {
   "cell_type": "code",
   "execution_count": 3,
   "metadata": {},
   "outputs": [],
   "source": [
    "# Define WeatherLocationNorms object, Bear Lake, RMNP, Colorado\n",
    "norms_object = WeatherLocationNorms(\n",
    "    api_key, api_secret, latitude=40.313250, longitude=-105.648222)"
   ]
  },
  {
   "cell_type": "code",
   "execution_count": 4,
   "metadata": {},
   "outputs": [],
   "source": [
    "# Define kwargs (parameters from get_data)\n",
    "norms_kwargs = {'start_day': '05-01', 'end_day': '05-10'}\n",
    "\n",
    "# Create geodataframe\n",
    "norms_gdf = WeatherLocationNorms.api_to_gdf(norms_object, norms_kwargs)"
   ]
  },
  {
   "cell_type": "code",
   "execution_count": 5,
   "metadata": {
    "scrolled": true
   },
   "outputs": [
    {
     "data": {
      "text/html": [
       "<div>\n",
       "<style scoped>\n",
       "    .dataframe tbody tr th:only-of-type {\n",
       "        vertical-align: middle;\n",
       "    }\n",
       "\n",
       "    .dataframe tbody tr th {\n",
       "        vertical-align: top;\n",
       "    }\n",
       "\n",
       "    .dataframe thead th {\n",
       "        text-align: right;\n",
       "    }\n",
       "</style>\n",
       "<table border=\"1\" class=\"dataframe\">\n",
       "  <thead>\n",
       "    <tr style=\"text-align: right;\">\n",
       "      <th></th>\n",
       "      <th>mean_temp_avg_cels</th>\n",
       "      <th>mean_temp_std_dev_cels</th>\n",
       "      <th>max_temp_avg_cels</th>\n",
       "      <th>max_temp_std_dev_cels</th>\n",
       "      <th>min_temp_avg_cels</th>\n",
       "      <th>min_temp_std_dev_cels</th>\n",
       "      <th>precip_avg_mm</th>\n",
       "      <th>precip_std_dev_mm</th>\n",
       "      <th>solar_avg_w_h_per_m2</th>\n",
       "      <th>solar_avg_std_dev_w_h_per_m2</th>\n",
       "      <th>min_humiduty_avg_%</th>\n",
       "      <th>min_humidity_std_dev_%</th>\n",
       "      <th>max_humiduty_avg_%</th>\n",
       "      <th>max_humidity_std_dev_%</th>\n",
       "      <th>daily_max_wind_avg_m_per_sec</th>\n",
       "      <th>daily_max_wind_std_dev_m_per_sec</th>\n",
       "      <th>average_wind_m_per_sec</th>\n",
       "      <th>average_wind_std_dev_m_per_sec</th>\n",
       "      <th>geometry</th>\n",
       "    </tr>\n",
       "    <tr>\n",
       "      <th>day</th>\n",
       "      <th></th>\n",
       "      <th></th>\n",
       "      <th></th>\n",
       "      <th></th>\n",
       "      <th></th>\n",
       "      <th></th>\n",
       "      <th></th>\n",
       "      <th></th>\n",
       "      <th></th>\n",
       "      <th></th>\n",
       "      <th></th>\n",
       "      <th></th>\n",
       "      <th></th>\n",
       "      <th></th>\n",
       "      <th></th>\n",
       "      <th></th>\n",
       "      <th></th>\n",
       "      <th></th>\n",
       "      <th></th>\n",
       "    </tr>\n",
       "  </thead>\n",
       "  <tbody>\n",
       "    <tr>\n",
       "      <th>05-01</th>\n",
       "      <td>-1.1190</td>\n",
       "      <td>5.068417</td>\n",
       "      <td>3.876</td>\n",
       "      <td>5.916274</td>\n",
       "      <td>-6.114</td>\n",
       "      <td>4.420559</td>\n",
       "      <td>3.68035</td>\n",
       "      <td>9.554543</td>\n",
       "      <td>4431.667969</td>\n",
       "      <td>1377.411019</td>\n",
       "      <td>41.275</td>\n",
       "      <td>19.059746</td>\n",
       "      <td>87.468</td>\n",
       "      <td>12.352879</td>\n",
       "      <td>8.133095</td>\n",
       "      <td>1.840321</td>\n",
       "      <td>3.621491</td>\n",
       "      <td>0.984079</td>\n",
       "      <td>POINT (-105.64822 40.31325)</td>\n",
       "    </tr>\n",
       "    <tr>\n",
       "      <th>05-02</th>\n",
       "      <td>-0.1465</td>\n",
       "      <td>4.799937</td>\n",
       "      <td>6.008</td>\n",
       "      <td>5.381678</td>\n",
       "      <td>-6.301</td>\n",
       "      <td>5.016509</td>\n",
       "      <td>1.46045</td>\n",
       "      <td>2.810060</td>\n",
       "      <td>5611.167041</td>\n",
       "      <td>1472.916885</td>\n",
       "      <td>36.652</td>\n",
       "      <td>12.935928</td>\n",
       "      <td>88.573</td>\n",
       "      <td>7.825873</td>\n",
       "      <td>6.987793</td>\n",
       "      <td>1.524514</td>\n",
       "      <td>2.889469</td>\n",
       "      <td>0.687822</td>\n",
       "      <td>POINT (-105.64822 40.31325)</td>\n",
       "    </tr>\n",
       "    <tr>\n",
       "      <th>05-03</th>\n",
       "      <td>2.5060</td>\n",
       "      <td>3.589441</td>\n",
       "      <td>9.902</td>\n",
       "      <td>4.821597</td>\n",
       "      <td>-4.890</td>\n",
       "      <td>3.117275</td>\n",
       "      <td>1.58140</td>\n",
       "      <td>3.664253</td>\n",
       "      <td>6290.147144</td>\n",
       "      <td>1506.636049</td>\n",
       "      <td>28.086</td>\n",
       "      <td>15.302460</td>\n",
       "      <td>85.673</td>\n",
       "      <td>10.357255</td>\n",
       "      <td>7.615376</td>\n",
       "      <td>1.918557</td>\n",
       "      <td>3.427145</td>\n",
       "      <td>0.938786</td>\n",
       "      <td>POINT (-105.64822 40.31325)</td>\n",
       "    </tr>\n",
       "    <tr>\n",
       "      <th>05-04</th>\n",
       "      <td>4.3530</td>\n",
       "      <td>3.402978</td>\n",
       "      <td>11.472</td>\n",
       "      <td>5.071574</td>\n",
       "      <td>-2.766</td>\n",
       "      <td>2.787927</td>\n",
       "      <td>0.19920</td>\n",
       "      <td>0.629926</td>\n",
       "      <td>6444.413379</td>\n",
       "      <td>1520.595394</td>\n",
       "      <td>25.680</td>\n",
       "      <td>15.660493</td>\n",
       "      <td>74.959</td>\n",
       "      <td>16.532896</td>\n",
       "      <td>7.747343</td>\n",
       "      <td>3.441009</td>\n",
       "      <td>3.586217</td>\n",
       "      <td>1.860520</td>\n",
       "      <td>POINT (-105.64822 40.31325)</td>\n",
       "    </tr>\n",
       "    <tr>\n",
       "      <th>05-05</th>\n",
       "      <td>4.7560</td>\n",
       "      <td>2.985137</td>\n",
       "      <td>12.613</td>\n",
       "      <td>4.306329</td>\n",
       "      <td>-3.101</td>\n",
       "      <td>2.628673</td>\n",
       "      <td>0.23410</td>\n",
       "      <td>0.740289</td>\n",
       "      <td>6617.703345</td>\n",
       "      <td>1489.975061</td>\n",
       "      <td>23.204</td>\n",
       "      <td>17.430204</td>\n",
       "      <td>78.599</td>\n",
       "      <td>12.711234</td>\n",
       "      <td>7.259182</td>\n",
       "      <td>2.180336</td>\n",
       "      <td>3.262730</td>\n",
       "      <td>1.052785</td>\n",
       "      <td>POINT (-105.64822 40.31325)</td>\n",
       "    </tr>\n",
       "  </tbody>\n",
       "</table>\n",
       "</div>"
      ],
      "text/plain": [
       "       mean_temp_avg_cels  mean_temp_std_dev_cels  max_temp_avg_cels  \\\n",
       "day                                                                    \n",
       "05-01             -1.1190                5.068417              3.876   \n",
       "05-02             -0.1465                4.799937              6.008   \n",
       "05-03              2.5060                3.589441              9.902   \n",
       "05-04              4.3530                3.402978             11.472   \n",
       "05-05              4.7560                2.985137             12.613   \n",
       "\n",
       "       max_temp_std_dev_cels  min_temp_avg_cels  min_temp_std_dev_cels  \\\n",
       "day                                                                      \n",
       "05-01               5.916274             -6.114               4.420559   \n",
       "05-02               5.381678             -6.301               5.016509   \n",
       "05-03               4.821597             -4.890               3.117275   \n",
       "05-04               5.071574             -2.766               2.787927   \n",
       "05-05               4.306329             -3.101               2.628673   \n",
       "\n",
       "       precip_avg_mm  precip_std_dev_mm  solar_avg_w_h_per_m2  \\\n",
       "day                                                             \n",
       "05-01        3.68035           9.554543           4431.667969   \n",
       "05-02        1.46045           2.810060           5611.167041   \n",
       "05-03        1.58140           3.664253           6290.147144   \n",
       "05-04        0.19920           0.629926           6444.413379   \n",
       "05-05        0.23410           0.740289           6617.703345   \n",
       "\n",
       "       solar_avg_std_dev_w_h_per_m2  min_humiduty_avg_%  \\\n",
       "day                                                       \n",
       "05-01                   1377.411019              41.275   \n",
       "05-02                   1472.916885              36.652   \n",
       "05-03                   1506.636049              28.086   \n",
       "05-04                   1520.595394              25.680   \n",
       "05-05                   1489.975061              23.204   \n",
       "\n",
       "       min_humidity_std_dev_%  max_humiduty_avg_%  max_humidity_std_dev_%  \\\n",
       "day                                                                         \n",
       "05-01               19.059746              87.468               12.352879   \n",
       "05-02               12.935928              88.573                7.825873   \n",
       "05-03               15.302460              85.673               10.357255   \n",
       "05-04               15.660493              74.959               16.532896   \n",
       "05-05               17.430204              78.599               12.711234   \n",
       "\n",
       "       daily_max_wind_avg_m_per_sec  daily_max_wind_std_dev_m_per_sec  \\\n",
       "day                                                                     \n",
       "05-01                      8.133095                          1.840321   \n",
       "05-02                      6.987793                          1.524514   \n",
       "05-03                      7.615376                          1.918557   \n",
       "05-04                      7.747343                          3.441009   \n",
       "05-05                      7.259182                          2.180336   \n",
       "\n",
       "       average_wind_m_per_sec  average_wind_std_dev_m_per_sec  \\\n",
       "day                                                             \n",
       "05-01                3.621491                        0.984079   \n",
       "05-02                2.889469                        0.687822   \n",
       "05-03                3.427145                        0.938786   \n",
       "05-04                3.586217                        1.860520   \n",
       "05-05                3.262730                        1.052785   \n",
       "\n",
       "                          geometry  \n",
       "day                                 \n",
       "05-01  POINT (-105.64822 40.31325)  \n",
       "05-02  POINT (-105.64822 40.31325)  \n",
       "05-03  POINT (-105.64822 40.31325)  \n",
       "05-04  POINT (-105.64822 40.31325)  \n",
       "05-05  POINT (-105.64822 40.31325)  "
      ]
     },
     "execution_count": 5,
     "metadata": {},
     "output_type": "execute_result"
    }
   ],
   "source": [
    "# Display geodataframe\n",
    "norms_gdf.head()"
   ]
  },
  {
   "cell_type": "markdown",
   "metadata": {},
   "source": [
    "## Weather Observed - Location"
   ]
  },
  {
   "cell_type": "code",
   "execution_count": 6,
   "metadata": {},
   "outputs": [],
   "source": [
    "# Define WeatherLocationObserved object, Bear Lake, RMNP, Colorado\n",
    "observed_object = WeatherLocationObserved(\n",
    "    api_key, api_secret, latitude=40.313250, longitude=-105.648222)"
   ]
  },
  {
   "cell_type": "code",
   "execution_count": 7,
   "metadata": {},
   "outputs": [],
   "source": [
    "# Define kwargs (parameters from get_data)\n",
    "#observed_kwargs = {'start_day': '05-01', 'end_day': '05-10'}\n",
    "\n",
    "# Create geodataframe\n",
    "observed_gdf = WeatherLocationObserved.api_to_gdf(observed_object)"
   ]
  },
  {
   "cell_type": "code",
   "execution_count": 8,
   "metadata": {},
   "outputs": [
    {
     "data": {
      "text/html": [
       "<div>\n",
       "<style scoped>\n",
       "    .dataframe tbody tr th:only-of-type {\n",
       "        vertical-align: middle;\n",
       "    }\n",
       "\n",
       "    .dataframe tbody tr th {\n",
       "        vertical-align: top;\n",
       "    }\n",
       "\n",
       "    .dataframe thead th {\n",
       "        text-align: right;\n",
       "    }\n",
       "</style>\n",
       "<table border=\"1\" class=\"dataframe\">\n",
       "  <thead>\n",
       "    <tr style=\"text-align: right;\">\n",
       "      <th></th>\n",
       "      <th>temp_max_cels</th>\n",
       "      <th>temp_min_cels</th>\n",
       "      <th>precip_amount_mm</th>\n",
       "      <th>solar_energy_w_h_per_m2</th>\n",
       "      <th>rel_humidity_max_%</th>\n",
       "      <th>rel_humidity_min_%</th>\n",
       "      <th>wind_morning_max_m_per_sec</th>\n",
       "      <th>wind_day_max_m_per_sec</th>\n",
       "      <th>wind_avg_m_per_sec</th>\n",
       "      <th>geometry</th>\n",
       "    </tr>\n",
       "    <tr>\n",
       "      <th>date</th>\n",
       "      <th></th>\n",
       "      <th></th>\n",
       "      <th></th>\n",
       "      <th></th>\n",
       "      <th></th>\n",
       "      <th></th>\n",
       "      <th></th>\n",
       "      <th></th>\n",
       "      <th></th>\n",
       "      <th></th>\n",
       "    </tr>\n",
       "  </thead>\n",
       "  <tbody>\n",
       "    <tr>\n",
       "      <th>2020-04-16</th>\n",
       "      <td>-7.06</td>\n",
       "      <td>-15.270000</td>\n",
       "      <td>7.735</td>\n",
       "      <td>2191.160645</td>\n",
       "      <td>99.470001</td>\n",
       "      <td>74.089996</td>\n",
       "      <td>4.752274</td>\n",
       "      <td>6.441178</td>\n",
       "      <td>2.955719</td>\n",
       "      <td>POINT (-105.64822 40.31325)</td>\n",
       "    </tr>\n",
       "    <tr>\n",
       "      <th>2020-04-17</th>\n",
       "      <td>-2.72</td>\n",
       "      <td>-19.049999</td>\n",
       "      <td>0.000</td>\n",
       "      <td>6723.494141</td>\n",
       "      <td>95.440002</td>\n",
       "      <td>38.150002</td>\n",
       "      <td>5.287687</td>\n",
       "      <td>5.826817</td>\n",
       "      <td>2.539659</td>\n",
       "      <td>POINT (-105.64822 40.31325)</td>\n",
       "    </tr>\n",
       "    <tr>\n",
       "      <th>2020-04-18</th>\n",
       "      <td>0.68</td>\n",
       "      <td>-8.880000</td>\n",
       "      <td>4.119</td>\n",
       "      <td>4667.589844</td>\n",
       "      <td>98.629997</td>\n",
       "      <td>54.930000</td>\n",
       "      <td>3.488690</td>\n",
       "      <td>6.941341</td>\n",
       "      <td>2.574884</td>\n",
       "      <td>POINT (-105.64822 40.31325)</td>\n",
       "    </tr>\n",
       "    <tr>\n",
       "      <th>2020-04-19</th>\n",
       "      <td>3.68</td>\n",
       "      <td>-6.670000</td>\n",
       "      <td>0.147</td>\n",
       "      <td>5126.943359</td>\n",
       "      <td>98.839996</td>\n",
       "      <td>41.520000</td>\n",
       "      <td>5.440413</td>\n",
       "      <td>7.381828</td>\n",
       "      <td>3.197396</td>\n",
       "      <td>POINT (-105.64822 40.31325)</td>\n",
       "    </tr>\n",
       "    <tr>\n",
       "      <th>2020-04-20</th>\n",
       "      <td>6.33</td>\n",
       "      <td>-6.650000</td>\n",
       "      <td>0.000</td>\n",
       "      <td>5583.192871</td>\n",
       "      <td>94.919998</td>\n",
       "      <td>29.260000</td>\n",
       "      <td>4.331107</td>\n",
       "      <td>5.393175</td>\n",
       "      <td>2.356313</td>\n",
       "      <td>POINT (-105.64822 40.31325)</td>\n",
       "    </tr>\n",
       "  </tbody>\n",
       "</table>\n",
       "</div>"
      ],
      "text/plain": [
       "            temp_max_cels  temp_min_cels  precip_amount_mm  \\\n",
       "date                                                         \n",
       "2020-04-16          -7.06     -15.270000             7.735   \n",
       "2020-04-17          -2.72     -19.049999             0.000   \n",
       "2020-04-18           0.68      -8.880000             4.119   \n",
       "2020-04-19           3.68      -6.670000             0.147   \n",
       "2020-04-20           6.33      -6.650000             0.000   \n",
       "\n",
       "            solar_energy_w_h_per_m2  rel_humidity_max_%  rel_humidity_min_%  \\\n",
       "date                                                                          \n",
       "2020-04-16              2191.160645           99.470001           74.089996   \n",
       "2020-04-17              6723.494141           95.440002           38.150002   \n",
       "2020-04-18              4667.589844           98.629997           54.930000   \n",
       "2020-04-19              5126.943359           98.839996           41.520000   \n",
       "2020-04-20              5583.192871           94.919998           29.260000   \n",
       "\n",
       "            wind_morning_max_m_per_sec  wind_day_max_m_per_sec  \\\n",
       "date                                                             \n",
       "2020-04-16                    4.752274                6.441178   \n",
       "2020-04-17                    5.287687                5.826817   \n",
       "2020-04-18                    3.488690                6.941341   \n",
       "2020-04-19                    5.440413                7.381828   \n",
       "2020-04-20                    4.331107                5.393175   \n",
       "\n",
       "            wind_avg_m_per_sec                     geometry  \n",
       "date                                                         \n",
       "2020-04-16            2.955719  POINT (-105.64822 40.31325)  \n",
       "2020-04-17            2.539659  POINT (-105.64822 40.31325)  \n",
       "2020-04-18            2.574884  POINT (-105.64822 40.31325)  \n",
       "2020-04-19            3.197396  POINT (-105.64822 40.31325)  \n",
       "2020-04-20            2.356313  POINT (-105.64822 40.31325)  "
      ]
     },
     "execution_count": 8,
     "metadata": {},
     "output_type": "execute_result"
    }
   ],
   "source": [
    "# Display geodataframe\n",
    "observed_gdf.head()"
   ]
  },
  {
   "cell_type": "markdown",
   "metadata": {},
   "source": [
    "## Weather Forecast - Location"
   ]
  },
  {
   "cell_type": "code",
   "execution_count": 9,
   "metadata": {},
   "outputs": [],
   "source": [
    "# Define WeatherLocationNorms object, Bear Lake, RMNP, Colorado\n",
    "forecast_object = WeatherLocationForecast(\n",
    "    api_key, api_secret, latitude=40.313250, longitude=-105.648222)"
   ]
  },
  {
   "cell_type": "code",
   "execution_count": 10,
   "metadata": {},
   "outputs": [],
   "source": [
    "# Define kwargs (parameters from get_data)\n",
    "#forecast_kwargs = {'start_day': '05-01', 'end_day': '05-10'}\n",
    "\n",
    "# Create geodataframe - main forecast\n",
    "forecast_main_gdf = WeatherLocationForecast.api_to_gdf(forecast_object, forecast_type='main')"
   ]
  },
  {
   "cell_type": "code",
   "execution_count": 11,
   "metadata": {},
   "outputs": [
    {
     "data": {
      "text/html": [
       "<div>\n",
       "<style scoped>\n",
       "    .dataframe tbody tr th:only-of-type {\n",
       "        vertical-align: middle;\n",
       "    }\n",
       "\n",
       "    .dataframe tbody tr th {\n",
       "        vertical-align: top;\n",
       "    }\n",
       "\n",
       "    .dataframe thead th {\n",
       "        text-align: right;\n",
       "    }\n",
       "</style>\n",
       "<table border=\"1\" class=\"dataframe\">\n",
       "  <thead>\n",
       "    <tr style=\"text-align: right;\">\n",
       "      <th></th>\n",
       "      <th>start_time</th>\n",
       "      <th>end_time</th>\n",
       "      <th>conditions_code</th>\n",
       "      <th>conditions_text</th>\n",
       "      <th>temp_max_cels</th>\n",
       "      <th>temp_min_cels</th>\n",
       "      <th>precip_chance_%</th>\n",
       "      <th>precip_amount_mm</th>\n",
       "      <th>sky_cloud_cover_%</th>\n",
       "      <th>sky_sunshine_%</th>\n",
       "      <th>solar_energy_w_h_per_m2</th>\n",
       "      <th>rel_humidity_avg_%</th>\n",
       "      <th>rel_humidity_max_%</th>\n",
       "      <th>rel_humidity_min_%</th>\n",
       "      <th>wind_avg_m_per_sec</th>\n",
       "      <th>wind_max_m_per_sec</th>\n",
       "      <th>wind_min_m_per_sec</th>\n",
       "      <th>wind_bearing_deg</th>\n",
       "      <th>wind_direction_compass</th>\n",
       "      <th>dew_point_cels</th>\n",
       "      <th>geometry</th>\n",
       "    </tr>\n",
       "    <tr>\n",
       "      <th>date</th>\n",
       "      <th></th>\n",
       "      <th></th>\n",
       "      <th></th>\n",
       "      <th></th>\n",
       "      <th></th>\n",
       "      <th></th>\n",
       "      <th></th>\n",
       "      <th></th>\n",
       "      <th></th>\n",
       "      <th></th>\n",
       "      <th></th>\n",
       "      <th></th>\n",
       "      <th></th>\n",
       "      <th></th>\n",
       "      <th></th>\n",
       "      <th></th>\n",
       "      <th></th>\n",
       "      <th></th>\n",
       "      <th></th>\n",
       "      <th></th>\n",
       "      <th></th>\n",
       "    </tr>\n",
       "  </thead>\n",
       "  <tbody>\n",
       "    <tr>\n",
       "      <th>2020-04-23</th>\n",
       "      <td>2020-04-23T00:00:00+00:00</td>\n",
       "      <td>2020-04-23T23:59:59+00:00</td>\n",
       "      <td>E31</td>\n",
       "      <td>Mostly Cloudy, Moderate Rain, Light Wind/Calm</td>\n",
       "      <td>1.913851</td>\n",
       "      <td>-6.293502</td>\n",
       "      <td>100.000000</td>\n",
       "      <td>4.0625</td>\n",
       "      <td>70.875</td>\n",
       "      <td>29.125</td>\n",
       "      <td>5508.0</td>\n",
       "      <td>89.775000</td>\n",
       "      <td>98.199997</td>\n",
       "      <td>79.400002</td>\n",
       "      <td>3.991194</td>\n",
       "      <td>5.272764</td>\n",
       "      <td>2.947282</td>\n",
       "      <td>279.2</td>\n",
       "      <td>W</td>\n",
       "      <td>-3.424839</td>\n",
       "      <td>POINT (-105.64822 40.31325)</td>\n",
       "    </tr>\n",
       "    <tr>\n",
       "      <th>2020-04-24</th>\n",
       "      <td>2020-04-24T00:00:00+00:00</td>\n",
       "      <td>2020-04-24T23:59:59+00:00</td>\n",
       "      <td>F41</td>\n",
       "      <td>Cloudy, Heavy Rain, Light Wind/Calm</td>\n",
       "      <td>0.495736</td>\n",
       "      <td>-6.221110</td>\n",
       "      <td>100.000000</td>\n",
       "      <td>18.7500</td>\n",
       "      <td>100.000</td>\n",
       "      <td>0.000</td>\n",
       "      <td>7242.0</td>\n",
       "      <td>92.287500</td>\n",
       "      <td>98.500000</td>\n",
       "      <td>79.500000</td>\n",
       "      <td>3.309022</td>\n",
       "      <td>4.549851</td>\n",
       "      <td>2.424269</td>\n",
       "      <td>264.2</td>\n",
       "      <td>W</td>\n",
       "      <td>-4.029334</td>\n",
       "      <td>POINT (-105.64822 40.31325)</td>\n",
       "    </tr>\n",
       "    <tr>\n",
       "      <th>2020-04-25</th>\n",
       "      <td>2020-04-25T00:00:00+00:00</td>\n",
       "      <td>2020-04-25T23:59:59+00:00</td>\n",
       "      <td>E41</td>\n",
       "      <td>Mostly Cloudy, Heavy Rain, Light Wind/Calm</td>\n",
       "      <td>1.171956</td>\n",
       "      <td>-7.613102</td>\n",
       "      <td>100.000000</td>\n",
       "      <td>7.6250</td>\n",
       "      <td>83.000</td>\n",
       "      <td>17.000</td>\n",
       "      <td>7734.0</td>\n",
       "      <td>88.550001</td>\n",
       "      <td>97.900002</td>\n",
       "      <td>75.900002</td>\n",
       "      <td>2.019687</td>\n",
       "      <td>3.911086</td>\n",
       "      <td>0.586974</td>\n",
       "      <td>290.1</td>\n",
       "      <td>WNW</td>\n",
       "      <td>-5.132792</td>\n",
       "      <td>POINT (-105.64822 40.31325)</td>\n",
       "    </tr>\n",
       "    <tr>\n",
       "      <th>2020-04-26</th>\n",
       "      <td>2020-04-26T00:00:00+00:00</td>\n",
       "      <td>2020-04-26T23:59:59+00:00</td>\n",
       "      <td>E21</td>\n",
       "      <td>Mostly Cloudy, Light Rain, Light Wind/Calm</td>\n",
       "      <td>5.764941</td>\n",
       "      <td>-6.260462</td>\n",
       "      <td>73.333336</td>\n",
       "      <td>1.3125</td>\n",
       "      <td>72.000</td>\n",
       "      <td>28.000</td>\n",
       "      <td>7524.0</td>\n",
       "      <td>81.658333</td>\n",
       "      <td>91.400002</td>\n",
       "      <td>69.300003</td>\n",
       "      <td>2.405887</td>\n",
       "      <td>3.688290</td>\n",
       "      <td>1.484150</td>\n",
       "      <td>266.6</td>\n",
       "      <td>W</td>\n",
       "      <td>-4.061787</td>\n",
       "      <td>POINT (-105.64822 40.31325)</td>\n",
       "    </tr>\n",
       "    <tr>\n",
       "      <th>2020-04-27</th>\n",
       "      <td>2020-04-27T00:00:00+00:00</td>\n",
       "      <td>2020-04-27T23:59:59+00:00</td>\n",
       "      <td>E21</td>\n",
       "      <td>Mostly Cloudy, Light Rain, Light Wind/Calm</td>\n",
       "      <td>7.116667</td>\n",
       "      <td>-3.761898</td>\n",
       "      <td>54.166668</td>\n",
       "      <td>1.3125</td>\n",
       "      <td>63.000</td>\n",
       "      <td>37.000</td>\n",
       "      <td>6780.0</td>\n",
       "      <td>85.887500</td>\n",
       "      <td>97.699997</td>\n",
       "      <td>69.500000</td>\n",
       "      <td>3.091500</td>\n",
       "      <td>7.237772</td>\n",
       "      <td>1.296536</td>\n",
       "      <td>261.1</td>\n",
       "      <td>W</td>\n",
       "      <td>-1.123054</td>\n",
       "      <td>POINT (-105.64822 40.31325)</td>\n",
       "    </tr>\n",
       "  </tbody>\n",
       "</table>\n",
       "</div>"
      ],
      "text/plain": [
       "                           start_time                   end_time  \\\n",
       "date                                                               \n",
       "2020-04-23  2020-04-23T00:00:00+00:00  2020-04-23T23:59:59+00:00   \n",
       "2020-04-24  2020-04-24T00:00:00+00:00  2020-04-24T23:59:59+00:00   \n",
       "2020-04-25  2020-04-25T00:00:00+00:00  2020-04-25T23:59:59+00:00   \n",
       "2020-04-26  2020-04-26T00:00:00+00:00  2020-04-26T23:59:59+00:00   \n",
       "2020-04-27  2020-04-27T00:00:00+00:00  2020-04-27T23:59:59+00:00   \n",
       "\n",
       "           conditions_code                                conditions_text  \\\n",
       "date                                                                        \n",
       "2020-04-23             E31  Mostly Cloudy, Moderate Rain, Light Wind/Calm   \n",
       "2020-04-24             F41            Cloudy, Heavy Rain, Light Wind/Calm   \n",
       "2020-04-25             E41     Mostly Cloudy, Heavy Rain, Light Wind/Calm   \n",
       "2020-04-26             E21     Mostly Cloudy, Light Rain, Light Wind/Calm   \n",
       "2020-04-27             E21     Mostly Cloudy, Light Rain, Light Wind/Calm   \n",
       "\n",
       "            temp_max_cels  temp_min_cels  precip_chance_%  precip_amount_mm  \\\n",
       "date                                                                          \n",
       "2020-04-23       1.913851      -6.293502       100.000000            4.0625   \n",
       "2020-04-24       0.495736      -6.221110       100.000000           18.7500   \n",
       "2020-04-25       1.171956      -7.613102       100.000000            7.6250   \n",
       "2020-04-26       5.764941      -6.260462        73.333336            1.3125   \n",
       "2020-04-27       7.116667      -3.761898        54.166668            1.3125   \n",
       "\n",
       "            sky_cloud_cover_%  sky_sunshine_%  solar_energy_w_h_per_m2  \\\n",
       "date                                                                     \n",
       "2020-04-23             70.875          29.125                   5508.0   \n",
       "2020-04-24            100.000           0.000                   7242.0   \n",
       "2020-04-25             83.000          17.000                   7734.0   \n",
       "2020-04-26             72.000          28.000                   7524.0   \n",
       "2020-04-27             63.000          37.000                   6780.0   \n",
       "\n",
       "            rel_humidity_avg_%  rel_humidity_max_%  rel_humidity_min_%  \\\n",
       "date                                                                     \n",
       "2020-04-23           89.775000           98.199997           79.400002   \n",
       "2020-04-24           92.287500           98.500000           79.500000   \n",
       "2020-04-25           88.550001           97.900002           75.900002   \n",
       "2020-04-26           81.658333           91.400002           69.300003   \n",
       "2020-04-27           85.887500           97.699997           69.500000   \n",
       "\n",
       "            wind_avg_m_per_sec  wind_max_m_per_sec  wind_min_m_per_sec  \\\n",
       "date                                                                     \n",
       "2020-04-23            3.991194            5.272764            2.947282   \n",
       "2020-04-24            3.309022            4.549851            2.424269   \n",
       "2020-04-25            2.019687            3.911086            0.586974   \n",
       "2020-04-26            2.405887            3.688290            1.484150   \n",
       "2020-04-27            3.091500            7.237772            1.296536   \n",
       "\n",
       "            wind_bearing_deg wind_direction_compass  dew_point_cels  \\\n",
       "date                                                                  \n",
       "2020-04-23             279.2                      W       -3.424839   \n",
       "2020-04-24             264.2                      W       -4.029334   \n",
       "2020-04-25             290.1                    WNW       -5.132792   \n",
       "2020-04-26             266.6                      W       -4.061787   \n",
       "2020-04-27             261.1                      W       -1.123054   \n",
       "\n",
       "                               geometry  \n",
       "date                                     \n",
       "2020-04-23  POINT (-105.64822 40.31325)  \n",
       "2020-04-24  POINT (-105.64822 40.31325)  \n",
       "2020-04-25  POINT (-105.64822 40.31325)  \n",
       "2020-04-26  POINT (-105.64822 40.31325)  \n",
       "2020-04-27  POINT (-105.64822 40.31325)  "
      ]
     },
     "execution_count": 11,
     "metadata": {},
     "output_type": "execute_result"
    }
   ],
   "source": [
    "# Display geodataframe\n",
    "forecast_main_gdf.head()"
   ]
  },
  {
   "cell_type": "code",
   "execution_count": 12,
   "metadata": {},
   "outputs": [],
   "source": [
    "# Create geodataframe - soil forecast\n",
    "forecast_soil_gdf = WeatherLocationForecast.api_to_gdf(forecast_object, forecast_type='soil')"
   ]
  },
  {
   "cell_type": "code",
   "execution_count": 13,
   "metadata": {},
   "outputs": [
    {
     "data": {
      "text/html": [
       "<div>\n",
       "<style scoped>\n",
       "    .dataframe tbody tr th:only-of-type {\n",
       "        vertical-align: middle;\n",
       "    }\n",
       "\n",
       "    .dataframe tbody tr th {\n",
       "        vertical-align: top;\n",
       "    }\n",
       "\n",
       "    .dataframe thead th {\n",
       "        text-align: right;\n",
       "    }\n",
       "</style>\n",
       "<table border=\"1\" class=\"dataframe\">\n",
       "  <thead>\n",
       "    <tr style=\"text-align: right;\">\n",
       "      <th></th>\n",
       "      <th></th>\n",
       "      <th>soil_temp_avg_cels</th>\n",
       "      <th>soil_temp_max_cels</th>\n",
       "      <th>soil_temp_min_cels</th>\n",
       "      <th>soil_moisture_avg_%</th>\n",
       "      <th>soil_moisture_max_%</th>\n",
       "      <th>soil_moisture_min_%</th>\n",
       "      <th>geometry</th>\n",
       "    </tr>\n",
       "    <tr>\n",
       "      <th>date</th>\n",
       "      <th>ground_depth_m</th>\n",
       "      <th></th>\n",
       "      <th></th>\n",
       "      <th></th>\n",
       "      <th></th>\n",
       "      <th></th>\n",
       "      <th></th>\n",
       "      <th></th>\n",
       "    </tr>\n",
       "  </thead>\n",
       "  <tbody>\n",
       "    <tr>\n",
       "      <th rowspan=\"4\" valign=\"top\">2020-04-23</th>\n",
       "      <th>0-0.1</th>\n",
       "      <td>-2.415586</td>\n",
       "      <td>-1.687109</td>\n",
       "      <td>-2.950000</td>\n",
       "      <td>42.349999</td>\n",
       "      <td>42.500000</td>\n",
       "      <td>42.299999</td>\n",
       "      <td>POINT (-105.64822 40.31325)</td>\n",
       "    </tr>\n",
       "    <tr>\n",
       "      <th>0.1-0.4</th>\n",
       "      <td>-2.935014</td>\n",
       "      <td>-2.824531</td>\n",
       "      <td>-3.070019</td>\n",
       "      <td>38.129167</td>\n",
       "      <td>38.299999</td>\n",
       "      <td>38.000000</td>\n",
       "      <td>POINT (-105.64822 40.31325)</td>\n",
       "    </tr>\n",
       "    <tr>\n",
       "      <th>0.4-1</th>\n",
       "      <td>-2.307466</td>\n",
       "      <td>-2.307031</td>\n",
       "      <td>-2.307773</td>\n",
       "      <td>26.803707</td>\n",
       "      <td>26.803707</td>\n",
       "      <td>26.803707</td>\n",
       "      <td>POINT (-105.64822 40.31325)</td>\n",
       "    </tr>\n",
       "    <tr>\n",
       "      <th>1-2</th>\n",
       "      <td>-1.208262</td>\n",
       "      <td>-1.208262</td>\n",
       "      <td>-1.208262</td>\n",
       "      <td>19.843128</td>\n",
       "      <td>19.843128</td>\n",
       "      <td>19.843128</td>\n",
       "      <td>POINT (-105.64822 40.31325)</td>\n",
       "    </tr>\n",
       "    <tr>\n",
       "      <th>2020-04-24</th>\n",
       "      <th>0-0.1</th>\n",
       "      <td>-1.874553</td>\n",
       "      <td>-1.541504</td>\n",
       "      <td>-2.250024</td>\n",
       "      <td>42.475000</td>\n",
       "      <td>43.299999</td>\n",
       "      <td>42.099998</td>\n",
       "      <td>POINT (-105.64822 40.31325)</td>\n",
       "    </tr>\n",
       "  </tbody>\n",
       "</table>\n",
       "</div>"
      ],
      "text/plain": [
       "                           soil_temp_avg_cels  soil_temp_max_cels  \\\n",
       "date       ground_depth_m                                           \n",
       "2020-04-23 0-0.1                    -2.415586           -1.687109   \n",
       "           0.1-0.4                  -2.935014           -2.824531   \n",
       "           0.4-1                    -2.307466           -2.307031   \n",
       "           1-2                      -1.208262           -1.208262   \n",
       "2020-04-24 0-0.1                    -1.874553           -1.541504   \n",
       "\n",
       "                           soil_temp_min_cels  soil_moisture_avg_%  \\\n",
       "date       ground_depth_m                                            \n",
       "2020-04-23 0-0.1                    -2.950000            42.349999   \n",
       "           0.1-0.4                  -3.070019            38.129167   \n",
       "           0.4-1                    -2.307773            26.803707   \n",
       "           1-2                      -1.208262            19.843128   \n",
       "2020-04-24 0-0.1                    -2.250024            42.475000   \n",
       "\n",
       "                           soil_moisture_max_%  soil_moisture_min_%  \\\n",
       "date       ground_depth_m                                             \n",
       "2020-04-23 0-0.1                     42.500000            42.299999   \n",
       "           0.1-0.4                   38.299999            38.000000   \n",
       "           0.4-1                     26.803707            26.803707   \n",
       "           1-2                       19.843128            19.843128   \n",
       "2020-04-24 0-0.1                     43.299999            42.099998   \n",
       "\n",
       "                                              geometry  \n",
       "date       ground_depth_m                               \n",
       "2020-04-23 0-0.1           POINT (-105.64822 40.31325)  \n",
       "           0.1-0.4         POINT (-105.64822 40.31325)  \n",
       "           0.4-1           POINT (-105.64822 40.31325)  \n",
       "           1-2             POINT (-105.64822 40.31325)  \n",
       "2020-04-24 0-0.1           POINT (-105.64822 40.31325)  "
      ]
     },
     "execution_count": 13,
     "metadata": {},
     "output_type": "execute_result"
    }
   ],
   "source": [
    "# Display geodataframe\n",
    "forecast_soil_gdf.head()"
   ]
  },
  {
   "cell_type": "markdown",
   "metadata": {},
   "source": [
    "## Weather Norms - Field"
   ]
  },
  {
   "cell_type": "code",
   "execution_count": null,
   "metadata": {},
   "outputs": [],
   "source": [
    "# Define WeatherFieldNorms object\n",
    "norms_object = WeatherFieldNorms(\n",
    "    api_key, api_secret, field_id='CO-RMNP-Bear-Lake')"
   ]
  },
  {
   "cell_type": "code",
   "execution_count": null,
   "metadata": {},
   "outputs": [],
   "source": [
    "# Define kwargs (parameters from get_data)\n",
    "norms_kwargs = {'start_day': '05-01', 'end_day': '05-10'}\n",
    "\n",
    "# Create geodataframe\n",
    "norms_gdf = WeatherFieldNorms.api_to_gdf(norms_object, norms_kwargs)"
   ]
  },
  {
   "cell_type": "code",
   "execution_count": null,
   "metadata": {},
   "outputs": [],
   "source": [
    "# Display geodataframe\n",
    "norms_gdf.head()"
   ]
  },
  {
   "cell_type": "markdown",
   "metadata": {},
   "source": [
    "## Weather Field - Observed"
   ]
  },
  {
   "cell_type": "code",
   "execution_count": null,
   "metadata": {},
   "outputs": [],
   "source": [
    "# Define WeatherFieldObserved object\n",
    "observed_object = WeatherFieldObserved(\n",
    "    api_key, api_secret, field_id='CO-RMNP-Bear-Lake')"
   ]
  },
  {
   "cell_type": "code",
   "execution_count": null,
   "metadata": {},
   "outputs": [],
   "source": [
    "# Define kwargs (parameters from get_data)\n",
    "#observed_kwargs = {'start_day': '05-01', 'end_day': '05-10'}\n",
    "\n",
    "# Create geodataframe\n",
    "observed_gdf = WeatherFieldObserved.api_to_gdf(observed_object)"
   ]
  },
  {
   "cell_type": "code",
   "execution_count": null,
   "metadata": {},
   "outputs": [],
   "source": [
    "# Display geodataframe\n",
    "observed_gdf.head()"
   ]
  },
  {
   "cell_type": "markdown",
   "metadata": {},
   "source": [
    "## Weather Field - Forecast"
   ]
  },
  {
   "cell_type": "code",
   "execution_count": null,
   "metadata": {},
   "outputs": [],
   "source": [
    "# Define WeatherLocationForecast object, Bear Lake, RMNP, Colorado\n",
    "forecast_object = WeatherFieldForecast(\n",
    "    api_key, api_secret, field_id='CO-RMNP-Bear-Lake')"
   ]
  },
  {
   "cell_type": "code",
   "execution_count": null,
   "metadata": {},
   "outputs": [],
   "source": [
    "# Define kwargs (parameters from get_data)\n",
    "#forecast_kwargs = {'start_day': '05-01', 'end_day': '05-10'}\n",
    "\n",
    "# Create geodataframe - main forecast\n",
    "forecast_main_gdf = WeatherFieldForecast.api_to_gdf(forecast_object, forecast_type='main')"
   ]
  },
  {
   "cell_type": "code",
   "execution_count": null,
   "metadata": {},
   "outputs": [],
   "source": [
    "# Display geodataframe\n",
    "forecast_main_gdf.head()"
   ]
  },
  {
   "cell_type": "code",
   "execution_count": null,
   "metadata": {},
   "outputs": [],
   "source": [
    "# Create geodataframe - soil forecast\n",
    "forecast_soil_gdf = WeatherFieldForecast.api_to_gdf(forecast_object, forecast_type='soil')"
   ]
  },
  {
   "cell_type": "code",
   "execution_count": null,
   "metadata": {
    "scrolled": true
   },
   "outputs": [],
   "source": [
    "# Display geodataframe\n",
    "forecast_soil_gdf.head()"
   ]
  },
  {
   "cell_type": "markdown",
   "metadata": {},
   "source": [
    "## Fields"
   ]
  },
  {
   "cell_type": "code",
   "execution_count": null,
   "metadata": {},
   "outputs": [],
   "source": [
    "# Create a Fields objects at the Fields class level\n",
    "fields = Fields(api_key, api_secret)"
   ]
  },
  {
   "cell_type": "code",
   "execution_count": null,
   "metadata": {},
   "outputs": [],
   "source": [
    "# Show all fields associated with the api key & secret at the Fields class level\n",
    "fields.get()"
   ]
  },
  {
   "cell_type": "code",
   "execution_count": null,
   "metadata": {},
   "outputs": [],
   "source": [
    "# Show a single field (at the Fields class level)\n",
    "fields.get('CO-RMNP-Bear-Lake')"
   ]
  },
  {
   "cell_type": "code",
   "execution_count": null,
   "metadata": {},
   "outputs": [],
   "source": [
    "# Create field at the Fields class level\n",
    "fields.create(field_id='N-VT', field_name='N-VT',\n",
    "              center_latitude=42.5, center_longitude=-72.5,\n",
    "              acres=1, farm_id='N-VT')"
   ]
  },
  {
   "cell_type": "code",
   "execution_count": null,
   "metadata": {},
   "outputs": [],
   "source": [
    "# Update the field name and farm id for a specific field (at the Fields class level)\n",
    "fields.update(field_id='N-VT', name='New Field Name', farm_id='New Farm ID')"
   ]
  },
  {
   "cell_type": "code",
   "execution_count": null,
   "metadata": {},
   "outputs": [],
   "source": [
    "# Delete a specific field at the Fields class level\n",
    "fields.delete(field_id='N-VT')"
   ]
  },
  {
   "cell_type": "markdown",
   "metadata": {},
   "source": [
    "## Field"
   ]
  },
  {
   "cell_type": "code",
   "execution_count": null,
   "metadata": {},
   "outputs": [],
   "source": [
    "# Create field (from super class Fields)\n",
    "Fields(api_key, api_secret).create(\n",
    "    field_id='VT-Test-For-Delete', field_name='Test',\n",
    "    center_latitude=42.5, center_longitude=-72.5,\n",
    "    acres=1, farm_id='Test')"
   ]
  },
  {
   "cell_type": "code",
   "execution_count": null,
   "metadata": {},
   "outputs": [],
   "source": [
    "# Define a field a the Field subclass level\n",
    "field = Field(api_key, api_secret, 'VT-Test-For-Delete')"
   ]
  },
  {
   "cell_type": "code",
   "execution_count": null,
   "metadata": {
    "scrolled": true
   },
   "outputs": [],
   "source": [
    "# Get the field info at the Field subclass level\n",
    "field.get()"
   ]
  },
  {
   "cell_type": "code",
   "execution_count": null,
   "metadata": {
    "scrolled": true
   },
   "outputs": [],
   "source": [
    "# Update name and farm id at the Field subclass level\n",
    "field.update(name='Test New Name', farm_id='Test Farm ID')"
   ]
  },
  {
   "cell_type": "code",
   "execution_count": null,
   "metadata": {},
   "outputs": [],
   "source": [
    "# Delete field at the Field subclass level\n",
    "field.delete()"
   ]
  },
  {
   "cell_type": "markdown",
   "metadata": {},
   "source": [
    "## Agronomics Location - Values"
   ]
  },
  {
   "cell_type": "code",
   "execution_count": 14,
   "metadata": {},
   "outputs": [],
   "source": [
    "# Define AgronomicLocationValues object\n",
    "agronomic_object = AgronomicsLocationValues(\n",
    "    api_key, api_secret, latitude=40.313250, longitude=-105.648222)"
   ]
  },
  {
   "cell_type": "code",
   "execution_count": 15,
   "metadata": {},
   "outputs": [],
   "source": [
    "# Define kwargs (parameters from get_data)\n",
    "#values_kwargs = {'start_day': '05-01', 'end_day': '05-10'}\n",
    "\n",
    "# Create geodataframe - single day (today)\n",
    "values_gdf = AgronomicsLocationValues.api_to_gdf(\n",
    "    agronomic_object, value_type='single_day')"
   ]
  },
  {
   "cell_type": "code",
   "execution_count": 16,
   "metadata": {
    "scrolled": true
   },
   "outputs": [
    {
     "data": {
      "text/html": [
       "<div>\n",
       "<style scoped>\n",
       "    .dataframe tbody tr th:only-of-type {\n",
       "        vertical-align: middle;\n",
       "    }\n",
       "\n",
       "    .dataframe tbody tr th {\n",
       "        vertical-align: top;\n",
       "    }\n",
       "\n",
       "    .dataframe thead th {\n",
       "        text-align: right;\n",
       "    }\n",
       "</style>\n",
       "<table border=\"1\" class=\"dataframe\">\n",
       "  <thead>\n",
       "    <tr style=\"text-align: right;\">\n",
       "      <th></th>\n",
       "      <th>gdd_daily_total_cels</th>\n",
       "      <th>ppet_daily_total</th>\n",
       "      <th>pet_daily_total_mm</th>\n",
       "      <th>geometry</th>\n",
       "    </tr>\n",
       "    <tr>\n",
       "      <th>date</th>\n",
       "      <th></th>\n",
       "      <th></th>\n",
       "      <th></th>\n",
       "      <th></th>\n",
       "    </tr>\n",
       "  </thead>\n",
       "  <tbody>\n",
       "    <tr>\n",
       "      <th>2020-04-23</th>\n",
       "      <td>0.0</td>\n",
       "      <td>8.632059</td>\n",
       "      <td>1.636342</td>\n",
       "      <td>POINT (40.313 -105.648)</td>\n",
       "    </tr>\n",
       "  </tbody>\n",
       "</table>\n",
       "</div>"
      ],
      "text/plain": [
       "            gdd_daily_total_cels  ppet_daily_total  pet_daily_total_mm  \\\n",
       "date                                                                     \n",
       "2020-04-23                   0.0          8.632059            1.636342   \n",
       "\n",
       "                           geometry  \n",
       "date                                 \n",
       "2020-04-23  POINT (40.313 -105.648)  "
      ]
     },
     "execution_count": 16,
     "metadata": {},
     "output_type": "execute_result"
    }
   ],
   "source": [
    "# Display geodataframe\n",
    "values_gdf"
   ]
  },
  {
   "cell_type": "code",
   "execution_count": 23,
   "metadata": {},
   "outputs": [],
   "source": [
    "# Define kwargs (parameters from get_data)\n",
    "values_kwargs ={'start_day': '03-15' , 'end_day': '03-20'}\n",
    "\n",
    "# Create geodataframe - date range\n",
    "total_accum_gdf, daily_accum_gdf = AgronomicsLocationValues.api_to_gdf(\n",
    "    agronomic_object, value_type='multi_day', kwargs=values_kwargs)"
   ]
  },
  {
   "cell_type": "code",
   "execution_count": 24,
   "metadata": {},
   "outputs": [
    {
     "data": {
      "text/html": [
       "<div>\n",
       "<style scoped>\n",
       "    .dataframe tbody tr th:only-of-type {\n",
       "        vertical-align: middle;\n",
       "    }\n",
       "\n",
       "    .dataframe tbody tr th {\n",
       "        vertical-align: top;\n",
       "    }\n",
       "\n",
       "    .dataframe thead th {\n",
       "        text-align: right;\n",
       "    }\n",
       "</style>\n",
       "<table border=\"1\" class=\"dataframe\">\n",
       "  <thead>\n",
       "    <tr style=\"text-align: right;\">\n",
       "      <th></th>\n",
       "      <th>gdd_range_total_cels</th>\n",
       "      <th>ppet_range_total</th>\n",
       "      <th>precip_range_total_mm</th>\n",
       "      <th>pet_range_total_mm</th>\n",
       "      <th>start_day</th>\n",
       "      <th>end_day</th>\n",
       "      <th>geometry</th>\n",
       "    </tr>\n",
       "    <tr>\n",
       "      <th>date_range</th>\n",
       "      <th></th>\n",
       "      <th></th>\n",
       "      <th></th>\n",
       "      <th></th>\n",
       "      <th></th>\n",
       "      <th></th>\n",
       "      <th></th>\n",
       "    </tr>\n",
       "  </thead>\n",
       "  <tbody>\n",
       "    <tr>\n",
       "      <th>2020-03-15/2020-03-20</th>\n",
       "      <td>0.0</td>\n",
       "      <td>1.485661</td>\n",
       "      <td>1.179</td>\n",
       "      <td>8.891681</td>\n",
       "      <td>2020-03-15</td>\n",
       "      <td>2020-03-20</td>\n",
       "      <td>POINT (40.313 -105.648)</td>\n",
       "    </tr>\n",
       "  </tbody>\n",
       "</table>\n",
       "</div>"
      ],
      "text/plain": [
       "                       gdd_range_total_cels  ppet_range_total  \\\n",
       "date_range                                                      \n",
       "2020-03-15/2020-03-20                   0.0          1.485661   \n",
       "\n",
       "                       precip_range_total_mm  pet_range_total_mm   start_day  \\\n",
       "date_range                                                                     \n",
       "2020-03-15/2020-03-20                  1.179            8.891681  2020-03-15   \n",
       "\n",
       "                          end_day                 geometry  \n",
       "date_range                                                  \n",
       "2020-03-15/2020-03-20  2020-03-20  POINT (40.313 -105.648)  "
      ]
     },
     "execution_count": 24,
     "metadata": {},
     "output_type": "execute_result"
    }
   ],
   "source": [
    "# Display dataframe - total\n",
    "total_accum_gdf"
   ]
  },
  {
   "cell_type": "code",
   "execution_count": 25,
   "metadata": {
    "scrolled": false
   },
   "outputs": [
    {
     "data": {
      "text/html": [
       "<div>\n",
       "<style scoped>\n",
       "    .dataframe tbody tr th:only-of-type {\n",
       "        vertical-align: middle;\n",
       "    }\n",
       "\n",
       "    .dataframe tbody tr th {\n",
       "        vertical-align: top;\n",
       "    }\n",
       "\n",
       "    .dataframe thead th {\n",
       "        text-align: right;\n",
       "    }\n",
       "</style>\n",
       "<table border=\"1\" class=\"dataframe\">\n",
       "  <thead>\n",
       "    <tr style=\"text-align: right;\">\n",
       "      <th></th>\n",
       "      <th>gdd_daily_total_cels</th>\n",
       "      <th>ppet_daily_total</th>\n",
       "      <th>gdd_rolling_total_cels</th>\n",
       "      <th>ppet_rolling_total</th>\n",
       "      <th>pet_daily_total_mm</th>\n",
       "      <th>precip_rolling_total_mm</th>\n",
       "      <th>pet_rolling_total_mm</th>\n",
       "      <th>geometry</th>\n",
       "    </tr>\n",
       "    <tr>\n",
       "      <th>date</th>\n",
       "      <th></th>\n",
       "      <th></th>\n",
       "      <th></th>\n",
       "      <th></th>\n",
       "      <th></th>\n",
       "      <th></th>\n",
       "      <th></th>\n",
       "      <th></th>\n",
       "    </tr>\n",
       "  </thead>\n",
       "  <tbody>\n",
       "    <tr>\n",
       "      <th>2020-03-15</th>\n",
       "      <td>0.0</td>\n",
       "      <td>0.000000</td>\n",
       "      <td>0.0</td>\n",
       "      <td>0.000000</td>\n",
       "      <td>1.641022</td>\n",
       "      <td>0.000</td>\n",
       "      <td>1.641022</td>\n",
       "      <td>POINT (40.313 -105.648)</td>\n",
       "    </tr>\n",
       "    <tr>\n",
       "      <th>2020-03-16</th>\n",
       "      <td>0.0</td>\n",
       "      <td>0.130127</td>\n",
       "      <td>0.0</td>\n",
       "      <td>0.130127</td>\n",
       "      <td>2.097945</td>\n",
       "      <td>0.273</td>\n",
       "      <td>3.738967</td>\n",
       "      <td>POINT (40.313 -105.648)</td>\n",
       "    </tr>\n",
       "    <tr>\n",
       "      <th>2020-03-17</th>\n",
       "      <td>0.0</td>\n",
       "      <td>0.000000</td>\n",
       "      <td>0.0</td>\n",
       "      <td>0.130127</td>\n",
       "      <td>1.893159</td>\n",
       "      <td>0.273</td>\n",
       "      <td>5.632126</td>\n",
       "      <td>POINT (40.313 -105.648)</td>\n",
       "    </tr>\n",
       "    <tr>\n",
       "      <th>2020-03-18</th>\n",
       "      <td>0.0</td>\n",
       "      <td>0.088833</td>\n",
       "      <td>0.0</td>\n",
       "      <td>0.218961</td>\n",
       "      <td>2.015010</td>\n",
       "      <td>0.452</td>\n",
       "      <td>7.647136</td>\n",
       "      <td>POINT (40.313 -105.648)</td>\n",
       "    </tr>\n",
       "    <tr>\n",
       "      <th>2020-03-19</th>\n",
       "      <td>0.0</td>\n",
       "      <td>1.266701</td>\n",
       "      <td>0.0</td>\n",
       "      <td>1.485661</td>\n",
       "      <td>0.573932</td>\n",
       "      <td>1.179</td>\n",
       "      <td>8.221068</td>\n",
       "      <td>POINT (40.313 -105.648)</td>\n",
       "    </tr>\n",
       "    <tr>\n",
       "      <th>2020-03-20</th>\n",
       "      <td>0.0</td>\n",
       "      <td>0.000000</td>\n",
       "      <td>0.0</td>\n",
       "      <td>1.485661</td>\n",
       "      <td>0.670613</td>\n",
       "      <td>1.179</td>\n",
       "      <td>8.891681</td>\n",
       "      <td>POINT (40.313 -105.648)</td>\n",
       "    </tr>\n",
       "  </tbody>\n",
       "</table>\n",
       "</div>"
      ],
      "text/plain": [
       "            gdd_daily_total_cels  ppet_daily_total  gdd_rolling_total_cels  \\\n",
       "date                                                                         \n",
       "2020-03-15                   0.0          0.000000                     0.0   \n",
       "2020-03-16                   0.0          0.130127                     0.0   \n",
       "2020-03-17                   0.0          0.000000                     0.0   \n",
       "2020-03-18                   0.0          0.088833                     0.0   \n",
       "2020-03-19                   0.0          1.266701                     0.0   \n",
       "2020-03-20                   0.0          0.000000                     0.0   \n",
       "\n",
       "            ppet_rolling_total  pet_daily_total_mm  precip_rolling_total_mm  \\\n",
       "date                                                                          \n",
       "2020-03-15            0.000000            1.641022                    0.000   \n",
       "2020-03-16            0.130127            2.097945                    0.273   \n",
       "2020-03-17            0.130127            1.893159                    0.273   \n",
       "2020-03-18            0.218961            2.015010                    0.452   \n",
       "2020-03-19            1.485661            0.573932                    1.179   \n",
       "2020-03-20            1.485661            0.670613                    1.179   \n",
       "\n",
       "            pet_rolling_total_mm                 geometry  \n",
       "date                                                       \n",
       "2020-03-15              1.641022  POINT (40.313 -105.648)  \n",
       "2020-03-16              3.738967  POINT (40.313 -105.648)  \n",
       "2020-03-17              5.632126  POINT (40.313 -105.648)  \n",
       "2020-03-18              7.647136  POINT (40.313 -105.648)  \n",
       "2020-03-19              8.221068  POINT (40.313 -105.648)  \n",
       "2020-03-20              8.891681  POINT (40.313 -105.648)  "
      ]
     },
     "execution_count": 25,
     "metadata": {},
     "output_type": "execute_result"
    }
   ],
   "source": [
    "# Display dataframe - daily\n",
    "daily_accum_gdf"
   ]
  },
  {
   "cell_type": "markdown",
   "metadata": {},
   "source": [
    "## Agronomics Location - Norms"
   ]
  },
  {
   "cell_type": "code",
   "execution_count": 26,
   "metadata": {},
   "outputs": [],
   "source": [
    "# Define AgronomicLocationNorms object\n",
    "agronomic_object = AgronomicsLocationNorms(\n",
    "    api_key, api_secret, latitude=40.313250, longitude=-105.648222)"
   ]
  },
  {
   "cell_type": "code",
   "execution_count": 27,
   "metadata": {},
   "outputs": [],
   "source": [
    "# Define kwargs (parameters from get_data)\n",
    "norms_kwargs = {'start_day': '05-05'}\n",
    "\n",
    "# Create geodataframe - single day \n",
    "norms_gdf = AgronomicsLocationNorms.api_to_gdf(\n",
    "    agronomic_object, value_type='single_day', kwargs=norms_kwargs)"
   ]
  },
  {
   "cell_type": "code",
   "execution_count": 28,
   "metadata": {
    "scrolled": true
   },
   "outputs": [
    {
     "data": {
      "text/html": [
       "<div>\n",
       "<style scoped>\n",
       "    .dataframe tbody tr th:only-of-type {\n",
       "        vertical-align: middle;\n",
       "    }\n",
       "\n",
       "    .dataframe tbody tr th {\n",
       "        vertical-align: top;\n",
       "    }\n",
       "\n",
       "    .dataframe thead th {\n",
       "        text-align: right;\n",
       "    }\n",
       "</style>\n",
       "<table border=\"1\" class=\"dataframe\">\n",
       "  <thead>\n",
       "    <tr style=\"text-align: right;\">\n",
       "      <th></th>\n",
       "      <th>gdd_daily_average_total_cels</th>\n",
       "      <th>gdd_daily_average_total_std_dev_cels</th>\n",
       "      <th>pet_daily_average_total_mm</th>\n",
       "      <th>pet_daily_average_total_std_dev_mm</th>\n",
       "      <th>ppet_daily_average_total</th>\n",
       "      <th>ppet_daily_average_total_std_dev</th>\n",
       "      <th>geometry</th>\n",
       "    </tr>\n",
       "    <tr>\n",
       "      <th>day</th>\n",
       "      <th></th>\n",
       "      <th></th>\n",
       "      <th></th>\n",
       "      <th></th>\n",
       "      <th></th>\n",
       "      <th></th>\n",
       "      <th></th>\n",
       "    </tr>\n",
       "  </thead>\n",
       "  <tbody>\n",
       "    <tr>\n",
       "      <th>05-05</th>\n",
       "      <td>0.0</td>\n",
       "      <td>0.0</td>\n",
       "      <td>3.832843</td>\n",
       "      <td>1.041593</td>\n",
       "      <td>0.155951</td>\n",
       "      <td>0.493161</td>\n",
       "      <td>POINT (40.313 -105.648)</td>\n",
       "    </tr>\n",
       "  </tbody>\n",
       "</table>\n",
       "</div>"
      ],
      "text/plain": [
       "       gdd_daily_average_total_cels  gdd_daily_average_total_std_dev_cels  \\\n",
       "day                                                                         \n",
       "05-05                           0.0                                   0.0   \n",
       "\n",
       "       pet_daily_average_total_mm  pet_daily_average_total_std_dev_mm  \\\n",
       "day                                                                     \n",
       "05-05                    3.832843                            1.041593   \n",
       "\n",
       "       ppet_daily_average_total  ppet_daily_average_total_std_dev  \\\n",
       "day                                                                 \n",
       "05-05                  0.155951                          0.493161   \n",
       "\n",
       "                      geometry  \n",
       "day                             \n",
       "05-05  POINT (40.313 -105.648)  "
      ]
     },
     "execution_count": 28,
     "metadata": {},
     "output_type": "execute_result"
    }
   ],
   "source": [
    "# Display geodataframe\n",
    "norms_gdf"
   ]
  },
  {
   "cell_type": "code",
   "execution_count": 29,
   "metadata": {},
   "outputs": [],
   "source": [
    "# Define kwargs (parameters from get_data)\n",
    "norms_kwargs = {'start_day': '05-05', 'end_day': '05-14'}\n",
    "\n",
    "# Create geodataframe - date range\n",
    "total_accum_gdf, daily_accum_gdf = AgronomicsLocationNorms.api_to_gdf(\n",
    "    agronomic_object, value_type='multi_day', kwargs=norms_kwargs)"
   ]
  },
  {
   "cell_type": "code",
   "execution_count": 30,
   "metadata": {},
   "outputs": [
    {
     "data": {
      "text/html": [
       "<div>\n",
       "<style scoped>\n",
       "    .dataframe tbody tr th:only-of-type {\n",
       "        vertical-align: middle;\n",
       "    }\n",
       "\n",
       "    .dataframe tbody tr th {\n",
       "        vertical-align: top;\n",
       "    }\n",
       "\n",
       "    .dataframe thead th {\n",
       "        text-align: right;\n",
       "    }\n",
       "</style>\n",
       "<table border=\"1\" class=\"dataframe\">\n",
       "  <thead>\n",
       "    <tr style=\"text-align: right;\">\n",
       "      <th></th>\n",
       "      <th>gdd_range_average_total_cels</th>\n",
       "      <th>gdd_range_average_total_std_dev_cels</th>\n",
       "      <th>precip_range_average_total_mm</th>\n",
       "      <th>precip_range_average_total_std_dev_mm</th>\n",
       "      <th>pet_range_average_total_mm</th>\n",
       "      <th>pet_range_average_total_std_dev</th>\n",
       "      <th>ppet_range_daily_average</th>\n",
       "      <th>ppet_range_daily_average_std_dev</th>\n",
       "      <th>start_day</th>\n",
       "      <th>end_day</th>\n",
       "      <th>geometry</th>\n",
       "    </tr>\n",
       "    <tr>\n",
       "      <th>date_range</th>\n",
       "      <th></th>\n",
       "      <th></th>\n",
       "      <th></th>\n",
       "      <th></th>\n",
       "      <th></th>\n",
       "      <th></th>\n",
       "      <th></th>\n",
       "      <th></th>\n",
       "      <th></th>\n",
       "      <th></th>\n",
       "      <th></th>\n",
       "    </tr>\n",
       "  </thead>\n",
       "  <tbody>\n",
       "    <tr>\n",
       "      <th>05-05/05-14</th>\n",
       "      <td>0.379</td>\n",
       "      <td>1.037823</td>\n",
       "      <td>23.361888</td>\n",
       "      <td>14.278576</td>\n",
       "      <td>30.357351</td>\n",
       "      <td>6.185918</td>\n",
       "      <td>1.559658</td>\n",
       "      <td>1.317701</td>\n",
       "      <td>05-05</td>\n",
       "      <td>05-14</td>\n",
       "      <td>POINT (40.313 -105.648)</td>\n",
       "    </tr>\n",
       "  </tbody>\n",
       "</table>\n",
       "</div>"
      ],
      "text/plain": [
       "             gdd_range_average_total_cels  \\\n",
       "date_range                                  \n",
       "05-05/05-14                         0.379   \n",
       "\n",
       "             gdd_range_average_total_std_dev_cels  \\\n",
       "date_range                                          \n",
       "05-05/05-14                              1.037823   \n",
       "\n",
       "             precip_range_average_total_mm  \\\n",
       "date_range                                   \n",
       "05-05/05-14                      23.361888   \n",
       "\n",
       "             precip_range_average_total_std_dev_mm  \\\n",
       "date_range                                           \n",
       "05-05/05-14                              14.278576   \n",
       "\n",
       "             pet_range_average_total_mm  pet_range_average_total_std_dev  \\\n",
       "date_range                                                                 \n",
       "05-05/05-14                   30.357351                         6.185918   \n",
       "\n",
       "             ppet_range_daily_average  ppet_range_daily_average_std_dev  \\\n",
       "date_range                                                                \n",
       "05-05/05-14                  1.559658                          1.317701   \n",
       "\n",
       "            start_day end_day                 geometry  \n",
       "date_range                                              \n",
       "05-05/05-14     05-05   05-14  POINT (40.313 -105.648)  "
      ]
     },
     "execution_count": 30,
     "metadata": {},
     "output_type": "execute_result"
    }
   ],
   "source": [
    "# Display dataframe - total\n",
    "total_accum_gdf"
   ]
  },
  {
   "cell_type": "code",
   "execution_count": 31,
   "metadata": {
    "scrolled": false
   },
   "outputs": [
    {
     "data": {
      "text/html": [
       "<div>\n",
       "<style scoped>\n",
       "    .dataframe tbody tr th:only-of-type {\n",
       "        vertical-align: middle;\n",
       "    }\n",
       "\n",
       "    .dataframe tbody tr th {\n",
       "        vertical-align: top;\n",
       "    }\n",
       "\n",
       "    .dataframe thead th {\n",
       "        text-align: right;\n",
       "    }\n",
       "</style>\n",
       "<table border=\"1\" class=\"dataframe\">\n",
       "  <thead>\n",
       "    <tr style=\"text-align: right;\">\n",
       "      <th></th>\n",
       "      <th>gdd_daily_average_cels</th>\n",
       "      <th>gdd_daily_average_std_dev_cels</th>\n",
       "      <th>pet_daily_average_mm</th>\n",
       "      <th>pet_daily_average_std_dev_mm</th>\n",
       "      <th>ppet_daliy_average</th>\n",
       "      <th>ppet_daily_average_std_dev</th>\n",
       "      <th>gdd_rolling_total_average</th>\n",
       "      <th>gdd_rolling_total_average_std_dev</th>\n",
       "      <th>precip_rolling_total_average_mm</th>\n",
       "      <th>precip_rolling_total_average_std_dev_mm</th>\n",
       "      <th>pet_rolling_total_average_mm</th>\n",
       "      <th>pet_rolling_total_average_std_dev_mm</th>\n",
       "      <th>ppet_rolling_total_average</th>\n",
       "      <th>ppet_rolling_total_average_std_dev</th>\n",
       "      <th>geometry</th>\n",
       "    </tr>\n",
       "    <tr>\n",
       "      <th>day</th>\n",
       "      <th></th>\n",
       "      <th></th>\n",
       "      <th></th>\n",
       "      <th></th>\n",
       "      <th></th>\n",
       "      <th></th>\n",
       "      <th></th>\n",
       "      <th></th>\n",
       "      <th></th>\n",
       "      <th></th>\n",
       "      <th></th>\n",
       "      <th></th>\n",
       "      <th></th>\n",
       "      <th></th>\n",
       "      <th></th>\n",
       "    </tr>\n",
       "  </thead>\n",
       "  <tbody>\n",
       "    <tr>\n",
       "      <th>05-05</th>\n",
       "      <td>0.000</td>\n",
       "      <td>0.000000</td>\n",
       "      <td>3.832843</td>\n",
       "      <td>1.041593</td>\n",
       "      <td>0.155951</td>\n",
       "      <td>0.493161</td>\n",
       "      <td>0.000</td>\n",
       "      <td>0.000000</td>\n",
       "      <td>0.234100</td>\n",
       "      <td>0.740289</td>\n",
       "      <td>3.832843</td>\n",
       "      <td>1.041593</td>\n",
       "      <td>0.155951</td>\n",
       "      <td>0.493161</td>\n",
       "      <td>POINT (40.313 -105.648)</td>\n",
       "    </tr>\n",
       "    <tr>\n",
       "      <th>05-06</th>\n",
       "      <td>0.000</td>\n",
       "      <td>0.000000</td>\n",
       "      <td>3.457658</td>\n",
       "      <td>0.992522</td>\n",
       "      <td>0.216588</td>\n",
       "      <td>0.451959</td>\n",
       "      <td>0.000</td>\n",
       "      <td>0.000000</td>\n",
       "      <td>1.095008</td>\n",
       "      <td>1.857366</td>\n",
       "      <td>7.290501</td>\n",
       "      <td>1.812581</td>\n",
       "      <td>0.372539</td>\n",
       "      <td>0.610258</td>\n",
       "      <td>POINT (40.313 -105.648)</td>\n",
       "    </tr>\n",
       "    <tr>\n",
       "      <th>05-07</th>\n",
       "      <td>0.000</td>\n",
       "      <td>0.000000</td>\n",
       "      <td>2.809468</td>\n",
       "      <td>1.267962</td>\n",
       "      <td>2.044107</td>\n",
       "      <td>2.872889</td>\n",
       "      <td>0.000</td>\n",
       "      <td>0.000000</td>\n",
       "      <td>5.411238</td>\n",
       "      <td>5.628859</td>\n",
       "      <td>10.099969</td>\n",
       "      <td>2.545161</td>\n",
       "      <td>2.416646</td>\n",
       "      <td>2.886677</td>\n",
       "      <td>POINT (40.313 -105.648)</td>\n",
       "    </tr>\n",
       "    <tr>\n",
       "      <th>05-08</th>\n",
       "      <td>0.000</td>\n",
       "      <td>0.000000</td>\n",
       "      <td>2.701147</td>\n",
       "      <td>1.375317</td>\n",
       "      <td>1.060763</td>\n",
       "      <td>1.645676</td>\n",
       "      <td>0.000</td>\n",
       "      <td>0.000000</td>\n",
       "      <td>7.682438</td>\n",
       "      <td>8.062241</td>\n",
       "      <td>12.801115</td>\n",
       "      <td>3.610664</td>\n",
       "      <td>3.477408</td>\n",
       "      <td>3.712774</td>\n",
       "      <td>POINT (40.313 -105.648)</td>\n",
       "    </tr>\n",
       "    <tr>\n",
       "      <th>05-09</th>\n",
       "      <td>0.049</td>\n",
       "      <td>0.154951</td>\n",
       "      <td>3.039473</td>\n",
       "      <td>1.499731</td>\n",
       "      <td>3.470099</td>\n",
       "      <td>7.786943</td>\n",
       "      <td>0.049</td>\n",
       "      <td>0.154951</td>\n",
       "      <td>13.103688</td>\n",
       "      <td>13.589002</td>\n",
       "      <td>15.840589</td>\n",
       "      <td>4.865746</td>\n",
       "      <td>6.947508</td>\n",
       "      <td>8.347424</td>\n",
       "      <td>POINT (40.313 -105.648)</td>\n",
       "    </tr>\n",
       "    <tr>\n",
       "      <th>05-10</th>\n",
       "      <td>0.000</td>\n",
       "      <td>0.000000</td>\n",
       "      <td>2.878678</td>\n",
       "      <td>1.339583</td>\n",
       "      <td>1.276852</td>\n",
       "      <td>3.231305</td>\n",
       "      <td>0.049</td>\n",
       "      <td>0.154951</td>\n",
       "      <td>15.062138</td>\n",
       "      <td>15.300004</td>\n",
       "      <td>18.719267</td>\n",
       "      <td>5.834415</td>\n",
       "      <td>8.224360</td>\n",
       "      <td>10.960611</td>\n",
       "      <td>POINT (40.313 -105.648)</td>\n",
       "    </tr>\n",
       "    <tr>\n",
       "      <th>05-11</th>\n",
       "      <td>0.000</td>\n",
       "      <td>0.000000</td>\n",
       "      <td>2.335353</td>\n",
       "      <td>1.036487</td>\n",
       "      <td>4.767200</td>\n",
       "      <td>10.404659</td>\n",
       "      <td>0.049</td>\n",
       "      <td>0.154951</td>\n",
       "      <td>19.217388</td>\n",
       "      <td>14.592220</td>\n",
       "      <td>21.054621</td>\n",
       "      <td>5.765262</td>\n",
       "      <td>12.991560</td>\n",
       "      <td>12.556768</td>\n",
       "      <td>POINT (40.313 -105.648)</td>\n",
       "    </tr>\n",
       "    <tr>\n",
       "      <th>05-12</th>\n",
       "      <td>0.000</td>\n",
       "      <td>0.000000</td>\n",
       "      <td>2.765314</td>\n",
       "      <td>1.363282</td>\n",
       "      <td>2.247087</td>\n",
       "      <td>3.432021</td>\n",
       "      <td>0.049</td>\n",
       "      <td>0.154951</td>\n",
       "      <td>22.394788</td>\n",
       "      <td>13.287262</td>\n",
       "      <td>23.819934</td>\n",
       "      <td>5.580133</td>\n",
       "      <td>15.238646</td>\n",
       "      <td>12.824787</td>\n",
       "      <td>POINT (40.313 -105.648)</td>\n",
       "    </tr>\n",
       "    <tr>\n",
       "      <th>05-13</th>\n",
       "      <td>0.119</td>\n",
       "      <td>0.376311</td>\n",
       "      <td>3.194899</td>\n",
       "      <td>1.188389</td>\n",
       "      <td>0.271912</td>\n",
       "      <td>0.573243</td>\n",
       "      <td>0.168</td>\n",
       "      <td>0.390720</td>\n",
       "      <td>23.061838</td>\n",
       "      <td>13.662428</td>\n",
       "      <td>27.014834</td>\n",
       "      <td>5.943477</td>\n",
       "      <td>15.510558</td>\n",
       "      <td>13.010427</td>\n",
       "      <td>POINT (40.313 -105.648)</td>\n",
       "    </tr>\n",
       "    <tr>\n",
       "      <th>05-14</th>\n",
       "      <td>0.211</td>\n",
       "      <td>0.667241</td>\n",
       "      <td>3.342517</td>\n",
       "      <td>1.239108</td>\n",
       "      <td>0.086019</td>\n",
       "      <td>0.272016</td>\n",
       "      <td>0.379</td>\n",
       "      <td>1.037823</td>\n",
       "      <td>23.361888</td>\n",
       "      <td>14.278576</td>\n",
       "      <td>30.357351</td>\n",
       "      <td>6.185918</td>\n",
       "      <td>15.596577</td>\n",
       "      <td>13.177008</td>\n",
       "      <td>POINT (40.313 -105.648)</td>\n",
       "    </tr>\n",
       "  </tbody>\n",
       "</table>\n",
       "</div>"
      ],
      "text/plain": [
       "       gdd_daily_average_cels  gdd_daily_average_std_dev_cels  \\\n",
       "day                                                             \n",
       "05-05                   0.000                        0.000000   \n",
       "05-06                   0.000                        0.000000   \n",
       "05-07                   0.000                        0.000000   \n",
       "05-08                   0.000                        0.000000   \n",
       "05-09                   0.049                        0.154951   \n",
       "05-10                   0.000                        0.000000   \n",
       "05-11                   0.000                        0.000000   \n",
       "05-12                   0.000                        0.000000   \n",
       "05-13                   0.119                        0.376311   \n",
       "05-14                   0.211                        0.667241   \n",
       "\n",
       "       pet_daily_average_mm  pet_daily_average_std_dev_mm  ppet_daliy_average  \\\n",
       "day                                                                             \n",
       "05-05              3.832843                      1.041593            0.155951   \n",
       "05-06              3.457658                      0.992522            0.216588   \n",
       "05-07              2.809468                      1.267962            2.044107   \n",
       "05-08              2.701147                      1.375317            1.060763   \n",
       "05-09              3.039473                      1.499731            3.470099   \n",
       "05-10              2.878678                      1.339583            1.276852   \n",
       "05-11              2.335353                      1.036487            4.767200   \n",
       "05-12              2.765314                      1.363282            2.247087   \n",
       "05-13              3.194899                      1.188389            0.271912   \n",
       "05-14              3.342517                      1.239108            0.086019   \n",
       "\n",
       "       ppet_daily_average_std_dev  gdd_rolling_total_average  \\\n",
       "day                                                            \n",
       "05-05                    0.493161                      0.000   \n",
       "05-06                    0.451959                      0.000   \n",
       "05-07                    2.872889                      0.000   \n",
       "05-08                    1.645676                      0.000   \n",
       "05-09                    7.786943                      0.049   \n",
       "05-10                    3.231305                      0.049   \n",
       "05-11                   10.404659                      0.049   \n",
       "05-12                    3.432021                      0.049   \n",
       "05-13                    0.573243                      0.168   \n",
       "05-14                    0.272016                      0.379   \n",
       "\n",
       "       gdd_rolling_total_average_std_dev  precip_rolling_total_average_mm  \\\n",
       "day                                                                         \n",
       "05-05                           0.000000                         0.234100   \n",
       "05-06                           0.000000                         1.095008   \n",
       "05-07                           0.000000                         5.411238   \n",
       "05-08                           0.000000                         7.682438   \n",
       "05-09                           0.154951                        13.103688   \n",
       "05-10                           0.154951                        15.062138   \n",
       "05-11                           0.154951                        19.217388   \n",
       "05-12                           0.154951                        22.394788   \n",
       "05-13                           0.390720                        23.061838   \n",
       "05-14                           1.037823                        23.361888   \n",
       "\n",
       "       precip_rolling_total_average_std_dev_mm  pet_rolling_total_average_mm  \\\n",
       "day                                                                            \n",
       "05-05                                 0.740289                      3.832843   \n",
       "05-06                                 1.857366                      7.290501   \n",
       "05-07                                 5.628859                     10.099969   \n",
       "05-08                                 8.062241                     12.801115   \n",
       "05-09                                13.589002                     15.840589   \n",
       "05-10                                15.300004                     18.719267   \n",
       "05-11                                14.592220                     21.054621   \n",
       "05-12                                13.287262                     23.819934   \n",
       "05-13                                13.662428                     27.014834   \n",
       "05-14                                14.278576                     30.357351   \n",
       "\n",
       "       pet_rolling_total_average_std_dev_mm  ppet_rolling_total_average  \\\n",
       "day                                                                       \n",
       "05-05                              1.041593                    0.155951   \n",
       "05-06                              1.812581                    0.372539   \n",
       "05-07                              2.545161                    2.416646   \n",
       "05-08                              3.610664                    3.477408   \n",
       "05-09                              4.865746                    6.947508   \n",
       "05-10                              5.834415                    8.224360   \n",
       "05-11                              5.765262                   12.991560   \n",
       "05-12                              5.580133                   15.238646   \n",
       "05-13                              5.943477                   15.510558   \n",
       "05-14                              6.185918                   15.596577   \n",
       "\n",
       "       ppet_rolling_total_average_std_dev                 geometry  \n",
       "day                                                                 \n",
       "05-05                            0.493161  POINT (40.313 -105.648)  \n",
       "05-06                            0.610258  POINT (40.313 -105.648)  \n",
       "05-07                            2.886677  POINT (40.313 -105.648)  \n",
       "05-08                            3.712774  POINT (40.313 -105.648)  \n",
       "05-09                            8.347424  POINT (40.313 -105.648)  \n",
       "05-10                           10.960611  POINT (40.313 -105.648)  \n",
       "05-11                           12.556768  POINT (40.313 -105.648)  \n",
       "05-12                           12.824787  POINT (40.313 -105.648)  \n",
       "05-13                           13.010427  POINT (40.313 -105.648)  \n",
       "05-14                           13.177008  POINT (40.313 -105.648)  "
      ]
     },
     "execution_count": 31,
     "metadata": {},
     "output_type": "execute_result"
    }
   ],
   "source": [
    "# Display dataframe - daily\n",
    "daily_accum_gdf"
   ]
  },
  {
   "cell_type": "markdown",
   "metadata": {},
   "source": [
    "## Agronomics Field -  Values"
   ]
  },
  {
   "cell_type": "code",
   "execution_count": null,
   "metadata": {},
   "outputs": [],
   "source": [
    "# Define AgronomicsFieldValues object\n",
    "agronomic_object = AgronomicsFieldValues(\n",
    "    api_key, api_secret, field_id='CO-RMNP-Bear-Lake')"
   ]
  },
  {
   "cell_type": "code",
   "execution_count": null,
   "metadata": {},
   "outputs": [],
   "source": [
    "# Define kwargs\n",
    "# values_kwargs = {'start_day': '01-01'}\n",
    "# values_kwargs = {'start_day': '2019-05-05'}\n",
    "\n",
    "# Create geodataframe - single day\n",
    "norms_gdf = AgronomicsFieldValues.api_to_gdf(\n",
    "    agronomic_object, value_type='single_day')"
   ]
  },
  {
   "cell_type": "code",
   "execution_count": null,
   "metadata": {},
   "outputs": [],
   "source": [
    "# Display geodataframe\n",
    "norms_gdf"
   ]
  },
  {
   "cell_type": "code",
   "execution_count": null,
   "metadata": {},
   "outputs": [],
   "source": [
    "# Define kwargs\n",
    "values_kwargs = {'start_day': '03-03', 'end_day': '03-09'}\n",
    "\n",
    "# Create geodataframes - multi day\n",
    "total_accum_gdf, daily_accum_gdf = AgronomicsFieldValues.api_to_gdf(\n",
    "    agronomic_object, value_type='multi_day', kwargs=values_kwargs)"
   ]
  },
  {
   "cell_type": "code",
   "execution_count": null,
   "metadata": {
    "scrolled": true
   },
   "outputs": [],
   "source": [
    "# Display geodataframe - total\n",
    "total_accum_gdf"
   ]
  },
  {
   "cell_type": "code",
   "execution_count": null,
   "metadata": {},
   "outputs": [],
   "source": [
    "# Display geodataframe - daily\n",
    "daily_accum_gdf"
   ]
  },
  {
   "cell_type": "markdown",
   "metadata": {},
   "source": [
    "## Agronomics Field - Norms"
   ]
  },
  {
   "cell_type": "code",
   "execution_count": null,
   "metadata": {},
   "outputs": [],
   "source": [
    "# Define AgronomicsFieldNorms object\n",
    "agronomic_object = AgronomicsFieldNorms(\n",
    "    api_key, api_secret, field_id='CO-RMNP-Bear-Lake')"
   ]
  },
  {
   "cell_type": "code",
   "execution_count": null,
   "metadata": {},
   "outputs": [],
   "source": [
    "# Define kwargs\n",
    "# values_kwargs = {'start_day': '01-01'}\n",
    "# values_kwargs = {'start_day': '2019-05-05'}\n",
    "\n",
    "# Create geodataframe - single day\n",
    "norms_gdf = AgronomicsFieldNorms.api_to_gdf(\n",
    "    agronomic_object, value_type='single_day')"
   ]
  },
  {
   "cell_type": "code",
   "execution_count": null,
   "metadata": {},
   "outputs": [],
   "source": [
    "# Display geodataframe\n",
    "norms_gdf"
   ]
  },
  {
   "cell_type": "code",
   "execution_count": null,
   "metadata": {},
   "outputs": [],
   "source": [
    "# Define kwargs\n",
    "values_kwargs = {'start_day': '03-03', 'end_day': '03-09'}\n",
    "\n",
    "# Create geodataframes - multi day\n",
    "total_accum_gdf, daily_accum_gdf = AgronomicsFieldNorms.api_to_gdf(\n",
    "    agronomic_object, value_type='multi_day', kwargs=values_kwargs)"
   ]
  },
  {
   "cell_type": "code",
   "execution_count": null,
   "metadata": {
    "scrolled": true
   },
   "outputs": [],
   "source": [
    "# Display geodataframe - total\n",
    "total_accum_gdf"
   ]
  },
  {
   "cell_type": "code",
   "execution_count": null,
   "metadata": {},
   "outputs": [],
   "source": [
    "# Display geodataframe - daily\n",
    "daily_accum_gdf"
   ]
  },
  {
   "cell_type": "markdown",
   "metadata": {},
   "source": [
    "## Agronomics Crops"
   ]
  },
  {
   "cell_type": "code",
   "execution_count": null,
   "metadata": {},
   "outputs": [],
   "source": [
    "# Define AgronomicsCrops object\n",
    "crops_object = AgronomicsCrops(api_key, api_secret)"
   ]
  },
  {
   "cell_type": "code",
   "execution_count": null,
   "metadata": {},
   "outputs": [],
   "source": [
    "# Get first page of crops\n",
    "crops_object.get()"
   ]
  },
  {
   "cell_type": "code",
   "execution_count": null,
   "metadata": {},
   "outputs": [],
   "source": [
    "# Get a single crop by crop_id\n",
    "crops_object.get(crop_id='canola-b-napus')"
   ]
  },
  {
   "cell_type": "code",
   "execution_count": null,
   "metadata": {},
   "outputs": [],
   "source": [
    "# Get all available crops\n",
    "crops_object.get_full()"
   ]
  },
  {
   "cell_type": "markdown",
   "metadata": {},
   "source": [
    "## Agronomics Crop"
   ]
  },
  {
   "cell_type": "code",
   "execution_count": null,
   "metadata": {},
   "outputs": [],
   "source": [
    "# Define AgronomicsCrop object\n",
    "crop_object = AgronomicsCrop(\n",
    "    api_key, api_secret, crop_id='sorghum-long-season')"
   ]
  },
  {
   "cell_type": "code",
   "execution_count": null,
   "metadata": {},
   "outputs": [],
   "source": [
    "# Get crop info\n",
    "crop_object.get()"
   ]
  },
  {
   "cell_type": "markdown",
   "metadata": {},
   "source": [
    "## Agronomics Plantings"
   ]
  },
  {
   "cell_type": "code",
   "execution_count": null,
   "metadata": {},
   "outputs": [],
   "source": [
    "# Create AgronomicsFieldPlantings object\n",
    "plantings_object = AgronomicsFieldPlantings(\n",
    "    api_key, api_secret, 'CO-RMNP-Bear-Lake')"
   ]
  },
  {
   "cell_type": "code",
   "execution_count": null,
   "metadata": {
    "scrolled": true
   },
   "outputs": [],
   "source": [
    "# Get all plantings for the field\n",
    "plantings_object.get()"
   ]
  },
  {
   "cell_type": "code",
   "execution_count": null,
   "metadata": {},
   "outputs": [],
   "source": [
    "# Get most recent planting\n",
    "plantings_object.get(planting_id='current')"
   ]
  },
  {
   "cell_type": "code",
   "execution_count": null,
   "metadata": {
    "scrolled": true
   },
   "outputs": [],
   "source": [
    "# Get planting based on id\n",
    "plantings_object.get(planting_id=464533)"
   ]
  },
  {
   "cell_type": "code",
   "execution_count": null,
   "metadata": {},
   "outputs": [],
   "source": [
    "#Delete planting\n",
    "plantings_object.delete('current')"
   ]
  },
  {
   "cell_type": "code",
   "execution_count": null,
   "metadata": {},
   "outputs": [],
   "source": [
    "# Show planting is deleted\n",
    "plantings_object.get()"
   ]
  },
  {
   "cell_type": "code",
   "execution_count": null,
   "metadata": {},
   "outputs": [],
   "source": [
    "# Create planting\n",
    "planting = plantings_object.create(\n",
    "    crop='sorghum-long-season', planting_date='2019-05-05', \n",
    "    projected_yield_amount=80, projected_yield_units='boxes',\n",
    "    yield_amount=75, yield_units='boxes')"
   ]
  },
  {
   "cell_type": "code",
   "execution_count": null,
   "metadata": {},
   "outputs": [],
   "source": [
    "# Show planting is created\n",
    "plantings_object.get()"
   ]
  },
  {
   "cell_type": "markdown",
   "metadata": {},
   "source": [
    "## Agronomics Models"
   ]
  },
  {
   "cell_type": "code",
   "execution_count": null,
   "metadata": {},
   "outputs": [],
   "source": [
    "# Create AgronomicsModels object\n",
    "model_object = AgronomicsModels(api_key, api_secret)"
   ]
  },
  {
   "cell_type": "code",
   "execution_count": null,
   "metadata": {},
   "outputs": [],
   "source": [
    "# Get list of first 10 models\n",
    "model_object.get()"
   ]
  },
  {
   "cell_type": "code",
   "execution_count": null,
   "metadata": {},
   "outputs": [],
   "source": [
    "# Get a specific model\n",
    "model_object.get(model_id='BarleyGenericNDAWN')"
   ]
  },
  {
   "cell_type": "code",
   "execution_count": null,
   "metadata": {},
   "outputs": [],
   "source": [
    "# Get full list of models\n",
    "model_object.get_full()"
   ]
  },
  {
   "cell_type": "code",
   "execution_count": null,
   "metadata": {},
   "outputs": [],
   "source": [
    "# Get model details - base info and stage info, single model\n",
    "base_details_df, stage_details_df = model_object.get_details()"
   ]
  },
  {
   "cell_type": "code",
   "execution_count": null,
   "metadata": {},
   "outputs": [],
   "source": [
    "# Show base details\n",
    "base_details_df"
   ]
  },
  {
   "cell_type": "code",
   "execution_count": null,
   "metadata": {},
   "outputs": [],
   "source": [
    "# Show stage details\n",
    "stage_details_df"
   ]
  },
  {
   "cell_type": "code",
   "execution_count": null,
   "metadata": {},
   "outputs": [],
   "source": [
    "# Get base details and stage details for all models\n",
    "base_details_all_df, stage_details_all_df = AgronomicsModels.get_all_details(\n",
    "    model_object)"
   ]
  },
  {
   "cell_type": "code",
   "execution_count": null,
   "metadata": {},
   "outputs": [],
   "source": [
    "# Show base details\n",
    "base_details_all_df"
   ]
  },
  {
   "cell_type": "code",
   "execution_count": null,
   "metadata": {
    "scrolled": true
   },
   "outputs": [],
   "source": [
    "# Show stage details\n",
    "stage_details_all_df"
   ]
  },
  {
   "cell_type": "markdown",
   "metadata": {},
   "source": [
    "## Agronomics Plantings"
   ]
  },
  {
   "cell_type": "code",
   "execution_count": null,
   "metadata": {},
   "outputs": [],
   "source": [
    "# Define AgronomicsPlantings object\n",
    "planting_object = AgronomicsPlantings(api_key, api_secret)"
   ]
  },
  {
   "cell_type": "code",
   "execution_count": null,
   "metadata": {},
   "outputs": [],
   "source": [
    "# Get all plantings\n",
    "plantings_all = planting_object.get()"
   ]
  },
  {
   "cell_type": "code",
   "execution_count": null,
   "metadata": {},
   "outputs": [],
   "source": [
    "# Display all plantings\n",
    "plantings_all"
   ]
  },
  {
   "cell_type": "code",
   "execution_count": null,
   "metadata": {},
   "outputs": [],
   "source": [
    "# Get current (most recent) planting\n",
    "plantings_current = planting_object.get(planting_id='current')"
   ]
  },
  {
   "cell_type": "code",
   "execution_count": null,
   "metadata": {},
   "outputs": [],
   "source": [
    "# Display current planting\n",
    "plantings_current"
   ]
  },
  {
   "cell_type": "code",
   "execution_count": null,
   "metadata": {},
   "outputs": [],
   "source": [
    "# Get planting by id\n",
    "plantings_id = planting_object.get(planting_id=464537)"
   ]
  },
  {
   "cell_type": "code",
   "execution_count": null,
   "metadata": {},
   "outputs": [],
   "source": [
    "# Display current planting\n",
    "plantings_id"
   ]
  },
  {
   "cell_type": "markdown",
   "metadata": {},
   "source": [
    "## Agrononics Field - Models"
   ]
  },
  {
   "cell_type": "code",
   "execution_count": null,
   "metadata": {},
   "outputs": [],
   "source": [
    "# Define ArgonomicsFieldsModels object\n",
    "model_object = AgronomicsFieldModels(\n",
    "    api_key, api_secret, field_id='CO-RMNP-Bear-Lake', model_id='SorghumLongSeasonTexasAM')"
   ]
  },
  {
   "cell_type": "code",
   "execution_count": null,
   "metadata": {},
   "outputs": [],
   "source": [
    "# Get stage info\n",
    "model_stages_gdf = model_object.get()"
   ]
  },
  {
   "cell_type": "code",
   "execution_count": null,
   "metadata": {},
   "outputs": [],
   "source": [
    "# Display stage info\n",
    "model_stages_gdf"
   ]
  },
  {
   "cell_type": "code",
   "execution_count": null,
   "metadata": {},
   "outputs": [],
   "source": []
  }
 ],
 "metadata": {
  "kernelspec": {
   "display_name": "Python 3",
   "language": "python",
   "name": "python3"
  },
  "language_info": {
   "codemirror_mode": {
    "name": "ipython",
    "version": 3
   },
   "file_extension": ".py",
   "mimetype": "text/x-python",
   "name": "python",
   "nbconvert_exporter": "python",
   "pygments_lexer": "ipython3",
   "version": "3.7.6"
  },
  "toc": {
   "base_numbering": 1,
   "nav_menu": {},
   "number_sections": true,
   "sideBar": true,
   "skip_h1_title": false,
   "title_cell": "Table of Contents",
   "title_sidebar": "Contents",
   "toc_cell": false,
   "toc_position": {},
   "toc_section_display": true,
   "toc_window_display": false
  }
 },
 "nbformat": 4,
 "nbformat_minor": 4
}
