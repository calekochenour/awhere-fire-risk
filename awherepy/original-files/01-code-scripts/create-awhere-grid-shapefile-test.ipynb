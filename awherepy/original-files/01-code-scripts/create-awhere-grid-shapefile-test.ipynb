{
 "cells": [
  {
   "cell_type": "markdown",
   "metadata": {},
   "source": [
    "# Create aWhere Grid from Shapefile"
   ]
  },
  {
   "cell_type": "markdown",
   "metadata": {},
   "source": [
    "## Environment Setup"
   ]
  },
  {
   "cell_type": "markdown",
   "metadata": {},
   "source": [
    "### Imports"
   ]
  },
  {
   "cell_type": "code",
   "execution_count": 1,
   "metadata": {},
   "outputs": [],
   "source": [
    "# Imports\n",
    "import os\n",
    "import matplotlib.pyplot as plt\n",
    "import numpy as np\n",
    "import geopandas as gpd\n",
    "from shapely.geometry import Polygon\n",
    "import earthpy as et"
   ]
  },
  {
   "cell_type": "markdown",
   "metadata": {},
   "source": [
    "### Functions"
   ]
  },
  {
   "cell_type": "code",
   "execution_count": 2,
   "metadata": {},
   "outputs": [],
   "source": [
    "def create_awhere_grid(study_area_path, buffer_distance, cell_size=0.08):\n",
    "    \"\"\"Creates an aWhere-sized grid (0.08 x 0.08 degree,\n",
    "    5 arc-minute x 5 arc-minute grid) fit to a polygon.\n",
    "\n",
    "    Parameters\n",
    "    ----------\n",
    "    study_area_path : str\n",
    "        Path the polygon shapefile boundary.\n",
    "\n",
    "    buffer_distance : int or float\n",
    "        Buffer size in degrees (WGS 84 CRS).\n",
    "\n",
    "    cell_size: int or float\n",
    "        Grid size (x and y dimension) in degrees (WGS 84 CRS).\n",
    "\n",
    "    Returns\n",
    "    -------\n",
    "    study_area_grid_4326: geopandas GeoDataFrame\n",
    "        Grid dataframe shaped to the polygon boundary.\n",
    "\n",
    "    Example\n",
    "    -------\n",
    "        >>> # Import packages\n",
    "        >>> import os\n",
    "        >>> import geopandas as gpd\n",
    "        >>> # Define path to shapefile boundary\n",
    "        >>> vt_bound_path = os.path.join(\n",
    "        ...     working_directory, 'shapefiles', vermont_state_boundary.shp')\n",
    "        >>> # Create aWhere grid\n",
    "        >>> vt_grid = create_awhere_grid(vt_bound_path, buffer_distance=0.12)\n",
    "        >>> # Plot aWhere grid\n",
    "        >>> vt_grid.plot(facecolor=\"none\", edgecolor=\"#984ea3\", linewidth=1.5)\n",
    "    \"\"\"\n",
    "    # Read shapefile into geodataframe\n",
    "    study_area = gpd.read_file(study_area_path)\n",
    "\n",
    "    # Project to WGS 84 Lat/Lon, EPSG 4326 if no CRS match\n",
    "    if not study_area.crs == 4326:\n",
    "        study_area_4326 = study_area.to_crs(4326)\n",
    "\n",
    "    else:\n",
    "        study_area_4326 = study_area\n",
    "\n",
    "    # Create buffer around state boundary\n",
    "    study_area_4326_buffer = study_area_4326.buffer(distance=buffer_distance)\n",
    "\n",
    "    # Convert buffer from geoseries to geodataframe\n",
    "    study_area_4326_buffer_gdf = gpd.GeoDataFrame(\n",
    "        study_area_4326_buffer, crs=4326)\n",
    "\n",
    "    # Rename geometry column in buffer\n",
    "    study_area_4326_buffer_gdf.rename(columns={0: 'geometry'}, inplace=True)\n",
    "\n",
    "    # Get extent of buffered boundary\n",
    "    longitude_min = study_area_4326_buffer_gdf.bounds.minx[0]\n",
    "    latitude_min = study_area_4326_buffer_gdf.bounds.miny[0]\n",
    "    longitude_max = study_area_4326_buffer_gdf.bounds.maxx[0]\n",
    "    latitude_max = study_area_4326_buffer_gdf.bounds.maxy[0]\n",
    "\n",
    "    # Create lists for lat/lon extents\n",
    "    longitude_vals = np.arange(longitude_min, longitude_max, cell_size)\n",
    "    latitude_vals = np.arange(latitude_min, latitude_max, cell_size)\n",
    "\n",
    "    # Create grid of polygons based on longitude and latitude ranges\n",
    "    grid_polys_list = [Polygon([\n",
    "        (longitude, latitude),\n",
    "        (longitude + cell_size, latitude),\n",
    "        (longitude + cell_size, latitude + cell_size),\n",
    "        (longitude, latitude + cell_size)])\n",
    "        for longitude in longitude_vals for latitude in latitude_vals]\n",
    "\n",
    "    # Create geodataframe from grid polygons\n",
    "    grid_polys_gdf = gpd.GeoDataFrame(crs=4326, geometry=grid_polys_list)\n",
    "\n",
    "    # Add centroid to each grid cell\n",
    "    grid_polys_gdf['centroid'] = grid_polys_gdf.geometry.apply(\n",
    "        lambda poly: poly.centroid)\n",
    "\n",
    "    # Narrow grid cells to those within the buffered boundary\n",
    "    study_area_grid_4326 = gpd.sjoin(\n",
    "        grid_polys_gdf, study_area_4326_buffer_gdf, op='within')\n",
    "    \n",
    "    # Drop unnecessary colum\n",
    "    study_area_grid_4326.drop(columns='index_right', inplace=True)\n",
    "    \n",
    "    # Return gridded geodataframe\n",
    "    return study_area_grid_4326"
   ]
  },
  {
   "cell_type": "code",
   "execution_count": 3,
   "metadata": {},
   "outputs": [],
   "source": [
    "def extract_centroids(grid):\n",
    "    \"\"\"Extracts the longitude and latitude centroids\n",
    "    from a grid of polygons.\n",
    "    \n",
    "    Parameters\n",
    "    ----------\n",
    "    grid : geopandas GeoDataFrame\n",
    "        Grid dataframe with polygon geometry.\n",
    "    \n",
    "    Returns\n",
    "    -------\n",
    "    centroid_list: list (of tuples)\n",
    "        List containing (longitude, latitude) tuples.\n",
    "    \n",
    "    Example\n",
    "    -------\n",
    "        >>> # Extract centroids\n",
    "        >>> vt_grid_centroids = extract_centroids(vt_grid)\n",
    "        >>> # Show number of centroids/grid cells\n",
    "        >>> len(vt_grid_centroids)\n",
    "        533\n",
    "        >>> # Show first centroid\n",
    "        >>> vt_grid_centroids[0]\n",
    "        (-73.43784136769847, 43.527012318617274)\n",
    "    \"\"\"\n",
    "    # Create copy of dataframe (avoids altering the original)\n",
    "    grid_extract = grid.copy()\n",
    "    \n",
    "    # Extract latitude and longitude to new columns\n",
    "    grid_extract['longitude'] = grid_extract.centroid.apply(lambda point: point.x)\n",
    "    grid_extract['latitude'] = grid_extract.centroid.apply(lambda point: point.y)\n",
    "    \n",
    "    # Extract centroid (as tuples) from grid\n",
    "    centroid_list = [(row.longitude, row.latitude) for row in grid_extract.itertuples()]\n",
    "    \n",
    "    # Return centroids\n",
    "    return centroid_list"
   ]
  },
  {
   "cell_type": "markdown",
   "metadata": {},
   "source": [
    "### File Paths"
   ]
  },
  {
   "cell_type": "code",
   "execution_count": 4,
   "metadata": {},
   "outputs": [],
   "source": [
    "# Set working directory\n",
    "working_directory = os.path.join(\n",
    "    et.io.HOME, 'earth-analytics', \n",
    "    '03-geog5663-earth-analytics-applications-summer-2020',\n",
    "    'git-repos', 'fire-drought-analysis')"
   ]
  },
  {
   "cell_type": "code",
   "execution_count": 5,
   "metadata": {},
   "outputs": [],
   "source": [
    "# Define path to shapefile\n",
    "vt_bound_path = os.path.join(\n",
    "    working_directory, '02-raw-data', 'shapefiles',\n",
    "    'vermont', 'vermont_state_boundary.shp')"
   ]
  },
  {
   "cell_type": "markdown",
   "metadata": {},
   "source": [
    "## Create Grid"
   ]
  },
  {
   "cell_type": "code",
   "execution_count": 6,
   "metadata": {},
   "outputs": [],
   "source": [
    "# Create grid with 0.12-degree buffer (1.5*cell_size) and default cell size\n",
    "vt_grid = create_awhere_grid(vt_bound_path, buffer_distance=0.12)"
   ]
  },
  {
   "cell_type": "code",
   "execution_count": 7,
   "metadata": {},
   "outputs": [],
   "source": [
    "# Project state boundary to 4326 (for plotting)\n",
    "vt_bound_4326 = gpd.read_file(vt_bound_path).to_crs(4326)"
   ]
  },
  {
   "cell_type": "code",
   "execution_count": 8,
   "metadata": {},
   "outputs": [
    {
     "data": {
      "image/png": "[encoded data removed]",
      "text/plain": [
       "<Figure size 1440x720 with 1 Axes>"
      ]
     },
     "metadata": {},
     "output_type": "display_data"
    }
   ],
   "source": [
    "# Plot state boundary (4326) and grid\n",
    "with plt.style.context('dark_background'):\n",
    "\n",
    "    fig, ax = plt.subplots(figsize=(20, 10))\n",
    "    vt_grid.plot(ax=ax, facecolor=\"none\", edgecolor=\"#984ea3\", linewidth=1.5)\n",
    "    vt_bound_4326.plot(ax=ax, facecolor=\"none\",\n",
    "                       edgecolor=\"#4daf4a\", linewidth=2)\n",
    "\n",
    "    ax.set_xlabel(\"Longitude (degrees)\", fontsize=16)\n",
    "    ax.set_ylabel(\"Latitude (degrees)\", fontsize=16)\n",
    "    ax.set_title(\n",
    "        \"Vermont Boundary & aWhere Grid\\nBuffer = 0.12 Degrees, Cell Size = 0.08 Degrees\",\n",
    "        fontsize=20)\n",
    "    ax.tick_params(axis='both', which='major', labelsize=16)\n",
    "\n",
    "    plt.show()"
   ]
  },
  {
   "cell_type": "markdown",
   "metadata": {},
   "source": [
    "## Extract Grid Centroids"
   ]
  },
  {
   "cell_type": "code",
   "execution_count": 9,
   "metadata": {},
   "outputs": [],
   "source": [
    "# Extract centroids vrom VT grid to list\n",
    "vt_grid_centroids = extract_centroids(vt_grid)"
   ]
  },
  {
   "cell_type": "code",
   "execution_count": 10,
   "metadata": {},
   "outputs": [
    {
     "data": {
      "text/plain": [
       "533"
      ]
     },
     "execution_count": 10,
     "metadata": {},
     "output_type": "execute_result"
    }
   ],
   "source": [
    "# Show number of centroids/grid cells\n",
    "len(vt_grid_centroids)"
   ]
  },
  {
   "cell_type": "code",
   "execution_count": 11,
   "metadata": {},
   "outputs": [
    {
     "data": {
      "text/plain": [
       "[(-73.43784136769847, 43.527012318617274),\n",
       " (-73.43784136769847, 43.60701231861727),\n",
       " (-73.43784136769847, 43.68701231861726),\n",
       " (-73.43784136769847, 43.76701231861726),\n",
       " (-73.43784136769847, 43.84701231861727)]"
      ]
     },
     "execution_count": 11,
     "metadata": {},
     "output_type": "execute_result"
    }
   ],
   "source": [
    "# Show first 5 centroids\n",
    "vt_grid_centroids[:5]"
   ]
  },
  {
   "cell_type": "code",
   "execution_count": 12,
   "metadata": {},
   "outputs": [
    {
     "data": {
      "text/plain": [
       "(-73.43784136769847, 43.527012318617274)"
      ]
     },
     "execution_count": 12,
     "metadata": {},
     "output_type": "execute_result"
    }
   ],
   "source": [
    "# Show first centroid\n",
    "vt_grid_centroids[0]"
   ]
  },
  {
   "cell_type": "code",
   "execution_count": 13,
   "metadata": {},
   "outputs": [
    {
     "data": {
      "text/plain": [
       "-73.43784136769847"
      ]
     },
     "execution_count": 13,
     "metadata": {},
     "output_type": "execute_result"
    }
   ],
   "source": [
    "# Show first longitude\n",
    "vt_grid_centroids[:5][0][0]"
   ]
  },
  {
   "cell_type": "code",
   "execution_count": 14,
   "metadata": {},
   "outputs": [
    {
     "data": {
      "text/plain": [
       "43.527012318617274"
      ]
     },
     "execution_count": 14,
     "metadata": {},
     "output_type": "execute_result"
    }
   ],
   "source": [
    "# Show first latitude\n",
    "vt_grid_centroids[:5][0][-1]"
   ]
  },
  {
   "cell_type": "markdown",
   "metadata": {},
   "source": [
    "# CA Test"
   ]
  },
  {
   "cell_type": "code",
   "execution_count": 15,
   "metadata": {},
   "outputs": [],
   "source": [
    "ca_path = os.path.join(\n",
    "    working_directory, '02-raw-data',\n",
    "    'california', 'bernardo_box',\n",
    "    'bernardo_box.shp')\n",
    "\n",
    "# .to_crs('epsg:4326')\n",
    "    \n",
    "#    'ca3300311713320140513',\n",
    "#    'ca3300311713320140513_20140509_20140525_burn_bndy.shp'\n",
    "\n",
    "#    'ca3771211950920140815',\n",
    "#    'ca3771211950920140815_20140726_20150713_burn_bndy.shp'\n"
   ]
  },
  {
   "cell_type": "code",
   "execution_count": 16,
   "metadata": {},
   "outputs": [
    {
     "name": "stderr",
     "output_type": "stream",
     "text": [
      "C:\\.conda\\envs\\earth-analytics-python\\lib\\site-packages\\pyproj\\crs.py:77: FutureWarning: '+init=<authority>:<code>' syntax is deprecated. '<authority>:<code>' is the preferred initialization method.\n",
      "  return _prepare_from_string(\" \".join(pjargs))\n"
     ]
    }
   ],
   "source": [
    "ca_bound_4326 = gpd.read_file(ca_path).to_crs(4326)"
   ]
  },
  {
   "cell_type": "code",
   "execution_count": 17,
   "metadata": {},
   "outputs": [
    {
     "data": {
      "text/plain": [
       "4326"
      ]
     },
     "execution_count": 17,
     "metadata": {},
     "output_type": "execute_result"
    }
   ],
   "source": [
    "ca_bound_4326.crs"
   ]
  },
  {
   "cell_type": "code",
   "execution_count": 18,
   "metadata": {},
   "outputs": [
    {
     "name": "stderr",
     "output_type": "stream",
     "text": [
      "C:\\.conda\\envs\\earth-analytics-python\\lib\\site-packages\\pyproj\\crs.py:77: FutureWarning: '+init=<authority>:<code>' syntax is deprecated. '<authority>:<code>' is the preferred initialization method.\n",
      "  return _prepare_from_string(\" \".join(pjargs))\n"
     ]
    }
   ],
   "source": [
    "ca_grid = create_awhere_grid(ca_path, buffer_distance=0.12)"
   ]
  },
  {
   "cell_type": "code",
   "execution_count": 19,
   "metadata": {},
   "outputs": [
    {
     "data": {
      "text/html": [
       "<div>\n",
       "<style scoped>\n",
       "    .dataframe tbody tr th:only-of-type {\n",
       "        vertical-align: middle;\n",
       "    }\n",
       "\n",
       "    .dataframe tbody tr th {\n",
       "        vertical-align: top;\n",
       "    }\n",
       "\n",
       "    .dataframe thead th {\n",
       "        text-align: right;\n",
       "    }\n",
       "</style>\n",
       "<table border=\"1\" class=\"dataframe\">\n",
       "  <thead>\n",
       "    <tr style=\"text-align: right;\">\n",
       "      <th></th>\n",
       "      <th>geometry</th>\n",
       "      <th>centroid</th>\n",
       "    </tr>\n",
       "  </thead>\n",
       "  <tbody>\n",
       "    <tr>\n",
       "      <th>5</th>\n",
       "      <td>POLYGON ((-117.23247 32.93937, -117.15247 32.9...</td>\n",
       "      <td>POINT (-117.19247 32.97937)</td>\n",
       "    </tr>\n",
       "    <tr>\n",
       "      <th>6</th>\n",
       "      <td>POLYGON ((-117.23247 33.01937, -117.15247 33.0...</td>\n",
       "      <td>POINT (-117.19247 33.05937)</td>\n",
       "    </tr>\n",
       "    <tr>\n",
       "      <th>9</th>\n",
       "      <td>POLYGON ((-117.15247 32.93937, -117.07247 32.9...</td>\n",
       "      <td>POINT (-117.11247 32.97937)</td>\n",
       "    </tr>\n",
       "    <tr>\n",
       "      <th>10</th>\n",
       "      <td>POLYGON ((-117.15247 33.01937, -117.07247 33.0...</td>\n",
       "      <td>POINT (-117.11247 33.05937)</td>\n",
       "    </tr>\n",
       "  </tbody>\n",
       "</table>\n",
       "</div>"
      ],
      "text/plain": [
       "                                             geometry  \\\n",
       "5   POLYGON ((-117.23247 32.93937, -117.15247 32.9...   \n",
       "6   POLYGON ((-117.23247 33.01937, -117.15247 33.0...   \n",
       "9   POLYGON ((-117.15247 32.93937, -117.07247 32.9...   \n",
       "10  POLYGON ((-117.15247 33.01937, -117.07247 33.0...   \n",
       "\n",
       "                       centroid  \n",
       "5   POINT (-117.19247 32.97937)  \n",
       "6   POINT (-117.19247 33.05937)  \n",
       "9   POINT (-117.11247 32.97937)  \n",
       "10  POINT (-117.11247 33.05937)  "
      ]
     },
     "execution_count": 19,
     "metadata": {},
     "output_type": "execute_result"
    }
   ],
   "source": [
    "ca_grid"
   ]
  },
  {
   "cell_type": "code",
   "execution_count": 20,
   "metadata": {},
   "outputs": [
    {
     "data": {
      "image/png": "[encoded data removed]",
      "text/plain": [
       "<Figure size 1440x720 with 1 Axes>"
      ]
     },
     "metadata": {},
     "output_type": "display_data"
    }
   ],
   "source": [
    "# Plot state boundary (4326) and grid\n",
    "with plt.style.context('dark_background'):\n",
    "\n",
    "    fig, ax = plt.subplots(figsize=(20, 10))\n",
    "    ca_grid.plot(ax=ax, facecolor=\"none\", edgecolor=\"#984ea3\", linewidth=1.5)\n",
    "    ca_bound_4326.plot(ax=ax, facecolor=\"none\",\n",
    "                       edgecolor=\"#4daf4a\", linewidth=2)\n",
    "\n",
    "    ax.set_xlabel(\"Longitude (degrees)\", fontsize=16)\n",
    "    ax.set_ylabel(\"Latitude (degrees)\", fontsize=16)\n",
    "    ax.set_title(\n",
    "        \"Bernardo Fire Extent & aWhere Grid\\nBuffer = 0.12 Degrees, Cell Size = 0.08 Degrees\",\n",
    "        fontsize=20)\n",
    "    ax.tick_params(axis='both', which='major', labelsize=16)\n",
    "\n",
    "    plt.show()"
   ]
  },
  {
   "cell_type": "code",
   "execution_count": 21,
   "metadata": {},
   "outputs": [],
   "source": [
    "ca_grid_centroids = extract_centroids(ca_grid)"
   ]
  },
  {
   "cell_type": "code",
   "execution_count": 22,
   "metadata": {
    "scrolled": false
   },
   "outputs": [
    {
     "data": {
      "text/plain": [
       "[(-117.19247200831332, 32.97937160997418),\n",
       " (-117.19247200831332, 33.05937160997418),\n",
       " (-117.1124720083133, 32.97937160997418),\n",
       " (-117.1124720083133, 33.05937160997418)]"
      ]
     },
     "execution_count": 22,
     "metadata": {},
     "output_type": "execute_result"
    }
   ],
   "source": [
    "ca_grid_centroids"
   ]
  },
  {
   "cell_type": "code",
   "execution_count": 23,
   "metadata": {},
   "outputs": [],
   "source": [
    "from awhere_classes import *"
   ]
  },
  {
   "cell_type": "code",
   "execution_count": 24,
   "metadata": {},
   "outputs": [],
   "source": [
    "# Show all pandas columns and rows\n",
    "pd.set_option('max_columns', None)\n",
    "pd.set_option('max_rows', None)"
   ]
  },
  {
   "cell_type": "code",
   "execution_count": 25,
   "metadata": {},
   "outputs": [],
   "source": [
    "# Define aWhere API key and secret\n",
    "api_key = os.environ.get('AWHERE_API_KEY')\n",
    "api_secret = os.environ.get('AWHERE_API_SECRET')"
   ]
  },
  {
   "cell_type": "code",
   "execution_count": 26,
   "metadata": {},
   "outputs": [],
   "source": [
    "# Get aWhere data\n",
    "observed = []\n",
    "\n",
    "for centroid in ca_grid_centroids:\n",
    "\n",
    "    # Create aWhere weather object\n",
    "    ca_observed = WeatherLocationObserved(\n",
    "        api_key, api_secret, latitude=centroid[1], longitude=centroid[0])\n",
    "\n",
    "    # Convert weather object to gdf\n",
    "    ca_observed_gdf = WeatherLocationObserved.api_to_gdf(\n",
    "        ca_observed, kwargs={'start_day': '2014-05-04'}) #, 'end_day': '2014-05-13'})\n",
    "\n",
    "    observed.append(ca_observed_gdf)"
   ]
  },
  {
   "cell_type": "code",
   "execution_count": 27,
   "metadata": {},
   "outputs": [],
   "source": [
    "# Get aWhere data\n",
    "norms = []\n",
    "\n",
    "for centroid in ca_grid_centroids:\n",
    "\n",
    "    # Create aWhere weather object\n",
    "    ca_norms = WeatherLocationNorms(\n",
    "        api_key, api_secret, latitude=centroid[1], longitude=centroid[0])\n",
    "\n",
    "    # Convert weather object to gdf\n",
    "    ca_norms_gdf = WeatherLocationNorms.api_to_gdf(\n",
    "        ca_norms, kwargs={'start_day': '05-04'}) #, 'end_day': '05-13'})\n",
    "\n",
    "    norms.append(ca_norms_gdf)"
   ]
  },
  {
   "cell_type": "markdown",
   "metadata": {},
   "source": [
    "How to best format the geodataframe data with many grid cells in mind? \n",
    "\n",
    "Average the data from all grid cell dataframes? With only 4 that makes more sense than if there were more than that? \n",
    "\n",
    "Also, how to resample the awhere grid to smaller to match landsat? "
   ]
  },
  {
   "cell_type": "code",
   "execution_count": 28,
   "metadata": {},
   "outputs": [
    {
     "data": {
      "text/html": [
       "<div>\n",
       "<style scoped>\n",
       "    .dataframe tbody tr th:only-of-type {\n",
       "        vertical-align: middle;\n",
       "    }\n",
       "\n",
       "    .dataframe tbody tr th {\n",
       "        vertical-align: top;\n",
       "    }\n",
       "\n",
       "    .dataframe thead th {\n",
       "        text-align: right;\n",
       "    }\n",
       "</style>\n",
       "<table border=\"1\" class=\"dataframe\">\n",
       "  <thead>\n",
       "    <tr style=\"text-align: right;\">\n",
       "      <th></th>\n",
       "      <th>temp_max_cels</th>\n",
       "      <th>temp_min_cels</th>\n",
       "      <th>precip_amount_mm</th>\n",
       "      <th>solar_energy_w_h_per_m2</th>\n",
       "      <th>rel_humidity_max_%</th>\n",
       "      <th>rel_humidity_min_%</th>\n",
       "      <th>wind_morning_max_m_per_sec</th>\n",
       "      <th>wind_day_max_m_per_sec</th>\n",
       "      <th>wind_avg_m_per_sec</th>\n",
       "      <th>geometry</th>\n",
       "    </tr>\n",
       "    <tr>\n",
       "      <th>date</th>\n",
       "      <th></th>\n",
       "      <th></th>\n",
       "      <th></th>\n",
       "      <th></th>\n",
       "      <th></th>\n",
       "      <th></th>\n",
       "      <th></th>\n",
       "      <th></th>\n",
       "      <th></th>\n",
       "      <th></th>\n",
       "    </tr>\n",
       "  </thead>\n",
       "  <tbody>\n",
       "    <tr>\n",
       "      <th>2014-05-04</th>\n",
       "      <td>25.799999</td>\n",
       "      <td>12.83</td>\n",
       "      <td>0.0</td>\n",
       "      <td>6592.237305</td>\n",
       "      <td>89.169998</td>\n",
       "      <td>44.560001</td>\n",
       "      <td>4.252426</td>\n",
       "      <td>4.595695</td>\n",
       "      <td>1.993019</td>\n",
       "      <td>POINT (-117.19247 32.97937)</td>\n",
       "    </tr>\n",
       "  </tbody>\n",
       "</table>\n",
       "</div>"
      ],
      "text/plain": [
       "            temp_max_cels  temp_min_cels  precip_amount_mm  \\\n",
       "date                                                         \n",
       "2014-05-04      25.799999          12.83               0.0   \n",
       "\n",
       "            solar_energy_w_h_per_m2  rel_humidity_max_%  rel_humidity_min_%  \\\n",
       "date                                                                          \n",
       "2014-05-04              6592.237305           89.169998           44.560001   \n",
       "\n",
       "            wind_morning_max_m_per_sec  wind_day_max_m_per_sec  \\\n",
       "date                                                             \n",
       "2014-05-04                    4.252426                4.595695   \n",
       "\n",
       "            wind_avg_m_per_sec                     geometry  \n",
       "date                                                         \n",
       "2014-05-04            1.993019  POINT (-117.19247 32.97937)  "
      ]
     },
     "execution_count": 28,
     "metadata": {},
     "output_type": "execute_result"
    }
   ],
   "source": [
    "# First grid cell, single day\n",
    "observed[0]"
   ]
  },
  {
   "cell_type": "code",
   "execution_count": 29,
   "metadata": {},
   "outputs": [
    {
     "data": {
      "text/html": [
       "<div>\n",
       "<style scoped>\n",
       "    .dataframe tbody tr th:only-of-type {\n",
       "        vertical-align: middle;\n",
       "    }\n",
       "\n",
       "    .dataframe tbody tr th {\n",
       "        vertical-align: top;\n",
       "    }\n",
       "\n",
       "    .dataframe thead th {\n",
       "        text-align: right;\n",
       "    }\n",
       "</style>\n",
       "<table border=\"1\" class=\"dataframe\">\n",
       "  <thead>\n",
       "    <tr style=\"text-align: right;\">\n",
       "      <th></th>\n",
       "      <th>mean_temp_avg_cels</th>\n",
       "      <th>mean_temp_std_dev_cels</th>\n",
       "      <th>max_temp_avg_cels</th>\n",
       "      <th>max_temp_std_dev_cels</th>\n",
       "      <th>min_temp_avg_cels</th>\n",
       "      <th>min_temp_std_dev_cels</th>\n",
       "      <th>precip_avg_mm</th>\n",
       "      <th>precip_std_dev_mm</th>\n",
       "      <th>solar_avg_w_h_per_m2</th>\n",
       "      <th>solar.stdDev</th>\n",
       "      <th>min_humiduty_avg_%</th>\n",
       "      <th>min_humidity_std_dev_%</th>\n",
       "      <th>max_humiduty_avg_%</th>\n",
       "      <th>max_humidity_std_dev_%</th>\n",
       "      <th>daily_max_wind_avg_m_per_sec</th>\n",
       "      <th>daily_max_wind_std_dev_m_per_sec</th>\n",
       "      <th>average_wind_m_per_sec</th>\n",
       "      <th>average_wind_std_dev_m_per_sec</th>\n",
       "      <th>geometry</th>\n",
       "    </tr>\n",
       "    <tr>\n",
       "      <th>day</th>\n",
       "      <th></th>\n",
       "      <th></th>\n",
       "      <th></th>\n",
       "      <th></th>\n",
       "      <th></th>\n",
       "      <th></th>\n",
       "      <th></th>\n",
       "      <th></th>\n",
       "      <th></th>\n",
       "      <th></th>\n",
       "      <th></th>\n",
       "      <th></th>\n",
       "      <th></th>\n",
       "      <th></th>\n",
       "      <th></th>\n",
       "      <th></th>\n",
       "      <th></th>\n",
       "      <th></th>\n",
       "      <th></th>\n",
       "    </tr>\n",
       "  </thead>\n",
       "  <tbody>\n",
       "    <tr>\n",
       "      <th>05-04</th>\n",
       "      <td>18.34</td>\n",
       "      <td>1.576598</td>\n",
       "      <td>24.047</td>\n",
       "      <td>3.458082</td>\n",
       "      <td>12.633</td>\n",
       "      <td>1.538174</td>\n",
       "      <td>0.0</td>\n",
       "      <td>0.0</td>\n",
       "      <td>5932.920068</td>\n",
       "      <td>1496.605398</td>\n",
       "      <td>44.925</td>\n",
       "      <td>15.592978</td>\n",
       "      <td>88.041</td>\n",
       "      <td>2.852022</td>\n",
       "      <td>5.749963</td>\n",
       "      <td>1.127736</td>\n",
       "      <td>2.464184</td>\n",
       "      <td>0.684885</td>\n",
       "      <td>POINT (-117.19247 32.97937)</td>\n",
       "    </tr>\n",
       "  </tbody>\n",
       "</table>\n",
       "</div>"
      ],
      "text/plain": [
       "       mean_temp_avg_cels  mean_temp_std_dev_cels  max_temp_avg_cels  \\\n",
       "day                                                                    \n",
       "05-04               18.34                1.576598             24.047   \n",
       "\n",
       "       max_temp_std_dev_cels  min_temp_avg_cels  min_temp_std_dev_cels  \\\n",
       "day                                                                      \n",
       "05-04               3.458082             12.633               1.538174   \n",
       "\n",
       "       precip_avg_mm  precip_std_dev_mm  solar_avg_w_h_per_m2  solar.stdDev  \\\n",
       "day                                                                           \n",
       "05-04            0.0                0.0           5932.920068   1496.605398   \n",
       "\n",
       "       min_humiduty_avg_%  min_humidity_std_dev_%  max_humiduty_avg_%  \\\n",
       "day                                                                     \n",
       "05-04              44.925               15.592978              88.041   \n",
       "\n",
       "       max_humidity_std_dev_%  daily_max_wind_avg_m_per_sec  \\\n",
       "day                                                           \n",
       "05-04                2.852022                      5.749963   \n",
       "\n",
       "       daily_max_wind_std_dev_m_per_sec  average_wind_m_per_sec  \\\n",
       "day                                                               \n",
       "05-04                          1.127736                2.464184   \n",
       "\n",
       "       average_wind_std_dev_m_per_sec                     geometry  \n",
       "day                                                                 \n",
       "05-04                        0.684885  POINT (-117.19247 32.97937)  "
      ]
     },
     "execution_count": 29,
     "metadata": {},
     "output_type": "execute_result"
    }
   ],
   "source": [
    "# First grid cell, single day\n",
    "norms[0]"
   ]
  },
  {
   "cell_type": "code",
   "execution_count": 30,
   "metadata": {},
   "outputs": [],
   "source": [
    "# Difference in max temp, observed - norms, celsius\n",
    "max_temp_diff = observed[0].temp_max_cels[0] - norms[0].max_temp_avg_cels[0]"
   ]
  },
  {
   "cell_type": "code",
   "execution_count": 31,
   "metadata": {},
   "outputs": [
    {
     "data": {
      "text/plain": [
       "1.7529994964599602"
      ]
     },
     "execution_count": 31,
     "metadata": {},
     "output_type": "execute_result"
    }
   ],
   "source": [
    "# Positive is higher than normal; negative is lower than normal\n",
    "max_temp_diff"
   ]
  },
  {
   "cell_type": "code",
   "execution_count": 32,
   "metadata": {},
   "outputs": [],
   "source": [
    "# Difference in avg wind speed, m/s\n",
    "avg_wind_diff = observed[0].wind_avg_m_per_sec[0] - norms[0].average_wind_m_per_sec[0]"
   ]
  },
  {
   "cell_type": "code",
   "execution_count": 33,
   "metadata": {},
   "outputs": [
    {
     "data": {
      "text/plain": [
       "-0.47116543054580706"
      ]
     },
     "execution_count": 33,
     "metadata": {},
     "output_type": "execute_result"
    }
   ],
   "source": [
    "# Positive is higher than normal; negative is lower than normal\n",
    "avg_wind_diff"
   ]
  },
  {
   "cell_type": "markdown",
   "metadata": {},
   "source": [
    "How to best store and index these dataframes?"
   ]
  },
  {
   "cell_type": "code",
   "execution_count": 34,
   "metadata": {},
   "outputs": [
    {
     "data": {
      "text/html": [
       "<div>\n",
       "<style scoped>\n",
       "    .dataframe tbody tr th:only-of-type {\n",
       "        vertical-align: middle;\n",
       "    }\n",
       "\n",
       "    .dataframe tbody tr th {\n",
       "        vertical-align: top;\n",
       "    }\n",
       "\n",
       "    .dataframe thead th {\n",
       "        text-align: right;\n",
       "    }\n",
       "</style>\n",
       "<table border=\"1\" class=\"dataframe\">\n",
       "  <thead>\n",
       "    <tr style=\"text-align: right;\">\n",
       "      <th></th>\n",
       "      <th>temp_max_cels</th>\n",
       "      <th>temp_min_cels</th>\n",
       "      <th>precip_amount_mm</th>\n",
       "      <th>solar_energy_w_h_per_m2</th>\n",
       "      <th>rel_humidity_max_%</th>\n",
       "      <th>rel_humidity_min_%</th>\n",
       "      <th>wind_morning_max_m_per_sec</th>\n",
       "      <th>wind_day_max_m_per_sec</th>\n",
       "      <th>wind_avg_m_per_sec</th>\n",
       "      <th>geometry</th>\n",
       "    </tr>\n",
       "    <tr>\n",
       "      <th>date</th>\n",
       "      <th></th>\n",
       "      <th></th>\n",
       "      <th></th>\n",
       "      <th></th>\n",
       "      <th></th>\n",
       "      <th></th>\n",
       "      <th></th>\n",
       "      <th></th>\n",
       "      <th></th>\n",
       "      <th></th>\n",
       "    </tr>\n",
       "  </thead>\n",
       "  <tbody>\n",
       "    <tr>\n",
       "      <th>2014-05-04</th>\n",
       "      <td>False</td>\n",
       "      <td>False</td>\n",
       "      <td>True</td>\n",
       "      <td>False</td>\n",
       "      <td>False</td>\n",
       "      <td>False</td>\n",
       "      <td>False</td>\n",
       "      <td>False</td>\n",
       "      <td>False</td>\n",
       "      <td>False</td>\n",
       "    </tr>\n",
       "  </tbody>\n",
       "</table>\n",
       "</div>"
      ],
      "text/plain": [
       "            temp_max_cels  temp_min_cels  precip_amount_mm  \\\n",
       "date                                                         \n",
       "2014-05-04          False          False              True   \n",
       "\n",
       "            solar_energy_w_h_per_m2  rel_humidity_max_%  rel_humidity_min_%  \\\n",
       "date                                                                          \n",
       "2014-05-04                    False               False               False   \n",
       "\n",
       "            wind_morning_max_m_per_sec  wind_day_max_m_per_sec  \\\n",
       "date                                                             \n",
       "2014-05-04                       False                   False   \n",
       "\n",
       "            wind_avg_m_per_sec  geometry  \n",
       "date                                      \n",
       "2014-05-04               False     False  "
      ]
     },
     "execution_count": 34,
     "metadata": {},
     "output_type": "execute_result"
    }
   ],
   "source": [
    "# Test to see if the data returned from the grids differ\n",
    "observed[0] == observed[1]"
   ]
  },
  {
   "cell_type": "code",
   "execution_count": 35,
   "metadata": {},
   "outputs": [
    {
     "data": {
      "text/html": [
       "<div>\n",
       "<style scoped>\n",
       "    .dataframe tbody tr th:only-of-type {\n",
       "        vertical-align: middle;\n",
       "    }\n",
       "\n",
       "    .dataframe tbody tr th {\n",
       "        vertical-align: top;\n",
       "    }\n",
       "\n",
       "    .dataframe thead th {\n",
       "        text-align: right;\n",
       "    }\n",
       "</style>\n",
       "<table border=\"1\" class=\"dataframe\">\n",
       "  <thead>\n",
       "    <tr style=\"text-align: right;\">\n",
       "      <th></th>\n",
       "      <th>temp_max_cels</th>\n",
       "      <th>temp_min_cels</th>\n",
       "      <th>precip_amount_mm</th>\n",
       "      <th>solar_energy_w_h_per_m2</th>\n",
       "      <th>rel_humidity_max_%</th>\n",
       "      <th>rel_humidity_min_%</th>\n",
       "      <th>wind_morning_max_m_per_sec</th>\n",
       "      <th>wind_day_max_m_per_sec</th>\n",
       "      <th>wind_avg_m_per_sec</th>\n",
       "      <th>geometry</th>\n",
       "    </tr>\n",
       "    <tr>\n",
       "      <th>date</th>\n",
       "      <th></th>\n",
       "      <th></th>\n",
       "      <th></th>\n",
       "      <th></th>\n",
       "      <th></th>\n",
       "      <th></th>\n",
       "      <th></th>\n",
       "      <th></th>\n",
       "      <th></th>\n",
       "      <th></th>\n",
       "    </tr>\n",
       "  </thead>\n",
       "  <tbody>\n",
       "    <tr>\n",
       "      <th>2014-05-04</th>\n",
       "      <td>False</td>\n",
       "      <td>False</td>\n",
       "      <td>True</td>\n",
       "      <td>False</td>\n",
       "      <td>False</td>\n",
       "      <td>False</td>\n",
       "      <td>False</td>\n",
       "      <td>False</td>\n",
       "      <td>False</td>\n",
       "      <td>False</td>\n",
       "    </tr>\n",
       "  </tbody>\n",
       "</table>\n",
       "</div>"
      ],
      "text/plain": [
       "            temp_max_cels  temp_min_cels  precip_amount_mm  \\\n",
       "date                                                         \n",
       "2014-05-04          False          False              True   \n",
       "\n",
       "            solar_energy_w_h_per_m2  rel_humidity_max_%  rel_humidity_min_%  \\\n",
       "date                                                                          \n",
       "2014-05-04                    False               False               False   \n",
       "\n",
       "            wind_morning_max_m_per_sec  wind_day_max_m_per_sec  \\\n",
       "date                                                             \n",
       "2014-05-04                       False                   False   \n",
       "\n",
       "            wind_avg_m_per_sec  geometry  \n",
       "date                                      \n",
       "2014-05-04               False     False  "
      ]
     },
     "execution_count": 35,
     "metadata": {},
     "output_type": "execute_result"
    }
   ],
   "source": [
    "observed[0] == observed[2]"
   ]
  },
  {
   "cell_type": "code",
   "execution_count": 36,
   "metadata": {},
   "outputs": [
    {
     "data": {
      "text/html": [
       "<div>\n",
       "<style scoped>\n",
       "    .dataframe tbody tr th:only-of-type {\n",
       "        vertical-align: middle;\n",
       "    }\n",
       "\n",
       "    .dataframe tbody tr th {\n",
       "        vertical-align: top;\n",
       "    }\n",
       "\n",
       "    .dataframe thead th {\n",
       "        text-align: right;\n",
       "    }\n",
       "</style>\n",
       "<table border=\"1\" class=\"dataframe\">\n",
       "  <thead>\n",
       "    <tr style=\"text-align: right;\">\n",
       "      <th></th>\n",
       "      <th>temp_max_cels</th>\n",
       "      <th>temp_min_cels</th>\n",
       "      <th>precip_amount_mm</th>\n",
       "      <th>solar_energy_w_h_per_m2</th>\n",
       "      <th>rel_humidity_max_%</th>\n",
       "      <th>rel_humidity_min_%</th>\n",
       "      <th>wind_morning_max_m_per_sec</th>\n",
       "      <th>wind_day_max_m_per_sec</th>\n",
       "      <th>wind_avg_m_per_sec</th>\n",
       "      <th>geometry</th>\n",
       "    </tr>\n",
       "    <tr>\n",
       "      <th>date</th>\n",
       "      <th></th>\n",
       "      <th></th>\n",
       "      <th></th>\n",
       "      <th></th>\n",
       "      <th></th>\n",
       "      <th></th>\n",
       "      <th></th>\n",
       "      <th></th>\n",
       "      <th></th>\n",
       "      <th></th>\n",
       "    </tr>\n",
       "  </thead>\n",
       "  <tbody>\n",
       "    <tr>\n",
       "      <th>2014-05-04</th>\n",
       "      <td>False</td>\n",
       "      <td>False</td>\n",
       "      <td>True</td>\n",
       "      <td>False</td>\n",
       "      <td>False</td>\n",
       "      <td>False</td>\n",
       "      <td>False</td>\n",
       "      <td>False</td>\n",
       "      <td>False</td>\n",
       "      <td>False</td>\n",
       "    </tr>\n",
       "  </tbody>\n",
       "</table>\n",
       "</div>"
      ],
      "text/plain": [
       "            temp_max_cels  temp_min_cels  precip_amount_mm  \\\n",
       "date                                                         \n",
       "2014-05-04          False          False              True   \n",
       "\n",
       "            solar_energy_w_h_per_m2  rel_humidity_max_%  rel_humidity_min_%  \\\n",
       "date                                                                          \n",
       "2014-05-04                    False               False               False   \n",
       "\n",
       "            wind_morning_max_m_per_sec  wind_day_max_m_per_sec  \\\n",
       "date                                                             \n",
       "2014-05-04                       False                   False   \n",
       "\n",
       "            wind_avg_m_per_sec  geometry  \n",
       "date                                      \n",
       "2014-05-04               False     False  "
      ]
     },
     "execution_count": 36,
     "metadata": {},
     "output_type": "execute_result"
    }
   ],
   "source": [
    "observed[0] == observed[3]"
   ]
  },
  {
   "cell_type": "code",
   "execution_count": 37,
   "metadata": {},
   "outputs": [
    {
     "data": {
      "text/html": [
       "<div>\n",
       "<style scoped>\n",
       "    .dataframe tbody tr th:only-of-type {\n",
       "        vertical-align: middle;\n",
       "    }\n",
       "\n",
       "    .dataframe tbody tr th {\n",
       "        vertical-align: top;\n",
       "    }\n",
       "\n",
       "    .dataframe thead th {\n",
       "        text-align: right;\n",
       "    }\n",
       "</style>\n",
       "<table border=\"1\" class=\"dataframe\">\n",
       "  <thead>\n",
       "    <tr style=\"text-align: right;\">\n",
       "      <th></th>\n",
       "      <th>temp_max_cels</th>\n",
       "      <th>temp_min_cels</th>\n",
       "      <th>precip_amount_mm</th>\n",
       "      <th>solar_energy_w_h_per_m2</th>\n",
       "      <th>rel_humidity_max_%</th>\n",
       "      <th>rel_humidity_min_%</th>\n",
       "      <th>wind_morning_max_m_per_sec</th>\n",
       "      <th>wind_day_max_m_per_sec</th>\n",
       "      <th>wind_avg_m_per_sec</th>\n",
       "      <th>geometry</th>\n",
       "    </tr>\n",
       "    <tr>\n",
       "      <th>date</th>\n",
       "      <th></th>\n",
       "      <th></th>\n",
       "      <th></th>\n",
       "      <th></th>\n",
       "      <th></th>\n",
       "      <th></th>\n",
       "      <th></th>\n",
       "      <th></th>\n",
       "      <th></th>\n",
       "      <th></th>\n",
       "    </tr>\n",
       "  </thead>\n",
       "  <tbody>\n",
       "    <tr>\n",
       "      <th>2014-05-04</th>\n",
       "      <td>False</td>\n",
       "      <td>False</td>\n",
       "      <td>True</td>\n",
       "      <td>False</td>\n",
       "      <td>False</td>\n",
       "      <td>False</td>\n",
       "      <td>False</td>\n",
       "      <td>False</td>\n",
       "      <td>False</td>\n",
       "      <td>False</td>\n",
       "    </tr>\n",
       "  </tbody>\n",
       "</table>\n",
       "</div>"
      ],
      "text/plain": [
       "            temp_max_cels  temp_min_cels  precip_amount_mm  \\\n",
       "date                                                         \n",
       "2014-05-04          False          False              True   \n",
       "\n",
       "            solar_energy_w_h_per_m2  rel_humidity_max_%  rel_humidity_min_%  \\\n",
       "date                                                                          \n",
       "2014-05-04                    False               False               False   \n",
       "\n",
       "            wind_morning_max_m_per_sec  wind_day_max_m_per_sec  \\\n",
       "date                                                             \n",
       "2014-05-04                       False                   False   \n",
       "\n",
       "            wind_avg_m_per_sec  geometry  \n",
       "date                                      \n",
       "2014-05-04               False     False  "
      ]
     },
     "execution_count": 37,
     "metadata": {},
     "output_type": "execute_result"
    }
   ],
   "source": [
    "observed[1] == observed[2]"
   ]
  },
  {
   "cell_type": "code",
   "execution_count": 38,
   "metadata": {},
   "outputs": [
    {
     "data": {
      "text/html": [
       "<div>\n",
       "<style scoped>\n",
       "    .dataframe tbody tr th:only-of-type {\n",
       "        vertical-align: middle;\n",
       "    }\n",
       "\n",
       "    .dataframe tbody tr th {\n",
       "        vertical-align: top;\n",
       "    }\n",
       "\n",
       "    .dataframe thead th {\n",
       "        text-align: right;\n",
       "    }\n",
       "</style>\n",
       "<table border=\"1\" class=\"dataframe\">\n",
       "  <thead>\n",
       "    <tr style=\"text-align: right;\">\n",
       "      <th></th>\n",
       "      <th>temp_max_cels</th>\n",
       "      <th>temp_min_cels</th>\n",
       "      <th>precip_amount_mm</th>\n",
       "      <th>solar_energy_w_h_per_m2</th>\n",
       "      <th>rel_humidity_max_%</th>\n",
       "      <th>rel_humidity_min_%</th>\n",
       "      <th>wind_morning_max_m_per_sec</th>\n",
       "      <th>wind_day_max_m_per_sec</th>\n",
       "      <th>wind_avg_m_per_sec</th>\n",
       "      <th>geometry</th>\n",
       "    </tr>\n",
       "    <tr>\n",
       "      <th>date</th>\n",
       "      <th></th>\n",
       "      <th></th>\n",
       "      <th></th>\n",
       "      <th></th>\n",
       "      <th></th>\n",
       "      <th></th>\n",
       "      <th></th>\n",
       "      <th></th>\n",
       "      <th></th>\n",
       "      <th></th>\n",
       "    </tr>\n",
       "  </thead>\n",
       "  <tbody>\n",
       "    <tr>\n",
       "      <th>2014-05-04</th>\n",
       "      <td>False</td>\n",
       "      <td>False</td>\n",
       "      <td>True</td>\n",
       "      <td>False</td>\n",
       "      <td>False</td>\n",
       "      <td>False</td>\n",
       "      <td>False</td>\n",
       "      <td>False</td>\n",
       "      <td>False</td>\n",
       "      <td>False</td>\n",
       "    </tr>\n",
       "  </tbody>\n",
       "</table>\n",
       "</div>"
      ],
      "text/plain": [
       "            temp_max_cels  temp_min_cels  precip_amount_mm  \\\n",
       "date                                                         \n",
       "2014-05-04          False          False              True   \n",
       "\n",
       "            solar_energy_w_h_per_m2  rel_humidity_max_%  rel_humidity_min_%  \\\n",
       "date                                                                          \n",
       "2014-05-04                    False               False               False   \n",
       "\n",
       "            wind_morning_max_m_per_sec  wind_day_max_m_per_sec  \\\n",
       "date                                                             \n",
       "2014-05-04                       False                   False   \n",
       "\n",
       "            wind_avg_m_per_sec  geometry  \n",
       "date                                      \n",
       "2014-05-04               False     False  "
      ]
     },
     "execution_count": 38,
     "metadata": {},
     "output_type": "execute_result"
    }
   ],
   "source": [
    "observed[1] == observed[3]"
   ]
  },
  {
   "cell_type": "code",
   "execution_count": 39,
   "metadata": {},
   "outputs": [
    {
     "data": {
      "text/html": [
       "<div>\n",
       "<style scoped>\n",
       "    .dataframe tbody tr th:only-of-type {\n",
       "        vertical-align: middle;\n",
       "    }\n",
       "\n",
       "    .dataframe tbody tr th {\n",
       "        vertical-align: top;\n",
       "    }\n",
       "\n",
       "    .dataframe thead th {\n",
       "        text-align: right;\n",
       "    }\n",
       "</style>\n",
       "<table border=\"1\" class=\"dataframe\">\n",
       "  <thead>\n",
       "    <tr style=\"text-align: right;\">\n",
       "      <th></th>\n",
       "      <th>temp_max_cels</th>\n",
       "      <th>temp_min_cels</th>\n",
       "      <th>precip_amount_mm</th>\n",
       "      <th>solar_energy_w_h_per_m2</th>\n",
       "      <th>rel_humidity_max_%</th>\n",
       "      <th>rel_humidity_min_%</th>\n",
       "      <th>wind_morning_max_m_per_sec</th>\n",
       "      <th>wind_day_max_m_per_sec</th>\n",
       "      <th>wind_avg_m_per_sec</th>\n",
       "      <th>geometry</th>\n",
       "    </tr>\n",
       "    <tr>\n",
       "      <th>date</th>\n",
       "      <th></th>\n",
       "      <th></th>\n",
       "      <th></th>\n",
       "      <th></th>\n",
       "      <th></th>\n",
       "      <th></th>\n",
       "      <th></th>\n",
       "      <th></th>\n",
       "      <th></th>\n",
       "      <th></th>\n",
       "    </tr>\n",
       "  </thead>\n",
       "  <tbody>\n",
       "    <tr>\n",
       "      <th>2014-05-04</th>\n",
       "      <td>True</td>\n",
       "      <td>False</td>\n",
       "      <td>True</td>\n",
       "      <td>False</td>\n",
       "      <td>False</td>\n",
       "      <td>False</td>\n",
       "      <td>False</td>\n",
       "      <td>False</td>\n",
       "      <td>False</td>\n",
       "      <td>False</td>\n",
       "    </tr>\n",
       "  </tbody>\n",
       "</table>\n",
       "</div>"
      ],
      "text/plain": [
       "            temp_max_cels  temp_min_cels  precip_amount_mm  \\\n",
       "date                                                         \n",
       "2014-05-04           True          False              True   \n",
       "\n",
       "            solar_energy_w_h_per_m2  rel_humidity_max_%  rel_humidity_min_%  \\\n",
       "date                                                                          \n",
       "2014-05-04                    False               False               False   \n",
       "\n",
       "            wind_morning_max_m_per_sec  wind_day_max_m_per_sec  \\\n",
       "date                                                             \n",
       "2014-05-04                       False                   False   \n",
       "\n",
       "            wind_avg_m_per_sec  geometry  \n",
       "date                                      \n",
       "2014-05-04               False     False  "
      ]
     },
     "execution_count": 39,
     "metadata": {},
     "output_type": "execute_result"
    }
   ],
   "source": [
    "observed[2] == observed[3]"
   ]
  },
  {
   "cell_type": "code",
   "execution_count": 40,
   "metadata": {},
   "outputs": [
    {
     "data": {
      "text/html": [
       "<div>\n",
       "<style scoped>\n",
       "    .dataframe tbody tr th:only-of-type {\n",
       "        vertical-align: middle;\n",
       "    }\n",
       "\n",
       "    .dataframe tbody tr th {\n",
       "        vertical-align: top;\n",
       "    }\n",
       "\n",
       "    .dataframe thead th {\n",
       "        text-align: right;\n",
       "    }\n",
       "</style>\n",
       "<table border=\"1\" class=\"dataframe\">\n",
       "  <thead>\n",
       "    <tr style=\"text-align: right;\">\n",
       "      <th></th>\n",
       "      <th>temp_max_cels</th>\n",
       "      <th>temp_min_cels</th>\n",
       "      <th>precip_amount_mm</th>\n",
       "      <th>solar_energy_w_h_per_m2</th>\n",
       "      <th>rel_humidity_max_%</th>\n",
       "      <th>rel_humidity_min_%</th>\n",
       "      <th>wind_morning_max_m_per_sec</th>\n",
       "      <th>wind_day_max_m_per_sec</th>\n",
       "      <th>wind_avg_m_per_sec</th>\n",
       "      <th>geometry</th>\n",
       "    </tr>\n",
       "    <tr>\n",
       "      <th>date</th>\n",
       "      <th></th>\n",
       "      <th></th>\n",
       "      <th></th>\n",
       "      <th></th>\n",
       "      <th></th>\n",
       "      <th></th>\n",
       "      <th></th>\n",
       "      <th></th>\n",
       "      <th></th>\n",
       "      <th></th>\n",
       "    </tr>\n",
       "  </thead>\n",
       "  <tbody>\n",
       "    <tr>\n",
       "      <th>2014-05-04</th>\n",
       "      <td>25.799999</td>\n",
       "      <td>12.83</td>\n",
       "      <td>0.0</td>\n",
       "      <td>6592.237305</td>\n",
       "      <td>89.169998</td>\n",
       "      <td>44.560001</td>\n",
       "      <td>4.252426</td>\n",
       "      <td>4.595695</td>\n",
       "      <td>1.993019</td>\n",
       "      <td>POINT (-117.19247 32.97937)</td>\n",
       "    </tr>\n",
       "  </tbody>\n",
       "</table>\n",
       "</div>"
      ],
      "text/plain": [
       "            temp_max_cels  temp_min_cels  precip_amount_mm  \\\n",
       "date                                                         \n",
       "2014-05-04      25.799999          12.83               0.0   \n",
       "\n",
       "            solar_energy_w_h_per_m2  rel_humidity_max_%  rel_humidity_min_%  \\\n",
       "date                                                                          \n",
       "2014-05-04              6592.237305           89.169998           44.560001   \n",
       "\n",
       "            wind_morning_max_m_per_sec  wind_day_max_m_per_sec  \\\n",
       "date                                                             \n",
       "2014-05-04                    4.252426                4.595695   \n",
       "\n",
       "            wind_avg_m_per_sec                     geometry  \n",
       "date                                                         \n",
       "2014-05-04            1.993019  POINT (-117.19247 32.97937)  "
      ]
     },
     "execution_count": 40,
     "metadata": {},
     "output_type": "execute_result"
    }
   ],
   "source": [
    "observed[0]"
   ]
  },
  {
   "cell_type": "code",
   "execution_count": 41,
   "metadata": {},
   "outputs": [
    {
     "data": {
      "text/html": [
       "<div>\n",
       "<style scoped>\n",
       "    .dataframe tbody tr th:only-of-type {\n",
       "        vertical-align: middle;\n",
       "    }\n",
       "\n",
       "    .dataframe tbody tr th {\n",
       "        vertical-align: top;\n",
       "    }\n",
       "\n",
       "    .dataframe thead th {\n",
       "        text-align: right;\n",
       "    }\n",
       "</style>\n",
       "<table border=\"1\" class=\"dataframe\">\n",
       "  <thead>\n",
       "    <tr style=\"text-align: right;\">\n",
       "      <th></th>\n",
       "      <th>temp_max_cels</th>\n",
       "      <th>temp_min_cels</th>\n",
       "      <th>precip_amount_mm</th>\n",
       "      <th>solar_energy_w_h_per_m2</th>\n",
       "      <th>rel_humidity_max_%</th>\n",
       "      <th>rel_humidity_min_%</th>\n",
       "      <th>wind_morning_max_m_per_sec</th>\n",
       "      <th>wind_day_max_m_per_sec</th>\n",
       "      <th>wind_avg_m_per_sec</th>\n",
       "      <th>geometry</th>\n",
       "    </tr>\n",
       "    <tr>\n",
       "      <th>date</th>\n",
       "      <th></th>\n",
       "      <th></th>\n",
       "      <th></th>\n",
       "      <th></th>\n",
       "      <th></th>\n",
       "      <th></th>\n",
       "      <th></th>\n",
       "      <th></th>\n",
       "      <th></th>\n",
       "      <th></th>\n",
       "    </tr>\n",
       "  </thead>\n",
       "  <tbody>\n",
       "    <tr>\n",
       "      <th>2014-05-04</th>\n",
       "      <td>26.34</td>\n",
       "      <td>12.71</td>\n",
       "      <td>0.0</td>\n",
       "      <td>7329.589355</td>\n",
       "      <td>87.290001</td>\n",
       "      <td>41.389999</td>\n",
       "      <td>4.335209</td>\n",
       "      <td>4.547104</td>\n",
       "      <td>2.05549</td>\n",
       "      <td>POINT (-117.19247 33.05937)</td>\n",
       "    </tr>\n",
       "  </tbody>\n",
       "</table>\n",
       "</div>"
      ],
      "text/plain": [
       "            temp_max_cels  temp_min_cels  precip_amount_mm  \\\n",
       "date                                                         \n",
       "2014-05-04          26.34          12.71               0.0   \n",
       "\n",
       "            solar_energy_w_h_per_m2  rel_humidity_max_%  rel_humidity_min_%  \\\n",
       "date                                                                          \n",
       "2014-05-04              7329.589355           87.290001           41.389999   \n",
       "\n",
       "            wind_morning_max_m_per_sec  wind_day_max_m_per_sec  \\\n",
       "date                                                             \n",
       "2014-05-04                    4.335209                4.547104   \n",
       "\n",
       "            wind_avg_m_per_sec                     geometry  \n",
       "date                                                         \n",
       "2014-05-04             2.05549  POINT (-117.19247 33.05937)  "
      ]
     },
     "execution_count": 41,
     "metadata": {},
     "output_type": "execute_result"
    }
   ],
   "source": [
    "observed[1]"
   ]
  },
  {
   "cell_type": "code",
   "execution_count": 42,
   "metadata": {
    "scrolled": true
   },
   "outputs": [
    {
     "data": {
      "text/html": [
       "<div>\n",
       "<style scoped>\n",
       "    .dataframe tbody tr th:only-of-type {\n",
       "        vertical-align: middle;\n",
       "    }\n",
       "\n",
       "    .dataframe tbody tr th {\n",
       "        vertical-align: top;\n",
       "    }\n",
       "\n",
       "    .dataframe thead th {\n",
       "        text-align: right;\n",
       "    }\n",
       "</style>\n",
       "<table border=\"1\" class=\"dataframe\">\n",
       "  <thead>\n",
       "    <tr style=\"text-align: right;\">\n",
       "      <th></th>\n",
       "      <th>temp_max_cels</th>\n",
       "      <th>temp_min_cels</th>\n",
       "      <th>precip_amount_mm</th>\n",
       "      <th>solar_energy_w_h_per_m2</th>\n",
       "      <th>rel_humidity_max_%</th>\n",
       "      <th>rel_humidity_min_%</th>\n",
       "      <th>wind_morning_max_m_per_sec</th>\n",
       "      <th>wind_day_max_m_per_sec</th>\n",
       "      <th>wind_avg_m_per_sec</th>\n",
       "      <th>geometry</th>\n",
       "    </tr>\n",
       "    <tr>\n",
       "      <th>date</th>\n",
       "      <th></th>\n",
       "      <th></th>\n",
       "      <th></th>\n",
       "      <th></th>\n",
       "      <th></th>\n",
       "      <th></th>\n",
       "      <th></th>\n",
       "      <th></th>\n",
       "      <th></th>\n",
       "      <th></th>\n",
       "    </tr>\n",
       "  </thead>\n",
       "  <tbody>\n",
       "    <tr>\n",
       "      <th>2014-05-04</th>\n",
       "      <td>25.83</td>\n",
       "      <td>12.31</td>\n",
       "      <td>0.0</td>\n",
       "      <td>6531.062012</td>\n",
       "      <td>86.639999</td>\n",
       "      <td>43.110001</td>\n",
       "      <td>4.288249</td>\n",
       "      <td>4.64844</td>\n",
       "      <td>1.997092</td>\n",
       "      <td>POINT (-117.11247 32.97937)</td>\n",
       "    </tr>\n",
       "  </tbody>\n",
       "</table>\n",
       "</div>"
      ],
      "text/plain": [
       "            temp_max_cels  temp_min_cels  precip_amount_mm  \\\n",
       "date                                                         \n",
       "2014-05-04          25.83          12.31               0.0   \n",
       "\n",
       "            solar_energy_w_h_per_m2  rel_humidity_max_%  rel_humidity_min_%  \\\n",
       "date                                                                          \n",
       "2014-05-04              6531.062012           86.639999           43.110001   \n",
       "\n",
       "            wind_morning_max_m_per_sec  wind_day_max_m_per_sec  \\\n",
       "date                                                             \n",
       "2014-05-04                    4.288249                 4.64844   \n",
       "\n",
       "            wind_avg_m_per_sec                     geometry  \n",
       "date                                                         \n",
       "2014-05-04            1.997092  POINT (-117.11247 32.97937)  "
      ]
     },
     "execution_count": 42,
     "metadata": {},
     "output_type": "execute_result"
    }
   ],
   "source": [
    "observed[2]"
   ]
  },
  {
   "cell_type": "code",
   "execution_count": 43,
   "metadata": {},
   "outputs": [
    {
     "data": {
      "text/html": [
       "<div>\n",
       "<style scoped>\n",
       "    .dataframe tbody tr th:only-of-type {\n",
       "        vertical-align: middle;\n",
       "    }\n",
       "\n",
       "    .dataframe tbody tr th {\n",
       "        vertical-align: top;\n",
       "    }\n",
       "\n",
       "    .dataframe thead th {\n",
       "        text-align: right;\n",
       "    }\n",
       "</style>\n",
       "<table border=\"1\" class=\"dataframe\">\n",
       "  <thead>\n",
       "    <tr style=\"text-align: right;\">\n",
       "      <th></th>\n",
       "      <th>temp_max_cels</th>\n",
       "      <th>temp_min_cels</th>\n",
       "      <th>precip_amount_mm</th>\n",
       "      <th>solar_energy_w_h_per_m2</th>\n",
       "      <th>rel_humidity_max_%</th>\n",
       "      <th>rel_humidity_min_%</th>\n",
       "      <th>wind_morning_max_m_per_sec</th>\n",
       "      <th>wind_day_max_m_per_sec</th>\n",
       "      <th>wind_avg_m_per_sec</th>\n",
       "      <th>geometry</th>\n",
       "    </tr>\n",
       "    <tr>\n",
       "      <th>date</th>\n",
       "      <th></th>\n",
       "      <th></th>\n",
       "      <th></th>\n",
       "      <th></th>\n",
       "      <th></th>\n",
       "      <th></th>\n",
       "      <th></th>\n",
       "      <th></th>\n",
       "      <th></th>\n",
       "      <th></th>\n",
       "    </tr>\n",
       "  </thead>\n",
       "  <tbody>\n",
       "    <tr>\n",
       "      <th>2014-05-04</th>\n",
       "      <td>25.83</td>\n",
       "      <td>11.78</td>\n",
       "      <td>0.0</td>\n",
       "      <td>7229.025391</td>\n",
       "      <td>84.610001</td>\n",
       "      <td>40.299999</td>\n",
       "      <td>4.504773</td>\n",
       "      <td>4.763528</td>\n",
       "      <td>2.034595</td>\n",
       "      <td>POINT (-117.11247 33.05937)</td>\n",
       "    </tr>\n",
       "  </tbody>\n",
       "</table>\n",
       "</div>"
      ],
      "text/plain": [
       "            temp_max_cels  temp_min_cels  precip_amount_mm  \\\n",
       "date                                                         \n",
       "2014-05-04          25.83          11.78               0.0   \n",
       "\n",
       "            solar_energy_w_h_per_m2  rel_humidity_max_%  rel_humidity_min_%  \\\n",
       "date                                                                          \n",
       "2014-05-04              7229.025391           84.610001           40.299999   \n",
       "\n",
       "            wind_morning_max_m_per_sec  wind_day_max_m_per_sec  \\\n",
       "date                                                             \n",
       "2014-05-04                    4.504773                4.763528   \n",
       "\n",
       "            wind_avg_m_per_sec                     geometry  \n",
       "date                                                         \n",
       "2014-05-04            2.034595  POINT (-117.11247 33.05937)  "
      ]
     },
     "execution_count": 43,
     "metadata": {},
     "output_type": "execute_result"
    }
   ],
   "source": [
    "observed[3]"
   ]
  },
  {
   "cell_type": "markdown",
   "metadata": {},
   "source": [
    "https://github.com/aWhereAPI/aWhere-R-Library/blob/master/R/grid-functions.R\n",
    "\n",
    "Is there a universal grid_id? How is that defined? May have to change the *create_awhere_grid()* function to fit with that? Or define a Python version of the grid?\n",
    "\n",
    "Universal grid? Does it use UTM? Where does max lon (2160) and lat (1080) come from?"
   ]
  },
  {
   "cell_type": "markdown",
   "metadata": {},
   "source": [
    "To do:\n",
    "* Implement parameters/input checks (lat/lon in the correct range, date with correct format, valid api secret and key)\n",
    "* Add in optional parameters\n",
    "* Write up about tests within Jupyter Notebook (explanations to complement code)\n",
    "* Thorough DOCSTRINGS for all functions, to include description, parameters, returns, and examples\n",
    "* Clean up code in *awhere_classes.py*\n",
    "* Better the structure for plantings, crops, models (better names for functions and/or inherited functions?)\n",
    "* Function to load credentials (through different means, OS/Environment variable, from text file, from user account login somehow?)\n",
    "    * https://github.com/aWhereAPI/aWhere-R-Library/blob/master/R/get-token.R\n",
    "* Need to incorporate leap year?\n",
    "    * https://github.com/aWhereAPI/aWhere-R-Library/blob/master/R/utility.R\n",
    "* Add check within the *create_awhere_grid()* that ensures more than one grid cell? Or does buffer take care of this?\n",
    "    * DOES THIS (LAT/LON) NEED ANY PADDING? np.floor, np.ceil?\n",
    "    * OR DOES DUFFER DISTANCE HANDLE THIS?\n",
    "    * https://github.com/aWhereAPI/aWhere-R-Library/blob/master/R/verify-api-calls.R\n",
    "* Create full documentation\n",
    "    * https://github.com/aWhereAPI/aWhere-R-Library/blob/master/documentation/complete-documentation.md\n",
    "* Use case examples (notebook)\n",
    "* Write explicit tests for functions/methods (jupyter notebook and .py)\n",
    "* Convert everything to both .ipynb and .py?\n",
    "* Plot/visualize data\n",
    "* Export data to other formats (CSV, for better storage and retrieveal of large datasets?)\n",
    "* Implement batch processing\n",
    "* Implement kwargs structure for all functions/methods"
   ]
  },
  {
   "cell_type": "code",
   "execution_count": null,
   "metadata": {},
   "outputs": [],
   "source": []
  }
 ],
 "metadata": {
  "kernelspec": {
   "display_name": "Python 3",
   "language": "python",
   "name": "python3"
  },
  "language_info": {
   "codemirror_mode": {
    "name": "ipython",
    "version": 3
   },
   "file_extension": ".py",
   "mimetype": "text/x-python",
   "name": "python",
   "nbconvert_exporter": "python",
   "pygments_lexer": "ipython3",
   "version": "3.7.6"
  },
  "toc": {
   "base_numbering": 1,
   "nav_menu": {},
   "number_sections": true,
   "sideBar": true,
   "skip_h1_title": false,
   "title_cell": "Table of Contents",
   "title_sidebar": "Contents",
   "toc_cell": false,
   "toc_position": {},
   "toc_section_display": true,
   "toc_window_display": false
  }
 },
 "nbformat": 4,
 "nbformat_minor": 4
}
