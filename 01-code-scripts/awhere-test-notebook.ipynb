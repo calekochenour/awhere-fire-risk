{
 "cells": [
  {
   "cell_type": "code",
   "execution_count": 1,
   "metadata": {},
   "outputs": [],
   "source": [
    "# Imports\n",
    "import os\n",
    "import pandas as pd\n",
    "from pandas.io.json import json_normalize\n",
    "import geopandas as gpd\n",
    "#from awhere import AWhereAPI\n",
    "from awhere_geolocation import AWhereAPI\n",
    "# import extract_data\n",
    "import extract_data_geolocation\n",
    "# import clean_data\n",
    "import clean_data_geolocation\n",
    "\n",
    "# Define aWhere API key and secret\n",
    "api_key = os.environ.get('AWHERE_API_KEY')\n",
    "api_secret = os.environ.get('AWHERE_API_SECRET')"
   ]
  },
  {
   "cell_type": "code",
   "execution_count": 2,
   "metadata": {},
   "outputs": [],
   "source": [
    "# Create AWhereAPI object\n",
    "aWhere = AWhereAPI(api_key, api_secret)"
   ]
  },
  {
   "cell_type": "code",
   "execution_count": 3,
   "metadata": {},
   "outputs": [
    {
     "name": "stdout",
     "output_type": "stream",
     "text": [
      "You have 7 fields registered on your account\n",
      "#  Field Name \t\t Field ID\n",
      "-------------------------------------------\n",
      "1. Manchester-VT \t Manchester-VT\r\n",
      "2. RMNP \t Colorado-Test-1\r\n",
      "3. RMNP \t Colorado-Test-2\r\n",
      "4. RMNP \t Colorado-Test-4\r\n",
      "5. RMNP \t Colorado-Test-5\r\n",
      "6. RMNP \t RMNP-Test-Acre-1\r\n",
      "7. RMNP \t RMNP-Test-Acre-10000\r\n"
     ]
    }
   ],
   "source": [
    "# Return all fields\n",
    "aWhere.get_fields()"
   ]
  },
  {
   "cell_type": "code",
   "execution_count": null,
   "metadata": {},
   "outputs": [],
   "source": [
    "#latitude=40.313250, longitude=-105.648222"
   ]
  },
  {
   "cell_type": "code",
   "execution_count": 6,
   "metadata": {},
   "outputs": [
    {
     "name": "stdout",
     "output_type": "stream",
     "text": [
      "Attempting to create new field....\n",
      "\n",
      "Your field CO-RMNP-Bear-Lake was successfully created!\n"
     ]
    }
   ],
   "source": [
    "aWhere.create_field(field_id='CO-RMNP-Bear-Lake', field_name='Bear Lake',\n",
    "                    center_latitude=40.313250, center_longitude=-105.648222, acres=1, farm_id='Bear-Lake')"
   ]
  },
  {
   "cell_type": "markdown",
   "metadata": {},
   "source": [
    "# Time Test with Geolocation"
   ]
  },
  {
   "cell_type": "code",
   "execution_count": 22,
   "metadata": {},
   "outputs": [
    {
     "name": "stdout",
     "output_type": "stream",
     "text": [
      "Comlpeted iteration with offset=0\n",
      "Comlpeted iteration with offset=10\n",
      "Comlpeted iteration with offset=20\n",
      "Comlpeted iteration with offset=30\n",
      "Comlpeted iteration with offset=40\n",
      "Comlpeted iteration with offset=50\n",
      "Comlpeted iteration with offset=60\n",
      "Comlpeted iteration with offset=70\n",
      "Comlpeted iteration with offset=80\n",
      "Comlpeted iteration with offset=90\n",
      "Comlpeted iteration with offset=100\n",
      "Comlpeted iteration with offset=110\n",
      "Comlpeted iteration with offset=120\n",
      "Comlpeted iteration with offset=130\n",
      "Comlpeted iteration with offset=140\n",
      "Comlpeted iteration with offset=150\n",
      "Comlpeted iteration with offset=160\n",
      "Comlpeted iteration with offset=170\n",
      "Comlpeted iteration with offset=180\n",
      "Comlpeted iteration with offset=190\n",
      "Comlpeted iteration with offset=200\n",
      "Comlpeted iteration with offset=210\n",
      "Comlpeted iteration with offset=220\n",
      "Comlpeted iteration with offset=230\n",
      "Comlpeted iteration with offset=240\n",
      "Comlpeted iteration with offset=250\n",
      "Comlpeted iteration with offset=260\n",
      "Comlpeted iteration with offset=270\n",
      "Comlpeted iteration with offset=280\n",
      "Comlpeted iteration with offset=290\n",
      "Comlpeted iteration with offset=300\n",
      "Comlpeted iteration with offset=310\n",
      "Comlpeted iteration with offset=320\n",
      "Comlpeted iteration with offset=330\n",
      "Comlpeted iteration with offset=340\n",
      "Comlpeted iteration with offset=350\n",
      "Comlpeted iteration with offset=360\n",
      "--- 253.1448872089386 seconds ---\n"
     ]
    }
   ],
   "source": [
    "# import time\n",
    "\n",
    "# # Define start time\n",
    "# start_time = time.time()\n",
    "\n",
    "# # Historic norms loop to get all norms info for a full year\n",
    "# date_offset = 0\n",
    "# df_list = []\n",
    "# #field_id = 'Colorado-Test-5'\n",
    "\n",
    "# # Is there a way to parallelize this while also keeping index order?\n",
    "# #  Or can we paralellize it then sort afterward?\n",
    "# # Takes 4 minutes go through all offset for a full year. That seems to slow.\n",
    "# while date_offset < 365:\n",
    "#     #print(f\"Started iteration with offset={date_offset}\")\n",
    "#     norms = aWhere.get_weather_norms(\n",
    "#         latitude=40, longitude=-105, start_day='01-01', end_day='12-31', offset=date_offset)\n",
    "#     norms_df = json_normalize(norms.get('norms'))\n",
    "#     df_list.append(norms_df)\n",
    "#     print(f\"Comlpeted iteration with offset={date_offset}\")\n",
    "#     date_offset += 10\n",
    "\n",
    "# print(f\"--- {time.time() - start_time} seconds ---\")"
   ]
  },
  {
   "cell_type": "markdown",
   "metadata": {},
   "source": [
    "# Geolocation Test"
   ]
  },
  {
   "cell_type": "code",
   "execution_count": null,
   "metadata": {},
   "outputs": [],
   "source": [
    "geo = aWhere.get_weather_forecast(40, -105)"
   ]
  },
  {
   "cell_type": "code",
   "execution_count": null,
   "metadata": {},
   "outputs": [],
   "source": [
    "geo_extracted_df = extract_data.extract_forecast_main_data(geo)"
   ]
  },
  {
   "cell_type": "code",
   "execution_count": null,
   "metadata": {},
   "outputs": [],
   "source": [
    "geo_cleaned_gdf = clean_data.clean_dataframe(\n",
    "    geo_extracted, clean_data.forecast_lon_lat_cols, \n",
    "    clean_data.forecast_main_drop_cols, clean_data.forecast_main_mapping)"
   ]
  },
  {
   "cell_type": "code",
   "execution_count": null,
   "metadata": {},
   "outputs": [],
   "source": [
    "geo_cleaned_gdf"
   ]
  },
  {
   "cell_type": "code",
   "execution_count": null,
   "metadata": {},
   "outputs": [],
   "source": []
  },
  {
   "cell_type": "code",
   "execution_count": 7,
   "metadata": {},
   "outputs": [],
   "source": [
    "geo = aWhere.get_weather_forecast(40, -105)"
   ]
  },
  {
   "cell_type": "code",
   "execution_count": 10,
   "metadata": {},
   "outputs": [],
   "source": [
    "geo_extracted_df = extract_data_geolocation.extract_forecast_soil_temp(geo)"
   ]
  },
  {
   "cell_type": "code",
   "execution_count": 11,
   "metadata": {},
   "outputs": [],
   "source": [
    "geo_cleaned_gdf = clean_data_geolocation.clean_dataframe(\n",
    "    geo_extracted_df, clean_data_geolocation.forecast_soil_temp_lon_lat_cols, \n",
    "    clean_data_geolocation.forecast_soil_temp_drop_cols, clean_data_geolocation.forecast_soil_temp_mapping)"
   ]
  },
  {
   "cell_type": "code",
   "execution_count": 12,
   "metadata": {},
   "outputs": [
    {
     "data": {
      "text/html": [
       "<div>\n",
       "<style scoped>\n",
       "    .dataframe tbody tr th:only-of-type {\n",
       "        vertical-align: middle;\n",
       "    }\n",
       "\n",
       "    .dataframe tbody tr th {\n",
       "        vertical-align: top;\n",
       "    }\n",
       "\n",
       "    .dataframe thead th {\n",
       "        text-align: right;\n",
       "    }\n",
       "</style>\n",
       "<table border=\"1\" class=\"dataframe\">\n",
       "  <thead>\n",
       "    <tr style=\"text-align: right;\">\n",
       "      <th></th>\n",
       "      <th></th>\n",
       "      <th>soil_temp_avg_cels</th>\n",
       "      <th>soil_temp_max_cels</th>\n",
       "      <th>soil_temp_min_cels</th>\n",
       "      <th>geometry</th>\n",
       "    </tr>\n",
       "    <tr>\n",
       "      <th>date</th>\n",
       "      <th>ground_depth_m</th>\n",
       "      <th></th>\n",
       "      <th></th>\n",
       "      <th></th>\n",
       "      <th></th>\n",
       "    </tr>\n",
       "  </thead>\n",
       "  <tbody>\n",
       "    <tr>\n",
       "      <th rowspan=\"4\" valign=\"top\">2020-04-09</th>\n",
       "      <th>0-0.1</th>\n",
       "      <td>12.672285</td>\n",
       "      <td>18.441048</td>\n",
       "      <td>10.179395</td>\n",
       "      <td>POINT (-105.00000 40.00000)</td>\n",
       "    </tr>\n",
       "    <tr>\n",
       "      <th>0.1-0.4</th>\n",
       "      <td>9.864608</td>\n",
       "      <td>9.950918</td>\n",
       "      <td>9.781068</td>\n",
       "      <td>POINT (-105.00000 40.00000)</td>\n",
       "    </tr>\n",
       "    <tr>\n",
       "      <th>0.4-1</th>\n",
       "      <td>7.591384</td>\n",
       "      <td>7.712949</td>\n",
       "      <td>7.455697</td>\n",
       "      <td>POINT (-105.00000 40.00000)</td>\n",
       "    </tr>\n",
       "    <tr>\n",
       "      <th>1-2</th>\n",
       "      <td>7.573120</td>\n",
       "      <td>7.581778</td>\n",
       "      <td>7.570000</td>\n",
       "      <td>POINT (-105.00000 40.00000)</td>\n",
       "    </tr>\n",
       "    <tr>\n",
       "      <th rowspan=\"4\" valign=\"top\">2020-04-10</th>\n",
       "      <th>0-0.1</th>\n",
       "      <td>9.917489</td>\n",
       "      <td>17.150000</td>\n",
       "      <td>5.778100</td>\n",
       "      <td>POINT (-105.00000 40.00000)</td>\n",
       "    </tr>\n",
       "    <tr>\n",
       "      <th>0.1-0.4</th>\n",
       "      <td>9.527295</td>\n",
       "      <td>9.780781</td>\n",
       "      <td>9.310508</td>\n",
       "      <td>POINT (-105.00000 40.00000)</td>\n",
       "    </tr>\n",
       "    <tr>\n",
       "      <th>0.4-1</th>\n",
       "      <td>7.821062</td>\n",
       "      <td>7.902969</td>\n",
       "      <td>7.722949</td>\n",
       "      <td>POINT (-105.00000 40.00000)</td>\n",
       "    </tr>\n",
       "    <tr>\n",
       "      <th>1-2</th>\n",
       "      <td>7.592109</td>\n",
       "      <td>7.601758</td>\n",
       "      <td>7.580000</td>\n",
       "      <td>POINT (-105.00000 40.00000)</td>\n",
       "    </tr>\n",
       "    <tr>\n",
       "      <th rowspan=\"4\" valign=\"top\">2020-04-11</th>\n",
       "      <th>0-0.1</th>\n",
       "      <td>12.384362</td>\n",
       "      <td>16.485775</td>\n",
       "      <td>8.450000</td>\n",
       "      <td>POINT (-105.00000 40.00000)</td>\n",
       "    </tr>\n",
       "    <tr>\n",
       "      <th>0.1-0.4</th>\n",
       "      <td>9.660434</td>\n",
       "      <td>9.770000</td>\n",
       "      <td>9.569981</td>\n",
       "      <td>POINT (-105.00000 40.00000)</td>\n",
       "    </tr>\n",
       "    <tr>\n",
       "      <th>0.4-1</th>\n",
       "      <td>8.001279</td>\n",
       "      <td>8.082344</td>\n",
       "      <td>7.912767</td>\n",
       "      <td>POINT (-105.00000 40.00000)</td>\n",
       "    </tr>\n",
       "    <tr>\n",
       "      <th>1-2</th>\n",
       "      <td>7.612026</td>\n",
       "      <td>7.621758</td>\n",
       "      <td>7.601758</td>\n",
       "      <td>POINT (-105.00000 40.00000)</td>\n",
       "    </tr>\n",
       "    <tr>\n",
       "      <th rowspan=\"4\" valign=\"top\">2020-04-12</th>\n",
       "      <th>0-0.1</th>\n",
       "      <td>9.238934</td>\n",
       "      <td>14.914160</td>\n",
       "      <td>5.609766</td>\n",
       "      <td>POINT (-105.00000 40.00000)</td>\n",
       "    </tr>\n",
       "    <tr>\n",
       "      <th>0.1-0.4</th>\n",
       "      <td>9.649311</td>\n",
       "      <td>9.850000</td>\n",
       "      <td>9.340390</td>\n",
       "      <td>POINT (-105.00000 40.00000)</td>\n",
       "    </tr>\n",
       "    <tr>\n",
       "      <th>0.4-1</th>\n",
       "      <td>8.173652</td>\n",
       "      <td>8.232949</td>\n",
       "      <td>8.092343</td>\n",
       "      <td>POINT (-105.00000 40.00000)</td>\n",
       "    </tr>\n",
       "    <tr>\n",
       "      <th>1-2</th>\n",
       "      <td>7.635649</td>\n",
       "      <td>7.651758</td>\n",
       "      <td>7.619980</td>\n",
       "      <td>POINT (-105.00000 40.00000)</td>\n",
       "    </tr>\n",
       "    <tr>\n",
       "      <th rowspan=\"4\" valign=\"top\">2020-04-13</th>\n",
       "      <th>0-0.1</th>\n",
       "      <td>4.239784</td>\n",
       "      <td>7.398348</td>\n",
       "      <td>1.050000</td>\n",
       "      <td>POINT (-105.00000 40.00000)</td>\n",
       "    </tr>\n",
       "    <tr>\n",
       "      <th>0.1-0.4</th>\n",
       "      <td>8.782520</td>\n",
       "      <td>9.313724</td>\n",
       "      <td>8.392969</td>\n",
       "      <td>POINT (-105.00000 40.00000)</td>\n",
       "    </tr>\n",
       "    <tr>\n",
       "      <th>0.4-1</th>\n",
       "      <td>8.258704</td>\n",
       "      <td>8.272364</td>\n",
       "      <td>8.236282</td>\n",
       "      <td>POINT (-105.00000 40.00000)</td>\n",
       "    </tr>\n",
       "    <tr>\n",
       "      <th>1-2</th>\n",
       "      <td>7.655778</td>\n",
       "      <td>7.670000</td>\n",
       "      <td>7.651758</td>\n",
       "      <td>POINT (-105.00000 40.00000)</td>\n",
       "    </tr>\n",
       "    <tr>\n",
       "      <th rowspan=\"4\" valign=\"top\">2020-04-14</th>\n",
       "      <th>0-0.1</th>\n",
       "      <td>3.638653</td>\n",
       "      <td>8.550000</td>\n",
       "      <td>0.049976</td>\n",
       "      <td>POINT (-105.00000 40.00000)</td>\n",
       "    </tr>\n",
       "    <tr>\n",
       "      <th>0.1-0.4</th>\n",
       "      <td>8.028992</td>\n",
       "      <td>8.376296</td>\n",
       "      <td>7.763555</td>\n",
       "      <td>POINT (-105.00000 40.00000)</td>\n",
       "    </tr>\n",
       "    <tr>\n",
       "      <th>0.4-1</th>\n",
       "      <td>8.231528</td>\n",
       "      <td>8.259030</td>\n",
       "      <td>8.192364</td>\n",
       "      <td>POINT (-105.00000 40.00000)</td>\n",
       "    </tr>\n",
       "    <tr>\n",
       "      <th>1-2</th>\n",
       "      <td>7.676517</td>\n",
       "      <td>7.681172</td>\n",
       "      <td>7.670000</td>\n",
       "      <td>POINT (-105.00000 40.00000)</td>\n",
       "    </tr>\n",
       "    <tr>\n",
       "      <th rowspan=\"4\" valign=\"top\">2020-04-15</th>\n",
       "      <th>0-0.1</th>\n",
       "      <td>6.272372</td>\n",
       "      <td>10.211206</td>\n",
       "      <td>3.350000</td>\n",
       "      <td>POINT (-105.00000 40.00000)</td>\n",
       "    </tr>\n",
       "    <tr>\n",
       "      <th>0.1-0.4</th>\n",
       "      <td>7.693621</td>\n",
       "      <td>7.823555</td>\n",
       "      <td>7.544141</td>\n",
       "      <td>POINT (-105.00000 40.00000)</td>\n",
       "    </tr>\n",
       "    <tr>\n",
       "      <th>0.4-1</th>\n",
       "      <td>8.161064</td>\n",
       "      <td>8.192364</td>\n",
       "      <td>8.131778</td>\n",
       "      <td>POINT (-105.00000 40.00000)</td>\n",
       "    </tr>\n",
       "    <tr>\n",
       "      <th>1-2</th>\n",
       "      <td>7.690900</td>\n",
       "      <td>7.701758</td>\n",
       "      <td>7.681367</td>\n",
       "      <td>POINT (-105.00000 40.00000)</td>\n",
       "    </tr>\n",
       "    <tr>\n",
       "      <th rowspan=\"4\" valign=\"top\">2020-04-16</th>\n",
       "      <th>0-0.1</th>\n",
       "      <td>5.727574</td>\n",
       "      <td>9.724137</td>\n",
       "      <td>3.953662</td>\n",
       "      <td>POINT (-105.00000 40.00000)</td>\n",
       "    </tr>\n",
       "    <tr>\n",
       "      <th>0.1-0.4</th>\n",
       "      <td>7.619095</td>\n",
       "      <td>7.724121</td>\n",
       "      <td>7.449258</td>\n",
       "      <td>POINT (-105.00000 40.00000)</td>\n",
       "    </tr>\n",
       "    <tr>\n",
       "      <th>0.4-1</th>\n",
       "      <td>8.089420</td>\n",
       "      <td>8.125306</td>\n",
       "      <td>8.052363</td>\n",
       "      <td>POINT (-105.00000 40.00000)</td>\n",
       "    </tr>\n",
       "    <tr>\n",
       "      <th>1-2</th>\n",
       "      <td>7.704456</td>\n",
       "      <td>7.711172</td>\n",
       "      <td>7.700000</td>\n",
       "      <td>POINT (-105.00000 40.00000)</td>\n",
       "    </tr>\n",
       "    <tr>\n",
       "      <th rowspan=\"4\" valign=\"top\">2020-04-17</th>\n",
       "      <th>0-0.1</th>\n",
       "      <td>3.047002</td>\n",
       "      <td>3.885775</td>\n",
       "      <td>1.953882</td>\n",
       "      <td>POINT (-105.00000 40.00000)</td>\n",
       "    </tr>\n",
       "    <tr>\n",
       "      <th>0.1-0.4</th>\n",
       "      <td>7.329890</td>\n",
       "      <td>7.439258</td>\n",
       "      <td>7.205332</td>\n",
       "      <td>POINT (-105.00000 40.00000)</td>\n",
       "    </tr>\n",
       "    <tr>\n",
       "      <th>0.4-1</th>\n",
       "      <td>8.004025</td>\n",
       "      <td>8.049030</td>\n",
       "      <td>7.952363</td>\n",
       "      <td>POINT (-105.00000 40.00000)</td>\n",
       "    </tr>\n",
       "    <tr>\n",
       "      <th>1-2</th>\n",
       "      <td>7.715957</td>\n",
       "      <td>7.721777</td>\n",
       "      <td>7.711172</td>\n",
       "      <td>POINT (-105.00000 40.00000)</td>\n",
       "    </tr>\n",
       "    <tr>\n",
       "      <th rowspan=\"4\" valign=\"top\">2020-04-18</th>\n",
       "      <th>0-0.1</th>\n",
       "      <td>-0.371685</td>\n",
       "      <td>1.920980</td>\n",
       "      <td>-2.025781</td>\n",
       "      <td>POINT (-105.00000 40.00000)</td>\n",
       "    </tr>\n",
       "    <tr>\n",
       "      <th>0.1-0.4</th>\n",
       "      <td>6.943731</td>\n",
       "      <td>7.191998</td>\n",
       "      <td>6.544726</td>\n",
       "      <td>POINT (-105.00000 40.00000)</td>\n",
       "    </tr>\n",
       "    <tr>\n",
       "      <th>0.4-1</th>\n",
       "      <td>7.901868</td>\n",
       "      <td>7.949023</td>\n",
       "      <td>7.842363</td>\n",
       "      <td>POINT (-105.00000 40.00000)</td>\n",
       "    </tr>\n",
       "    <tr>\n",
       "      <th>1-2</th>\n",
       "      <td>7.718027</td>\n",
       "      <td>7.721777</td>\n",
       "      <td>7.711777</td>\n",
       "      <td>POINT (-105.00000 40.00000)</td>\n",
       "    </tr>\n",
       "  </tbody>\n",
       "</table>\n",
       "</div>"
      ],
      "text/plain": [
       "                           soil_temp_avg_cels  soil_temp_max_cels  \\\n",
       "date       ground_depth_m                                           \n",
       "2020-04-09 0-0.1                    12.672285           18.441048   \n",
       "           0.1-0.4                   9.864608            9.950918   \n",
       "           0.4-1                     7.591384            7.712949   \n",
       "           1-2                       7.573120            7.581778   \n",
       "2020-04-10 0-0.1                     9.917489           17.150000   \n",
       "           0.1-0.4                   9.527295            9.780781   \n",
       "           0.4-1                     7.821062            7.902969   \n",
       "           1-2                       7.592109            7.601758   \n",
       "2020-04-11 0-0.1                    12.384362           16.485775   \n",
       "           0.1-0.4                   9.660434            9.770000   \n",
       "           0.4-1                     8.001279            8.082344   \n",
       "           1-2                       7.612026            7.621758   \n",
       "2020-04-12 0-0.1                     9.238934           14.914160   \n",
       "           0.1-0.4                   9.649311            9.850000   \n",
       "           0.4-1                     8.173652            8.232949   \n",
       "           1-2                       7.635649            7.651758   \n",
       "2020-04-13 0-0.1                     4.239784            7.398348   \n",
       "           0.1-0.4                   8.782520            9.313724   \n",
       "           0.4-1                     8.258704            8.272364   \n",
       "           1-2                       7.655778            7.670000   \n",
       "2020-04-14 0-0.1                     3.638653            8.550000   \n",
       "           0.1-0.4                   8.028992            8.376296   \n",
       "           0.4-1                     8.231528            8.259030   \n",
       "           1-2                       7.676517            7.681172   \n",
       "2020-04-15 0-0.1                     6.272372           10.211206   \n",
       "           0.1-0.4                   7.693621            7.823555   \n",
       "           0.4-1                     8.161064            8.192364   \n",
       "           1-2                       7.690900            7.701758   \n",
       "2020-04-16 0-0.1                     5.727574            9.724137   \n",
       "           0.1-0.4                   7.619095            7.724121   \n",
       "           0.4-1                     8.089420            8.125306   \n",
       "           1-2                       7.704456            7.711172   \n",
       "2020-04-17 0-0.1                     3.047002            3.885775   \n",
       "           0.1-0.4                   7.329890            7.439258   \n",
       "           0.4-1                     8.004025            8.049030   \n",
       "           1-2                       7.715957            7.721777   \n",
       "2020-04-18 0-0.1                    -0.371685            1.920980   \n",
       "           0.1-0.4                   6.943731            7.191998   \n",
       "           0.4-1                     7.901868            7.949023   \n",
       "           1-2                       7.718027            7.721777   \n",
       "\n",
       "                           soil_temp_min_cels                     geometry  \n",
       "date       ground_depth_m                                                   \n",
       "2020-04-09 0-0.1                    10.179395  POINT (-105.00000 40.00000)  \n",
       "           0.1-0.4                   9.781068  POINT (-105.00000 40.00000)  \n",
       "           0.4-1                     7.455697  POINT (-105.00000 40.00000)  \n",
       "           1-2                       7.570000  POINT (-105.00000 40.00000)  \n",
       "2020-04-10 0-0.1                     5.778100  POINT (-105.00000 40.00000)  \n",
       "           0.1-0.4                   9.310508  POINT (-105.00000 40.00000)  \n",
       "           0.4-1                     7.722949  POINT (-105.00000 40.00000)  \n",
       "           1-2                       7.580000  POINT (-105.00000 40.00000)  \n",
       "2020-04-11 0-0.1                     8.450000  POINT (-105.00000 40.00000)  \n",
       "           0.1-0.4                   9.569981  POINT (-105.00000 40.00000)  \n",
       "           0.4-1                     7.912767  POINT (-105.00000 40.00000)  \n",
       "           1-2                       7.601758  POINT (-105.00000 40.00000)  \n",
       "2020-04-12 0-0.1                     5.609766  POINT (-105.00000 40.00000)  \n",
       "           0.1-0.4                   9.340390  POINT (-105.00000 40.00000)  \n",
       "           0.4-1                     8.092343  POINT (-105.00000 40.00000)  \n",
       "           1-2                       7.619980  POINT (-105.00000 40.00000)  \n",
       "2020-04-13 0-0.1                     1.050000  POINT (-105.00000 40.00000)  \n",
       "           0.1-0.4                   8.392969  POINT (-105.00000 40.00000)  \n",
       "           0.4-1                     8.236282  POINT (-105.00000 40.00000)  \n",
       "           1-2                       7.651758  POINT (-105.00000 40.00000)  \n",
       "2020-04-14 0-0.1                     0.049976  POINT (-105.00000 40.00000)  \n",
       "           0.1-0.4                   7.763555  POINT (-105.00000 40.00000)  \n",
       "           0.4-1                     8.192364  POINT (-105.00000 40.00000)  \n",
       "           1-2                       7.670000  POINT (-105.00000 40.00000)  \n",
       "2020-04-15 0-0.1                     3.350000  POINT (-105.00000 40.00000)  \n",
       "           0.1-0.4                   7.544141  POINT (-105.00000 40.00000)  \n",
       "           0.4-1                     8.131778  POINT (-105.00000 40.00000)  \n",
       "           1-2                       7.681367  POINT (-105.00000 40.00000)  \n",
       "2020-04-16 0-0.1                     3.953662  POINT (-105.00000 40.00000)  \n",
       "           0.1-0.4                   7.449258  POINT (-105.00000 40.00000)  \n",
       "           0.4-1                     8.052363  POINT (-105.00000 40.00000)  \n",
       "           1-2                       7.700000  POINT (-105.00000 40.00000)  \n",
       "2020-04-17 0-0.1                     1.953882  POINT (-105.00000 40.00000)  \n",
       "           0.1-0.4                   7.205332  POINT (-105.00000 40.00000)  \n",
       "           0.4-1                     7.952363  POINT (-105.00000 40.00000)  \n",
       "           1-2                       7.711172  POINT (-105.00000 40.00000)  \n",
       "2020-04-18 0-0.1                    -2.025781  POINT (-105.00000 40.00000)  \n",
       "           0.1-0.4                   6.544726  POINT (-105.00000 40.00000)  \n",
       "           0.4-1                     7.842363  POINT (-105.00000 40.00000)  \n",
       "           1-2                       7.711777  POINT (-105.00000 40.00000)  "
      ]
     },
     "execution_count": 12,
     "metadata": {},
     "output_type": "execute_result"
    }
   ],
   "source": [
    "geo_cleaned_gdf"
   ]
  },
  {
   "cell_type": "code",
   "execution_count": null,
   "metadata": {},
   "outputs": [],
   "source": []
  },
  {
   "cell_type": "code",
   "execution_count": null,
   "metadata": {},
   "outputs": [],
   "source": []
  },
  {
   "cell_type": "code",
   "execution_count": 15,
   "metadata": {},
   "outputs": [],
   "source": [
    "geo = aWhere.get_weather_forecast(40, -105)"
   ]
  },
  {
   "cell_type": "code",
   "execution_count": 16,
   "metadata": {},
   "outputs": [],
   "source": [
    "geo_extracted_df = extract_data_geolocation.extract_forecast_soil_moisture(geo)"
   ]
  },
  {
   "cell_type": "code",
   "execution_count": 17,
   "metadata": {},
   "outputs": [],
   "source": [
    "geo_cleaned_gdf = clean_data_geolocation.clean_dataframe(\n",
    "    geo_extracted_df, clean_data_geolocation.forecast_soil_moisture_lon_lat_cols, \n",
    "    clean_data_geolocation.forecast_soil_moisture_drop_cols, clean_data_geolocation.forecast_soil_moisture_mapping)"
   ]
  },
  {
   "cell_type": "code",
   "execution_count": 18,
   "metadata": {},
   "outputs": [
    {
     "data": {
      "text/html": [
       "<div>\n",
       "<style scoped>\n",
       "    .dataframe tbody tr th:only-of-type {\n",
       "        vertical-align: middle;\n",
       "    }\n",
       "\n",
       "    .dataframe tbody tr th {\n",
       "        vertical-align: top;\n",
       "    }\n",
       "\n",
       "    .dataframe thead th {\n",
       "        text-align: right;\n",
       "    }\n",
       "</style>\n",
       "<table border=\"1\" class=\"dataframe\">\n",
       "  <thead>\n",
       "    <tr style=\"text-align: right;\">\n",
       "      <th></th>\n",
       "      <th></th>\n",
       "      <th>soil_moisture_avg_%</th>\n",
       "      <th>soil_moisture_max_%</th>\n",
       "      <th>soil_moisture_min_%</th>\n",
       "      <th>geometry</th>\n",
       "    </tr>\n",
       "    <tr>\n",
       "      <th>date</th>\n",
       "      <th>ground_depth_m</th>\n",
       "      <th></th>\n",
       "      <th></th>\n",
       "      <th></th>\n",
       "      <th></th>\n",
       "    </tr>\n",
       "  </thead>\n",
       "  <tbody>\n",
       "    <tr>\n",
       "      <th rowspan=\"4\" valign=\"top\">2020-04-09</th>\n",
       "      <th>0-0.1</th>\n",
       "      <td>15.512500</td>\n",
       "      <td>15.600000</td>\n",
       "      <td>15.299999</td>\n",
       "      <td>POINT (-105.00000 40.00000)</td>\n",
       "    </tr>\n",
       "    <tr>\n",
       "      <th>0.1-0.4</th>\n",
       "      <td>19.091073</td>\n",
       "      <td>19.111906</td>\n",
       "      <td>19.011906</td>\n",
       "      <td>POINT (-105.00000 40.00000)</td>\n",
       "    </tr>\n",
       "    <tr>\n",
       "      <th>0.4-1</th>\n",
       "      <td>5.903708</td>\n",
       "      <td>5.903708</td>\n",
       "      <td>5.903708</td>\n",
       "      <td>POINT (-105.00000 40.00000)</td>\n",
       "    </tr>\n",
       "    <tr>\n",
       "      <th>1-2</th>\n",
       "      <td>13.943129</td>\n",
       "      <td>13.943129</td>\n",
       "      <td>13.943129</td>\n",
       "      <td>POINT (-105.00000 40.00000)</td>\n",
       "    </tr>\n",
       "    <tr>\n",
       "      <th rowspan=\"4\" valign=\"top\">2020-04-10</th>\n",
       "      <th>0-0.1</th>\n",
       "      <td>15.183333</td>\n",
       "      <td>15.299999</td>\n",
       "      <td>14.800000</td>\n",
       "      <td>POINT (-105.00000 40.00000)</td>\n",
       "    </tr>\n",
       "    <tr>\n",
       "      <th>0.1-0.4</th>\n",
       "      <td>18.949406</td>\n",
       "      <td>19.011906</td>\n",
       "      <td>18.711905</td>\n",
       "      <td>POINT (-105.00000 40.00000)</td>\n",
       "    </tr>\n",
       "    <tr>\n",
       "      <th>0.4-1</th>\n",
       "      <td>5.903708</td>\n",
       "      <td>5.903708</td>\n",
       "      <td>5.903708</td>\n",
       "      <td>POINT (-105.00000 40.00000)</td>\n",
       "    </tr>\n",
       "    <tr>\n",
       "      <th>1-2</th>\n",
       "      <td>13.943129</td>\n",
       "      <td>13.943129</td>\n",
       "      <td>13.943129</td>\n",
       "      <td>POINT (-105.00000 40.00000)</td>\n",
       "    </tr>\n",
       "    <tr>\n",
       "      <th rowspan=\"4\" valign=\"top\">2020-04-11</th>\n",
       "      <th>0-0.1</th>\n",
       "      <td>15.025000</td>\n",
       "      <td>15.099999</td>\n",
       "      <td>14.800000</td>\n",
       "      <td>POINT (-105.00000 40.00000)</td>\n",
       "    </tr>\n",
       "    <tr>\n",
       "      <th>0.1-0.4</th>\n",
       "      <td>18.657738</td>\n",
       "      <td>18.711905</td>\n",
       "      <td>18.511906</td>\n",
       "      <td>POINT (-105.00000 40.00000)</td>\n",
       "    </tr>\n",
       "    <tr>\n",
       "      <th>0.4-1</th>\n",
       "      <td>5.903708</td>\n",
       "      <td>5.903708</td>\n",
       "      <td>5.903708</td>\n",
       "      <td>POINT (-105.00000 40.00000)</td>\n",
       "    </tr>\n",
       "    <tr>\n",
       "      <th>1-2</th>\n",
       "      <td>13.943129</td>\n",
       "      <td>13.943129</td>\n",
       "      <td>13.943129</td>\n",
       "      <td>POINT (-105.00000 40.00000)</td>\n",
       "    </tr>\n",
       "    <tr>\n",
       "      <th rowspan=\"4\" valign=\"top\">2020-04-12</th>\n",
       "      <th>0-0.1</th>\n",
       "      <td>14.962500</td>\n",
       "      <td>15.099999</td>\n",
       "      <td>14.800000</td>\n",
       "      <td>POINT (-105.00000 40.00000)</td>\n",
       "    </tr>\n",
       "    <tr>\n",
       "      <th>0.1-0.4</th>\n",
       "      <td>18.511906</td>\n",
       "      <td>18.511906</td>\n",
       "      <td>18.511906</td>\n",
       "      <td>POINT (-105.00000 40.00000)</td>\n",
       "    </tr>\n",
       "    <tr>\n",
       "      <th>0.4-1</th>\n",
       "      <td>5.903708</td>\n",
       "      <td>5.903708</td>\n",
       "      <td>5.903708</td>\n",
       "      <td>POINT (-105.00000 40.00000)</td>\n",
       "    </tr>\n",
       "    <tr>\n",
       "      <th>1-2</th>\n",
       "      <td>13.943129</td>\n",
       "      <td>13.943129</td>\n",
       "      <td>13.943129</td>\n",
       "      <td>POINT (-105.00000 40.00000)</td>\n",
       "    </tr>\n",
       "    <tr>\n",
       "      <th rowspan=\"4\" valign=\"top\">2020-04-13</th>\n",
       "      <th>0-0.1</th>\n",
       "      <td>15.037499</td>\n",
       "      <td>15.099999</td>\n",
       "      <td>14.999999</td>\n",
       "      <td>POINT (-105.00000 40.00000)</td>\n",
       "    </tr>\n",
       "    <tr>\n",
       "      <th>0.1-0.4</th>\n",
       "      <td>18.491072</td>\n",
       "      <td>18.511906</td>\n",
       "      <td>18.411905</td>\n",
       "      <td>POINT (-105.00000 40.00000)</td>\n",
       "    </tr>\n",
       "    <tr>\n",
       "      <th>0.4-1</th>\n",
       "      <td>5.903708</td>\n",
       "      <td>5.903708</td>\n",
       "      <td>5.903708</td>\n",
       "      <td>POINT (-105.00000 40.00000)</td>\n",
       "    </tr>\n",
       "    <tr>\n",
       "      <th>1-2</th>\n",
       "      <td>13.943129</td>\n",
       "      <td>13.943129</td>\n",
       "      <td>13.943129</td>\n",
       "      <td>POINT (-105.00000 40.00000)</td>\n",
       "    </tr>\n",
       "    <tr>\n",
       "      <th rowspan=\"4\" valign=\"top\">2020-04-14</th>\n",
       "      <th>0-0.1</th>\n",
       "      <td>15.266666</td>\n",
       "      <td>15.600000</td>\n",
       "      <td>15.099999</td>\n",
       "      <td>POINT (-105.00000 40.00000)</td>\n",
       "    </tr>\n",
       "    <tr>\n",
       "      <th>0.1-0.4</th>\n",
       "      <td>18.403572</td>\n",
       "      <td>18.411905</td>\n",
       "      <td>18.311905</td>\n",
       "      <td>POINT (-105.00000 40.00000)</td>\n",
       "    </tr>\n",
       "    <tr>\n",
       "      <th>0.4-1</th>\n",
       "      <td>5.903708</td>\n",
       "      <td>5.903708</td>\n",
       "      <td>5.903708</td>\n",
       "      <td>POINT (-105.00000 40.00000)</td>\n",
       "    </tr>\n",
       "    <tr>\n",
       "      <th>1-2</th>\n",
       "      <td>13.943129</td>\n",
       "      <td>13.943129</td>\n",
       "      <td>13.943129</td>\n",
       "      <td>POINT (-105.00000 40.00000)</td>\n",
       "    </tr>\n",
       "    <tr>\n",
       "      <th rowspan=\"4\" valign=\"top\">2020-04-15</th>\n",
       "      <th>0-0.1</th>\n",
       "      <td>15.558334</td>\n",
       "      <td>15.600000</td>\n",
       "      <td>15.400000</td>\n",
       "      <td>POINT (-105.00000 40.00000)</td>\n",
       "    </tr>\n",
       "    <tr>\n",
       "      <th>0.1-0.4</th>\n",
       "      <td>18.303572</td>\n",
       "      <td>18.311905</td>\n",
       "      <td>18.211906</td>\n",
       "      <td>POINT (-105.00000 40.00000)</td>\n",
       "    </tr>\n",
       "    <tr>\n",
       "      <th>0.4-1</th>\n",
       "      <td>5.903708</td>\n",
       "      <td>5.903708</td>\n",
       "      <td>5.903708</td>\n",
       "      <td>POINT (-105.00000 40.00000)</td>\n",
       "    </tr>\n",
       "    <tr>\n",
       "      <th>1-2</th>\n",
       "      <td>13.943129</td>\n",
       "      <td>13.943129</td>\n",
       "      <td>13.943129</td>\n",
       "      <td>POINT (-105.00000 40.00000)</td>\n",
       "    </tr>\n",
       "    <tr>\n",
       "      <th rowspan=\"4\" valign=\"top\">2020-04-16</th>\n",
       "      <th>0-0.1</th>\n",
       "      <td>17.554167</td>\n",
       "      <td>21.299999</td>\n",
       "      <td>15.700001</td>\n",
       "      <td>POINT (-105.00000 40.00000)</td>\n",
       "    </tr>\n",
       "    <tr>\n",
       "      <th>0.1-0.4</th>\n",
       "      <td>18.282739</td>\n",
       "      <td>18.311905</td>\n",
       "      <td>18.211906</td>\n",
       "      <td>POINT (-105.00000 40.00000)</td>\n",
       "    </tr>\n",
       "    <tr>\n",
       "      <th>0.4-1</th>\n",
       "      <td>5.903708</td>\n",
       "      <td>5.903708</td>\n",
       "      <td>5.903708</td>\n",
       "      <td>POINT (-105.00000 40.00000)</td>\n",
       "    </tr>\n",
       "    <tr>\n",
       "      <th>1-2</th>\n",
       "      <td>13.943129</td>\n",
       "      <td>13.943129</td>\n",
       "      <td>13.943129</td>\n",
       "      <td>POINT (-105.00000 40.00000)</td>\n",
       "    </tr>\n",
       "    <tr>\n",
       "      <th rowspan=\"4\" valign=\"top\">2020-04-17</th>\n",
       "      <th>0-0.1</th>\n",
       "      <td>21.924999</td>\n",
       "      <td>24.299999</td>\n",
       "      <td>21.299999</td>\n",
       "      <td>POINT (-105.00000 40.00000)</td>\n",
       "    </tr>\n",
       "    <tr>\n",
       "      <th>0.1-0.4</th>\n",
       "      <td>18.311905</td>\n",
       "      <td>18.311905</td>\n",
       "      <td>18.311905</td>\n",
       "      <td>POINT (-105.00000 40.00000)</td>\n",
       "    </tr>\n",
       "    <tr>\n",
       "      <th>0.4-1</th>\n",
       "      <td>5.903708</td>\n",
       "      <td>5.903708</td>\n",
       "      <td>5.903708</td>\n",
       "      <td>POINT (-105.00000 40.00000)</td>\n",
       "    </tr>\n",
       "    <tr>\n",
       "      <th>1-2</th>\n",
       "      <td>13.943129</td>\n",
       "      <td>13.943129</td>\n",
       "      <td>13.943129</td>\n",
       "      <td>POINT (-105.00000 40.00000)</td>\n",
       "    </tr>\n",
       "    <tr>\n",
       "      <th rowspan=\"4\" valign=\"top\">2020-04-18</th>\n",
       "      <th>0-0.1</th>\n",
       "      <td>27.116666</td>\n",
       "      <td>36.799999</td>\n",
       "      <td>24.299999</td>\n",
       "      <td>POINT (-105.00000 40.00000)</td>\n",
       "    </tr>\n",
       "    <tr>\n",
       "      <th>0.1-0.4</th>\n",
       "      <td>18.341072</td>\n",
       "      <td>18.511906</td>\n",
       "      <td>18.311905</td>\n",
       "      <td>POINT (-105.00000 40.00000)</td>\n",
       "    </tr>\n",
       "    <tr>\n",
       "      <th>0.4-1</th>\n",
       "      <td>5.903708</td>\n",
       "      <td>5.903708</td>\n",
       "      <td>5.903708</td>\n",
       "      <td>POINT (-105.00000 40.00000)</td>\n",
       "    </tr>\n",
       "    <tr>\n",
       "      <th>1-2</th>\n",
       "      <td>13.943129</td>\n",
       "      <td>13.943129</td>\n",
       "      <td>13.943129</td>\n",
       "      <td>POINT (-105.00000 40.00000)</td>\n",
       "    </tr>\n",
       "  </tbody>\n",
       "</table>\n",
       "</div>"
      ],
      "text/plain": [
       "                           soil_moisture_avg_%  soil_moisture_max_%  \\\n",
       "date       ground_depth_m                                             \n",
       "2020-04-09 0-0.1                     15.512500            15.600000   \n",
       "           0.1-0.4                   19.091073            19.111906   \n",
       "           0.4-1                      5.903708             5.903708   \n",
       "           1-2                       13.943129            13.943129   \n",
       "2020-04-10 0-0.1                     15.183333            15.299999   \n",
       "           0.1-0.4                   18.949406            19.011906   \n",
       "           0.4-1                      5.903708             5.903708   \n",
       "           1-2                       13.943129            13.943129   \n",
       "2020-04-11 0-0.1                     15.025000            15.099999   \n",
       "           0.1-0.4                   18.657738            18.711905   \n",
       "           0.4-1                      5.903708             5.903708   \n",
       "           1-2                       13.943129            13.943129   \n",
       "2020-04-12 0-0.1                     14.962500            15.099999   \n",
       "           0.1-0.4                   18.511906            18.511906   \n",
       "           0.4-1                      5.903708             5.903708   \n",
       "           1-2                       13.943129            13.943129   \n",
       "2020-04-13 0-0.1                     15.037499            15.099999   \n",
       "           0.1-0.4                   18.491072            18.511906   \n",
       "           0.4-1                      5.903708             5.903708   \n",
       "           1-2                       13.943129            13.943129   \n",
       "2020-04-14 0-0.1                     15.266666            15.600000   \n",
       "           0.1-0.4                   18.403572            18.411905   \n",
       "           0.4-1                      5.903708             5.903708   \n",
       "           1-2                       13.943129            13.943129   \n",
       "2020-04-15 0-0.1                     15.558334            15.600000   \n",
       "           0.1-0.4                   18.303572            18.311905   \n",
       "           0.4-1                      5.903708             5.903708   \n",
       "           1-2                       13.943129            13.943129   \n",
       "2020-04-16 0-0.1                     17.554167            21.299999   \n",
       "           0.1-0.4                   18.282739            18.311905   \n",
       "           0.4-1                      5.903708             5.903708   \n",
       "           1-2                       13.943129            13.943129   \n",
       "2020-04-17 0-0.1                     21.924999            24.299999   \n",
       "           0.1-0.4                   18.311905            18.311905   \n",
       "           0.4-1                      5.903708             5.903708   \n",
       "           1-2                       13.943129            13.943129   \n",
       "2020-04-18 0-0.1                     27.116666            36.799999   \n",
       "           0.1-0.4                   18.341072            18.511906   \n",
       "           0.4-1                      5.903708             5.903708   \n",
       "           1-2                       13.943129            13.943129   \n",
       "\n",
       "                           soil_moisture_min_%                     geometry  \n",
       "date       ground_depth_m                                                    \n",
       "2020-04-09 0-0.1                     15.299999  POINT (-105.00000 40.00000)  \n",
       "           0.1-0.4                   19.011906  POINT (-105.00000 40.00000)  \n",
       "           0.4-1                      5.903708  POINT (-105.00000 40.00000)  \n",
       "           1-2                       13.943129  POINT (-105.00000 40.00000)  \n",
       "2020-04-10 0-0.1                     14.800000  POINT (-105.00000 40.00000)  \n",
       "           0.1-0.4                   18.711905  POINT (-105.00000 40.00000)  \n",
       "           0.4-1                      5.903708  POINT (-105.00000 40.00000)  \n",
       "           1-2                       13.943129  POINT (-105.00000 40.00000)  \n",
       "2020-04-11 0-0.1                     14.800000  POINT (-105.00000 40.00000)  \n",
       "           0.1-0.4                   18.511906  POINT (-105.00000 40.00000)  \n",
       "           0.4-1                      5.903708  POINT (-105.00000 40.00000)  \n",
       "           1-2                       13.943129  POINT (-105.00000 40.00000)  \n",
       "2020-04-12 0-0.1                     14.800000  POINT (-105.00000 40.00000)  \n",
       "           0.1-0.4                   18.511906  POINT (-105.00000 40.00000)  \n",
       "           0.4-1                      5.903708  POINT (-105.00000 40.00000)  \n",
       "           1-2                       13.943129  POINT (-105.00000 40.00000)  \n",
       "2020-04-13 0-0.1                     14.999999  POINT (-105.00000 40.00000)  \n",
       "           0.1-0.4                   18.411905  POINT (-105.00000 40.00000)  \n",
       "           0.4-1                      5.903708  POINT (-105.00000 40.00000)  \n",
       "           1-2                       13.943129  POINT (-105.00000 40.00000)  \n",
       "2020-04-14 0-0.1                     15.099999  POINT (-105.00000 40.00000)  \n",
       "           0.1-0.4                   18.311905  POINT (-105.00000 40.00000)  \n",
       "           0.4-1                      5.903708  POINT (-105.00000 40.00000)  \n",
       "           1-2                       13.943129  POINT (-105.00000 40.00000)  \n",
       "2020-04-15 0-0.1                     15.400000  POINT (-105.00000 40.00000)  \n",
       "           0.1-0.4                   18.211906  POINT (-105.00000 40.00000)  \n",
       "           0.4-1                      5.903708  POINT (-105.00000 40.00000)  \n",
       "           1-2                       13.943129  POINT (-105.00000 40.00000)  \n",
       "2020-04-16 0-0.1                     15.700001  POINT (-105.00000 40.00000)  \n",
       "           0.1-0.4                   18.211906  POINT (-105.00000 40.00000)  \n",
       "           0.4-1                      5.903708  POINT (-105.00000 40.00000)  \n",
       "           1-2                       13.943129  POINT (-105.00000 40.00000)  \n",
       "2020-04-17 0-0.1                     21.299999  POINT (-105.00000 40.00000)  \n",
       "           0.1-0.4                   18.311905  POINT (-105.00000 40.00000)  \n",
       "           0.4-1                      5.903708  POINT (-105.00000 40.00000)  \n",
       "           1-2                       13.943129  POINT (-105.00000 40.00000)  \n",
       "2020-04-18 0-0.1                     24.299999  POINT (-105.00000 40.00000)  \n",
       "           0.1-0.4                   18.311905  POINT (-105.00000 40.00000)  \n",
       "           0.4-1                      5.903708  POINT (-105.00000 40.00000)  \n",
       "           1-2                       13.943129  POINT (-105.00000 40.00000)  "
      ]
     },
     "execution_count": 18,
     "metadata": {},
     "output_type": "execute_result"
    }
   ],
   "source": [
    "geo_cleaned_gdf"
   ]
  },
  {
   "cell_type": "code",
   "execution_count": null,
   "metadata": {},
   "outputs": [],
   "source": []
  },
  {
   "cell_type": "code",
   "execution_count": null,
   "metadata": {},
   "outputs": [],
   "source": []
  },
  {
   "cell_type": "code",
   "execution_count": null,
   "metadata": {},
   "outputs": [],
   "source": []
  },
  {
   "cell_type": "code",
   "execution_count": null,
   "metadata": {},
   "outputs": [],
   "source": []
  },
  {
   "cell_type": "code",
   "execution_count": null,
   "metadata": {},
   "outputs": [],
   "source": [
    "norms = aWhere.get_weather_norms(latitude=40, longitude=-105, start_day='05-05', end_day='05-10')"
   ]
  },
  {
   "cell_type": "code",
   "execution_count": null,
   "metadata": {},
   "outputs": [],
   "source": [
    "norms"
   ]
  },
  {
   "cell_type": "code",
   "execution_count": null,
   "metadata": {},
   "outputs": [],
   "source": [
    "extract_data_geolocation.extract_historic_norms(norms)"
   ]
  },
  {
   "cell_type": "code",
   "execution_count": null,
   "metadata": {},
   "outputs": [],
   "source": [
    "clean_data_geolocation.clean_dataframe(\n",
    "    extract_data_geolocation.extract_historic_norms(norms),\n",
    "    clean_data_geolocation.norms_lon_lat_cols, \n",
    "    clean_data_geolocation.norms_drop_cols, \n",
    "    clean_data_geolocation.norms_mapping)"
   ]
  },
  {
   "cell_type": "code",
   "execution_count": null,
   "metadata": {},
   "outputs": [],
   "source": []
  },
  {
   "cell_type": "code",
   "execution_count": 3,
   "metadata": {},
   "outputs": [],
   "source": [
    "observed = aWhere.get_weather_observed(latitude=40, longitude=-105, start_day='04-04', end_day='04-07')"
   ]
  },
  {
   "cell_type": "code",
   "execution_count": 4,
   "metadata": {},
   "outputs": [
    {
     "data": {
      "text/plain": [
       "{'observations': [{'date': '2020-04-04',\n",
       "   'location': {'latitude': 40.0, 'longitude': -105.0},\n",
       "   'temperatures': {'max': 16.020000457763672,\n",
       "    'min': -3.4800000190734863,\n",
       "    'units': 'C'},\n",
       "   'precipitation': {'amount': 0.0, 'units': 'mm'},\n",
       "   'solar': {'amount': 5447.1220703125, 'units': 'Wh/m^2'},\n",
       "   'relativeHumidity': {'max': 77.4000015258789, 'min': 22.790000915527344},\n",
       "   'wind': {'morningMax': 3.6919596195220947,\n",
       "    'dayMax': 5.024531364440918,\n",
       "    'average': 1.9949634075164795,\n",
       "    'units': 'm/sec'},\n",
       "   '_links': {'self': {'href': '/v2/weather/locations/40,-105/observations/2020-04-04'}}},\n",
       "  {'date': '2020-04-05',\n",
       "   'location': {'latitude': 40.0, 'longitude': -105.0},\n",
       "   'temperatures': {'max': 21.469999313354492,\n",
       "    'min': 0.5799999833106995,\n",
       "    'units': 'C'},\n",
       "   'precipitation': {'amount': 0.0, 'units': 'mm'},\n",
       "   'solar': {'amount': 5236.60791015625, 'units': 'Wh/m^2'},\n",
       "   'relativeHumidity': {'max': 77.80999755859375, 'min': 16.739999771118164},\n",
       "   'wind': {'morningMax': 3.382702589035034,\n",
       "    'dayMax': 4.784542560577393,\n",
       "    'average': 1.8735700845718384,\n",
       "    'units': 'm/sec'},\n",
       "   '_links': {'self': {'href': '/v2/weather/locations/40,-105/observations/2020-04-05'}}},\n",
       "  {'date': '2020-04-06',\n",
       "   'location': {'latitude': 40.0, 'longitude': -105.0},\n",
       "   'temperatures': {'max': 23.09000015258789,\n",
       "    'min': 3.140000104904175,\n",
       "    'units': 'C'},\n",
       "   'precipitation': {'amount': 0.0, 'units': 'mm'},\n",
       "   'solar': {'amount': 6616.10595703125, 'units': 'Wh/m^2'},\n",
       "   'relativeHumidity': {'max': 55.0, 'min': 9.470000267028809},\n",
       "   'wind': {'morningMax': 4.802200794219971,\n",
       "    'dayMax': 5.575871467590332,\n",
       "    'average': 2.4860832691192627,\n",
       "    'units': 'm/sec'},\n",
       "   '_links': {'self': {'href': '/v2/weather/locations/40,-105/observations/2020-04-06'}}},\n",
       "  {'date': '2020-04-07',\n",
       "   'location': {'latitude': 40.0, 'longitude': -105.0},\n",
       "   'temperatures': {'max': 23.190000534057617,\n",
       "    'min': 5.230000019073486,\n",
       "    'units': 'C'},\n",
       "   'precipitation': {'amount': 0.0, 'units': 'mm'},\n",
       "   'solar': {'amount': 6680.076171875, 'units': 'Wh/m^2'},\n",
       "   'relativeHumidity': {'max': 39.18000030517578, 'min': 9.710000038146973},\n",
       "   'wind': {'morningMax': 7.915365219116211,\n",
       "    'dayMax': 10.25687026977539,\n",
       "    'average': 5.143218517303467,\n",
       "    'units': 'm/sec'},\n",
       "   '_links': {'self': {'href': '/v2/weather/locations/40,-105/observations/2020-04-07'}}}],\n",
       " '_links': {'self': {'href': '/v2/weather/locations/40,-105/observations/2020-04-04,2020-04-07'}}}"
      ]
     },
     "execution_count": 4,
     "metadata": {},
     "output_type": "execute_result"
    }
   ],
   "source": [
    "observed"
   ]
  },
  {
   "cell_type": "code",
   "execution_count": 5,
   "metadata": {},
   "outputs": [
    {
     "data": {
      "text/html": [
       "<div>\n",
       "<style scoped>\n",
       "    .dataframe tbody tr th:only-of-type {\n",
       "        vertical-align: middle;\n",
       "    }\n",
       "\n",
       "    .dataframe tbody tr th {\n",
       "        vertical-align: top;\n",
       "    }\n",
       "\n",
       "    .dataframe thead th {\n",
       "        text-align: right;\n",
       "    }\n",
       "</style>\n",
       "<table border=\"1\" class=\"dataframe\">\n",
       "  <thead>\n",
       "    <tr style=\"text-align: right;\">\n",
       "      <th></th>\n",
       "      <th>location.latitude</th>\n",
       "      <th>location.longitude</th>\n",
       "      <th>temperatures.max</th>\n",
       "      <th>temperatures.min</th>\n",
       "      <th>temperatures.units</th>\n",
       "      <th>precipitation.amount</th>\n",
       "      <th>precipitation.units</th>\n",
       "      <th>solar.amount</th>\n",
       "      <th>solar.units</th>\n",
       "      <th>relativeHumidity.max</th>\n",
       "      <th>relativeHumidity.min</th>\n",
       "      <th>wind.morningMax</th>\n",
       "      <th>wind.dayMax</th>\n",
       "      <th>wind.average</th>\n",
       "      <th>wind.units</th>\n",
       "    </tr>\n",
       "    <tr>\n",
       "      <th>date</th>\n",
       "      <th></th>\n",
       "      <th></th>\n",
       "      <th></th>\n",
       "      <th></th>\n",
       "      <th></th>\n",
       "      <th></th>\n",
       "      <th></th>\n",
       "      <th></th>\n",
       "      <th></th>\n",
       "      <th></th>\n",
       "      <th></th>\n",
       "      <th></th>\n",
       "      <th></th>\n",
       "      <th></th>\n",
       "      <th></th>\n",
       "    </tr>\n",
       "  </thead>\n",
       "  <tbody>\n",
       "    <tr>\n",
       "      <th>2020-04-04</th>\n",
       "      <td>40.0</td>\n",
       "      <td>-105.0</td>\n",
       "      <td>16.020000</td>\n",
       "      <td>-3.48</td>\n",
       "      <td>C</td>\n",
       "      <td>0.0</td>\n",
       "      <td>mm</td>\n",
       "      <td>5447.122070</td>\n",
       "      <td>Wh/m^2</td>\n",
       "      <td>77.400002</td>\n",
       "      <td>22.790001</td>\n",
       "      <td>3.691960</td>\n",
       "      <td>5.024531</td>\n",
       "      <td>1.994963</td>\n",
       "      <td>m/sec</td>\n",
       "    </tr>\n",
       "    <tr>\n",
       "      <th>2020-04-05</th>\n",
       "      <td>40.0</td>\n",
       "      <td>-105.0</td>\n",
       "      <td>21.469999</td>\n",
       "      <td>0.58</td>\n",
       "      <td>C</td>\n",
       "      <td>0.0</td>\n",
       "      <td>mm</td>\n",
       "      <td>5236.607910</td>\n",
       "      <td>Wh/m^2</td>\n",
       "      <td>77.809998</td>\n",
       "      <td>16.740000</td>\n",
       "      <td>3.382703</td>\n",
       "      <td>4.784543</td>\n",
       "      <td>1.873570</td>\n",
       "      <td>m/sec</td>\n",
       "    </tr>\n",
       "    <tr>\n",
       "      <th>2020-04-06</th>\n",
       "      <td>40.0</td>\n",
       "      <td>-105.0</td>\n",
       "      <td>23.090000</td>\n",
       "      <td>3.14</td>\n",
       "      <td>C</td>\n",
       "      <td>0.0</td>\n",
       "      <td>mm</td>\n",
       "      <td>6616.105957</td>\n",
       "      <td>Wh/m^2</td>\n",
       "      <td>55.000000</td>\n",
       "      <td>9.470000</td>\n",
       "      <td>4.802201</td>\n",
       "      <td>5.575871</td>\n",
       "      <td>2.486083</td>\n",
       "      <td>m/sec</td>\n",
       "    </tr>\n",
       "    <tr>\n",
       "      <th>2020-04-07</th>\n",
       "      <td>40.0</td>\n",
       "      <td>-105.0</td>\n",
       "      <td>23.190001</td>\n",
       "      <td>5.23</td>\n",
       "      <td>C</td>\n",
       "      <td>0.0</td>\n",
       "      <td>mm</td>\n",
       "      <td>6680.076172</td>\n",
       "      <td>Wh/m^2</td>\n",
       "      <td>39.180000</td>\n",
       "      <td>9.710000</td>\n",
       "      <td>7.915365</td>\n",
       "      <td>10.256870</td>\n",
       "      <td>5.143219</td>\n",
       "      <td>m/sec</td>\n",
       "    </tr>\n",
       "  </tbody>\n",
       "</table>\n",
       "</div>"
      ],
      "text/plain": [
       "            location.latitude  location.longitude  temperatures.max  \\\n",
       "date                                                                  \n",
       "2020-04-04               40.0              -105.0         16.020000   \n",
       "2020-04-05               40.0              -105.0         21.469999   \n",
       "2020-04-06               40.0              -105.0         23.090000   \n",
       "2020-04-07               40.0              -105.0         23.190001   \n",
       "\n",
       "            temperatures.min temperatures.units  precipitation.amount  \\\n",
       "date                                                                    \n",
       "2020-04-04             -3.48                  C                   0.0   \n",
       "2020-04-05              0.58                  C                   0.0   \n",
       "2020-04-06              3.14                  C                   0.0   \n",
       "2020-04-07              5.23                  C                   0.0   \n",
       "\n",
       "           precipitation.units  solar.amount solar.units  \\\n",
       "date                                                       \n",
       "2020-04-04                  mm   5447.122070      Wh/m^2   \n",
       "2020-04-05                  mm   5236.607910      Wh/m^2   \n",
       "2020-04-06                  mm   6616.105957      Wh/m^2   \n",
       "2020-04-07                  mm   6680.076172      Wh/m^2   \n",
       "\n",
       "            relativeHumidity.max  relativeHumidity.min  wind.morningMax  \\\n",
       "date                                                                      \n",
       "2020-04-04             77.400002             22.790001         3.691960   \n",
       "2020-04-05             77.809998             16.740000         3.382703   \n",
       "2020-04-06             55.000000              9.470000         4.802201   \n",
       "2020-04-07             39.180000              9.710000         7.915365   \n",
       "\n",
       "            wind.dayMax  wind.average wind.units  \n",
       "date                                              \n",
       "2020-04-04     5.024531      1.994963      m/sec  \n",
       "2020-04-05     4.784543      1.873570      m/sec  \n",
       "2020-04-06     5.575871      2.486083      m/sec  \n",
       "2020-04-07    10.256870      5.143219      m/sec  "
      ]
     },
     "execution_count": 5,
     "metadata": {},
     "output_type": "execute_result"
    }
   ],
   "source": [
    "extract_data_geolocation.extract_observed_weather(observed)"
   ]
  },
  {
   "cell_type": "code",
   "execution_count": 6,
   "metadata": {},
   "outputs": [
    {
     "data": {
      "text/html": [
       "<div>\n",
       "<style scoped>\n",
       "    .dataframe tbody tr th:only-of-type {\n",
       "        vertical-align: middle;\n",
       "    }\n",
       "\n",
       "    .dataframe tbody tr th {\n",
       "        vertical-align: top;\n",
       "    }\n",
       "\n",
       "    .dataframe thead th {\n",
       "        text-align: right;\n",
       "    }\n",
       "</style>\n",
       "<table border=\"1\" class=\"dataframe\">\n",
       "  <thead>\n",
       "    <tr style=\"text-align: right;\">\n",
       "      <th></th>\n",
       "      <th>temp_max_cels</th>\n",
       "      <th>temp_min_cels</th>\n",
       "      <th>precip_amount_mm</th>\n",
       "      <th>solar_energy_w_h_per_m2</th>\n",
       "      <th>rel_humidity_max_%</th>\n",
       "      <th>rel_humidity_min_%</th>\n",
       "      <th>wind_morning_max_m_per_sec</th>\n",
       "      <th>wind_day_max_m_per_sec</th>\n",
       "      <th>wind_avg_m_per_sec</th>\n",
       "      <th>geometry</th>\n",
       "    </tr>\n",
       "    <tr>\n",
       "      <th>date</th>\n",
       "      <th></th>\n",
       "      <th></th>\n",
       "      <th></th>\n",
       "      <th></th>\n",
       "      <th></th>\n",
       "      <th></th>\n",
       "      <th></th>\n",
       "      <th></th>\n",
       "      <th></th>\n",
       "      <th></th>\n",
       "    </tr>\n",
       "  </thead>\n",
       "  <tbody>\n",
       "    <tr>\n",
       "      <th>2020-04-04</th>\n",
       "      <td>16.020000</td>\n",
       "      <td>-3.48</td>\n",
       "      <td>0.0</td>\n",
       "      <td>5447.122070</td>\n",
       "      <td>77.400002</td>\n",
       "      <td>22.790001</td>\n",
       "      <td>3.691960</td>\n",
       "      <td>5.024531</td>\n",
       "      <td>1.994963</td>\n",
       "      <td>POINT (-105.00000 40.00000)</td>\n",
       "    </tr>\n",
       "    <tr>\n",
       "      <th>2020-04-05</th>\n",
       "      <td>21.469999</td>\n",
       "      <td>0.58</td>\n",
       "      <td>0.0</td>\n",
       "      <td>5236.607910</td>\n",
       "      <td>77.809998</td>\n",
       "      <td>16.740000</td>\n",
       "      <td>3.382703</td>\n",
       "      <td>4.784543</td>\n",
       "      <td>1.873570</td>\n",
       "      <td>POINT (-105.00000 40.00000)</td>\n",
       "    </tr>\n",
       "    <tr>\n",
       "      <th>2020-04-06</th>\n",
       "      <td>23.090000</td>\n",
       "      <td>3.14</td>\n",
       "      <td>0.0</td>\n",
       "      <td>6616.105957</td>\n",
       "      <td>55.000000</td>\n",
       "      <td>9.470000</td>\n",
       "      <td>4.802201</td>\n",
       "      <td>5.575871</td>\n",
       "      <td>2.486083</td>\n",
       "      <td>POINT (-105.00000 40.00000)</td>\n",
       "    </tr>\n",
       "    <tr>\n",
       "      <th>2020-04-07</th>\n",
       "      <td>23.190001</td>\n",
       "      <td>5.23</td>\n",
       "      <td>0.0</td>\n",
       "      <td>6680.076172</td>\n",
       "      <td>39.180000</td>\n",
       "      <td>9.710000</td>\n",
       "      <td>7.915365</td>\n",
       "      <td>10.256870</td>\n",
       "      <td>5.143219</td>\n",
       "      <td>POINT (-105.00000 40.00000)</td>\n",
       "    </tr>\n",
       "  </tbody>\n",
       "</table>\n",
       "</div>"
      ],
      "text/plain": [
       "            temp_max_cels  temp_min_cels  precip_amount_mm  \\\n",
       "date                                                         \n",
       "2020-04-04      16.020000          -3.48               0.0   \n",
       "2020-04-05      21.469999           0.58               0.0   \n",
       "2020-04-06      23.090000           3.14               0.0   \n",
       "2020-04-07      23.190001           5.23               0.0   \n",
       "\n",
       "            solar_energy_w_h_per_m2  rel_humidity_max_%  rel_humidity_min_%  \\\n",
       "date                                                                          \n",
       "2020-04-04              5447.122070           77.400002           22.790001   \n",
       "2020-04-05              5236.607910           77.809998           16.740000   \n",
       "2020-04-06              6616.105957           55.000000            9.470000   \n",
       "2020-04-07              6680.076172           39.180000            9.710000   \n",
       "\n",
       "            wind_morning_max_m_per_sec  wind_day_max_m_per_sec  \\\n",
       "date                                                             \n",
       "2020-04-04                    3.691960                5.024531   \n",
       "2020-04-05                    3.382703                4.784543   \n",
       "2020-04-06                    4.802201                5.575871   \n",
       "2020-04-07                    7.915365               10.256870   \n",
       "\n",
       "            wind_avg_m_per_sec                     geometry  \n",
       "date                                                         \n",
       "2020-04-04            1.994963  POINT (-105.00000 40.00000)  \n",
       "2020-04-05            1.873570  POINT (-105.00000 40.00000)  \n",
       "2020-04-06            2.486083  POINT (-105.00000 40.00000)  \n",
       "2020-04-07            5.143219  POINT (-105.00000 40.00000)  "
      ]
     },
     "execution_count": 6,
     "metadata": {},
     "output_type": "execute_result"
    }
   ],
   "source": [
    "clean_data_geolocation.clean_dataframe(\n",
    "    extract_data_geolocation.extract_observed_weather(observed),\n",
    "    clean_data_geolocation.observed_lon_lat_cols,\n",
    "    clean_data_geolocation.observed_drop_cols, \n",
    "    clean_data_geolocation.observed_mapping)"
   ]
  },
  {
   "cell_type": "code",
   "execution_count": null,
   "metadata": {},
   "outputs": [],
   "source": []
  },
  {
   "cell_type": "code",
   "execution_count": null,
   "metadata": {},
   "outputs": [],
   "source": []
  },
  {
   "cell_type": "code",
   "execution_count": null,
   "metadata": {},
   "outputs": [],
   "source": []
  },
  {
   "cell_type": "markdown",
   "metadata": {},
   "source": [
    "## Explore Data"
   ]
  },
  {
   "cell_type": "code",
   "execution_count": null,
   "metadata": {},
   "outputs": [],
   "source": [
    "# Get forecast\n",
    "forecast = aWhere.get_weather_forecast('Colorado-Test-1')"
   ]
  },
  {
   "cell_type": "code",
   "execution_count": null,
   "metadata": {},
   "outputs": [],
   "source": [
    "# Flatten into dataframe\n",
    "json_normalize(forecast.get('forecasts')).head()"
   ]
  },
  {
   "cell_type": "code",
   "execution_count": null,
   "metadata": {},
   "outputs": [],
   "source": [
    "# Get historical norms for one day\n",
    "norms = aWhere.get_weather_norms('Colorado-Test-1', '05-05')"
   ]
  },
  {
   "cell_type": "code",
   "execution_count": null,
   "metadata": {},
   "outputs": [],
   "source": [
    "# Flatten into dataframe\n",
    "json_normalize(norms).head()"
   ]
  },
  {
   "cell_type": "code",
   "execution_count": null,
   "metadata": {},
   "outputs": [],
   "source": [
    "observed = aWhere.get_weather_observed('Colorado-Test-1')"
   ]
  },
  {
   "cell_type": "code",
   "execution_count": null,
   "metadata": {},
   "outputs": [],
   "source": [
    "# Flatten into dataframej\n",
    "json_normalize(observed.get('observations')).head()"
   ]
  },
  {
   "cell_type": "markdown",
   "metadata": {},
   "source": [
    "## Parse Forecast"
   ]
  },
  {
   "cell_type": "code",
   "execution_count": null,
   "metadata": {},
   "outputs": [],
   "source": [
    "# Top level forecast - still leaves forecast as nested\n",
    "top_level = json_normalize(forecast.get('forecasts'))\n",
    "#top_level.head()"
   ]
  },
  {
   "cell_type": "code",
   "execution_count": null,
   "metadata": {},
   "outputs": [],
   "source": [
    "# Lists to store forecast, soil temp, and soil moisture dataframes\n",
    "forecast_main_list = []\n",
    "forecast_soil_temp_list = []\n",
    "forecast_soil_moisture_list = []\n",
    "\n",
    "# Loop through each row in the top-level flattened dataframe\n",
    "# for index, row in json_normalize(forecast.get('forecasts')).iterrows():\n",
    "for index, row in top_level.iterrows():\n",
    "\n",
    "    # SETUP OPERATIONS\n",
    "    # Extract date, lat, lon for insertion into lower-level dataframe outputs\n",
    "    date = row['date']\n",
    "    lat = row['location.latitude']\n",
    "    lon = row['location.longitude']\n",
    "    \n",
    "\n",
    "    # MAIN FORECAST\n",
    "    # Extract the main forecast from the top-level dataframe\n",
    "    forecast = row['forecast']\n",
    "\n",
    "    # Faltten data into dataframe\n",
    "    forecast_norm = json_normalize(forecast)\n",
    "\n",
    "    # Drop soil moisture and soil temperature columns\n",
    "    #  (will be extracted as indivdiual dataframes)\n",
    "    forecast_norm.drop(columns=[\n",
    "        'soilTemperatures',\n",
    "        'soilMoisture',\n",
    "    ],\n",
    "        axis=1, inplace=True)\n",
    "    # Assign date, lat/lon to dataframe\n",
    "    forecast_norm['date'] = date\n",
    "    forecast_norm['latitude'] = lat\n",
    "    forecast_norm['longitude'] = lon\n",
    "    \n",
    "    # Set date as index\n",
    "    forecast_norm.set_index(['date'], inplace=True)\n",
    "\n",
    "    # Add the dataframe to a list of dataframes\n",
    "    forecast_main_list.append(forecast_norm)\n",
    "\n",
    "    \n",
    "    # SOIL TEMPERATURE\n",
    "    # Get soil temperature data\n",
    "    forecast_soil_temp = forecast[0].get('soilTemperatures')\n",
    "\n",
    "    # Flatten data into dataframe\n",
    "    forecast_soil_temp_norm = json_normalize(forecast_soil_temp)\n",
    "\n",
    "    # Assign date, lat/lon to dataframe\n",
    "    forecast_soil_temp_norm['date'] = date\n",
    "    forecast_soil_temp_norm['latitude'] = lat\n",
    "    forecast_soil_temp_norm['longitude'] = lon\n",
    "\n",
    "    # Create multi-index dataframe for date and soil depth (rename depth columns? rather long)\n",
    "    soil_temp_multi_index = forecast_soil_temp_norm.set_index(\n",
    "        ['date', 'depth'])\n",
    "    \n",
    "    # Add dataframe to list of dataframes\n",
    "    forecast_soil_temp_list.append(soil_temp_multi_index)\n",
    "    \n",
    "    \n",
    "    # SOIL MOISTURE\n",
    "    # Get soil moisture data\n",
    "    forecast_soil_moisture = forecast[0].get('soilMoisture')\n",
    "    \n",
    "    # Flatten data into dataframe\n",
    "    forecast_soil_moisture_norm = json_normalize(forecast_soil_moisture)\n",
    "    \n",
    "    # Assign date, lat/lon to dataframe\n",
    "    forecast_soil_moisture_norm['date'] = date\n",
    "    forecast_soil_moisture_norm['latitude'] = lat\n",
    "    forecast_soil_moisture_norm['longitude'] = lon\n",
    "    #print(\"Soil Moisture\")\n",
    "    \n",
    "    # Create multi-index dataframe for date and soil depth (rename depth columns? rather long)\n",
    "    soil_moisture_multi_index = forecast_soil_moisture_norm.set_index([\n",
    "        'date', 'depth'])\n",
    "\n",
    "    # Add dataframe to list of dataframes\n",
    "    forecast_soil_moisture_list.append(soil_moisture_multi_index)\n",
    "    \n",
    "    \n",
    "# Merge lists of dataframes into a single dataframe\n",
    "forecast_main_df = pd.concat(forecast_list)\n",
    "forecast_soil_temp_df = pd.concat(forecast_soil_temp_list)\n",
    "forecast_soil_moisture_df = pd.concat(forecast_soil_moisture_list)\n",
    "\n",
    "# soil_moisture_multi_index.loc['2020-04-12', '0.1-0.4 m below ground'].average\n",
    "# Create one dataframe from list of dataframes\n",
    "# pd.concat(soil_temp_list).loc['2020-04-05', '0-0.1 m below ground']['max']"
   ]
  },
  {
   "cell_type": "code",
   "execution_count": null,
   "metadata": {},
   "outputs": [],
   "source": [
    "forecast_soil_temp_df"
   ]
  },
  {
   "cell_type": "code",
   "execution_count": null,
   "metadata": {},
   "outputs": [],
   "source": [
    "forecast_soil_moisture_df"
   ]
  },
  {
   "cell_type": "code",
   "execution_count": null,
   "metadata": {},
   "outputs": [],
   "source": [
    "pd.set_option('display.max_columns', None)"
   ]
  },
  {
   "cell_type": "code",
   "execution_count": null,
   "metadata": {},
   "outputs": [],
   "source": [
    "forecast_main_df"
   ]
  },
  {
   "cell_type": "code",
   "execution_count": null,
   "metadata": {},
   "outputs": [],
   "source": [
    "def extract_forecast_main_data(forecast):\n",
    "    \"\"\"Extract aWhere forecast data and returns\n",
    "    it in a pandas dataframe.\n",
    "    \"\"\"\n",
    "    # Initialize lists to store forecast\n",
    "    forecast_main_list = []\n",
    "\n",
    "    # Loop through each row in the top-level flattened dataframe\n",
    "    for index, row in json_normalize(forecast.get('forecasts')).iterrows():\n",
    "\n",
    "        # Extract date, lat, lon for insertion into lower-level dataframe outputs\n",
    "        date = row['date']\n",
    "        lat = row['location.latitude']\n",
    "        lon = row['location.longitude']\n",
    "\n",
    "        # Extract the main forecast from the top-level dataframe\n",
    "        forecast = row['forecast']\n",
    "\n",
    "        # Faltten data into dataframe\n",
    "        forecast_norm = json_normalize(forecast)\n",
    "\n",
    "        # Drop soil moisture and soil temperature columns\n",
    "        #  (will be extracted as indivdiual dataframes)\n",
    "        forecast_norm.drop(columns=[\n",
    "            'soilTemperatures',\n",
    "            'soilMoisture',\n",
    "        ],\n",
    "            axis=1, inplace=True)\n",
    "        # Assign date, lat/lon to dataframe\n",
    "        forecast_norm['date'] = date\n",
    "        forecast_norm['latitude'] = lat\n",
    "        forecast_norm['longitude'] = lon\n",
    "\n",
    "        # Set date as index\n",
    "        forecast_norm.set_index(['date'], inplace=True)\n",
    "\n",
    "        # Add the dataframe to a list of dataframes\n",
    "        forecast_main_list.append(forecast_norm)\n",
    "\n",
    "    # Return merged lists of dataframes into a single dataframe\n",
    "    return pd.concat(forecast_main_list)"
   ]
  },
  {
   "cell_type": "code",
   "execution_count": null,
   "metadata": {},
   "outputs": [],
   "source": [
    "forecast_function_test1 = extract_forecast_main_data(forecast)"
   ]
  },
  {
   "cell_type": "code",
   "execution_count": null,
   "metadata": {},
   "outputs": [],
   "source": [
    "forecast_function_test1"
   ]
  },
  {
   "cell_type": "code",
   "execution_count": null,
   "metadata": {},
   "outputs": [],
   "source": [
    "def extract_forecast_soil_temp(forecast):\n",
    "    \"\"\"Extract aWhere forecast soil temperature\n",
    "    data and returns it in a pandas dataframe.\n",
    "    \"\"\"\n",
    "    # Initialize lists to store soil temp dataframes\n",
    "    forecast_soil_temp_list = []\n",
    "\n",
    "    # Loop through each row in the top-level flattened dataframe\n",
    "    for index, row in json_normalize(forecast.get('forecasts')).iterrows():\n",
    "\n",
    "        # Extract date, lat, lon for insertion into lower-level dataframe outputs\n",
    "        date = row['date']\n",
    "        lat = row['location.latitude']\n",
    "        lon = row['location.longitude']\n",
    "\n",
    "        # Get soil temperature data\n",
    "        forecast_soil_temp = row['forecast'][0].get('soilTemperatures')\n",
    "\n",
    "        # Flatten data into dataframe\n",
    "        forecast_soil_temp_norm = json_normalize(forecast_soil_temp)\n",
    "\n",
    "        # Assign date, lat/lon to dataframe\n",
    "        forecast_soil_temp_norm['date'] = date\n",
    "        forecast_soil_temp_norm['latitude'] = lat\n",
    "        forecast_soil_temp_norm['longitude'] = lon\n",
    "\n",
    "        # Create multi-index dataframe for date and soil depth (rename depth columns? rather long)\n",
    "        soil_temp_multi_index = forecast_soil_temp_norm.set_index(\n",
    "            ['date', 'depth'])\n",
    "\n",
    "        # Add dataframe to list of dataframes\n",
    "        forecast_soil_temp_list.append(soil_temp_multi_index)\n",
    "\n",
    "    # Return merged lists of dataframes into a single dataframe\n",
    "    return pd.concat(forecast_soil_temp_list)"
   ]
  },
  {
   "cell_type": "code",
   "execution_count": null,
   "metadata": {},
   "outputs": [],
   "source": [
    "forecast_function_test2 = extract_forecast_soil_temp(forecast)"
   ]
  },
  {
   "cell_type": "code",
   "execution_count": null,
   "metadata": {},
   "outputs": [],
   "source": [
    "forecast_function_test2"
   ]
  },
  {
   "cell_type": "code",
   "execution_count": null,
   "metadata": {},
   "outputs": [],
   "source": [
    "def extract_forecast_soil_moisture(forecast):\n",
    "    \"\"\"Extract aWhere forecast soil moisture\n",
    "    data and returns it in a pandas dataframe.\n",
    "    \"\"\"\n",
    "    # Initialize lists to store soil moisture dataframes\n",
    "    forecast_soil_moisture_list = []\n",
    "\n",
    "    # Loop through each row in the top-level flattened dataframe\n",
    "    for index, row in json_normalize(forecast.get('forecasts')).iterrows():\n",
    "\n",
    "        # Extract date, lat, lon for insertion into lower-level dataframe outputs\n",
    "        date = row['date']\n",
    "        lat = row['location.latitude']\n",
    "        lon = row['location.longitude']\n",
    "        \n",
    "        # Get soil moisture data\n",
    "        forecast_soil_moisture = row['forecast'][0].get('soilMoisture')\n",
    "\n",
    "        # Flatten data into dataframe\n",
    "        forecast_soil_moisture_norm = json_normalize(forecast_soil_moisture)\n",
    "\n",
    "        # Assign date, lat/lon to dataframe\n",
    "        forecast_soil_moisture_norm['date'] = date\n",
    "        forecast_soil_moisture_norm['latitude'] = lat\n",
    "        forecast_soil_moisture_norm['longitude'] = lon\n",
    "\n",
    "        # Create multi-index dataframe for date and soil depth (rename depth columns? rather long)\n",
    "        soil_moisture_multi_index = forecast_soil_moisture_norm.set_index([\n",
    "            'date', 'depth'])\n",
    "\n",
    "        # Add dataframe to list of dataframes\n",
    "        forecast_soil_moisture_list.append(soil_moisture_multi_index)\n",
    "\n",
    "    # Return merged lists of dataframes into a single dataframe\n",
    "    return pd.concat(forecast_soil_moisture_list)"
   ]
  },
  {
   "cell_type": "code",
   "execution_count": null,
   "metadata": {},
   "outputs": [],
   "source": [
    "forecast_function_test3 = extract_forecast_soil_moisture(forecast)"
   ]
  },
  {
   "cell_type": "code",
   "execution_count": null,
   "metadata": {},
   "outputs": [],
   "source": [
    "forecast_function_test3"
   ]
  },
  {
   "cell_type": "markdown",
   "metadata": {},
   "source": [
    "## Parse Historic Norms"
   ]
  },
  {
   "cell_type": "code",
   "execution_count": null,
   "metadata": {},
   "outputs": [],
   "source": [
    "def extract_historic_norms(historic_norms):\n",
    "    \"\"\"Creates a dataframe from a JSON-like \n",
    "    dictionary of aWhere historic norm data. \n",
    "\n",
    "    Parameters\n",
    "    ----------\n",
    "    historic_norms : dict\n",
    "        aWhere historic norm data in dictionary format.\n",
    "\n",
    "    Returns\n",
    "    -------\n",
    "    historic_norms_df : pandas dataframe\n",
    "        Flattened dataframe version of historic norms.\n",
    "    \"\"\"\n",
    "    # Check if multiple entries (days) are in norms\n",
    "    if historic_norms.get('norms'):\n",
    "        # Flatten to dataframe\n",
    "        historic_norms_df = json_normalize(historic_norms.get('norms'))\n",
    "    \n",
    "    # Single-day norm\n",
    "    else:\n",
    "        # Flatten to dataframe\n",
    "        historic_norms_df = json_normalize(historic_norms)\n",
    "    \n",
    "    # Set day as index\n",
    "    historic_norms_df.set_index('day', inplace=True)\n",
    "    \n",
    "    # Drop unnecessary columns\n",
    "    historic_norms_df.drop(\n",
    "        columns=[\n",
    "            '_links.self.href', \n",
    "            '_links.curies', \n",
    "            '_links.awhere:field.href'], \n",
    "        axis=1, inplace=True)\n",
    "\n",
    "    # Return dataframe\n",
    "    return historic_norms_df"
   ]
  },
  {
   "cell_type": "code",
   "execution_count": null,
   "metadata": {},
   "outputs": [],
   "source": [
    "# Get historical norms for one day\n",
    "norms = aWhere.get_weather_norms('Colorado-Test-1', '05-05')"
   ]
  },
  {
   "cell_type": "code",
   "execution_count": null,
   "metadata": {},
   "outputs": [],
   "source": [
    "# Get historical norms for one day\n",
    "norms = aWhere.get_weather_norms('Colorado-Test-1', '05-05')\n",
    "extract_data.extract_historic_norms(norms)"
   ]
  },
  {
   "cell_type": "markdown",
   "metadata": {},
   "source": [
    "## Parse Observed Weather"
   ]
  },
  {
   "cell_type": "code",
   "execution_count": null,
   "metadata": {},
   "outputs": [],
   "source": [
    "def extract_observed_weather(observed_weather):\n",
    "    \"\"\"Creates a dataframe from a JSON-like \n",
    "    dictionary of aWhere observed weather data. \n",
    "\n",
    "    Parameters\n",
    "    ----------\n",
    "    observed_weather : dict\n",
    "        aWhere historic norm data in dictionary format.\n",
    "\n",
    "    Returns\n",
    "    -------\n",
    "    observed_weather_df : pandas dataframe\n",
    "        Flattened dataframe version of historic norms.\n",
    "    \"\"\"\n",
    "    # Flatten to dataframe\n",
    "    observed_weather_df = json_normalize(observed_weather.get('observations'))\n",
    "\n",
    "    # Set date as index\n",
    "    observed_weather_df.set_index('date', inplace=True)\n",
    "\n",
    "    # Drop unnecessary columns\n",
    "    observed_weather_df.drop(\n",
    "        columns=[\n",
    "            '_links.self.href',\n",
    "            '_links.curies',\n",
    "            '_links.awhere:field.href'],\n",
    "        axis=1, inplace=True)\n",
    "\n",
    "    # Return dataframe\n",
    "    return observed_weather_df"
   ]
  },
  {
   "cell_type": "code",
   "execution_count": null,
   "metadata": {},
   "outputs": [],
   "source": [
    "observed"
   ]
  },
  {
   "cell_type": "code",
   "execution_count": null,
   "metadata": {},
   "outputs": [],
   "source": [
    "observed_df = extract_observed_weather(observed)"
   ]
  },
  {
   "cell_type": "code",
   "execution_count": null,
   "metadata": {},
   "outputs": [],
   "source": [
    "observed_df"
   ]
  },
  {
   "cell_type": "markdown",
   "metadata": {},
   "source": [
    "## Notes"
   ]
  },
  {
   "cell_type": "markdown",
   "metadata": {},
   "source": [
    "Put *create_awhere.py* into *awhere.py*?\n",
    "\n",
    "Need to add date range and offset optional parameters to *get_weather_forecast*, *get_weather_norms*, and *get_observed_weather* methods in *awhere.py* "
   ]
  },
  {
   "cell_type": "code",
   "execution_count": null,
   "metadata": {},
   "outputs": [],
   "source": [
    "x = None"
   ]
  },
  {
   "cell_type": "code",
   "execution_count": null,
   "metadata": {},
   "outputs": [],
   "source": [
    "if x:\n",
    "    print(\"Yes\")\n",
    "else:\n",
    "    print(\"No\")"
   ]
  },
  {
   "cell_type": "code",
   "execution_count": null,
   "metadata": {},
   "outputs": [],
   "source": [
    "y = 1"
   ]
  },
  {
   "cell_type": "code",
   "execution_count": null,
   "metadata": {},
   "outputs": [],
   "source": [
    "if y:\n",
    "    print(\"Yes\")\n",
    "else:\n",
    "    print(\"No\")"
   ]
  },
  {
   "cell_type": "code",
   "execution_count": null,
   "metadata": {},
   "outputs": [],
   "source": [
    "def get_weather_norms(self, field_id, start_day, end_day=None, offset=0):\n",
    "    \"\"\"\n",
    "    Performs a HTTP GET request to obtain 10-year historical norms.\n",
    "\n",
    "    Docs:\n",
    "        http://developer.awhere.com/api/reference/weather/norms\n",
    "\n",
    "    Parameters\n",
    "    ----------\n",
    "    field_id : str\n",
    "        ID of the field.\n",
    "\n",
    "    Returns\n",
    "    -------\n",
    "    response : dict\n",
    "        Dictionary containing the norms.\n",
    "\n",
    "    Example\n",
    "    -------\n",
    "    \"\"\"\n",
    "    # Setup the HTTP request headers\n",
    "    auth_headers = {\n",
    "        \"Authorization\": f\"Bearer {self.auth_token}\"\n",
    "    }\n",
    "\n",
    "    # Perform the HTTP request to obtain the norms for the Field\n",
    "    url_single_day = f\"{self._weather_url}/{field_id}/norms/{start_day}\"\n",
    "    url_multiple_days = f\"{self._weather_url}/{field_id}/norms/{start_day},{end_day}\"\n",
    "\n",
    "    # Get singel day norms or range based on user input\n",
    "    response = requests.get(url_multiple_days, headers=auth_headers) if end_day else requests.get(\n",
    "        url_single_day, headers=auth_headers)\n",
    "\n",
    "    # Return the norms\n",
    "    return response.json()"
   ]
  },
  {
   "cell_type": "code",
   "execution_count": null,
   "metadata": {},
   "outputs": [],
   "source": [
    "aWhere.get_weather_norms('Colorado-Test-1', '05-01', '06-01')"
   ]
  },
  {
   "cell_type": "code",
   "execution_count": null,
   "metadata": {},
   "outputs": [],
   "source": [
    "a = -1\n",
    "x = 1 if a < 0\n",
    "x"
   ]
  },
  {
   "cell_type": "code",
   "execution_count": null,
   "metadata": {},
   "outputs": [],
   "source": [
    "aWhere.get_weather_observed('Colorado-Test-1')"
   ]
  },
  {
   "cell_type": "code",
   "execution_count": null,
   "metadata": {},
   "outputs": [],
   "source": [
    "aWhere.get_weather_observed('Colorado-Test-1', '2020-03-10') # YYYY-MM-DD"
   ]
  },
  {
   "cell_type": "code",
   "execution_count": null,
   "metadata": {
    "scrolled": true
   },
   "outputs": [],
   "source": [
    "aWhere.get_weather_observed('Colorado-Test-1', end_day='2020-03-09')"
   ]
  },
  {
   "cell_type": "code",
   "execution_count": null,
   "metadata": {},
   "outputs": [],
   "source": [
    "aWhere.get_weather_observed('Colorado-Test-1', '2020-03-10', '2020-03-15', offset=2)"
   ]
  },
  {
   "cell_type": "code",
   "execution_count": null,
   "metadata": {},
   "outputs": [],
   "source": [
    "start_day, end_day = None, None\n",
    "\n",
    "if not(start_day or end_day):\n",
    "    print(\"yes1\")\n",
    "    \n",
    "if start_day and not end_day:\n",
    "    print(\"yes2\")\n",
    "    \n",
    "if not start_day and end_day:\n",
    "    print(\"yes3\")\n",
    "    \n",
    "if start_day and end_day:\n",
    "    print(\"yes4\")"
   ]
  },
  {
   "cell_type": "code",
   "execution_count": null,
   "metadata": {},
   "outputs": [],
   "source": [
    "start_day, end_day = 1, None\n",
    "\n",
    "if not (start_day or end_day):\n",
    "    print(\"yes1\")\n",
    "    \n",
    "if start_day and not end_day:\n",
    "    print(\"yes2\")\n",
    "    \n",
    "if not start_day and end_day:\n",
    "    print(\"yes3\")\n",
    "    \n",
    "if start_day and end_day:\n",
    "    print(\"yes4\")"
   ]
  },
  {
   "cell_type": "code",
   "execution_count": null,
   "metadata": {},
   "outputs": [],
   "source": [
    "start_day, end_day = None, 1\n",
    "\n",
    "if not(start_day or end_day):\n",
    "    print(\"yes1\")\n",
    "    \n",
    "if start_day and not end_day:\n",
    "    print(\"yes2\")\n",
    "    \n",
    "if not start_day and end_day:\n",
    "    print(\"yes3\")\n",
    "    \n",
    "if start_day and end_day:\n",
    "    print(\"yes4\")"
   ]
  },
  {
   "cell_type": "code",
   "execution_count": null,
   "metadata": {},
   "outputs": [],
   "source": [
    "start_day, end_day = 1, 1\n",
    "\n",
    "if not(start_day and end_day):\n",
    "    print(\"yes1\")\n",
    "    \n",
    "if start_day and not end_day:\n",
    "    print(\"yes2\")\n",
    "    \n",
    "if not start_day and end_day:\n",
    "    print(\"yes3\")\n",
    "    \n",
    "if start_day and end_day:\n",
    "    print(\"yes4\")"
   ]
  },
  {
   "cell_type": "code",
   "execution_count": null,
   "metadata": {},
   "outputs": [],
   "source": [
    "ob = aWhere.get_weather_observed('Colorado-Test-1')"
   ]
  },
  {
   "cell_type": "code",
   "execution_count": null,
   "metadata": {},
   "outputs": [],
   "source": [
    "json_normalize(ob.get('observations'))"
   ]
  },
  {
   "cell_type": "code",
   "execution_count": null,
   "metadata": {},
   "outputs": [],
   "source": [
    "extract_data.extract_observed_weather(ob)"
   ]
  },
  {
   "cell_type": "code",
   "execution_count": null,
   "metadata": {},
   "outputs": [],
   "source": [
    "aWhere.get_weather_forecast('Colorado-Test-1')"
   ]
  },
  {
   "cell_type": "code",
   "execution_count": null,
   "metadata": {},
   "outputs": [],
   "source": [
    "aWhere.get_weather_forecast('Colorado-Test-1', start_day='2020-04-10')"
   ]
  },
  {
   "cell_type": "code",
   "execution_count": null,
   "metadata": {},
   "outputs": [],
   "source": [
    "json_normalize(aWhere.get_weather_forecast('Colorado-Test-1', end_day='2020-04-14'))"
   ]
  },
  {
   "cell_type": "code",
   "execution_count": null,
   "metadata": {},
   "outputs": [],
   "source": [
    "aWhere.get_weather_forecast(\n",
    "    'Colorado-Test-1', start_day='2020-04-10', end_day='2020-04-15')"
   ]
  },
  {
   "cell_type": "code",
   "execution_count": null,
   "metadata": {},
   "outputs": [],
   "source": [
    "json_normalize(aWhere.get_weather_forecast(\n",
    "    'Colorado-Test-1', start_day='2020-04-10', end_day='2020-04-15').get('forecasts'))"
   ]
  },
  {
   "cell_type": "code",
   "execution_count": null,
   "metadata": {
    "scrolled": true
   },
   "outputs": [],
   "source": [
    "aWhere.get_weather_forecast(\n",
    "    'Colorado-Test-1', start_day='2020-04-10', end_day='2020-04-15'))"
   ]
  },
  {
   "cell_type": "code",
   "execution_count": null,
   "metadata": {},
   "outputs": [],
   "source": [
    "forecast_df "
   ]
  },
  {
   "cell_type": "code",
   "execution_count": null,
   "metadata": {},
   "outputs": [],
   "source": []
  },
  {
   "cell_type": "code",
   "execution_count": null,
   "metadata": {},
   "outputs": [],
   "source": [
    "fc_multiple = aWhere.get_weather_forecast('Colorado-Test-1')"
   ]
  },
  {
   "cell_type": "code",
   "execution_count": null,
   "metadata": {},
   "outputs": [],
   "source": [
    "extract_data.extract_forecast_main_data(fc_multiple)"
   ]
  },
  {
   "cell_type": "code",
   "execution_count": null,
   "metadata": {},
   "outputs": [],
   "source": [
    "fc_multiple2 = aWhere.get_weather_forecast(\n",
    "    'Colorado-Test-1', start_day='2020-04-10', end_day='2020-04-15')"
   ]
  },
  {
   "cell_type": "code",
   "execution_count": null,
   "metadata": {},
   "outputs": [],
   "source": [
    "fc_multiple2"
   ]
  },
  {
   "cell_type": "code",
   "execution_count": null,
   "metadata": {},
   "outputs": [],
   "source": [
    "extract_data.extract_forecast_main_data(fc_multiple2)"
   ]
  },
  {
   "cell_type": "code",
   "execution_count": null,
   "metadata": {},
   "outputs": [],
   "source": [
    "fc_single1 = aWhere.get_weather_forecast(\n",
    "    'Colorado-Test-1', start_day='2020-04-10')"
   ]
  },
  {
   "cell_type": "code",
   "execution_count": null,
   "metadata": {},
   "outputs": [],
   "source": [
    "fc_single1"
   ]
  },
  {
   "cell_type": "code",
   "execution_count": null,
   "metadata": {},
   "outputs": [],
   "source": [
    "extract_data.extract_forecast_main_data(fc_single1)"
   ]
  },
  {
   "cell_type": "code",
   "execution_count": null,
   "metadata": {},
   "outputs": [],
   "source": [
    "fc_single2 = aWhere.get_weather_forecast(\n",
    "    'Colorado-Test-1', end_day='2020-04-09')"
   ]
  },
  {
   "cell_type": "code",
   "execution_count": null,
   "metadata": {},
   "outputs": [],
   "source": [
    "fc_single1"
   ]
  },
  {
   "cell_type": "code",
   "execution_count": null,
   "metadata": {},
   "outputs": [],
   "source": [
    "extract_data.extract_forecast_main_data(fc_single2)"
   ]
  },
  {
   "cell_type": "code",
   "execution_count": null,
   "metadata": {},
   "outputs": [],
   "source": []
  },
  {
   "cell_type": "code",
   "execution_count": null,
   "metadata": {},
   "outputs": [],
   "source": [
    "soil = aWhere.get_weather_forecast('Colorado-Test-1')\n",
    "soil"
   ]
  },
  {
   "cell_type": "code",
   "execution_count": null,
   "metadata": {},
   "outputs": [],
   "source": [
    "soil_temp = extract_data.extract_forecast_soil_temp(aWhere.get_weather_forecast('Colorado-Test-1'))\n",
    "soil_temp"
   ]
  },
  {
   "cell_type": "code",
   "execution_count": null,
   "metadata": {},
   "outputs": [],
   "source": [
    "soil_temp.loc[['2020-04-17', '0.1-0.4']]"
   ]
  },
  {
   "cell_type": "code",
   "execution_count": null,
   "metadata": {},
   "outputs": [],
   "source": [
    "test = (aWhere.get_weather_forecast('Colorado-Test-1')).get('forecasts')[0].get('forecast')[0].get('soilTemperatures')"
   ]
  },
  {
   "cell_type": "code",
   "execution_count": null,
   "metadata": {},
   "outputs": [],
   "source": [
    "test_df = json_normalize(test)\n",
    "test_df"
   ]
  },
  {
   "cell_type": "code",
   "execution_count": null,
   "metadata": {},
   "outputs": [],
   "source": [
    "test_df['depth'][0][0:-15]"
   ]
  },
  {
   "cell_type": "code",
   "execution_count": null,
   "metadata": {},
   "outputs": [],
   "source": [
    "s = [\"0-0.1 m below ground\", \"0.1-0.4 m below ground\", \"0.4-1 m below ground\", \"1-2 m below ground\"]"
   ]
  },
  {
   "cell_type": "code",
   "execution_count": null,
   "metadata": {},
   "outputs": [],
   "source": [
    "for string in s:\n",
    "    print(string[0:-15])\n",
    "    print(string[-15:])"
   ]
  },
  {
   "cell_type": "code",
   "execution_count": null,
   "metadata": {},
   "outputs": [],
   "source": []
  },
  {
   "cell_type": "code",
   "execution_count": null,
   "metadata": {
    "scrolled": true
   },
   "outputs": [],
   "source": [
    "test_df"
   ]
  },
  {
   "cell_type": "code",
   "execution_count": null,
   "metadata": {},
   "outputs": [],
   "source": [
    "# Shorten depth values to numerics (will be used in MultiIndex)\n",
    "test_df['depth'] = test_df['depth'].apply(lambda x: x[0:-15])\n",
    "\n",
    "# Rename depth prior to indexing\n",
    "test_df.rename(columns={'depth': 'ground_depth_m'}, inplace=True)\n"
   ]
  },
  {
   "cell_type": "code",
   "execution_count": null,
   "metadata": {},
   "outputs": [],
   "source": [
    "extract_data.extract_forecast_soil_temp(aWhere.get_weather_forecast(\n",
    "    'Colorado-Test-1', start_day='2020-04-10'))"
   ]
  },
  {
   "cell_type": "code",
   "execution_count": null,
   "metadata": {},
   "outputs": [],
   "source": []
  },
  {
   "cell_type": "code",
   "execution_count": null,
   "metadata": {},
   "outputs": [],
   "source": [
    "extract_data.extract_forecast_soil_temp(aWhere.get_weather_forecast(\n",
    "    'Colorado-Test-1', end_day='2020-04-15'))"
   ]
  },
  {
   "cell_type": "code",
   "execution_count": null,
   "metadata": {},
   "outputs": [],
   "source": []
  },
  {
   "cell_type": "code",
   "execution_count": null,
   "metadata": {},
   "outputs": [],
   "source": []
  },
  {
   "cell_type": "code",
   "execution_count": null,
   "metadata": {},
   "outputs": [],
   "source": []
  },
  {
   "cell_type": "code",
   "execution_count": null,
   "metadata": {},
   "outputs": [],
   "source": []
  },
  {
   "cell_type": "code",
   "execution_count": null,
   "metadata": {},
   "outputs": [],
   "source": []
  },
  {
   "cell_type": "code",
   "execution_count": null,
   "metadata": {},
   "outputs": [],
   "source": [
    "extract_data.extract_forecast_soil_moisture(\n",
    "    aWhere.get_weather_forecast('Colorado-Test-1'))"
   ]
  },
  {
   "cell_type": "code",
   "execution_count": null,
   "metadata": {},
   "outputs": [],
   "source": [
    "extract_data.extract_forecast_soil_moisture(aWhere.get_weather_forecast(\n",
    "    'Colorado-Test-1', start_day='2020-04-10'))"
   ]
  },
  {
   "cell_type": "code",
   "execution_count": null,
   "metadata": {},
   "outputs": [],
   "source": [
    "extract_data.extract_forecast_soil_moisture(aWhere.get_weather_forecast(\n",
    "    'Colorado-Test-1', end_day='2020-04-15'))"
   ]
  },
  {
   "cell_type": "code",
   "execution_count": null,
   "metadata": {},
   "outputs": [],
   "source": [
    "extract_data.extract_forecast_soil_moisture(aWhere.get_weather_forecast(\n",
    "    'Colorado-Test-1', start_day='2020-04-10', end_day='2020-04-15'))"
   ]
  },
  {
   "cell_type": "code",
   "execution_count": null,
   "metadata": {},
   "outputs": [],
   "source": []
  },
  {
   "cell_type": "code",
   "execution_count": null,
   "metadata": {},
   "outputs": [],
   "source": []
  },
  {
   "cell_type": "code",
   "execution_count": null,
   "metadata": {},
   "outputs": [],
   "source": []
  },
  {
   "cell_type": "markdown",
   "metadata": {},
   "source": [
    "Add in year ranges for norms?"
   ]
  },
  {
   "cell_type": "markdown",
   "metadata": {},
   "source": [
    "## Organize Dataframe"
   ]
  },
  {
   "cell_type": "markdown",
   "metadata": {},
   "source": [
    "Function pseudocode:\n",
    "\n",
    "0. Define CRS\n",
    "1. Convert to GeoDataFrame (from lat/lon) - user specify list of lat/lon columsn or list of coolumns\n",
    "2. Drop columns (user input list of column names) \n",
    "3. Rename remaining columns (user provides dictionary mapping names)"
   ]
  },
  {
   "cell_type": "code",
   "execution_count": null,
   "metadata": {},
   "outputs": [],
   "source": [
    "# Make all three (main forecast, soil temp, soil moisture) into geodataframes\n",
    "crs = {'init': 'epsg:4326'}\n",
    "\n",
    "forecast_main_gdf = gpd.GeoDataFrame(\n",
    "    forecast_all,\n",
    "    geometry=gpd.points_from_xy(\n",
    "        forecast_all['longitude'],\n",
    "        forecast_all['latitude'])\n",
    ")\n",
    "\n",
    "forecast_main_gdf.drop(\n",
    "        columns=[\n",
    "            'latitude', \n",
    "            'longitude'], \n",
    "        axis=1, inplace=True)\n"
   ]
  },
  {
   "cell_type": "code",
   "execution_count": null,
   "metadata": {},
   "outputs": [],
   "source": [
    "def clean_dataframe(df, lon_lat_cols, drop_cols, name_map):\n",
    "    \"\"\"Converts dataframe to geodataframe, \n",
    "    drops unnecessary columns, and renames\n",
    "    columns.\n",
    "\n",
    "    Parameters\n",
    "    ----------\n",
    "    df : dataframe\n",
    "        Input dataframe.\n",
    "\n",
    "    lon_lat_cols : list\n",
    "        List containing the column name for longitude (list[0])\n",
    "        and latitude (list[1]) attributes.\n",
    "\n",
    "    drop_cols : list (of str)\n",
    "        List of column names to be dropped.\n",
    "\n",
    "    name_map : dict\n",
    "        Dictionaty mapping old columns names (keys)\n",
    "        to new column names (values).\n",
    "        \n",
    "    Returns\n",
    "    -------\n",
    "    gdf : geodataframe\n",
    "        Cleaned geodataframe.\n",
    "    \n",
    "    Example\n",
    "    -------\n",
    "    \"\"\"\n",
    "    # Define CRS (EPSG 4326) - make this a parameter?\n",
    "    crs = {'init': 'epsg:4326'}\n",
    "    \n",
    "    # Rename index - possibly as option, or take care of index prior?\n",
    "    #df.index.rename('date_rename', inplace=True)\n",
    "\n",
    "    # Convert to geodataframe\n",
    "    gdf = gpd.GeoDataFrame(\n",
    "        df, crs=crs, geometry=gpd.points_from_xy(\n",
    "            df[lon_lat_cols[0]], \n",
    "            df[lon_lat_cols[1]])\n",
    "    )\n",
    "\n",
    "    # Add lat/lon columns to drop columns list\n",
    "    drop_cols += lon_lat_cols\n",
    "\n",
    "    # Drop columns\n",
    "    gdf.drop(columns=drop_cols, axis=1, inplace=True)\n",
    "\n",
    "    # Rename columns\n",
    "    gdf.rename(columns=name_map, inplace=True)\n",
    "\n",
    "    # Return cleaned up geodataframe\n",
    "    return gdf"
   ]
  },
  {
   "cell_type": "markdown",
   "metadata": {},
   "source": [
    "## Test Forecast (main)"
   ]
  },
  {
   "cell_type": "code",
   "execution_count": null,
   "metadata": {},
   "outputs": [],
   "source": [
    "test_forecast = extract_data.extract_forecast_main_data(aWhere.get_weather_forecast(\n",
    "    'Colorado-Test-1', start_day='2020-04-10', end_day='2020-04-15'))"
   ]
  },
  {
   "cell_type": "code",
   "execution_count": null,
   "metadata": {},
   "outputs": [],
   "source": [
    "test_forecast.head()"
   ]
  },
  {
   "cell_type": "code",
   "execution_count": null,
   "metadata": {},
   "outputs": [],
   "source": [
    "forecast_main_drop_cols = [\n",
    "    'temperatures.units', 'precipitation.units', \n",
    "    'solar.units', 'wind.units', 'dewPoint.units'\n",
    "]"
   ]
  },
  {
   "cell_type": "code",
   "execution_count": null,
   "metadata": {},
   "outputs": [],
   "source": [
    "forecast_main_mapping = {\n",
    "    'startTime': 'start_time',\n",
    "    'endTime': 'end_time',\n",
    "    'conditionsCode': 'conditions_code',\n",
    "    'conditionsText': 'conditions_text',\n",
    "    'temperatures.max': 'temp_max_cels',\n",
    "    'temperatures.min': 'temp_min_cels',\n",
    "    #'temperatures.units' , drop\n",
    "    'precipitation.chance': 'precip_chance_%',\n",
    "    'precipitation.amount': 'precip_amount_mm',\n",
    "    # These properties identify the percentage of sky that is occluded\n",
    "    # by clouds during this time window (and inversely, how much of the sky is clear)\n",
    "    'sky.cloudCover': 'sky_cloud_cover_%',\n",
    "    'sky.sunshine': 'sky_sunshine_%',\n",
    "    'solar.amount': 'solar_energy_w_h_per_m2',\n",
    "    'relativeHumidity.average': 'rel_humidity_avg_%',\n",
    "    'relativeHumidity.max': 'rel_humidity_max_%',\n",
    "    'relativeHumidity.min': 'rel_humidity_min_%',\n",
    "    'wind.average': 'wind_avg_m_per_sec',\n",
    "    'wind.max': 'wind_max_m_per_sec',\n",
    "    'wind.min': 'wind_min_m_per_sec',\n",
    "    'wind.bearing': 'wind_bearing_deg',\n",
    "    'wind.direction': 'wind_direction_compass',  # direction wind is coming FROM\n",
    "    'dewPoint.amount': 'dew_point_cels'\n",
    "}"
   ]
  },
  {
   "cell_type": "code",
   "execution_count": null,
   "metadata": {},
   "outputs": [],
   "source": [
    "forecast_lon_lat_cols = ['longitude', 'latitude']"
   ]
  },
  {
   "cell_type": "code",
   "execution_count": null,
   "metadata": {},
   "outputs": [],
   "source": [
    "forecast_gdf_test = clean_dataframe(\n",
    "    test_forecast, \n",
    "    lon_lat_cols=forecast_lon_lat_cols,\n",
    "    drop_cols=forecast_main_drop_cols, \n",
    "    name_map=forecast_main_mapping)"
   ]
  },
  {
   "cell_type": "code",
   "execution_count": null,
   "metadata": {},
   "outputs": [],
   "source": [
    "pd.set_option('display.max_columns', None)"
   ]
  },
  {
   "cell_type": "code",
   "execution_count": null,
   "metadata": {},
   "outputs": [],
   "source": [
    "forecast_gdf_test"
   ]
  },
  {
   "cell_type": "code",
   "execution_count": null,
   "metadata": {},
   "outputs": [],
   "source": [
    "drop_cols = [\n",
    "    'temperatures.units', 'precipitation.units', \n",
    "    'solar.units', 'wind.units', 'dewPoint.units'\n",
    "]"
   ]
  },
  {
   "cell_type": "code",
   "execution_count": null,
   "metadata": {},
   "outputs": [],
   "source": [
    "rename = forecast_gdf_test.Index.rename(index={'date': 'date_rename'})"
   ]
  },
  {
   "cell_type": "code",
   "execution_count": null,
   "metadata": {},
   "outputs": [],
   "source": [
    "rename"
   ]
  },
  {
   "cell_type": "code",
   "execution_count": null,
   "metadata": {},
   "outputs": [],
   "source": []
  },
  {
   "cell_type": "code",
   "execution_count": null,
   "metadata": {},
   "outputs": [],
   "source": []
  },
  {
   "cell_type": "markdown",
   "metadata": {},
   "source": [
    "## Test observed weather"
   ]
  },
  {
   "cell_type": "code",
   "execution_count": null,
   "metadata": {},
   "outputs": [],
   "source": [
    "df_observed = extract_data.extract_observed_weather(ob)\n",
    "df_observed"
   ]
  },
  {
   "cell_type": "code",
   "execution_count": null,
   "metadata": {},
   "outputs": [],
   "source": [
    "observed_lon_lat_cols = ['location.longitude', 'location.latitude']"
   ]
  },
  {
   "cell_type": "code",
   "execution_count": null,
   "metadata": {},
   "outputs": [],
   "source": [
    "observed_drop_cols = [\n",
    "    'location.fieldId', 'temperatures.units', 'precipitation.units', \n",
    "    'solar.units', 'wind.units'\n",
    "]"
   ]
  },
  {
   "cell_type": "code",
   "execution_count": null,
   "metadata": {},
   "outputs": [],
   "source": [
    "observed_mapping = {\n",
    "    'temperatures.max': 'temp_max_cels',\n",
    "    'temperatures.min': 'temp_min_cels',\n",
    "    'precipitation.amount': 'precip_amount_mm',\n",
    "    'solar.amount': 'solar_energy_w_h_per_m2',\n",
    "    'relativeHumidity.average': 'rel_humidity_avg_%',\n",
    "    'relativeHumidity.max': 'rel_humidity_max_%',\n",
    "    'relativeHumidity.min': 'rel_humidity_min_%',\n",
    "    'wind.morningMax': 'wind_morning_max_m_per_sec',\n",
    "    'wind.dayMax': 'wind_day_max_m_per_sec',\n",
    "    'wind.average': 'wind_avg_m_per_sec',\n",
    "}"
   ]
  },
  {
   "cell_type": "code",
   "execution_count": null,
   "metadata": {},
   "outputs": [],
   "source": [
    "gdf_observed = clean_dataframe(\n",
    "    df_observed, \n",
    "    lon_lat_cols=observed_lon_lat_cols,\n",
    "    drop_cols=observed_drop_cols, \n",
    "    name_map=observed_mapping)"
   ]
  },
  {
   "cell_type": "code",
   "execution_count": null,
   "metadata": {},
   "outputs": [],
   "source": [
    "gdf_observed"
   ]
  },
  {
   "cell_type": "markdown",
   "metadata": {},
   "source": [
    "## Test historic norms"
   ]
  },
  {
   "cell_type": "code",
   "execution_count": null,
   "metadata": {},
   "outputs": [],
   "source": [
    "# Get historical norms for one day\n",
    "norms = aWhere.get_weather_norms('Colorado-Test-1', '05-05', '05-15')\n",
    "df_norms = extract_data.extract_historic_norms(norms)"
   ]
  },
  {
   "cell_type": "code",
   "execution_count": null,
   "metadata": {},
   "outputs": [],
   "source": [
    "df_norms"
   ]
  },
  {
   "cell_type": "code",
   "execution_count": null,
   "metadata": {},
   "outputs": [],
   "source": [
    "norms_lon_lat_cols = ['location.longitude', 'location.latitude']"
   ]
  },
  {
   "cell_type": "code",
   "execution_count": null,
   "metadata": {},
   "outputs": [],
   "source": [
    "norms_drop_cols = [\n",
    "    'location.fieldId', 'meanTemp.units', 'maxTemp.units', \n",
    "    'minTemp.units', 'precipitation.units', 'solar.units', \n",
    "    'dailyMaxWind.units', 'averageWind.units'\n",
    "]"
   ]
  },
  {
   "cell_type": "code",
   "execution_count": null,
   "metadata": {},
   "outputs": [],
   "source": [
    "norms_mapping = {\n",
    "    'meanTemp.average': 'mean_temp_avg_cels',\n",
    "    'meanTemp.stdDev': 'mean_temp_std_dev_cels',\n",
    "    'maxTemp.average': 'max_temp_avg_cels',\n",
    "    'maxTemp.stdDev': 'max_temp_std_dev_cels',\n",
    "    'minTemp.average': 'min_temp_avg_cels',\n",
    "    'minTemp.stdDev': 'min_temp_std_dev_cels',\n",
    "    'precipitation.average': 'precip_avg_mm',\n",
    "    'precipitation.stdDev': 'precip_std_dev_mm',\n",
    "    'solar.average': 'solar_avg_w_h_per_m2',\n",
    "    'minHumidity.average': 'min_humiduty_avg_%',\n",
    "    'minHumidity.stdDev': 'min_humidity_std_dev_%',\n",
    "    'maxHumidity.average': 'max_humiduty_avg_%',\n",
    "    'maxHumidity.stdDev': 'max_humidity_std_dev_%',    \n",
    "    'dailyMaxWind.average': 'daily_max_wind_avg_m_per_sec',\n",
    "    'dailyMaxWind.stdDev': 'daily_max_wind_std_dev_m_per_sec',\n",
    "    'averageWind.average': 'average_wind_m_per_sec',\n",
    "    'averageWind.stdDev': 'average_wind_std_dev_m_per_sec'\n",
    "}"
   ]
  },
  {
   "cell_type": "code",
   "execution_count": null,
   "metadata": {},
   "outputs": [],
   "source": [
    "gdf_norms = clean_dataframe(\n",
    "    df_norms,\n",
    "    lon_lat_cols=norms_lon_lat_cols,\n",
    "    drop_cols=norms_drop_cols,\n",
    "    name_map=norms_mapping)"
   ]
  },
  {
   "cell_type": "code",
   "execution_count": null,
   "metadata": {},
   "outputs": [],
   "source": [
    "gdf_norms"
   ]
  },
  {
   "cell_type": "code",
   "execution_count": null,
   "metadata": {},
   "outputs": [],
   "source": []
  },
  {
   "cell_type": "code",
   "execution_count": null,
   "metadata": {},
   "outputs": [],
   "source": []
  },
  {
   "cell_type": "code",
   "execution_count": null,
   "metadata": {},
   "outputs": [],
   "source": []
  },
  {
   "cell_type": "code",
   "execution_count": null,
   "metadata": {},
   "outputs": [],
   "source": []
  },
  {
   "cell_type": "code",
   "execution_count": null,
   "metadata": {},
   "outputs": [],
   "source": [
    "df_soil_temp = extract_data.extract_forecast_soil_temp(aWhere.get_weather_forecast(\n",
    "    'Colorado-Test-1', start_day='2020-04-10', end_day='2020-04-15'))"
   ]
  },
  {
   "cell_type": "code",
   "execution_count": null,
   "metadata": {},
   "outputs": [],
   "source": [
    "df_soil_temp"
   ]
  },
  {
   "cell_type": "code",
   "execution_count": null,
   "metadata": {},
   "outputs": [],
   "source": []
  },
  {
   "cell_type": "code",
   "execution_count": null,
   "metadata": {},
   "outputs": [],
   "source": [
    "forecast_soil_temp_lon_lat_cols = ['longitude', 'latitude']"
   ]
  },
  {
   "cell_type": "code",
   "execution_count": null,
   "metadata": {},
   "outputs": [],
   "source": [
    "forecast_soil_temp_drop_cols = ['units']"
   ]
  },
  {
   "cell_type": "code",
   "execution_count": null,
   "metadata": {},
   "outputs": [],
   "source": [
    "forecast_soil_temp_mapping = {\n",
    "    'average': 'soil_temp_avg_cels',\n",
    "    'max': 'soil_temp_max_cels',\n",
    "    'min': 'soil_temp_min_cels',\n",
    "}"
   ]
  },
  {
   "cell_type": "code",
   "execution_count": null,
   "metadata": {},
   "outputs": [],
   "source": [
    "gdf_soil_temp = clean_dataframe(\n",
    "    df_soil_temp,\n",
    "    lon_lat_cols=forecast_soil_temp_lon_lat_cols,\n",
    "    drop_cols=forecast_soil_temp_drop_cols,\n",
    "    name_map=forecast_soil_temp_mapping)"
   ]
  },
  {
   "cell_type": "code",
   "execution_count": null,
   "metadata": {
    "scrolled": true
   },
   "outputs": [],
   "source": [
    "gdf_soil_temp"
   ]
  },
  {
   "cell_type": "code",
   "execution_count": null,
   "metadata": {},
   "outputs": [],
   "source": []
  },
  {
   "cell_type": "code",
   "execution_count": null,
   "metadata": {},
   "outputs": [],
   "source": []
  },
  {
   "cell_type": "code",
   "execution_count": null,
   "metadata": {},
   "outputs": [],
   "source": []
  },
  {
   "cell_type": "code",
   "execution_count": null,
   "metadata": {},
   "outputs": [],
   "source": []
  },
  {
   "cell_type": "code",
   "execution_count": null,
   "metadata": {},
   "outputs": [],
   "source": []
  },
  {
   "cell_type": "code",
   "execution_count": null,
   "metadata": {},
   "outputs": [],
   "source": []
  },
  {
   "cell_type": "code",
   "execution_count": null,
   "metadata": {},
   "outputs": [],
   "source": []
  },
  {
   "cell_type": "code",
   "execution_count": null,
   "metadata": {},
   "outputs": [],
   "source": []
  },
  {
   "cell_type": "code",
   "execution_count": null,
   "metadata": {},
   "outputs": [],
   "source": []
  },
  {
   "cell_type": "code",
   "execution_count": null,
   "metadata": {},
   "outputs": [],
   "source": [
    "df_soil_moisture = extract_data.extract_forecast_soil_moisture(aWhere.get_weather_forecast(\n",
    "    'Colorado-Test-1', start_day='2020-04-10', end_day='2020-04-15'))"
   ]
  },
  {
   "cell_type": "code",
   "execution_count": null,
   "metadata": {},
   "outputs": [],
   "source": [
    "df_soil_moisture"
   ]
  },
  {
   "cell_type": "code",
   "execution_count": null,
   "metadata": {},
   "outputs": [],
   "source": []
  },
  {
   "cell_type": "code",
   "execution_count": null,
   "metadata": {},
   "outputs": [],
   "source": [
    "forecast_soil_moisture_lon_lat_cols = ['longitude', 'latitude']"
   ]
  },
  {
   "cell_type": "code",
   "execution_count": null,
   "metadata": {},
   "outputs": [],
   "source": [
    "forecast_soil_moisture_drop_cols = []"
   ]
  },
  {
   "cell_type": "code",
   "execution_count": null,
   "metadata": {},
   "outputs": [],
   "source": [
    "forecast_soil_moisture_mapping = {\n",
    "    'average': 'soil_moisture_avg_%',\n",
    "    'max': 'soil_moisture_max_%',\n",
    "    'min': 'soil_moisture_min_%',\n",
    "}"
   ]
  },
  {
   "cell_type": "code",
   "execution_count": null,
   "metadata": {},
   "outputs": [],
   "source": [
    "gdf_soil_moisture = clean_dataframe(\n",
    "    df_soil_moisture,\n",
    "    lon_lat_cols=forecast_soil_moisture_lon_lat_cols,\n",
    "    drop_cols=forecast_soil_moisture_drop_cols,\n",
    "    name_map=forecast_soil_moisture_mapping)"
   ]
  },
  {
   "cell_type": "code",
   "execution_count": null,
   "metadata": {},
   "outputs": [],
   "source": [
    "gdf_soil_moisture"
   ]
  },
  {
   "cell_type": "code",
   "execution_count": null,
   "metadata": {},
   "outputs": [],
   "source": []
  }
 ],
 "metadata": {
  "kernelspec": {
   "display_name": "Python 3",
   "language": "python",
   "name": "python3"
  },
  "language_info": {
   "codemirror_mode": {
    "name": "ipython",
    "version": 3
   },
   "file_extension": ".py",
   "mimetype": "text/x-python",
   "name": "python",
   "nbconvert_exporter": "python",
   "pygments_lexer": "ipython3",
   "version": "3.7.6"
  },
  "toc": {
   "base_numbering": 1,
   "nav_menu": {},
   "number_sections": true,
   "sideBar": true,
   "skip_h1_title": false,
   "title_cell": "Table of Contents",
   "title_sidebar": "Contents",
   "toc_cell": false,
   "toc_position": {},
   "toc_section_display": true,
   "toc_window_display": false
  }
 },
 "nbformat": 4,
 "nbformat_minor": 4
}
