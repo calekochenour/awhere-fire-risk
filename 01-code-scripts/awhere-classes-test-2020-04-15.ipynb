{
 "cells": [
  {
   "cell_type": "markdown",
   "metadata": {},
   "source": [
    "# Test/Demo Classes\n",
    "\n",
    "Step 1 - Create aWhere object of desired class.\n",
    "\n",
    "Step 2 - Call the api_to_gdf() class method (with optional parameters) to go return geodataframe of the extracted and cleaned API data."
   ]
  },
  {
   "cell_type": "markdown",
   "metadata": {},
   "source": [
    "## Environment Setup"
   ]
  },
  {
   "cell_type": "code",
   "execution_count": 1,
   "metadata": {},
   "outputs": [],
   "source": [
    "# Imports\n",
    "import os\n",
    "from awhere_classes import *\n",
    "\n",
    "# Show all pandas columns and rows\n",
    "pd.set_option('max_columns', None)\n",
    "pd.set_option('max_rows', None)"
   ]
  },
  {
   "cell_type": "code",
   "execution_count": 2,
   "metadata": {},
   "outputs": [],
   "source": [
    "# Define aWhere API key and secret\n",
    "api_key = os.environ.get('AWHERE_API_KEY')\n",
    "api_secret = os.environ.get('AWHERE_API_SECRET')"
   ]
  },
  {
   "cell_type": "markdown",
   "metadata": {},
   "source": [
    "## Weather Norms - Location"
   ]
  },
  {
   "cell_type": "code",
   "execution_count": null,
   "metadata": {},
   "outputs": [],
   "source": [
    "# Define WeatherLocationNorms object, Bear Lake, RMNP, Colorado\n",
    "norms_object = WeatherLocationNorms(\n",
    "    api_key, api_secret, latitude=40.313250, longitude=-105.648222)"
   ]
  },
  {
   "cell_type": "code",
   "execution_count": null,
   "metadata": {},
   "outputs": [],
   "source": [
    "# Define kwargs (parameters from get_data)\n",
    "norms_kwargs = {'start_day': '05-01', 'end_day': '05-10'}\n",
    "\n",
    "# Create geodataframe\n",
    "norms_gdf = WeatherLocationNorms.api_to_gdf(norms_object, norms_kwargs)"
   ]
  },
  {
   "cell_type": "code",
   "execution_count": null,
   "metadata": {},
   "outputs": [],
   "source": [
    "# Display geodataframe\n",
    "norms_gdf.head()"
   ]
  },
  {
   "cell_type": "markdown",
   "metadata": {},
   "source": [
    "## Weather Observed - Location"
   ]
  },
  {
   "cell_type": "code",
   "execution_count": null,
   "metadata": {},
   "outputs": [],
   "source": [
    "# Define WeatherLocationObserved object, Bear Lake, RMNP, Colorado\n",
    "observed_object = WeatherLocationObserved(\n",
    "    api_key, api_secret, latitude=40.313250, longitude=-105.648222)"
   ]
  },
  {
   "cell_type": "code",
   "execution_count": null,
   "metadata": {},
   "outputs": [],
   "source": [
    "# Define kwargs (parameters from get_data)\n",
    "#observed_kwargs = {'start_day': '05-01', 'end_day': '05-10'}\n",
    "\n",
    "# Create geodataframe\n",
    "observed_gdf = WeatherLocationObserved.api_to_gdf(observed_object)"
   ]
  },
  {
   "cell_type": "code",
   "execution_count": null,
   "metadata": {},
   "outputs": [],
   "source": [
    "# Display geodataframe\n",
    "observed_gdf.head()"
   ]
  },
  {
   "cell_type": "markdown",
   "metadata": {},
   "source": [
    "## Weather Forecast - Location"
   ]
  },
  {
   "cell_type": "code",
   "execution_count": null,
   "metadata": {},
   "outputs": [],
   "source": [
    "# Define WeatherLocationNorms object, Bear Lake, RMNP, Colorado\n",
    "forecast_object = WeatherLocationForecast(\n",
    "    api_key, api_secret, latitude=40.313250, longitude=-105.648222)"
   ]
  },
  {
   "cell_type": "code",
   "execution_count": null,
   "metadata": {},
   "outputs": [],
   "source": [
    "# Define kwargs (parameters from get_data)\n",
    "#forecast_kwargs = {'start_day': '05-01', 'end_day': '05-10'}\n",
    "\n",
    "# Create geodataframe - main forecast\n",
    "forecast_main_gdf = WeatherLocationForecast.api_to_gdf(forecast_object, forecast_type='main')"
   ]
  },
  {
   "cell_type": "code",
   "execution_count": null,
   "metadata": {},
   "outputs": [],
   "source": [
    "# Display geodataframe\n",
    "forecast_main_gdf.head()"
   ]
  },
  {
   "cell_type": "code",
   "execution_count": null,
   "metadata": {},
   "outputs": [],
   "source": [
    "# Create geodataframe - soil forecast\n",
    "forecast_soil_gdf = WeatherLocationForecast.api_to_gdf(forecast_object, forecast_type='soil')"
   ]
  },
  {
   "cell_type": "code",
   "execution_count": null,
   "metadata": {},
   "outputs": [],
   "source": [
    "# Display geodataframe\n",
    "forecast_soil_gdf.head()"
   ]
  },
  {
   "cell_type": "markdown",
   "metadata": {},
   "source": [
    "## Weather Norms - Field"
   ]
  },
  {
   "cell_type": "code",
   "execution_count": null,
   "metadata": {},
   "outputs": [],
   "source": [
    "# Define WeatherFieldNorms object\n",
    "norms_object = WeatherFieldNorms(\n",
    "    api_key, api_secret, field_id='CO-RMNP-Bear-Lake')"
   ]
  },
  {
   "cell_type": "code",
   "execution_count": null,
   "metadata": {},
   "outputs": [],
   "source": [
    "# Define kwargs (parameters from get_data)\n",
    "norms_kwargs = {'start_day': '05-01', 'end_day': '05-10'}\n",
    "\n",
    "# Create geodataframe\n",
    "norms_gdf = WeatherFieldNorms.api_to_gdf(norms_object, norms_kwargs)"
   ]
  },
  {
   "cell_type": "code",
   "execution_count": null,
   "metadata": {},
   "outputs": [],
   "source": [
    "# Display geodataframe\n",
    "norms_gdf.head()"
   ]
  },
  {
   "cell_type": "markdown",
   "metadata": {},
   "source": [
    "## Weather Field - Observed"
   ]
  },
  {
   "cell_type": "code",
   "execution_count": null,
   "metadata": {},
   "outputs": [],
   "source": [
    "# Define WeatherFieldObserved object\n",
    "observed_object = WeatherFieldObserved(\n",
    "    api_key, api_secret, field_id='CO-RMNP-Bear-Lake')"
   ]
  },
  {
   "cell_type": "code",
   "execution_count": null,
   "metadata": {},
   "outputs": [],
   "source": [
    "# Define kwargs (parameters from get_data)\n",
    "#observed_kwargs = {'start_day': '05-01', 'end_day': '05-10'}\n",
    "\n",
    "# Create geodataframe\n",
    "observed_gdf = WeatherFieldObserved.api_to_gdf(observed_object)"
   ]
  },
  {
   "cell_type": "code",
   "execution_count": null,
   "metadata": {},
   "outputs": [],
   "source": [
    "# Display geodataframe\n",
    "observed_gdf.head()"
   ]
  },
  {
   "cell_type": "markdown",
   "metadata": {},
   "source": [
    "## Weather Field - Forecast"
   ]
  },
  {
   "cell_type": "code",
   "execution_count": null,
   "metadata": {},
   "outputs": [],
   "source": [
    "# Define WeatherLocationForecast object, Bear Lake, RMNP, Colorado\n",
    "forecast_object = WeatherFieldForecast(\n",
    "    api_key, api_secret, field_id='CO-RMNP-Bear-Lake')"
   ]
  },
  {
   "cell_type": "code",
   "execution_count": null,
   "metadata": {},
   "outputs": [],
   "source": [
    "# Define kwargs (parameters from get_data)\n",
    "#forecast_kwargs = {'start_day': '05-01', 'end_day': '05-10'}\n",
    "\n",
    "# Create geodataframe - main forecast\n",
    "forecast_main_gdf = WeatherFieldForecast.api_to_gdf(forecast_object, forecast_type='main')"
   ]
  },
  {
   "cell_type": "code",
   "execution_count": null,
   "metadata": {},
   "outputs": [],
   "source": [
    "# Display geodataframe\n",
    "forecast_main_gdf.head()"
   ]
  },
  {
   "cell_type": "code",
   "execution_count": null,
   "metadata": {},
   "outputs": [],
   "source": [
    "# Create geodataframe - soil forecast\n",
    "forecast_soil_gdf = WeatherFieldForecast.api_to_gdf(forecast_object, forecast_type='soil')"
   ]
  },
  {
   "cell_type": "code",
   "execution_count": null,
   "metadata": {
    "scrolled": true
   },
   "outputs": [],
   "source": [
    "# Display geodataframe\n",
    "forecast_soil_gdf.head()"
   ]
  },
  {
   "cell_type": "markdown",
   "metadata": {},
   "source": [
    "## Fields"
   ]
  },
  {
   "cell_type": "code",
   "execution_count": null,
   "metadata": {},
   "outputs": [],
   "source": [
    "# Create a Fields objects at the Fields class level\n",
    "fields = Fields(api_key, api_secret)"
   ]
  },
  {
   "cell_type": "code",
   "execution_count": null,
   "metadata": {},
   "outputs": [],
   "source": [
    "# Show all fields associated with the api key & secret at the Fields class level\n",
    "fields.get()"
   ]
  },
  {
   "cell_type": "code",
   "execution_count": null,
   "metadata": {},
   "outputs": [],
   "source": [
    "# Show a single field (at the Fields class level)\n",
    "fields.get('CO-RMNP-Bear-Lake')"
   ]
  },
  {
   "cell_type": "code",
   "execution_count": null,
   "metadata": {},
   "outputs": [],
   "source": [
    "# Create field at the Fields class level\n",
    "fields.create(field_id='N-VT', field_name='N-VT',\n",
    "              center_latitude=42.5, center_longitude=-72.5,\n",
    "              acres=1, farm_id='N-VT')"
   ]
  },
  {
   "cell_type": "code",
   "execution_count": null,
   "metadata": {},
   "outputs": [],
   "source": [
    "# Update the field name and farm id for a specific field (at the Fields class level)\n",
    "fields.update(field_id='N-VT', name='New Field Name', farm_id='New Farm ID')"
   ]
  },
  {
   "cell_type": "code",
   "execution_count": null,
   "metadata": {},
   "outputs": [],
   "source": [
    "# Delete a specific field at the Fields class level\n",
    "fields.delete(field_id='N-VT')"
   ]
  },
  {
   "cell_type": "markdown",
   "metadata": {},
   "source": [
    "## Field"
   ]
  },
  {
   "cell_type": "code",
   "execution_count": null,
   "metadata": {},
   "outputs": [],
   "source": [
    "# Create field (from super class Fields)\n",
    "Fields(api_key, api_secret).create(\n",
    "    field_id='VT-Test-For-Delete', field_name='Test',\n",
    "    center_latitude=42.5, center_longitude=-72.5,\n",
    "    acres=1, farm_id='Test')"
   ]
  },
  {
   "cell_type": "code",
   "execution_count": null,
   "metadata": {},
   "outputs": [],
   "source": [
    "# Define a field a the Field subclass level\n",
    "field = Field(api_key, api_secret, 'VT-Test-For-Delete')"
   ]
  },
  {
   "cell_type": "code",
   "execution_count": null,
   "metadata": {
    "scrolled": true
   },
   "outputs": [],
   "source": [
    "# Get the field info at the Field subclass level\n",
    "field.get()"
   ]
  },
  {
   "cell_type": "code",
   "execution_count": null,
   "metadata": {
    "scrolled": true
   },
   "outputs": [],
   "source": [
    "# Update name and farm id at the Field subclass level\n",
    "field.update(name='Test New Name', farm_id='Test Farm ID')"
   ]
  },
  {
   "cell_type": "code",
   "execution_count": null,
   "metadata": {},
   "outputs": [],
   "source": [
    "# Delete field at the Field subclass level\n",
    "field.delete()"
   ]
  },
  {
   "cell_type": "markdown",
   "metadata": {},
   "source": [
    "## Agronomics Location - Values"
   ]
  },
  {
   "cell_type": "code",
   "execution_count": null,
   "metadata": {},
   "outputs": [],
   "source": [
    "# Define AgronomicLocationValues object\n",
    "agronomic_object = AgronomicsLocationValues(\n",
    "    api_key, api_secret, latitude=40.313250, longitude=-105.648222)"
   ]
  },
  {
   "cell_type": "code",
   "execution_count": null,
   "metadata": {},
   "outputs": [],
   "source": [
    "# Define kwargs (parameters from get_data)\n",
    "#values_kwargs = {'start_day': '05-01', 'end_day': '05-10'}\n",
    "\n",
    "# Create geodataframe - single day (today)\n",
    "values_gdf = AgronomicsLocationValues.api_to_gdf(\n",
    "    agronomic_object, value_type='single_day')"
   ]
  },
  {
   "cell_type": "code",
   "execution_count": null,
   "metadata": {
    "scrolled": true
   },
   "outputs": [],
   "source": [
    "# Display geodataframe\n",
    "values_gdf"
   ]
  },
  {
   "cell_type": "code",
   "execution_count": null,
   "metadata": {},
   "outputs": [],
   "source": [
    "# Define kwargs (parameters from get_data)\n",
    "values_kwargs ={ 'end_day': '04-23'}\n",
    "\n",
    "# Create geodataframe - date range\n",
    "total_accum_gdf, daily_accum_gdf = AgronomicsLocationValues.api_to_gdf(\n",
    "    agronomic_object, value_type='multi_day', kwargs=values_kwargs)"
   ]
  },
  {
   "cell_type": "code",
   "execution_count": null,
   "metadata": {},
   "outputs": [],
   "source": [
    "# Display dataframe - total\n",
    "total_accum_gdf"
   ]
  },
  {
   "cell_type": "code",
   "execution_count": null,
   "metadata": {
    "scrolled": false
   },
   "outputs": [],
   "source": [
    "# Display dataframe - daily\n",
    "daily_accum_gdf"
   ]
  },
  {
   "cell_type": "markdown",
   "metadata": {},
   "source": [
    "## Agronomics Location - Norms"
   ]
  },
  {
   "cell_type": "code",
   "execution_count": null,
   "metadata": {},
   "outputs": [],
   "source": [
    "# Define AgronomicLocationNorms object\n",
    "agronomic_object = AgronomicsLocationNorms(\n",
    "    api_key, api_secret, latitude=40.313250, longitude=-105.648222)"
   ]
  },
  {
   "cell_type": "code",
   "execution_count": null,
   "metadata": {},
   "outputs": [],
   "source": [
    "# Define kwargs (parameters from get_data)\n",
    "norms_kwargs = {'start_day': '05-05'}\n",
    "\n",
    "# Create geodataframe - single day \n",
    "norms_gdf = AgronomicsLocationNorms.api_to_gdf(\n",
    "    agronomic_object, value_type='single_day', kwargs=norms_kwargs)"
   ]
  },
  {
   "cell_type": "code",
   "execution_count": null,
   "metadata": {
    "scrolled": true
   },
   "outputs": [],
   "source": [
    "# Display geodataframe\n",
    "norms_gdf"
   ]
  },
  {
   "cell_type": "code",
   "execution_count": null,
   "metadata": {},
   "outputs": [],
   "source": [
    "# Define kwargs (parameters from get_data)\n",
    "norms_kwargs = {'start_day': '05-05', 'end_day': '05-14'}\n",
    "\n",
    "# Create geodataframe - date range\n",
    "total_accum_gdf, daily_accum_gdf = AgronomicsLocationNorms.api_to_gdf(\n",
    "    agronomic_object, value_type='multi_day', kwargs=norms_kwargs)"
   ]
  },
  {
   "cell_type": "code",
   "execution_count": null,
   "metadata": {},
   "outputs": [],
   "source": [
    "# Display dataframe - total\n",
    "total_accum_gdf"
   ]
  },
  {
   "cell_type": "code",
   "execution_count": null,
   "metadata": {
    "scrolled": false
   },
   "outputs": [],
   "source": [
    "# Display dataframe - daily\n",
    "daily_accum_gdf"
   ]
  },
  {
   "cell_type": "markdown",
   "metadata": {},
   "source": [
    "## Agronomics Field -  Values"
   ]
  },
  {
   "cell_type": "code",
   "execution_count": null,
   "metadata": {},
   "outputs": [],
   "source": [
    "# Define AgronomicsFieldValues object\n",
    "agronomic_object = AgronomicsFieldValues(\n",
    "    api_key, api_secret, field_id='CO-RMNP-Bear-Lake')"
   ]
  },
  {
   "cell_type": "code",
   "execution_count": null,
   "metadata": {},
   "outputs": [],
   "source": [
    "# Define kwargs\n",
    "# values_kwargs = {'start_day': '01-01'}\n",
    "# values_kwargs = {'start_day': '2019-05-05'}\n",
    "\n",
    "# Create geodataframe - single day\n",
    "norms_gdf = AgronomicsFieldValues.api_to_gdf(\n",
    "    agronomic_object, value_type='single_day')"
   ]
  },
  {
   "cell_type": "code",
   "execution_count": null,
   "metadata": {},
   "outputs": [],
   "source": [
    "# Display geodataframe\n",
    "norms_gdf"
   ]
  },
  {
   "cell_type": "code",
   "execution_count": null,
   "metadata": {},
   "outputs": [],
   "source": [
    "# Define kwargs\n",
    "values_kwargs = {'start_day': '03-03', 'end_day': '03-09'}\n",
    "\n",
    "# Create geodataframes - multi day\n",
    "total_accum_gdf, daily_accum_gdf = AgronomicsFieldValues.api_to_gdf(\n",
    "    agronomic_object, value_type='multi_day', kwargs=values_kwargs)"
   ]
  },
  {
   "cell_type": "code",
   "execution_count": null,
   "metadata": {
    "scrolled": true
   },
   "outputs": [],
   "source": [
    "# Display geodataframe - total\n",
    "total_accum_gdf"
   ]
  },
  {
   "cell_type": "code",
   "execution_count": null,
   "metadata": {},
   "outputs": [],
   "source": [
    "# Display geodataframe - daily\n",
    "daily_accum_gdf"
   ]
  },
  {
   "cell_type": "markdown",
   "metadata": {},
   "source": [
    "## Agronomics Field - Norms"
   ]
  },
  {
   "cell_type": "code",
   "execution_count": null,
   "metadata": {},
   "outputs": [],
   "source": [
    "# Define AgronomicsFieldNorms object\n",
    "agronomic_object = AgronomicsFieldNorms(\n",
    "    api_key, api_secret, field_id='CO-RMNP-Bear-Lake')"
   ]
  },
  {
   "cell_type": "code",
   "execution_count": null,
   "metadata": {},
   "outputs": [],
   "source": [
    "# Define kwargs\n",
    "# values_kwargs = {'start_day': '01-01'}\n",
    "# values_kwargs = {'start_day': '2019-05-05'}\n",
    "\n",
    "# Create geodataframe - single day\n",
    "norms_gdf = AgronomicsFieldNorms.api_to_gdf(\n",
    "    agronomic_object, value_type='single_day')"
   ]
  },
  {
   "cell_type": "code",
   "execution_count": null,
   "metadata": {},
   "outputs": [],
   "source": [
    "# Display geodataframe\n",
    "norms_gdf"
   ]
  },
  {
   "cell_type": "code",
   "execution_count": null,
   "metadata": {},
   "outputs": [],
   "source": [
    "# Define kwargs\n",
    "values_kwargs = {'start_day': '03-03', 'end_day': '03-09'}\n",
    "\n",
    "# Create geodataframes - multi day\n",
    "total_accum_gdf, daily_accum_gdf = AgronomicsFieldNorms.api_to_gdf(\n",
    "    agronomic_object, value_type='multi_day', kwargs=values_kwargs)"
   ]
  },
  {
   "cell_type": "code",
   "execution_count": null,
   "metadata": {
    "scrolled": true
   },
   "outputs": [],
   "source": [
    "# Display geodataframe - total\n",
    "total_accum_gdf"
   ]
  },
  {
   "cell_type": "code",
   "execution_count": null,
   "metadata": {},
   "outputs": [],
   "source": [
    "# Display geodataframe - daily\n",
    "daily_accum_gdf"
   ]
  },
  {
   "cell_type": "markdown",
   "metadata": {},
   "source": [
    "## Agronomics Crops"
   ]
  },
  {
   "cell_type": "code",
   "execution_count": null,
   "metadata": {},
   "outputs": [],
   "source": [
    "# Define AgronomicsCrops object\n",
    "crops_object = AgronomicsCrops(api_key, api_secret)"
   ]
  },
  {
   "cell_type": "code",
   "execution_count": null,
   "metadata": {},
   "outputs": [],
   "source": [
    "# Get first page of crops\n",
    "crops_object.get()"
   ]
  },
  {
   "cell_type": "code",
   "execution_count": null,
   "metadata": {},
   "outputs": [],
   "source": [
    "# Get a single crop by crop_id\n",
    "crops_object.get(crop_id='canola-b-napus')"
   ]
  },
  {
   "cell_type": "code",
   "execution_count": null,
   "metadata": {},
   "outputs": [],
   "source": [
    "# Get all available crops\n",
    "crops_object.get_full()"
   ]
  },
  {
   "cell_type": "markdown",
   "metadata": {},
   "source": [
    "## Agronomics Crop"
   ]
  },
  {
   "cell_type": "code",
   "execution_count": null,
   "metadata": {},
   "outputs": [],
   "source": [
    "# Define AgronomicsCrop object\n",
    "crop_object = AgronomicsCrop(\n",
    "    api_key, api_secret, crop_id='sorghum-long-season')"
   ]
  },
  {
   "cell_type": "code",
   "execution_count": null,
   "metadata": {},
   "outputs": [],
   "source": [
    "# Get crop info\n",
    "crop_object.get()"
   ]
  },
  {
   "cell_type": "markdown",
   "metadata": {},
   "source": [
    "## Agronomics Plantings"
   ]
  },
  {
   "cell_type": "code",
   "execution_count": null,
   "metadata": {},
   "outputs": [],
   "source": [
    "# Create AgronomicsFieldPlantings object\n",
    "plantings_object = AgronomicsFieldPlantings(\n",
    "    api_key, api_secret, 'CO-RMNP-Bear-Lake')"
   ]
  },
  {
   "cell_type": "code",
   "execution_count": null,
   "metadata": {
    "scrolled": true
   },
   "outputs": [],
   "source": [
    "# Get all plantings for the field\n",
    "plantings_object.get()"
   ]
  },
  {
   "cell_type": "code",
   "execution_count": null,
   "metadata": {},
   "outputs": [],
   "source": [
    "# Get most recent planting\n",
    "plantings_object.get(planting_id='current')"
   ]
  },
  {
   "cell_type": "code",
   "execution_count": null,
   "metadata": {
    "scrolled": true
   },
   "outputs": [],
   "source": [
    "# Get planting based on id\n",
    "plantings_object.get(planting_id=464533)"
   ]
  },
  {
   "cell_type": "code",
   "execution_count": null,
   "metadata": {},
   "outputs": [],
   "source": [
    "#Delete planting\n",
    "plantings_object.delete('current')"
   ]
  },
  {
   "cell_type": "code",
   "execution_count": null,
   "metadata": {},
   "outputs": [],
   "source": [
    "# Show planting is deleted\n",
    "plantings_object.get()"
   ]
  },
  {
   "cell_type": "code",
   "execution_count": null,
   "metadata": {},
   "outputs": [],
   "source": [
    "# Create planting\n",
    "planting = plantings_object.create(\n",
    "    crop='sorghum-long-season', planting_date='2019-05-05', \n",
    "    projected_yield_amount=80, projected_yield_units='boxes',\n",
    "    yield_amount=75, yield_units='boxes')"
   ]
  },
  {
   "cell_type": "code",
   "execution_count": null,
   "metadata": {},
   "outputs": [],
   "source": [
    "# Show planting is created\n",
    "plantings_object.get()"
   ]
  },
  {
   "cell_type": "markdown",
   "metadata": {},
   "source": [
    "## Agronomics Models"
   ]
  },
  {
   "cell_type": "code",
   "execution_count": null,
   "metadata": {},
   "outputs": [],
   "source": [
    "# Create AgronomicsModels object\n",
    "model_object = AgronomicsModels(api_key, api_secret)"
   ]
  },
  {
   "cell_type": "code",
   "execution_count": null,
   "metadata": {},
   "outputs": [],
   "source": [
    "# Get list of first 10 models\n",
    "model_object.get()"
   ]
  },
  {
   "cell_type": "code",
   "execution_count": null,
   "metadata": {},
   "outputs": [],
   "source": [
    "# Get a specific model\n",
    "model_object.get(model_id='BarleyGenericNDAWN')"
   ]
  },
  {
   "cell_type": "code",
   "execution_count": null,
   "metadata": {},
   "outputs": [],
   "source": [
    "# Get full list of models\n",
    "model_object.get_full()"
   ]
  },
  {
   "cell_type": "code",
   "execution_count": null,
   "metadata": {},
   "outputs": [],
   "source": [
    "# Get model details - base info and stage info, single model\n",
    "base_details_df, stage_details_df = model_object.get_details()"
   ]
  },
  {
   "cell_type": "code",
   "execution_count": null,
   "metadata": {},
   "outputs": [],
   "source": [
    "# Show base details\n",
    "base_details_df"
   ]
  },
  {
   "cell_type": "code",
   "execution_count": null,
   "metadata": {},
   "outputs": [],
   "source": [
    "# Show stage details\n",
    "stage_details_df"
   ]
  },
  {
   "cell_type": "code",
   "execution_count": null,
   "metadata": {},
   "outputs": [],
   "source": [
    "# Get base details and stage details for all models\n",
    "base_details_all_df, stage_details_all_df = AgronomicsModels.get_all_details(\n",
    "    model_object)"
   ]
  },
  {
   "cell_type": "code",
   "execution_count": null,
   "metadata": {},
   "outputs": [],
   "source": [
    "# Show base details\n",
    "base_details_all_df"
   ]
  },
  {
   "cell_type": "code",
   "execution_count": null,
   "metadata": {
    "scrolled": true
   },
   "outputs": [],
   "source": [
    "# Show stage details\n",
    "stage_details_all_df"
   ]
  },
  {
   "cell_type": "markdown",
   "metadata": {},
   "source": [
    "## Agronomics Plantings"
   ]
  },
  {
   "cell_type": "code",
   "execution_count": null,
   "metadata": {},
   "outputs": [],
   "source": [
    "# Define AgronomicsPlantings object\n",
    "planting_object = AgronomicsPlantings(api_key, api_secret)"
   ]
  },
  {
   "cell_type": "code",
   "execution_count": null,
   "metadata": {},
   "outputs": [],
   "source": [
    "# Get all plantings\n",
    "plantings_all = planting_object.get()"
   ]
  },
  {
   "cell_type": "code",
   "execution_count": null,
   "metadata": {},
   "outputs": [],
   "source": [
    "# Display all plantings\n",
    "plantings_all"
   ]
  },
  {
   "cell_type": "code",
   "execution_count": null,
   "metadata": {},
   "outputs": [],
   "source": [
    "# Get current (most recent) planting\n",
    "plantings_current = planting_object.get(planting_id='current')"
   ]
  },
  {
   "cell_type": "code",
   "execution_count": null,
   "metadata": {},
   "outputs": [],
   "source": [
    "# Display current planting\n",
    "plantings_current"
   ]
  },
  {
   "cell_type": "code",
   "execution_count": null,
   "metadata": {},
   "outputs": [],
   "source": [
    "# Get planting by id\n",
    "plantings_id = planting_object.get(planting_id=464537)"
   ]
  },
  {
   "cell_type": "code",
   "execution_count": null,
   "metadata": {},
   "outputs": [],
   "source": [
    "# Display current planting\n",
    "plantings_id"
   ]
  },
  {
   "cell_type": "markdown",
   "metadata": {},
   "source": [
    "## Agrononics Field - Models"
   ]
  },
  {
   "cell_type": "code",
   "execution_count": 10,
   "metadata": {},
   "outputs": [],
   "source": [
    "# Define ArgonomicsFieldsModels object\n",
    "model_object = AgronomicsFieldModels(\n",
    "    api_key, api_secret, field_id='CO-RMNP-Bear-Lake', model_id='SorghumLongSeasonTexasAM')"
   ]
  },
  {
   "cell_type": "code",
   "execution_count": 11,
   "metadata": {},
   "outputs": [],
   "source": [
    "# Get stage info\n",
    "model_stages_gdf = model_object.get()"
   ]
  },
  {
   "cell_type": "code",
   "execution_count": 12,
   "metadata": {},
   "outputs": [
    {
     "data": {
      "text/html": [
       "<div>\n",
       "<style scoped>\n",
       "    .dataframe tbody tr th:only-of-type {\n",
       "        vertical-align: middle;\n",
       "    }\n",
       "\n",
       "    .dataframe tbody tr th {\n",
       "        vertical-align: top;\n",
       "    }\n",
       "\n",
       "    .dataframe thead th {\n",
       "        text-align: right;\n",
       "    }\n",
       "</style>\n",
       "<table border=\"1\" class=\"dataframe\">\n",
       "  <thead>\n",
       "    <tr style=\"text-align: right;\">\n",
       "      <th></th>\n",
       "      <th></th>\n",
       "      <th>model_id</th>\n",
       "      <th>biofix_date</th>\n",
       "      <th>planting_date</th>\n",
       "      <th>stage_start_date</th>\n",
       "      <th>stage_id</th>\n",
       "      <th>stage_name</th>\n",
       "      <th>stage_description</th>\n",
       "      <th>gdd_threshold_cels</th>\n",
       "      <th>gdd_accumulation_current_cels</th>\n",
       "      <th>gdd_remaining_next_cels</th>\n",
       "      <th>geometry</th>\n",
       "    </tr>\n",
       "    <tr>\n",
       "      <th>field_id</th>\n",
       "      <th>stage_status</th>\n",
       "      <th></th>\n",
       "      <th></th>\n",
       "      <th></th>\n",
       "      <th></th>\n",
       "      <th></th>\n",
       "      <th></th>\n",
       "      <th></th>\n",
       "      <th></th>\n",
       "      <th></th>\n",
       "      <th></th>\n",
       "      <th></th>\n",
       "    </tr>\n",
       "  </thead>\n",
       "  <tbody>\n",
       "    <tr>\n",
       "      <th rowspan=\"5\" valign=\"top\">CO-RMNP-Bear-Lake</th>\n",
       "      <th>Previous</th>\n",
       "      <td>SorghumLongSeasonTexasAM</td>\n",
       "      <td>2019-05-05</td>\n",
       "      <td>2019-05-05</td>\n",
       "      <td>2019-07-01</td>\n",
       "      <td>stage1</td>\n",
       "      <td>GS 1</td>\n",
       "      <td>Emergence</td>\n",
       "      <td>111</td>\n",
       "      <td>NaN</td>\n",
       "      <td>NaN</td>\n",
       "      <td>POINT (-105.64822 40.31325)</td>\n",
       "    </tr>\n",
       "    <tr>\n",
       "      <th>Previous</th>\n",
       "      <td>SorghumLongSeasonTexasAM</td>\n",
       "      <td>2019-05-05</td>\n",
       "      <td>2019-05-05</td>\n",
       "      <td>2019-07-30</td>\n",
       "      <td>stage2</td>\n",
       "      <td>GS 1</td>\n",
       "      <td>3-leaf</td>\n",
       "      <td>278</td>\n",
       "      <td>NaN</td>\n",
       "      <td>NaN</td>\n",
       "      <td>POINT (-105.64822 40.31325)</td>\n",
       "    </tr>\n",
       "    <tr>\n",
       "      <th>Previous</th>\n",
       "      <td>SorghumLongSeasonTexasAM</td>\n",
       "      <td>2019-05-05</td>\n",
       "      <td>2019-05-05</td>\n",
       "      <td>2019-08-07</td>\n",
       "      <td>stage3</td>\n",
       "      <td>GS 1</td>\n",
       "      <td>4-leaf</td>\n",
       "      <td>319</td>\n",
       "      <td>NaN</td>\n",
       "      <td>NaN</td>\n",
       "      <td>POINT (-105.64822 40.31325)</td>\n",
       "    </tr>\n",
       "    <tr>\n",
       "      <th>Current</th>\n",
       "      <td>SorghumLongSeasonTexasAM</td>\n",
       "      <td>2019-05-05</td>\n",
       "      <td>2019-05-05</td>\n",
       "      <td>2019-08-16</td>\n",
       "      <td>stage4</td>\n",
       "      <td>GS 1</td>\n",
       "      <td>5-leaf</td>\n",
       "      <td>367</td>\n",
       "      <td>605.540002</td>\n",
       "      <td>NaN</td>\n",
       "      <td>POINT (-105.64822 40.31325)</td>\n",
       "    </tr>\n",
       "    <tr>\n",
       "      <th>Next</th>\n",
       "      <td>SorghumLongSeasonTexasAM</td>\n",
       "      <td>2019-05-05</td>\n",
       "      <td>2019-05-05</td>\n",
       "      <td>NaN</td>\n",
       "      <td>stage5</td>\n",
       "      <td>GS 2</td>\n",
       "      <td>Panicle Initiation</td>\n",
       "      <td>758</td>\n",
       "      <td>NaN</td>\n",
       "      <td>152.793331</td>\n",
       "      <td>POINT (-105.64822 40.31325)</td>\n",
       "    </tr>\n",
       "  </tbody>\n",
       "</table>\n",
       "</div>"
      ],
      "text/plain": [
       "                                                model_id biofix_date  \\\n",
       "field_id          stage_status                                         \n",
       "CO-RMNP-Bear-Lake Previous      SorghumLongSeasonTexasAM  2019-05-05   \n",
       "                  Previous      SorghumLongSeasonTexasAM  2019-05-05   \n",
       "                  Previous      SorghumLongSeasonTexasAM  2019-05-05   \n",
       "                  Current       SorghumLongSeasonTexasAM  2019-05-05   \n",
       "                  Next          SorghumLongSeasonTexasAM  2019-05-05   \n",
       "\n",
       "                               planting_date stage_start_date stage_id  \\\n",
       "field_id          stage_status                                           \n",
       "CO-RMNP-Bear-Lake Previous        2019-05-05       2019-07-01   stage1   \n",
       "                  Previous        2019-05-05       2019-07-30   stage2   \n",
       "                  Previous        2019-05-05       2019-08-07   stage3   \n",
       "                  Current         2019-05-05       2019-08-16   stage4   \n",
       "                  Next            2019-05-05              NaN   stage5   \n",
       "\n",
       "                               stage_name   stage_description  \\\n",
       "field_id          stage_status                                  \n",
       "CO-RMNP-Bear-Lake Previous           GS 1           Emergence   \n",
       "                  Previous           GS 1              3-leaf   \n",
       "                  Previous           GS 1              4-leaf   \n",
       "                  Current            GS 1              5-leaf   \n",
       "                  Next               GS 2  Panicle Initiation   \n",
       "\n",
       "                                gdd_threshold_cels  \\\n",
       "field_id          stage_status                       \n",
       "CO-RMNP-Bear-Lake Previous                     111   \n",
       "                  Previous                     278   \n",
       "                  Previous                     319   \n",
       "                  Current                      367   \n",
       "                  Next                         758   \n",
       "\n",
       "                                gdd_accumulation_current_cels  \\\n",
       "field_id          stage_status                                  \n",
       "CO-RMNP-Bear-Lake Previous                                NaN   \n",
       "                  Previous                                NaN   \n",
       "                  Previous                                NaN   \n",
       "                  Current                          605.540002   \n",
       "                  Next                                    NaN   \n",
       "\n",
       "                                gdd_remaining_next_cels  \\\n",
       "field_id          stage_status                            \n",
       "CO-RMNP-Bear-Lake Previous                          NaN   \n",
       "                  Previous                          NaN   \n",
       "                  Previous                          NaN   \n",
       "                  Current                           NaN   \n",
       "                  Next                       152.793331   \n",
       "\n",
       "                                                   geometry  \n",
       "field_id          stage_status                               \n",
       "CO-RMNP-Bear-Lake Previous      POINT (-105.64822 40.31325)  \n",
       "                  Previous      POINT (-105.64822 40.31325)  \n",
       "                  Previous      POINT (-105.64822 40.31325)  \n",
       "                  Current       POINT (-105.64822 40.31325)  \n",
       "                  Next          POINT (-105.64822 40.31325)  "
      ]
     },
     "execution_count": 12,
     "metadata": {},
     "output_type": "execute_result"
    }
   ],
   "source": [
    "# Display stage info\n",
    "model_stages_gdf"
   ]
  },
  {
   "cell_type": "code",
   "execution_count": null,
   "metadata": {},
   "outputs": [],
   "source": []
  }
 ],
 "metadata": {
  "kernelspec": {
   "display_name": "Python 3",
   "language": "python",
   "name": "python3"
  },
  "language_info": {
   "codemirror_mode": {
    "name": "ipython",
    "version": 3
   },
   "file_extension": ".py",
   "mimetype": "text/x-python",
   "name": "python",
   "nbconvert_exporter": "python",
   "pygments_lexer": "ipython3",
   "version": "3.7.6"
  },
  "toc": {
   "base_numbering": 1,
   "nav_menu": {},
   "number_sections": true,
   "sideBar": true,
   "skip_h1_title": false,
   "title_cell": "Table of Contents",
   "title_sidebar": "Contents",
   "toc_cell": false,
   "toc_position": {},
   "toc_section_display": true,
   "toc_window_display": false
  }
 },
 "nbformat": 4,
 "nbformat_minor": 4
}
