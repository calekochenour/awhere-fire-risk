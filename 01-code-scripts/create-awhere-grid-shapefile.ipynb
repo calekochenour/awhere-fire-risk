{
 "cells": [
  {
   "cell_type": "markdown",
   "metadata": {},
   "source": [
    "# Create aWhere Grid "
   ]
  },
  {
   "cell_type": "code",
   "execution_count": 1,
   "metadata": {},
   "outputs": [],
   "source": [
    "# Imports\n",
    "import os\n",
    "import geopandas as gpd\n",
    "from shapely.geometry import Polygon\n",
    "import matplotlib.pyplot as plt\n",
    "import numpy as np\n",
    "import earthpy as et"
   ]
  },
  {
   "cell_type": "code",
   "execution_count": 3,
   "metadata": {},
   "outputs": [],
   "source": [
    "# Set working directory\n",
    "working_directory = os.path.join(\n",
    "    et.io.HOME, 'earth-analytics', \n",
    "    '03-geog5663-earth-analytics-applications-summer-2020',\n",
    "    'git-repos', 'fire-drought-analysis')"
   ]
  },
  {
   "cell_type": "code",
   "execution_count": 4,
   "metadata": {},
   "outputs": [],
   "source": [
    "# Define path to shapefile\n",
    "vt_bound_path = os.path.join(\n",
    "    working_directory, '02-raw-data', 'shapefiles',\n",
    "    'vermont_state_boundary.shp')"
   ]
  },
  {
   "cell_type": "code",
   "execution_count": 3,
   "metadata": {},
   "outputs": [],
   "source": [
    "# Read shapefile into geodataframe\n",
    "vt_bound_nad83 = gpd.read_file(vt_bound_path)"
   ]
  },
  {
   "cell_type": "code",
   "execution_count": 4,
   "metadata": {},
   "outputs": [
    {
     "data": {
      "text/plain": [
       "{'proj': 'tmerc',\n",
       " 'lat_0': 42.5,\n",
       " 'lon_0': -72.5,\n",
       " 'k': 0.999964286,\n",
       " 'x_0': 500000,\n",
       " 'y_0': 0,\n",
       " 'datum': 'NAD83',\n",
       " 'units': 'm',\n",
       " 'no_defs': True}"
      ]
     },
     "execution_count": 4,
     "metadata": {},
     "output_type": "execute_result"
    }
   ],
   "source": [
    "# Show projection\n",
    "vt_bound_nad83.crs"
   ]
  },
  {
   "cell_type": "code",
   "execution_count": 5,
   "metadata": {},
   "outputs": [
    {
     "data": {
      "text/html": [
       "<div>\n",
       "<style scoped>\n",
       "    .dataframe tbody tr th:only-of-type {\n",
       "        vertical-align: middle;\n",
       "    }\n",
       "\n",
       "    .dataframe tbody tr th {\n",
       "        vertical-align: top;\n",
       "    }\n",
       "\n",
       "    .dataframe thead th {\n",
       "        text-align: right;\n",
       "    }\n",
       "</style>\n",
       "<table border=\"1\" class=\"dataframe\">\n",
       "  <thead>\n",
       "    <tr style=\"text-align: right;\">\n",
       "      <th></th>\n",
       "      <th>minx</th>\n",
       "      <th>miny</th>\n",
       "      <th>maxx</th>\n",
       "      <th>maxy</th>\n",
       "    </tr>\n",
       "  </thead>\n",
       "  <tbody>\n",
       "    <tr>\n",
       "      <th>0</th>\n",
       "      <td>424788.84</td>\n",
       "      <td>25211.8369</td>\n",
       "      <td>581554.3701</td>\n",
       "      <td>279798.4736</td>\n",
       "    </tr>\n",
       "  </tbody>\n",
       "</table>\n",
       "</div>"
      ],
      "text/plain": [
       "        minx        miny         maxx         maxy\n",
       "0  424788.84  25211.8369  581554.3701  279798.4736"
      ]
     },
     "execution_count": 5,
     "metadata": {},
     "output_type": "execute_result"
    }
   ],
   "source": [
    "# Show bounds\n",
    "vt_bound_nad83.bounds"
   ]
  },
  {
   "cell_type": "code",
   "execution_count": 6,
   "metadata": {},
   "outputs": [
    {
     "data": {
      "text/plain": [
       "<matplotlib.axes._subplots.AxesSubplot at 0x1fa4a4c1508>"
      ]
     },
     "execution_count": 6,
     "metadata": {},
     "output_type": "execute_result"
    },
    {
     "data": {
      "image/png": "[encoded data removed]",
      "text/plain": [
       "<Figure size 432x288 with 1 Axes>"
      ]
     },
     "metadata": {
      "needs_background": "light"
     },
     "output_type": "display_data"
    }
   ],
   "source": [
    "# Plot in NAD83 StatePlane VT\n",
    "vt_bound_nad83.plot(facecolor='none', edgecolor='green')"
   ]
  },
  {
   "cell_type": "code",
   "execution_count": 7,
   "metadata": {},
   "outputs": [],
   "source": [
    "# Project to WGS 84 Lat/Lon, EPSG 4326\n",
    "vt_bound_4326 = vt_bound_nad83.to_crs(4326)"
   ]
  },
  {
   "cell_type": "code",
   "execution_count": 199,
   "metadata": {},
   "outputs": [
    {
     "data": {
      "text/plain": [
       "4326"
      ]
     },
     "execution_count": 199,
     "metadata": {},
     "output_type": "execute_result"
    }
   ],
   "source": [
    "# Show projected CRS\n",
    "vt_bound_4326.crs"
   ]
  },
  {
   "cell_type": "code",
   "execution_count": 200,
   "metadata": {},
   "outputs": [
    {
     "data": {
      "text/html": [
       "<div>\n",
       "<style scoped>\n",
       "    .dataframe tbody tr th:only-of-type {\n",
       "        vertical-align: middle;\n",
       "    }\n",
       "\n",
       "    .dataframe tbody tr th {\n",
       "        vertical-align: top;\n",
       "    }\n",
       "\n",
       "    .dataframe thead th {\n",
       "        text-align: right;\n",
       "    }\n",
       "</style>\n",
       "<table border=\"1\" class=\"dataframe\">\n",
       "  <thead>\n",
       "    <tr style=\"text-align: right;\">\n",
       "      <th></th>\n",
       "      <th>minx</th>\n",
       "      <th>miny</th>\n",
       "      <th>maxx</th>\n",
       "      <th>maxy</th>\n",
       "    </tr>\n",
       "  </thead>\n",
       "  <tbody>\n",
       "    <tr>\n",
       "      <th>0</th>\n",
       "      <td>-73.437902</td>\n",
       "      <td>42.72696</td>\n",
       "      <td>-71.465386</td>\n",
       "      <td>45.016665</td>\n",
       "    </tr>\n",
       "  </tbody>\n",
       "</table>\n",
       "</div>"
      ],
      "text/plain": [
       "        minx      miny       maxx       maxy\n",
       "0 -73.437902  42.72696 -71.465386  45.016665"
      ]
     },
     "execution_count": 200,
     "metadata": {},
     "output_type": "execute_result"
    }
   ],
   "source": [
    "# Show bounds\n",
    "vt_bound_4326.bounds"
   ]
  },
  {
   "cell_type": "code",
   "execution_count": 201,
   "metadata": {},
   "outputs": [],
   "source": [
    "# vt_bound_4326.geometry[0]"
   ]
  },
  {
   "cell_type": "code",
   "execution_count": 202,
   "metadata": {},
   "outputs": [
    {
     "data": {
      "text/plain": [
       "<matplotlib.axes._subplots.AxesSubplot at 0x2662ef360c8>"
      ]
     },
     "execution_count": 202,
     "metadata": {},
     "output_type": "execute_result"
    },
    {
     "data": {
      "image/png": "[encoded data removed]",
      "text/plain": [
       "<Figure size 432x288 with 1 Axes>"
      ]
     },
     "metadata": {
      "needs_background": "light"
     },
     "output_type": "display_data"
    }
   ],
   "source": [
    "# Plot gdf\n",
    "vt_bound_4326.plot(facecolor=('none'), edgecolor='green')"
   ]
  },
  {
   "cell_type": "code",
   "execution_count": 275,
   "metadata": {},
   "outputs": [],
   "source": [
    "# Create buffer around state boundary - Where does 0.5 come from? Seems too high for VT\n",
    "vt_bound_4326_buffer = vt_bound_4326.buffer(distance=0.05)"
   ]
  },
  {
   "cell_type": "code",
   "execution_count": 276,
   "metadata": {},
   "outputs": [
    {
     "data": {
      "text/plain": [
       "geopandas.geoseries.GeoSeries"
      ]
     },
     "execution_count": 276,
     "metadata": {},
     "output_type": "execute_result"
    }
   ],
   "source": [
    "# Type\n",
    "type(vt_bound_4326_buffer)"
   ]
  },
  {
   "cell_type": "code",
   "execution_count": 277,
   "metadata": {},
   "outputs": [
    {
     "data": {
      "text/plain": [
       "0    POLYGON ((-73.48712 44.05365, -73.48713 44.053...\n",
       "dtype: geometry"
      ]
     },
     "execution_count": 277,
     "metadata": {},
     "output_type": "execute_result"
    }
   ],
   "source": [
    "# Info\n",
    "vt_bound_4326_buffer"
   ]
  },
  {
   "cell_type": "code",
   "execution_count": 278,
   "metadata": {},
   "outputs": [],
   "source": [
    "# Convert buffer from geoseries to geodataframe\n",
    "vt_bound_4326_buffer_gdf = gpd.GeoDataFrame(vt_bound_4326_buffer, crs=4326)"
   ]
  },
  {
   "cell_type": "code",
   "execution_count": 279,
   "metadata": {},
   "outputs": [],
   "source": [
    "# Rename geometry column\n",
    "vt_bound_4326_buffer_gdf.rename(columns={0: 'geometry'}, inplace=True)"
   ]
  },
  {
   "cell_type": "code",
   "execution_count": 280,
   "metadata": {},
   "outputs": [
    {
     "data": {
      "text/html": [
       "<div>\n",
       "<style scoped>\n",
       "    .dataframe tbody tr th:only-of-type {\n",
       "        vertical-align: middle;\n",
       "    }\n",
       "\n",
       "    .dataframe tbody tr th {\n",
       "        vertical-align: top;\n",
       "    }\n",
       "\n",
       "    .dataframe thead th {\n",
       "        text-align: right;\n",
       "    }\n",
       "</style>\n",
       "<table border=\"1\" class=\"dataframe\">\n",
       "  <thead>\n",
       "    <tr style=\"text-align: right;\">\n",
       "      <th></th>\n",
       "      <th>geometry</th>\n",
       "    </tr>\n",
       "  </thead>\n",
       "  <tbody>\n",
       "    <tr>\n",
       "      <th>0</th>\n",
       "      <td>POLYGON ((-73.48712 44.05365, -73.48713 44.053...</td>\n",
       "    </tr>\n",
       "  </tbody>\n",
       "</table>\n",
       "</div>"
      ],
      "text/plain": [
       "                                            geometry\n",
       "0  POLYGON ((-73.48712 44.05365, -73.48713 44.053..."
      ]
     },
     "execution_count": 280,
     "metadata": {},
     "output_type": "execute_result"
    }
   ],
   "source": [
    "# Display renamed gdf\n",
    "vt_bound_4326_buffer_gdf"
   ]
  },
  {
   "cell_type": "code",
   "execution_count": 281,
   "metadata": {},
   "outputs": [
    {
     "data": {
      "text/plain": [
       "4326"
      ]
     },
     "execution_count": 281,
     "metadata": {},
     "output_type": "execute_result"
    }
   ],
   "source": [
    "vt_bound_4326_buffer_gdf.crs"
   ]
  },
  {
   "cell_type": "code",
   "execution_count": 282,
   "metadata": {},
   "outputs": [],
   "source": [
    "# Get coords of boundary (buffered boundary)\n",
    "lon_min = vt_bound_4326_buffer_gdf.bounds.minx[0]\n",
    "lat_min = vt_bound_4326_buffer_gdf.bounds.miny[0]\n",
    "lon_max = vt_bound_4326_buffer_gdf.bounds.maxx[0]\n",
    "lat_max = vt_bound_4326_buffer_gdf.bounds.maxy[0]"
   ]
  },
  {
   "cell_type": "code",
   "execution_count": 283,
   "metadata": {},
   "outputs": [
    {
     "name": "stdout",
     "output_type": "stream",
     "text": [
      "Longitude - Min: -73.48789189929632, Max: -71.41541397988351\n",
      "Latitude - Min: 42.676981803142034, Max: 45.06665946307827\n"
     ]
    }
   ],
   "source": [
    "print(f\"Longitude - Min: {lon_min}, Max: {lon_max}\")\n",
    "print(f\"Latitude - Min: {lat_min}, Max: {lat_max}\")"
   ]
  },
  {
   "cell_type": "code",
   "execution_count": 284,
   "metadata": {},
   "outputs": [],
   "source": [
    "# Define cell length/width\n",
    "# Following documentation from aWhere, spaced at 0.08333 degrees or 5 arc-minutes\n",
    "# Use 0.08 grid cell size so that one point should be in every grid cell \n",
    "# https://github.com/aWhereAPI/aWhere-R-Library/blob/master/R/create-awhere-grid.R\n",
    "cell_size = 0.08"
   ]
  },
  {
   "cell_type": "code",
   "execution_count": 285,
   "metadata": {},
   "outputs": [],
   "source": [
    "# Create lists for lat/lon extents\n",
    "# Need to do any rounding here? Or is that already taken care\n",
    "#  of with the buffering around the boundary?\n",
    "lon_vals = np.arange(lon_min, lon_max, cell_size)\n",
    "lat_vals = np.arange(lat_min, lat_max, cell_size)"
   ]
  },
  {
   "cell_type": "code",
   "execution_count": 286,
   "metadata": {},
   "outputs": [],
   "source": [
    "# Create grid of polygons based on lat/lon ranges\n",
    "grid_polys_list = [Polygon([\n",
    "    (longitude, latitude),\n",
    "    (longitude + cell_size, latitude),\n",
    "    (longitude + cell_size, latitude + cell_size),\n",
    "    (longitude, latitude + cell_size)])\n",
    "    for longitude in lon_vals for latitude in lat_vals]"
   ]
  },
  {
   "cell_type": "code",
   "execution_count": 287,
   "metadata": {},
   "outputs": [],
   "source": [
    "# Create geodataframe from grid polygons\n",
    "grid_polys_gdf = gpd.GeoDataFrame(crs=4326, geometry=grid_polys_list)"
   ]
  },
  {
   "cell_type": "code",
   "execution_count": 288,
   "metadata": {},
   "outputs": [],
   "source": [
    "# Add centroid to each grid cell\n",
    "grid_polys_gdf['centroid'] = grid_polys_gdf.geometry.apply(\n",
    "    lambda poly: poly.centroid)"
   ]
  },
  {
   "cell_type": "code",
   "execution_count": 289,
   "metadata": {
    "scrolled": true
   },
   "outputs": [
    {
     "data": {
      "text/html": [
       "<div>\n",
       "<style scoped>\n",
       "    .dataframe tbody tr th:only-of-type {\n",
       "        vertical-align: middle;\n",
       "    }\n",
       "\n",
       "    .dataframe tbody tr th {\n",
       "        vertical-align: top;\n",
       "    }\n",
       "\n",
       "    .dataframe thead th {\n",
       "        text-align: right;\n",
       "    }\n",
       "</style>\n",
       "<table border=\"1\" class=\"dataframe\">\n",
       "  <thead>\n",
       "    <tr style=\"text-align: right;\">\n",
       "      <th></th>\n",
       "      <th>geometry</th>\n",
       "      <th>centroid</th>\n",
       "    </tr>\n",
       "  </thead>\n",
       "  <tbody>\n",
       "    <tr>\n",
       "      <th>0</th>\n",
       "      <td>POLYGON ((-73.48789 42.67698, -73.40789 42.676...</td>\n",
       "      <td>POINT (-73.44789 42.71698)</td>\n",
       "    </tr>\n",
       "    <tr>\n",
       "      <th>1</th>\n",
       "      <td>POLYGON ((-73.48789 42.75698, -73.40789 42.756...</td>\n",
       "      <td>POINT (-73.44789 42.79698)</td>\n",
       "    </tr>\n",
       "    <tr>\n",
       "      <th>2</th>\n",
       "      <td>POLYGON ((-73.48789 42.83698, -73.40789 42.836...</td>\n",
       "      <td>POINT (-73.44789 42.87698)</td>\n",
       "    </tr>\n",
       "    <tr>\n",
       "      <th>3</th>\n",
       "      <td>POLYGON ((-73.48789 42.91698, -73.40789 42.916...</td>\n",
       "      <td>POINT (-73.44789 42.95698)</td>\n",
       "    </tr>\n",
       "    <tr>\n",
       "      <th>4</th>\n",
       "      <td>POLYGON ((-73.48789 42.99698, -73.40789 42.996...</td>\n",
       "      <td>POINT (-73.44789 43.03698)</td>\n",
       "    </tr>\n",
       "    <tr>\n",
       "      <th>...</th>\n",
       "      <td>...</td>\n",
       "      <td>...</td>\n",
       "    </tr>\n",
       "    <tr>\n",
       "      <th>775</th>\n",
       "      <td>POLYGON ((-71.48789 44.67698, -71.40789 44.676...</td>\n",
       "      <td>POINT (-71.44789 44.71698)</td>\n",
       "    </tr>\n",
       "    <tr>\n",
       "      <th>776</th>\n",
       "      <td>POLYGON ((-71.48789 44.75698, -71.40789 44.756...</td>\n",
       "      <td>POINT (-71.44789 44.79698)</td>\n",
       "    </tr>\n",
       "    <tr>\n",
       "      <th>777</th>\n",
       "      <td>POLYGON ((-71.48789 44.83698, -71.40789 44.836...</td>\n",
       "      <td>POINT (-71.44789 44.87698)</td>\n",
       "    </tr>\n",
       "    <tr>\n",
       "      <th>778</th>\n",
       "      <td>POLYGON ((-71.48789 44.91698, -71.40789 44.916...</td>\n",
       "      <td>POINT (-71.44789 44.95698)</td>\n",
       "    </tr>\n",
       "    <tr>\n",
       "      <th>779</th>\n",
       "      <td>POLYGON ((-71.48789 44.99698, -71.40789 44.996...</td>\n",
       "      <td>POINT (-71.44789 45.03698)</td>\n",
       "    </tr>\n",
       "  </tbody>\n",
       "</table>\n",
       "<p>780 rows × 2 columns</p>\n",
       "</div>"
      ],
      "text/plain": [
       "                                              geometry  \\\n",
       "0    POLYGON ((-73.48789 42.67698, -73.40789 42.676...   \n",
       "1    POLYGON ((-73.48789 42.75698, -73.40789 42.756...   \n",
       "2    POLYGON ((-73.48789 42.83698, -73.40789 42.836...   \n",
       "3    POLYGON ((-73.48789 42.91698, -73.40789 42.916...   \n",
       "4    POLYGON ((-73.48789 42.99698, -73.40789 42.996...   \n",
       "..                                                 ...   \n",
       "775  POLYGON ((-71.48789 44.67698, -71.40789 44.676...   \n",
       "776  POLYGON ((-71.48789 44.75698, -71.40789 44.756...   \n",
       "777  POLYGON ((-71.48789 44.83698, -71.40789 44.836...   \n",
       "778  POLYGON ((-71.48789 44.91698, -71.40789 44.916...   \n",
       "779  POLYGON ((-71.48789 44.99698, -71.40789 44.996...   \n",
       "\n",
       "                       centroid  \n",
       "0    POINT (-73.44789 42.71698)  \n",
       "1    POINT (-73.44789 42.79698)  \n",
       "2    POINT (-73.44789 42.87698)  \n",
       "3    POINT (-73.44789 42.95698)  \n",
       "4    POINT (-73.44789 43.03698)  \n",
       "..                          ...  \n",
       "775  POINT (-71.44789 44.71698)  \n",
       "776  POINT (-71.44789 44.79698)  \n",
       "777  POINT (-71.44789 44.87698)  \n",
       "778  POINT (-71.44789 44.95698)  \n",
       "779  POINT (-71.44789 45.03698)  \n",
       "\n",
       "[780 rows x 2 columns]"
      ]
     },
     "execution_count": 289,
     "metadata": {},
     "output_type": "execute_result"
    }
   ],
   "source": [
    "# Show gdf, with centroids\n",
    "grid_polys_gdf"
   ]
  },
  {
   "cell_type": "code",
   "execution_count": 290,
   "metadata": {},
   "outputs": [
    {
     "data": {
      "text/plain": [
       "<matplotlib.axes._subplots.AxesSubplot at 0x266329ec808>"
      ]
     },
     "execution_count": 290,
     "metadata": {},
     "output_type": "execute_result"
    },
    {
     "data": {
      "image/png": "[encoded data removed]",
      "text/plain": [
       "<Figure size 432x288 with 1 Axes>"
      ]
     },
     "metadata": {
      "needs_background": "light"
     },
     "output_type": "display_data"
    }
   ],
   "source": [
    "# Plot grid polys\n",
    "grid_polys_gdf.plot(facecolor=\"none\", edgecolor=\"black\")"
   ]
  },
  {
   "cell_type": "code",
   "execution_count": 291,
   "metadata": {},
   "outputs": [
    {
     "data": {
      "text/plain": [
       "<matplotlib.axes._subplots.AxesSubplot at 0x26632ccb688>"
      ]
     },
     "execution_count": 291,
     "metadata": {},
     "output_type": "execute_result"
    },
    {
     "data": {
      "image/png": "[encoded data removed]",
      "text/plain": [
       "<Figure size 432x288 with 1 Axes>"
      ]
     },
     "metadata": {
      "needs_background": "light"
     },
     "output_type": "display_data"
    }
   ],
   "source": [
    "# Plot NON-buffered state boundary with grid cells\n",
    "fig, ax = plt.subplots()\n",
    "\n",
    "grid_polys_gdf.plot(ax=ax, facecolor=\"none\", edgecolor=\"black\")\n",
    "vt_bound_4326.plot(ax=ax, facecolor='green', edgecolor=\"green\")"
   ]
  },
  {
   "cell_type": "code",
   "execution_count": 292,
   "metadata": {},
   "outputs": [
    {
     "data": {
      "text/plain": [
       "<matplotlib.axes._subplots.AxesSubplot at 0x26631788788>"
      ]
     },
     "execution_count": 292,
     "metadata": {},
     "output_type": "execute_result"
    },
    {
     "data": {
      "image/png": "[encoded data removed]",
      "text/plain": [
       "<Figure size 432x288 with 1 Axes>"
      ]
     },
     "metadata": {
      "needs_background": "light"
     },
     "output_type": "display_data"
    }
   ],
   "source": [
    "# Plot buffered state boundary with grid cells;\n",
    "#  buffer of 0.5 seems extreme for a small US state;\n",
    "#  what is a more appropriate buffer, 0.05?\n",
    "fig, ax = plt.subplots()\n",
    "\n",
    "grid_polys_gdf.plot(ax=ax, facecolor=\"none\", edgecolor=\"black\")\n",
    "vt_bound_4326_buffer_gdf.plot(ax=ax, facecolor='green', edgecolor=\"green\")"
   ]
  },
  {
   "cell_type": "code",
   "execution_count": 293,
   "metadata": {},
   "outputs": [],
   "source": [
    "# Narrow grid cells to those within the buffered state boundary\n",
    "if grid_polys_gdf.crs == vt_bound_4326_buffer_gdf.crs:\n",
    "    vt_grid_4326 = gpd.sjoin(\n",
    "        grid_polys_gdf, vt_bound_4326_buffer_gdf,\n",
    "        op='within').drop(columns='index_right')\n",
    "    \n",
    "# Reset index\n",
    "vt_grid_4326.reset_index(inplace=True, drop=True)"
   ]
  },
  {
   "cell_type": "code",
   "execution_count": 294,
   "metadata": {},
   "outputs": [
    {
     "data": {
      "text/plain": [
       "<matplotlib.axes._subplots.AxesSubplot at 0x26632cbfb88>"
      ]
     },
     "execution_count": 294,
     "metadata": {},
     "output_type": "execute_result"
    },
    {
     "data": {
      "image/png": "[encoded data removed]",
      "text/plain": [
       "<Figure size 432x288 with 1 Axes>"
      ]
     },
     "metadata": {
      "needs_background": "light"
     },
     "output_type": "display_data"
    }
   ],
   "source": [
    "vt_grid_4326.plot(facecolor=\"none\", edgecolor=\"green\")"
   ]
  },
  {
   "cell_type": "code",
   "execution_count": 295,
   "metadata": {},
   "outputs": [],
   "source": [
    "# Non-buffered\n",
    "# gpd.sjoin(grid_polys_gdf, vt_bound_4326, op='within').plot(\n",
    "#     facecolor=\"none\", edgecolor=\"green\")"
   ]
  },
  {
   "cell_type": "code",
   "execution_count": 296,
   "metadata": {},
   "outputs": [],
   "source": [
    "# Extract list of cell centroids from point data that\n",
    "#  can feed into batch production for aWhere data"
   ]
  },
  {
   "cell_type": "code",
   "execution_count": 297,
   "metadata": {},
   "outputs": [
    {
     "data": {
      "text/plain": [
       "0    POINT (-73.36789 43.59698)\n",
       "dtype: geometry"
      ]
     },
     "execution_count": 297,
     "metadata": {},
     "output_type": "execute_result"
    }
   ],
   "source": [
    "vt_grid_4326.loc[[0]].centroid"
   ]
  },
  {
   "cell_type": "code",
   "execution_count": 298,
   "metadata": {},
   "outputs": [],
   "source": [
    "# Copy grid for testing\n",
    "vt_copy = vt_grid_4326.copy()"
   ]
  },
  {
   "cell_type": "code",
   "execution_count": 299,
   "metadata": {},
   "outputs": [],
   "source": [
    "# Extract latitude and longitude to new columns\n",
    "vt_copy['longitude'] = vt_copy.centroid.apply(lambda point: point.x)\n",
    "vt_copy['latitude'] = vt_copy.centroid.apply(lambda point: point.y)"
   ]
  },
  {
   "cell_type": "code",
   "execution_count": 300,
   "metadata": {},
   "outputs": [
    {
     "data": {
      "text/html": [
       "<div>\n",
       "<style scoped>\n",
       "    .dataframe tbody tr th:only-of-type {\n",
       "        vertical-align: middle;\n",
       "    }\n",
       "\n",
       "    .dataframe tbody tr th {\n",
       "        vertical-align: top;\n",
       "    }\n",
       "\n",
       "    .dataframe thead th {\n",
       "        text-align: right;\n",
       "    }\n",
       "</style>\n",
       "<table border=\"1\" class=\"dataframe\">\n",
       "  <thead>\n",
       "    <tr style=\"text-align: right;\">\n",
       "      <th></th>\n",
       "      <th>geometry</th>\n",
       "      <th>centroid</th>\n",
       "      <th>longitude</th>\n",
       "      <th>latitude</th>\n",
       "    </tr>\n",
       "  </thead>\n",
       "  <tbody>\n",
       "    <tr>\n",
       "      <th>0</th>\n",
       "      <td>POLYGON ((-73.40789 43.55698, -73.32789 43.556...</td>\n",
       "      <td>POINT (-73.36789 43.59698)</td>\n",
       "      <td>-73.367892</td>\n",
       "      <td>43.596982</td>\n",
       "    </tr>\n",
       "    <tr>\n",
       "      <th>1</th>\n",
       "      <td>POLYGON ((-73.40789 43.63698, -73.32789 43.636...</td>\n",
       "      <td>POINT (-73.36789 43.67698)</td>\n",
       "      <td>-73.367892</td>\n",
       "      <td>43.676982</td>\n",
       "    </tr>\n",
       "    <tr>\n",
       "      <th>2</th>\n",
       "      <td>POLYGON ((-73.40789 43.71698, -73.32789 43.716...</td>\n",
       "      <td>POINT (-73.36789 43.75698)</td>\n",
       "      <td>-73.367892</td>\n",
       "      <td>43.756982</td>\n",
       "    </tr>\n",
       "    <tr>\n",
       "      <th>3</th>\n",
       "      <td>POLYGON ((-73.40789 43.79698, -73.32789 43.796...</td>\n",
       "      <td>POINT (-73.36789 43.83698)</td>\n",
       "      <td>-73.367892</td>\n",
       "      <td>43.836982</td>\n",
       "    </tr>\n",
       "    <tr>\n",
       "      <th>4</th>\n",
       "      <td>POLYGON ((-73.40789 43.87698, -73.32789 43.876...</td>\n",
       "      <td>POINT (-73.36789 43.91698)</td>\n",
       "      <td>-73.367892</td>\n",
       "      <td>43.916982</td>\n",
       "    </tr>\n",
       "    <tr>\n",
       "      <th>...</th>\n",
       "      <td>...</td>\n",
       "      <td>...</td>\n",
       "      <td>...</td>\n",
       "      <td>...</td>\n",
       "    </tr>\n",
       "    <tr>\n",
       "      <th>428</th>\n",
       "      <td>POLYGON ((-71.64789 44.67698, -71.56789 44.676...</td>\n",
       "      <td>POINT (-71.60789 44.71698)</td>\n",
       "      <td>-71.607892</td>\n",
       "      <td>44.716982</td>\n",
       "    </tr>\n",
       "    <tr>\n",
       "      <th>429</th>\n",
       "      <td>POLYGON ((-71.64789 44.75698, -71.56789 44.756...</td>\n",
       "      <td>POINT (-71.60789 44.79698)</td>\n",
       "      <td>-71.607892</td>\n",
       "      <td>44.796982</td>\n",
       "    </tr>\n",
       "    <tr>\n",
       "      <th>430</th>\n",
       "      <td>POLYGON ((-71.64789 44.83698, -71.56789 44.836...</td>\n",
       "      <td>POINT (-71.60789 44.87698)</td>\n",
       "      <td>-71.607892</td>\n",
       "      <td>44.876982</td>\n",
       "    </tr>\n",
       "    <tr>\n",
       "      <th>431</th>\n",
       "      <td>POLYGON ((-71.64789 44.91698, -71.56789 44.916...</td>\n",
       "      <td>POINT (-71.60789 44.95698)</td>\n",
       "      <td>-71.607892</td>\n",
       "      <td>44.956982</td>\n",
       "    </tr>\n",
       "    <tr>\n",
       "      <th>432</th>\n",
       "      <td>POLYGON ((-71.56789 44.91698, -71.48789 44.916...</td>\n",
       "      <td>POINT (-71.52789 44.95698)</td>\n",
       "      <td>-71.527892</td>\n",
       "      <td>44.956982</td>\n",
       "    </tr>\n",
       "  </tbody>\n",
       "</table>\n",
       "<p>433 rows × 4 columns</p>\n",
       "</div>"
      ],
      "text/plain": [
       "                                              geometry  \\\n",
       "0    POLYGON ((-73.40789 43.55698, -73.32789 43.556...   \n",
       "1    POLYGON ((-73.40789 43.63698, -73.32789 43.636...   \n",
       "2    POLYGON ((-73.40789 43.71698, -73.32789 43.716...   \n",
       "3    POLYGON ((-73.40789 43.79698, -73.32789 43.796...   \n",
       "4    POLYGON ((-73.40789 43.87698, -73.32789 43.876...   \n",
       "..                                                 ...   \n",
       "428  POLYGON ((-71.64789 44.67698, -71.56789 44.676...   \n",
       "429  POLYGON ((-71.64789 44.75698, -71.56789 44.756...   \n",
       "430  POLYGON ((-71.64789 44.83698, -71.56789 44.836...   \n",
       "431  POLYGON ((-71.64789 44.91698, -71.56789 44.916...   \n",
       "432  POLYGON ((-71.56789 44.91698, -71.48789 44.916...   \n",
       "\n",
       "                       centroid  longitude   latitude  \n",
       "0    POINT (-73.36789 43.59698) -73.367892  43.596982  \n",
       "1    POINT (-73.36789 43.67698) -73.367892  43.676982  \n",
       "2    POINT (-73.36789 43.75698) -73.367892  43.756982  \n",
       "3    POINT (-73.36789 43.83698) -73.367892  43.836982  \n",
       "4    POINT (-73.36789 43.91698) -73.367892  43.916982  \n",
       "..                          ...        ...        ...  \n",
       "428  POINT (-71.60789 44.71698) -71.607892  44.716982  \n",
       "429  POINT (-71.60789 44.79698) -71.607892  44.796982  \n",
       "430  POINT (-71.60789 44.87698) -71.607892  44.876982  \n",
       "431  POINT (-71.60789 44.95698) -71.607892  44.956982  \n",
       "432  POINT (-71.52789 44.95698) -71.527892  44.956982  \n",
       "\n",
       "[433 rows x 4 columns]"
      ]
     },
     "execution_count": 300,
     "metadata": {},
     "output_type": "execute_result"
    }
   ],
   "source": [
    "# Show df\n",
    "vt_copy"
   ]
  },
  {
   "cell_type": "code",
   "execution_count": 301,
   "metadata": {},
   "outputs": [],
   "source": [
    "# Extract centroid (as tuples) from grid (for use to pull aWhere data from,\n",
    "#  based on lat/lon coords)\n",
    "centroid_list = [(row.longitude, row.latitude) for row in vt_copy.itertuples()]"
   ]
  },
  {
   "cell_type": "code",
   "execution_count": 302,
   "metadata": {},
   "outputs": [
    {
     "data": {
      "text/plain": [
       "[(-73.36789189929631, 43.596981803142015),\n",
       " (-73.36789189929631, 43.67698180314201),\n",
       " (-73.36789189929631, 43.75698180314201),\n",
       " (-73.36789189929631, 43.83698180314201),\n",
       " (-73.36789189929631, 43.916981803142015)]"
      ]
     },
     "execution_count": 302,
     "metadata": {},
     "output_type": "execute_result"
    }
   ],
   "source": [
    "# Show first 5 elements\n",
    "centroid_list[:5]"
   ]
  },
  {
   "cell_type": "code",
   "execution_count": 303,
   "metadata": {},
   "outputs": [
    {
     "data": {
      "text/plain": [
       "(-73.36789189929631, 43.596981803142015)"
      ]
     },
     "execution_count": 303,
     "metadata": {},
     "output_type": "execute_result"
    }
   ],
   "source": [
    "# Show first element\n",
    "centroid_list[:5][0]"
   ]
  },
  {
   "cell_type": "code",
   "execution_count": 304,
   "metadata": {},
   "outputs": [
    {
     "data": {
      "text/plain": [
       "-73.36789189929631"
      ]
     },
     "execution_count": 304,
     "metadata": {},
     "output_type": "execute_result"
    }
   ],
   "source": [
    "# Show first longitude\n",
    "centroid_list[:5][0][0]"
   ]
  },
  {
   "cell_type": "code",
   "execution_count": 305,
   "metadata": {},
   "outputs": [
    {
     "data": {
      "text/plain": [
       "43.596981803142015"
      ]
     },
     "execution_count": 305,
     "metadata": {},
     "output_type": "execute_result"
    }
   ],
   "source": [
    "# Show first latitude\n",
    "centroid_list[:5][0][-1]"
   ]
  },
  {
   "cell_type": "code",
   "execution_count": 17,
   "metadata": {},
   "outputs": [],
   "source": [
    "def create_awhere_grid(study_area_path, buffer_distance, cell_size=0.08):\n",
    "    \"\"\"Creates an aWhere-sized grid (0.08 x 0.08 degree,\n",
    "    5 arc-minute x 5 arc-minute grid) fit to a polygon.\n",
    "\n",
    "    Parameters\n",
    "    ----------\n",
    "    study_area_path : str\n",
    "        Path the polygon shapefile boundary.\n",
    "\n",
    "    buffer_distance : int or float\n",
    "        Buffer size in degrees (WGS 84 CRS).\n",
    "\n",
    "    cell_size: int or float\n",
    "        Grid size (x and y dimension) in degrees (WGS 84 CRS).\n",
    "\n",
    "    Returns\n",
    "    -------\n",
    "\n",
    "    Example\n",
    "    -------\n",
    "    \"\"\"\n",
    "    # Read shapefile into geodataframe\n",
    "    study_area = gpd.read_file(study_area_path)\n",
    "\n",
    "    # Project to WGS 84 Lat/Lon, EPSG 4326 if no CRS match\n",
    "    if not study_area.crs == 4326:\n",
    "        study_area_4326 = study_area.to_crs(4326)\n",
    "\n",
    "    else:\n",
    "        study_area_4326 = study_area\n",
    "\n",
    "    # Create buffer around state boundary\n",
    "    study_area_4326_buffer = study_area_4326.buffer(distance=buffer_distance)\n",
    "\n",
    "    # Convert buffer from geoseries to geodataframe\n",
    "    study_area_4326_buffer_gdf = gpd.GeoDataFrame(\n",
    "        study_area_4326_buffer, crs=4326)\n",
    "\n",
    "    # Rename geometry column in buffer\n",
    "    study_area_4326_buffer_gdf.rename(columns={0: 'geometry'}, inplace=True)\n",
    "\n",
    "    # Get extent of buffered boundary\n",
    "    longitude_min = study_area_4326_buffer_gdf.bounds.minx[0]\n",
    "    latitude_min = study_area_4326_buffer_gdf.bounds.miny[0]\n",
    "    longitude_max = study_area_4326_buffer_gdf.bounds.maxx[0]\n",
    "    latitude_max = study_area_4326_buffer_gdf.bounds.maxy[0]\n",
    "\n",
    "    # Create lists for lat/lon extents\n",
    "    # DOES THIS NEED ANY PADDING? np.floor, np.ceil?\n",
    "    # OR DOES DUFFER DISTANCE HANDLE THIS?\n",
    "    longitude_vals = np.arange(longitude_min, longitude_max, cell_size)\n",
    "    latitude_vals = np.arange(latitude_min, latitude_max, cell_size)\n",
    "\n",
    "    # Create grid of polygons based on longitude and latitude ranges\n",
    "    grid_polys_list = [Polygon([\n",
    "        (longitude, latitude),\n",
    "        (longitude + cell_size, latitude),\n",
    "        (longitude + cell_size, latitude + cell_size),\n",
    "        (longitude, latitude + cell_size)])\n",
    "        for longitude in longitude_vals for latitude in latitude_vals]\n",
    "\n",
    "    # Create geodataframe from grid polygons\n",
    "    grid_polys_gdf = gpd.GeoDataFrame(crs=4326, geometry=grid_polys_list)\n",
    "\n",
    "    # Add centroid to each grid cell\n",
    "    grid_polys_gdf['centroid'] = grid_polys_gdf.geometry.apply(\n",
    "        lambda poly: poly.centroid)\n",
    "\n",
    "    # Narrow grid cells to those within the buffered boundary\n",
    "    study_area_grid_4326 = gpd.sjoin(\n",
    "        grid_polys_gdf, study_area_4326_buffer_gdf, op='within')\n",
    "    \n",
    "    # Return gridded geodataframe\n",
    "    return study_area_grid_4326.drop(columns='index_right')"
   ]
  },
  {
   "cell_type": "code",
   "execution_count": 18,
   "metadata": {},
   "outputs": [],
   "source": [
    "test_grid = create_awhere_grid(\n",
    "    vt_bound_path, buffer_distance=0.5, cell_size=0.08)"
   ]
  },
  {
   "cell_type": "code",
   "execution_count": 19,
   "metadata": {},
   "outputs": [
    {
     "data": {
      "text/plain": [
       "<matplotlib.axes._subplots.AxesSubplot at 0x1fa4bce6ec8>"
      ]
     },
     "execution_count": 19,
     "metadata": {},
     "output_type": "execute_result"
    },
    {
     "data": {
      "image/png": "[encoded data removed]",
      "text/plain": [
       "<Figure size 432x288 with 1 Axes>"
      ]
     },
     "metadata": {
      "needs_background": "light"
     },
     "output_type": "display_data"
    }
   ],
   "source": [
    "test_grid.plot(facecolor=\"none\", edgecolor=\"green\")"
   ]
  },
  {
   "cell_type": "code",
   "execution_count": 20,
   "metadata": {},
   "outputs": [],
   "source": [
    "test_grid = create_awhere_grid(\n",
    "    vt_bound_path, buffer_distance=0.1, cell_size=0.08)"
   ]
  },
  {
   "cell_type": "code",
   "execution_count": 21,
   "metadata": {},
   "outputs": [
    {
     "data": {
      "text/plain": [
       "<matplotlib.axes._subplots.AxesSubplot at 0x1fa4b732688>"
      ]
     },
     "execution_count": 21,
     "metadata": {},
     "output_type": "execute_result"
    },
    {
     "data": {
      "image/png": "[encoded data removed]",
      "text/plain": [
       "<Figure size 432x288 with 1 Axes>"
      ]
     },
     "metadata": {
      "needs_background": "light"
     },
     "output_type": "display_data"
    }
   ],
   "source": [
    "test_grid.plot(facecolor=\"none\", edgecolor=\"green\")"
   ]
  },
  {
   "cell_type": "code",
   "execution_count": 33,
   "metadata": {},
   "outputs": [
    {
     "data": {
      "text/plain": [
       "<matplotlib.axes._subplots.AxesSubplot at 0x1fa4f8a2108>"
      ]
     },
     "execution_count": 33,
     "metadata": {},
     "output_type": "execute_result"
    },
    {
     "data": {
      "image/png": "[encoded data removed]",
      "text/plain": [
       "<Figure size 432x288 with 1 Axes>"
      ]
     },
     "metadata": {
      "needs_background": "light"
     },
     "output_type": "display_data"
    }
   ],
   "source": [
    "test_grid = create_awhere_grid(\n",
    "    vt_bound_path, buffer_distance=0.05, cell_size=0.08)\n",
    "\n",
    "test_grid.plot(facecolor=\"none\", edgecolor=\"green\")"
   ]
  },
  {
   "cell_type": "code",
   "execution_count": 25,
   "metadata": {},
   "outputs": [
    {
     "data": {
      "text/plain": [
       "<matplotlib.axes._subplots.AxesSubplot at 0x1fa4c5d1048>"
      ]
     },
     "execution_count": 25,
     "metadata": {},
     "output_type": "execute_result"
    },
    {
     "data": {
      "image/png": "[encoded data removed]",
      "text/plain": [
       "<Figure size 432x288 with 1 Axes>"
      ]
     },
     "metadata": {
      "needs_background": "light"
     },
     "output_type": "display_data"
    }
   ],
   "source": [
    "test_grid = create_awhere_grid(\n",
    "    vt_bound_path, buffer_distance=0.08, cell_size=0.08)\n",
    "\n",
    "test_grid.plot(facecolor=\"none\", edgecolor=\"green\")"
   ]
  },
  {
   "cell_type": "code",
   "execution_count": 26,
   "metadata": {},
   "outputs": [
    {
     "data": {
      "text/plain": [
       "<matplotlib.axes._subplots.AxesSubplot at 0x1fa4c6bf7c8>"
      ]
     },
     "execution_count": 26,
     "metadata": {},
     "output_type": "execute_result"
    },
    {
     "data": {
      "image/png": "[encoded data removed]",
      "text/plain": [
       "<Figure size 432x288 with 1 Axes>"
      ]
     },
     "metadata": {
      "needs_background": "light"
     },
     "output_type": "display_data"
    }
   ],
   "source": [
    "test_grid = create_awhere_grid(\n",
    "    vt_bound_path, buffer_distance=0.025, cell_size=0.08)\n",
    "\n",
    "test_grid.plot(facecolor=\"none\", edgecolor=\"green\")"
   ]
  },
  {
   "cell_type": "code",
   "execution_count": 28,
   "metadata": {},
   "outputs": [
    {
     "data": {
      "text/plain": [
       "<matplotlib.axes._subplots.AxesSubplot at 0x1fa4c58ca08>"
      ]
     },
     "execution_count": 28,
     "metadata": {},
     "output_type": "execute_result"
    },
    {
     "data": {
      "image/png": "[encoded data removed]",
      "text/plain": [
       "<Figure size 432x288 with 1 Axes>"
      ]
     },
     "metadata": {
      "needs_background": "light"
     },
     "output_type": "display_data"
    }
   ],
   "source": [
    "test_grid = create_awhere_grid(\n",
    "    vt_bound_path, buffer_distance=0.0, cell_size=0.08)\n",
    "\n",
    "test_grid.plot(facecolor=\"none\", edgecolor=\"green\")"
   ]
  },
  {
   "cell_type": "code",
   "execution_count": 29,
   "metadata": {},
   "outputs": [
    {
     "data": {
      "text/html": [
       "<div>\n",
       "<style scoped>\n",
       "    .dataframe tbody tr th:only-of-type {\n",
       "        vertical-align: middle;\n",
       "    }\n",
       "\n",
       "    .dataframe tbody tr th {\n",
       "        vertical-align: top;\n",
       "    }\n",
       "\n",
       "    .dataframe thead th {\n",
       "        text-align: right;\n",
       "    }\n",
       "</style>\n",
       "<table border=\"1\" class=\"dataframe\">\n",
       "  <thead>\n",
       "    <tr style=\"text-align: right;\">\n",
       "      <th></th>\n",
       "      <th>geometry</th>\n",
       "      <th>centroid</th>\n",
       "    </tr>\n",
       "  </thead>\n",
       "  <tbody>\n",
       "    <tr>\n",
       "      <th>43</th>\n",
       "      <td>POLYGON ((-73.35790 43.84696, -73.27790 43.846...</td>\n",
       "      <td>POINT (-73.31790 43.88696)</td>\n",
       "    </tr>\n",
       "    <tr>\n",
       "      <th>44</th>\n",
       "      <td>POLYGON ((-73.35790 43.92696, -73.27790 43.926...</td>\n",
       "      <td>POINT (-73.31790 43.96696)</td>\n",
       "    </tr>\n",
       "    <tr>\n",
       "      <th>45</th>\n",
       "      <td>POLYGON ((-73.35790 44.00696, -73.27790 44.006...</td>\n",
       "      <td>POINT (-73.31790 44.04696)</td>\n",
       "    </tr>\n",
       "    <tr>\n",
       "      <th>46</th>\n",
       "      <td>POLYGON ((-73.35790 44.08696, -73.27790 44.086...</td>\n",
       "      <td>POINT (-73.31790 44.12696)</td>\n",
       "    </tr>\n",
       "    <tr>\n",
       "      <th>52</th>\n",
       "      <td>POLYGON ((-73.35790 44.56696, -73.27790 44.566...</td>\n",
       "      <td>POINT (-73.31790 44.60696)</td>\n",
       "    </tr>\n",
       "    <tr>\n",
       "      <th>...</th>\n",
       "      <td>...</td>\n",
       "      <td>...</td>\n",
       "    </tr>\n",
       "    <tr>\n",
       "      <th>635</th>\n",
       "      <td>POLYGON ((-71.75790 44.80696, -71.67790 44.806...</td>\n",
       "      <td>POINT (-71.71790 44.84696)</td>\n",
       "    </tr>\n",
       "    <tr>\n",
       "      <th>636</th>\n",
       "      <td>POLYGON ((-71.75790 44.88696, -71.67790 44.886...</td>\n",
       "      <td>POINT (-71.71790 44.92696)</td>\n",
       "    </tr>\n",
       "    <tr>\n",
       "      <th>661</th>\n",
       "      <td>POLYGON ((-71.67790 44.56696, -71.59790 44.566...</td>\n",
       "      <td>POINT (-71.63790 44.60696)</td>\n",
       "    </tr>\n",
       "    <tr>\n",
       "      <th>664</th>\n",
       "      <td>POLYGON ((-71.67790 44.80696, -71.59790 44.806...</td>\n",
       "      <td>POINT (-71.63790 44.84696)</td>\n",
       "    </tr>\n",
       "    <tr>\n",
       "      <th>665</th>\n",
       "      <td>POLYGON ((-71.67790 44.88696, -71.59790 44.886...</td>\n",
       "      <td>POINT (-71.63790 44.92696)</td>\n",
       "    </tr>\n",
       "  </tbody>\n",
       "</table>\n",
       "<p>373 rows × 2 columns</p>\n",
       "</div>"
      ],
      "text/plain": [
       "                                              geometry  \\\n",
       "43   POLYGON ((-73.35790 43.84696, -73.27790 43.846...   \n",
       "44   POLYGON ((-73.35790 43.92696, -73.27790 43.926...   \n",
       "45   POLYGON ((-73.35790 44.00696, -73.27790 44.006...   \n",
       "46   POLYGON ((-73.35790 44.08696, -73.27790 44.086...   \n",
       "52   POLYGON ((-73.35790 44.56696, -73.27790 44.566...   \n",
       "..                                                 ...   \n",
       "635  POLYGON ((-71.75790 44.80696, -71.67790 44.806...   \n",
       "636  POLYGON ((-71.75790 44.88696, -71.67790 44.886...   \n",
       "661  POLYGON ((-71.67790 44.56696, -71.59790 44.566...   \n",
       "664  POLYGON ((-71.67790 44.80696, -71.59790 44.806...   \n",
       "665  POLYGON ((-71.67790 44.88696, -71.59790 44.886...   \n",
       "\n",
       "                       centroid  \n",
       "43   POINT (-73.31790 43.88696)  \n",
       "44   POINT (-73.31790 43.96696)  \n",
       "45   POINT (-73.31790 44.04696)  \n",
       "46   POINT (-73.31790 44.12696)  \n",
       "52   POINT (-73.31790 44.60696)  \n",
       "..                          ...  \n",
       "635  POINT (-71.71790 44.84696)  \n",
       "636  POINT (-71.71790 44.92696)  \n",
       "661  POINT (-71.63790 44.60696)  \n",
       "664  POINT (-71.63790 44.84696)  \n",
       "665  POINT (-71.63790 44.92696)  \n",
       "\n",
       "[373 rows x 2 columns]"
      ]
     },
     "execution_count": 29,
     "metadata": {},
     "output_type": "execute_result"
    }
   ],
   "source": [
    "test_grid"
   ]
  },
  {
   "cell_type": "code",
   "execution_count": 32,
   "metadata": {},
   "outputs": [],
   "source": [
    "def extract_centroids(grid):\n",
    "    \"\"\"Extracts the longitude and latitude centroids\n",
    "    from a grid of polygons.\n",
    "    \n",
    "    Parameters\n",
    "    ----------\n",
    "    grid : geopandas GeoDataFrame\n",
    "        Grid dataframe with polygon geometry.\n",
    "    \n",
    "    Returns\n",
    "    -------\n",
    "    centroid_list: list (of tuples)\n",
    "        List containing (longitude, latitude) tuples.\n",
    "    \n",
    "    Example\n",
    "    -------\n",
    "    \n",
    "    \"\"\"\n",
    "    # Create copy of dataframe (avoids altering the original)\n",
    "    grid_extract = grid.copy()\n",
    "    \n",
    "    # Extract latitude and longitude to new columns\n",
    "    grid_extract['longitude'] = grid_extract.centroid.apply(lambda point: point.x)\n",
    "    grid_extract['latitude'] = grid_extract.centroid.apply(lambda point: point.y)\n",
    "    \n",
    "    # Extract centroid (as tuples) from grid\n",
    "    centroid_list = [(row.longitude, row.latitude) for row in grid_extract.itertuples()]\n",
    "    \n",
    "    # Return centroids\n",
    "    return centroid_list"
   ]
  },
  {
   "cell_type": "code",
   "execution_count": 34,
   "metadata": {},
   "outputs": [],
   "source": [
    "test_list = extract_centroids(test_grid)"
   ]
  },
  {
   "cell_type": "code",
   "execution_count": 35,
   "metadata": {},
   "outputs": [
    {
     "data": {
      "text/plain": [
       "[(-73.36789189929631, 43.596981803142015),\n",
       " (-73.36789189929631, 43.67698180314201),\n",
       " (-73.36789189929631, 43.75698180314201),\n",
       " (-73.36789189929631, 43.83698180314201),\n",
       " (-73.36789189929631, 43.916981803142015),\n",
       " (-73.36789189929631, 43.996981803142006),\n",
       " (-73.36789189929631, 44.076981803142004),\n",
       " (-73.36789189929631, 44.156981803142),\n",
       " (-73.36789189929631, 44.63698180314199),\n",
       " (-73.36789189929631, 44.71698180314199),\n",
       " (-73.28789189929631, 42.79698180314203),\n",
       " (-73.28789189929631, 43.596981803142015),\n",
       " (-73.28789189929631, 43.67698180314201),\n",
       " (-73.28789189929631, 43.75698180314201),\n",
       " (-73.28789189929631, 43.83698180314201),\n",
       " (-73.28789189929631, 43.916981803142015),\n",
       " (-73.28789189929631, 43.996981803142006),\n",
       " (-73.28789189929631, 44.076981803142004),\n",
       " (-73.28789189929631, 44.156981803142),\n",
       " (-73.28789189929631, 44.236981803142),\n",
       " (-73.28789189929631, 44.316981803142),\n",
       " (-73.28789189929631, 44.39698180314199),\n",
       " (-73.28789189929631, 44.476981803141996),\n",
       " (-73.28789189929631, 44.556981803141994),\n",
       " (-73.28789189929631, 44.63698180314199),\n",
       " (-73.28789189929631, 44.71698180314199),\n",
       " (-73.28789189929631, 44.796981803141996),\n",
       " (-73.28789189929631, 44.87698180314199),\n",
       " (-73.28789189929631, 44.956981803141986),\n",
       " (-73.20789189929633, 42.79698180314203),\n",
       " (-73.20789189929633, 42.87698180314203),\n",
       " (-73.20789189929633, 42.95698180314203),\n",
       " (-73.20789189929633, 43.03698180314203),\n",
       " (-73.20789189929633, 43.11698180314203),\n",
       " (-73.20789189929633, 43.19698180314202),\n",
       " (-73.20789189929633, 43.27698180314202),\n",
       " (-73.20789189929633, 43.35698180314202),\n",
       " (-73.20789189929633, 43.43698180314202),\n",
       " (-73.20789189929633, 43.51698180314201),\n",
       " (-73.20789189929633, 43.596981803142015),\n",
       " (-73.20789189929633, 43.67698180314201),\n",
       " (-73.20789189929633, 43.75698180314201),\n",
       " (-73.20789189929633, 43.83698180314201),\n",
       " (-73.20789189929633, 43.916981803142015),\n",
       " (-73.20789189929633, 43.996981803142006),\n",
       " (-73.20789189929633, 44.076981803142004),\n",
       " (-73.20789189929633, 44.156981803142),\n",
       " (-73.20789189929633, 44.236981803142),\n",
       " (-73.20789189929633, 44.316981803142),\n",
       " (-73.20789189929633, 44.39698180314199),\n",
       " (-73.20789189929633, 44.476981803141996),\n",
       " (-73.20789189929633, 44.556981803141994),\n",
       " (-73.20789189929633, 44.63698180314199),\n",
       " (-73.20789189929633, 44.71698180314199),\n",
       " (-73.20789189929633, 44.796981803141996),\n",
       " (-73.20789189929633, 44.87698180314199),\n",
       " (-73.20789189929633, 44.956981803141986),\n",
       " (-73.12789189929632, 42.79698180314203),\n",
       " (-73.12789189929632, 42.87698180314203),\n",
       " (-73.12789189929632, 42.95698180314203),\n",
       " (-73.12789189929632, 43.03698180314203),\n",
       " (-73.12789189929632, 43.11698180314203),\n",
       " (-73.12789189929632, 43.19698180314202),\n",
       " (-73.12789189929632, 43.27698180314202),\n",
       " (-73.12789189929632, 43.35698180314202),\n",
       " (-73.12789189929632, 43.43698180314202),\n",
       " (-73.12789189929632, 43.51698180314201),\n",
       " (-73.12789189929632, 43.596981803142015),\n",
       " (-73.12789189929632, 43.67698180314201),\n",
       " (-73.12789189929632, 43.75698180314201),\n",
       " (-73.12789189929632, 43.83698180314201),\n",
       " (-73.12789189929632, 43.916981803142015),\n",
       " (-73.12789189929632, 43.996981803142006),\n",
       " (-73.12789189929632, 44.076981803142004),\n",
       " (-73.12789189929632, 44.156981803142),\n",
       " (-73.12789189929632, 44.236981803142),\n",
       " (-73.12789189929632, 44.316981803142),\n",
       " (-73.12789189929632, 44.39698180314199),\n",
       " (-73.12789189929632, 44.476981803141996),\n",
       " (-73.12789189929632, 44.556981803141994),\n",
       " (-73.12789189929632, 44.63698180314199),\n",
       " (-73.12789189929632, 44.71698180314199),\n",
       " (-73.12789189929632, 44.796981803141996),\n",
       " (-73.12789189929632, 44.87698180314199),\n",
       " (-73.12789189929632, 44.956981803141986),\n",
       " (-73.04789189929633, 42.79698180314203),\n",
       " (-73.04789189929633, 42.87698180314203),\n",
       " (-73.04789189929633, 42.95698180314203),\n",
       " (-73.04789189929633, 43.03698180314203),\n",
       " (-73.04789189929633, 43.11698180314203),\n",
       " (-73.04789189929633, 43.19698180314202),\n",
       " (-73.04789189929633, 43.27698180314202),\n",
       " (-73.04789189929633, 43.35698180314202),\n",
       " (-73.04789189929633, 43.43698180314202),\n",
       " (-73.04789189929633, 43.51698180314201),\n",
       " (-73.04789189929633, 43.596981803142015),\n",
       " (-73.04789189929633, 43.67698180314201),\n",
       " (-73.04789189929633, 43.75698180314201),\n",
       " (-73.04789189929633, 43.83698180314201),\n",
       " (-73.04789189929633, 43.916981803142015),\n",
       " (-73.04789189929633, 43.996981803142006),\n",
       " (-73.04789189929633, 44.076981803142004),\n",
       " (-73.04789189929633, 44.156981803142),\n",
       " (-73.04789189929633, 44.236981803142),\n",
       " (-73.04789189929633, 44.316981803142),\n",
       " (-73.04789189929633, 44.39698180314199),\n",
       " (-73.04789189929633, 44.476981803141996),\n",
       " (-73.04789189929633, 44.556981803141994),\n",
       " (-73.04789189929633, 44.63698180314199),\n",
       " (-73.04789189929633, 44.71698180314199),\n",
       " (-73.04789189929633, 44.796981803141996),\n",
       " (-73.04789189929633, 44.87698180314199),\n",
       " (-73.04789189929633, 44.956981803141986),\n",
       " (-72.96789189929632, 42.79698180314203),\n",
       " (-72.96789189929632, 42.87698180314203),\n",
       " (-72.96789189929632, 42.95698180314203),\n",
       " (-72.96789189929632, 43.03698180314203),\n",
       " (-72.96789189929632, 43.11698180314203),\n",
       " (-72.96789189929632, 43.19698180314202),\n",
       " (-72.96789189929632, 43.27698180314202),\n",
       " (-72.96789189929632, 43.35698180314202),\n",
       " (-72.96789189929632, 43.43698180314202),\n",
       " (-72.96789189929632, 43.51698180314201),\n",
       " (-72.96789189929632, 43.596981803142015),\n",
       " (-72.96789189929632, 43.67698180314201),\n",
       " (-72.96789189929632, 43.75698180314201),\n",
       " (-72.96789189929632, 43.83698180314201),\n",
       " (-72.96789189929632, 43.916981803142015),\n",
       " (-72.96789189929632, 43.996981803142006),\n",
       " (-72.96789189929632, 44.076981803142004),\n",
       " (-72.96789189929632, 44.156981803142),\n",
       " (-72.96789189929632, 44.236981803142),\n",
       " (-72.96789189929632, 44.316981803142),\n",
       " (-72.96789189929632, 44.39698180314199),\n",
       " (-72.96789189929632, 44.476981803141996),\n",
       " (-72.96789189929632, 44.556981803141994),\n",
       " (-72.96789189929632, 44.63698180314199),\n",
       " (-72.96789189929632, 44.71698180314199),\n",
       " (-72.96789189929632, 44.796981803141996),\n",
       " (-72.96789189929632, 44.87698180314199),\n",
       " (-72.96789189929632, 44.956981803141986),\n",
       " (-72.88789189929633, 42.79698180314203),\n",
       " (-72.88789189929633, 42.87698180314203),\n",
       " (-72.88789189929633, 42.95698180314203),\n",
       " (-72.88789189929633, 43.03698180314203),\n",
       " (-72.88789189929633, 43.11698180314203),\n",
       " (-72.88789189929633, 43.19698180314202),\n",
       " (-72.88789189929633, 43.27698180314202),\n",
       " (-72.88789189929633, 43.35698180314202),\n",
       " (-72.88789189929633, 43.43698180314202),\n",
       " (-72.88789189929633, 43.51698180314201),\n",
       " (-72.88789189929633, 43.596981803142015),\n",
       " (-72.88789189929633, 43.67698180314201),\n",
       " (-72.88789189929633, 43.75698180314201),\n",
       " (-72.88789189929633, 43.83698180314201),\n",
       " (-72.88789189929633, 43.916981803142015),\n",
       " (-72.88789189929633, 43.996981803142006),\n",
       " (-72.88789189929633, 44.076981803142004),\n",
       " (-72.88789189929633, 44.156981803142),\n",
       " (-72.88789189929633, 44.236981803142),\n",
       " (-72.88789189929633, 44.316981803142),\n",
       " (-72.88789189929633, 44.39698180314199),\n",
       " (-72.88789189929633, 44.476981803141996),\n",
       " (-72.88789189929633, 44.556981803141994),\n",
       " (-72.88789189929633, 44.63698180314199),\n",
       " (-72.88789189929633, 44.71698180314199),\n",
       " (-72.88789189929633, 44.796981803141996),\n",
       " (-72.88789189929633, 44.87698180314199),\n",
       " (-72.88789189929633, 44.956981803141986),\n",
       " (-72.80789189929632, 42.79698180314203),\n",
       " (-72.80789189929632, 42.87698180314203),\n",
       " (-72.80789189929632, 42.95698180314203),\n",
       " (-72.80789189929632, 43.03698180314203),\n",
       " (-72.80789189929632, 43.11698180314203),\n",
       " (-72.80789189929632, 43.19698180314202),\n",
       " (-72.80789189929632, 43.27698180314202),\n",
       " (-72.80789189929632, 43.35698180314202),\n",
       " (-72.80789189929632, 43.43698180314202),\n",
       " (-72.80789189929632, 43.51698180314201),\n",
       " (-72.80789189929632, 43.596981803142015),\n",
       " (-72.80789189929632, 43.67698180314201),\n",
       " (-72.80789189929632, 43.75698180314201),\n",
       " (-72.80789189929632, 43.83698180314201),\n",
       " (-72.80789189929632, 43.916981803142015),\n",
       " (-72.80789189929632, 43.996981803142006),\n",
       " (-72.80789189929632, 44.076981803142004),\n",
       " (-72.80789189929632, 44.156981803142),\n",
       " (-72.80789189929632, 44.236981803142),\n",
       " (-72.80789189929632, 44.316981803142),\n",
       " (-72.80789189929632, 44.39698180314199),\n",
       " (-72.80789189929632, 44.476981803141996),\n",
       " (-72.80789189929632, 44.556981803141994),\n",
       " (-72.80789189929632, 44.63698180314199),\n",
       " (-72.80789189929632, 44.71698180314199),\n",
       " (-72.80789189929632, 44.796981803141996),\n",
       " (-72.80789189929632, 44.87698180314199),\n",
       " (-72.80789189929632, 44.956981803141986),\n",
       " (-72.72789189929634, 42.79698180314203),\n",
       " (-72.72789189929634, 42.87698180314203),\n",
       " (-72.72789189929634, 42.95698180314203),\n",
       " (-72.72789189929634, 43.03698180314203),\n",
       " (-72.72789189929634, 43.11698180314203),\n",
       " (-72.72789189929634, 43.19698180314202),\n",
       " (-72.72789189929634, 43.27698180314202),\n",
       " (-72.72789189929634, 43.35698180314202),\n",
       " (-72.72789189929634, 43.43698180314202),\n",
       " (-72.72789189929634, 43.51698180314201),\n",
       " (-72.72789189929634, 43.596981803142015),\n",
       " (-72.72789189929634, 43.67698180314201),\n",
       " (-72.72789189929634, 43.75698180314201),\n",
       " (-72.72789189929634, 43.83698180314201),\n",
       " (-72.72789189929634, 43.916981803142015),\n",
       " (-72.72789189929634, 43.996981803142006),\n",
       " (-72.72789189929634, 44.076981803142004),\n",
       " (-72.72789189929634, 44.156981803142),\n",
       " (-72.72789189929634, 44.236981803142),\n",
       " (-72.72789189929634, 44.316981803142),\n",
       " (-72.72789189929634, 44.39698180314199),\n",
       " (-72.72789189929634, 44.476981803141996),\n",
       " (-72.72789189929634, 44.556981803141994),\n",
       " (-72.72789189929634, 44.63698180314199),\n",
       " (-72.72789189929634, 44.71698180314199),\n",
       " (-72.72789189929634, 44.796981803141996),\n",
       " (-72.72789189929634, 44.87698180314199),\n",
       " (-72.72789189929634, 44.956981803141986),\n",
       " (-72.64789189929633, 42.79698180314203),\n",
       " (-72.64789189929633, 42.87698180314203),\n",
       " (-72.64789189929633, 42.95698180314203),\n",
       " (-72.64789189929633, 43.03698180314203),\n",
       " (-72.64789189929633, 43.11698180314203),\n",
       " (-72.64789189929633, 43.19698180314202),\n",
       " (-72.64789189929633, 43.27698180314202),\n",
       " (-72.64789189929633, 43.35698180314202),\n",
       " (-72.64789189929633, 43.43698180314202),\n",
       " (-72.64789189929633, 43.51698180314201),\n",
       " (-72.64789189929633, 43.596981803142015),\n",
       " (-72.64789189929633, 43.67698180314201),\n",
       " (-72.64789189929633, 43.75698180314201),\n",
       " (-72.64789189929633, 43.83698180314201),\n",
       " (-72.64789189929633, 43.916981803142015),\n",
       " (-72.64789189929633, 43.996981803142006),\n",
       " (-72.64789189929633, 44.076981803142004),\n",
       " (-72.64789189929633, 44.156981803142),\n",
       " (-72.64789189929633, 44.236981803142),\n",
       " (-72.64789189929633, 44.316981803142),\n",
       " (-72.64789189929633, 44.39698180314199),\n",
       " (-72.64789189929633, 44.476981803141996),\n",
       " (-72.64789189929633, 44.556981803141994),\n",
       " (-72.64789189929633, 44.63698180314199),\n",
       " (-72.64789189929633, 44.71698180314199),\n",
       " (-72.64789189929633, 44.796981803141996),\n",
       " (-72.64789189929633, 44.87698180314199),\n",
       " (-72.64789189929633, 44.956981803141986),\n",
       " (-72.56789189929634, 42.79698180314203),\n",
       " (-72.56789189929634, 42.87698180314203),\n",
       " (-72.56789189929634, 42.95698180314203),\n",
       " (-72.56789189929634, 43.03698180314203),\n",
       " (-72.56789189929634, 43.11698180314203),\n",
       " (-72.56789189929634, 43.19698180314202),\n",
       " (-72.56789189929634, 43.27698180314202),\n",
       " (-72.56789189929634, 43.35698180314202),\n",
       " (-72.56789189929634, 43.43698180314202),\n",
       " (-72.56789189929634, 43.51698180314201),\n",
       " (-72.56789189929634, 43.596981803142015),\n",
       " (-72.56789189929634, 43.67698180314201),\n",
       " (-72.56789189929634, 43.75698180314201),\n",
       " (-72.56789189929634, 43.83698180314201),\n",
       " (-72.56789189929634, 43.916981803142015),\n",
       " (-72.56789189929634, 43.996981803142006),\n",
       " (-72.56789189929634, 44.076981803142004),\n",
       " (-72.56789189929634, 44.156981803142),\n",
       " (-72.56789189929634, 44.236981803142),\n",
       " (-72.56789189929634, 44.316981803142),\n",
       " (-72.56789189929634, 44.39698180314199),\n",
       " (-72.56789189929634, 44.476981803141996),\n",
       " (-72.56789189929634, 44.556981803141994),\n",
       " (-72.56789189929634, 44.63698180314199),\n",
       " (-72.56789189929634, 44.71698180314199),\n",
       " (-72.56789189929634, 44.796981803141996),\n",
       " (-72.56789189929634, 44.87698180314199),\n",
       " (-72.56789189929634, 44.956981803141986),\n",
       " (-72.48789189929633, 43.03698180314203),\n",
       " (-72.48789189929633, 43.11698180314203),\n",
       " (-72.48789189929633, 43.19698180314202),\n",
       " (-72.48789189929633, 43.27698180314202),\n",
       " (-72.48789189929633, 43.35698180314202),\n",
       " (-72.48789189929633, 43.43698180314202),\n",
       " (-72.48789189929633, 43.51698180314201),\n",
       " (-72.48789189929633, 43.596981803142015),\n",
       " (-72.48789189929633, 43.67698180314201),\n",
       " (-72.48789189929633, 43.75698180314201),\n",
       " (-72.48789189929633, 43.83698180314201),\n",
       " (-72.48789189929633, 43.916981803142015),\n",
       " (-72.48789189929633, 43.996981803142006),\n",
       " (-72.48789189929633, 44.076981803142004),\n",
       " (-72.48789189929633, 44.156981803142),\n",
       " (-72.48789189929633, 44.236981803142),\n",
       " (-72.48789189929633, 44.316981803142),\n",
       " (-72.48789189929633, 44.39698180314199),\n",
       " (-72.48789189929633, 44.476981803141996),\n",
       " (-72.48789189929633, 44.556981803141994),\n",
       " (-72.48789189929633, 44.63698180314199),\n",
       " (-72.48789189929633, 44.71698180314199),\n",
       " (-72.48789189929633, 44.796981803141996),\n",
       " (-72.48789189929633, 44.87698180314199),\n",
       " (-72.48789189929633, 44.956981803141986),\n",
       " (-72.40789189929636, 43.35698180314202),\n",
       " (-72.40789189929636, 43.43698180314202),\n",
       " (-72.40789189929636, 43.51698180314201),\n",
       " (-72.40789189929636, 43.596981803142015),\n",
       " (-72.40789189929636, 43.67698180314201),\n",
       " (-72.40789189929636, 43.75698180314201),\n",
       " (-72.40789189929636, 43.83698180314201),\n",
       " (-72.40789189929636, 43.916981803142015),\n",
       " (-72.40789189929636, 43.996981803142006),\n",
       " (-72.40789189929636, 44.076981803142004),\n",
       " (-72.40789189929636, 44.156981803142),\n",
       " (-72.40789189929636, 44.236981803142),\n",
       " (-72.40789189929636, 44.316981803142),\n",
       " (-72.40789189929636, 44.39698180314199),\n",
       " (-72.40789189929636, 44.476981803141996),\n",
       " (-72.40789189929636, 44.556981803141994),\n",
       " (-72.40789189929636, 44.63698180314199),\n",
       " (-72.40789189929636, 44.71698180314199),\n",
       " (-72.40789189929636, 44.796981803141996),\n",
       " (-72.40789189929636, 44.87698180314199),\n",
       " (-72.40789189929636, 44.956981803141986),\n",
       " (-72.32789189929635, 43.67698180314201),\n",
       " (-72.32789189929635, 43.75698180314201),\n",
       " (-72.32789189929635, 43.83698180314201),\n",
       " (-72.32789189929635, 43.916981803142015),\n",
       " (-72.32789189929635, 43.996981803142006),\n",
       " (-72.32789189929635, 44.076981803142004),\n",
       " (-72.32789189929635, 44.156981803142),\n",
       " (-72.32789189929635, 44.236981803142),\n",
       " (-72.32789189929635, 44.316981803142),\n",
       " (-72.32789189929635, 44.39698180314199),\n",
       " (-72.32789189929635, 44.476981803141996),\n",
       " (-72.32789189929635, 44.556981803141994),\n",
       " (-72.32789189929635, 44.63698180314199),\n",
       " (-72.32789189929635, 44.71698180314199),\n",
       " (-72.32789189929635, 44.796981803141996),\n",
       " (-72.32789189929635, 44.87698180314199),\n",
       " (-72.32789189929635, 44.956981803141986),\n",
       " (-72.24789189929635, 43.75698180314201),\n",
       " (-72.24789189929635, 43.83698180314201),\n",
       " (-72.24789189929635, 43.916981803142015),\n",
       " (-72.24789189929635, 43.996981803142006),\n",
       " (-72.24789189929635, 44.076981803142004),\n",
       " (-72.24789189929635, 44.156981803142),\n",
       " (-72.24789189929635, 44.236981803142),\n",
       " (-72.24789189929635, 44.316981803142),\n",
       " (-72.24789189929635, 44.39698180314199),\n",
       " (-72.24789189929635, 44.476981803141996),\n",
       " (-72.24789189929635, 44.556981803141994),\n",
       " (-72.24789189929635, 44.63698180314199),\n",
       " (-72.24789189929635, 44.71698180314199),\n",
       " (-72.24789189929635, 44.796981803141996),\n",
       " (-72.24789189929635, 44.87698180314199),\n",
       " (-72.24789189929635, 44.956981803141986),\n",
       " (-72.16789189929634, 43.916981803142015),\n",
       " (-72.16789189929634, 43.996981803142006),\n",
       " (-72.16789189929634, 44.076981803142004),\n",
       " (-72.16789189929634, 44.156981803142),\n",
       " (-72.16789189929634, 44.236981803142),\n",
       " (-72.16789189929634, 44.316981803142),\n",
       " (-72.16789189929634, 44.39698180314199),\n",
       " (-72.16789189929634, 44.476981803141996),\n",
       " (-72.16789189929634, 44.556981803141994),\n",
       " (-72.16789189929634, 44.63698180314199),\n",
       " (-72.16789189929634, 44.71698180314199),\n",
       " (-72.16789189929634, 44.796981803141996),\n",
       " (-72.16789189929634, 44.87698180314199),\n",
       " (-72.16789189929634, 44.956981803141986),\n",
       " (-72.08789189929634, 43.996981803142006),\n",
       " (-72.08789189929634, 44.076981803142004),\n",
       " (-72.08789189929634, 44.156981803142),\n",
       " (-72.08789189929634, 44.236981803142),\n",
       " (-72.08789189929634, 44.316981803142),\n",
       " (-72.08789189929634, 44.39698180314199),\n",
       " (-72.08789189929634, 44.476981803141996),\n",
       " (-72.08789189929634, 44.556981803141994),\n",
       " (-72.08789189929634, 44.63698180314199),\n",
       " (-72.08789189929634, 44.71698180314199),\n",
       " (-72.08789189929634, 44.796981803141996),\n",
       " (-72.08789189929634, 44.87698180314199),\n",
       " (-72.08789189929634, 44.956981803141986),\n",
       " (-72.00789189929634, 44.39698180314199),\n",
       " (-72.00789189929634, 44.476981803141996),\n",
       " (-72.00789189929634, 44.556981803141994),\n",
       " (-72.00789189929634, 44.63698180314199),\n",
       " (-72.00789189929634, 44.71698180314199),\n",
       " (-72.00789189929634, 44.796981803141996),\n",
       " (-72.00789189929634, 44.87698180314199),\n",
       " (-72.00789189929634, 44.956981803141986),\n",
       " (-71.92789189929636, 44.39698180314199),\n",
       " (-71.92789189929636, 44.476981803141996),\n",
       " (-71.92789189929636, 44.556981803141994),\n",
       " (-71.92789189929636, 44.63698180314199),\n",
       " (-71.92789189929636, 44.71698180314199),\n",
       " (-71.92789189929636, 44.796981803141996),\n",
       " (-71.92789189929636, 44.87698180314199),\n",
       " (-71.92789189929636, 44.956981803141986),\n",
       " (-71.84789189929636, 44.39698180314199),\n",
       " (-71.84789189929636, 44.476981803141996),\n",
       " (-71.84789189929636, 44.556981803141994),\n",
       " (-71.84789189929636, 44.63698180314199),\n",
       " (-71.84789189929636, 44.71698180314199),\n",
       " (-71.84789189929636, 44.796981803141996),\n",
       " (-71.84789189929636, 44.87698180314199),\n",
       " (-71.84789189929636, 44.956981803141986),\n",
       " (-71.76789189929636, 44.39698180314199),\n",
       " (-71.76789189929636, 44.476981803141996),\n",
       " (-71.76789189929636, 44.556981803141994),\n",
       " (-71.76789189929636, 44.63698180314199),\n",
       " (-71.76789189929636, 44.71698180314199),\n",
       " (-71.76789189929636, 44.796981803141996),\n",
       " (-71.76789189929636, 44.87698180314199),\n",
       " (-71.76789189929636, 44.956981803141986),\n",
       " (-71.68789189929636, 44.476981803141996),\n",
       " (-71.68789189929636, 44.556981803141994),\n",
       " (-71.68789189929636, 44.63698180314199),\n",
       " (-71.68789189929636, 44.71698180314199),\n",
       " (-71.68789189929636, 44.796981803141996),\n",
       " (-71.68789189929636, 44.87698180314199),\n",
       " (-71.68789189929636, 44.956981803141986),\n",
       " (-71.60789189929635, 44.556981803141994),\n",
       " (-71.60789189929635, 44.63698180314199),\n",
       " (-71.60789189929635, 44.71698180314199),\n",
       " (-71.60789189929635, 44.796981803141996),\n",
       " (-71.60789189929635, 44.87698180314199),\n",
       " (-71.60789189929635, 44.956981803141986),\n",
       " (-71.52789189929634, 44.956981803141986)]"
      ]
     },
     "execution_count": 35,
     "metadata": {},
     "output_type": "execute_result"
    }
   ],
   "source": [
    "test_list"
   ]
  },
  {
   "cell_type": "code",
   "execution_count": 36,
   "metadata": {},
   "outputs": [
    {
     "data": {
      "text/plain": [
       "433"
      ]
     },
     "execution_count": 36,
     "metadata": {},
     "output_type": "execute_result"
    }
   ],
   "source": [
    "len(test_list)"
   ]
  },
  {
   "cell_type": "code",
   "execution_count": null,
   "metadata": {},
   "outputs": [],
   "source": []
  }
 ],
 "metadata": {
  "kernelspec": {
   "display_name": "Python 3",
   "language": "python",
   "name": "python3"
  },
  "language_info": {
   "codemirror_mode": {
    "name": "ipython",
    "version": 3
   },
   "file_extension": ".py",
   "mimetype": "text/x-python",
   "name": "python",
   "nbconvert_exporter": "python",
   "pygments_lexer": "ipython3",
   "version": "3.7.6"
  },
  "toc": {
   "base_numbering": 1,
   "nav_menu": {},
   "number_sections": true,
   "sideBar": true,
   "skip_h1_title": false,
   "title_cell": "Table of Contents",
   "title_sidebar": "Contents",
   "toc_cell": false,
   "toc_position": {},
   "toc_section_display": true,
   "toc_window_display": false
  }
 },
 "nbformat": 4,
 "nbformat_minor": 4
}
