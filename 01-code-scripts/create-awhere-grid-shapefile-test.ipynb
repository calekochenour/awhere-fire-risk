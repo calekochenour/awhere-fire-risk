{
 "cells": [
  {
   "cell_type": "markdown",
   "metadata": {},
   "source": [
    "# Create aWhere Grid from Shapefile"
   ]
  },
  {
   "cell_type": "markdown",
   "metadata": {},
   "source": [
    "## Environment Setup"
   ]
  },
  {
   "cell_type": "markdown",
   "metadata": {},
   "source": [
    "### Imports"
   ]
  },
  {
   "cell_type": "code",
   "execution_count": 1,
   "metadata": {},
   "outputs": [],
   "source": [
    "# Imports\n",
    "import os\n",
    "import matplotlib.pyplot as plt\n",
    "import numpy as np\n",
    "import geopandas as gpd\n",
    "from shapely.geometry import Polygon\n",
    "import earthpy as et"
   ]
  },
  {
   "cell_type": "markdown",
   "metadata": {},
   "source": [
    "### Functions"
   ]
  },
  {
   "cell_type": "code",
   "execution_count": 2,
   "metadata": {},
   "outputs": [],
   "source": [
    "def create_awhere_grid(study_area_path, buffer_distance, cell_size=0.08):\n",
    "    \"\"\"Creates an aWhere-sized grid (0.08 x 0.08 degree,\n",
    "    5 arc-minute x 5 arc-minute grid) fit to a polygon.\n",
    "\n",
    "    Parameters\n",
    "    ----------\n",
    "    study_area_path : str\n",
    "        Path the polygon shapefile boundary.\n",
    "\n",
    "    buffer_distance : int or float\n",
    "        Buffer size in degrees (WGS 84 CRS).\n",
    "\n",
    "    cell_size: int or float\n",
    "        Grid size (x and y dimension) in degrees (WGS 84 CRS).\n",
    "\n",
    "    Returns\n",
    "    -------\n",
    "    study_area_grid_4326: geopandas GeoDataFrame\n",
    "        Grid dataframe shaped to the polygon boundary.\n",
    "\n",
    "    Example\n",
    "    -------\n",
    "    \"\"\"\n",
    "    # Read shapefile into geodataframe\n",
    "    study_area = gpd.read_file(study_area_path)\n",
    "\n",
    "    # Project to WGS 84 Lat/Lon, EPSG 4326 if no CRS match\n",
    "    if not study_area.crs == 4326:\n",
    "        study_area_4326 = study_area.to_crs(4326)\n",
    "\n",
    "    else:\n",
    "        study_area_4326 = study_area\n",
    "\n",
    "    # Create buffer around state boundary\n",
    "    study_area_4326_buffer = study_area_4326.buffer(distance=buffer_distance)\n",
    "\n",
    "    # Convert buffer from geoseries to geodataframe\n",
    "    study_area_4326_buffer_gdf = gpd.GeoDataFrame(\n",
    "        study_area_4326_buffer, crs=4326)\n",
    "\n",
    "    # Rename geometry column in buffer\n",
    "    study_area_4326_buffer_gdf.rename(columns={0: 'geometry'}, inplace=True)\n",
    "\n",
    "    # Get extent of buffered boundary\n",
    "    longitude_min = study_area_4326_buffer_gdf.bounds.minx[0]\n",
    "    latitude_min = study_area_4326_buffer_gdf.bounds.miny[0]\n",
    "    longitude_max = study_area_4326_buffer_gdf.bounds.maxx[0]\n",
    "    latitude_max = study_area_4326_buffer_gdf.bounds.maxy[0]\n",
    "\n",
    "    # Create lists for lat/lon extents\n",
    "    # DOES THIS NEED ANY PADDING? np.floor, np.ceil?\n",
    "    # OR DOES DUFFER DISTANCE HANDLE THIS?\n",
    "    longitude_vals = np.arange(longitude_min, longitude_max, cell_size)\n",
    "    latitude_vals = np.arange(latitude_min, latitude_max, cell_size)\n",
    "\n",
    "    # Create grid of polygons based on longitude and latitude ranges\n",
    "    grid_polys_list = [Polygon([\n",
    "        (longitude, latitude),\n",
    "        (longitude + cell_size, latitude),\n",
    "        (longitude + cell_size, latitude + cell_size),\n",
    "        (longitude, latitude + cell_size)])\n",
    "        for longitude in longitude_vals for latitude in latitude_vals]\n",
    "\n",
    "    # Create geodataframe from grid polygons\n",
    "    grid_polys_gdf = gpd.GeoDataFrame(crs=4326, geometry=grid_polys_list)\n",
    "\n",
    "    # Add centroid to each grid cell\n",
    "    grid_polys_gdf['centroid'] = grid_polys_gdf.geometry.apply(\n",
    "        lambda poly: poly.centroid)\n",
    "\n",
    "    # Narrow grid cells to those within the buffered boundary\n",
    "    study_area_grid_4326 = gpd.sjoin(\n",
    "        grid_polys_gdf, study_area_4326_buffer_gdf, op='within')\n",
    "    \n",
    "    # Drop unnecessary colum\n",
    "    study_area_grid_4326.drop(columns='index_right', inplace=True)\n",
    "    \n",
    "    # Return gridded geodataframe\n",
    "    return study_area_grid_4326"
   ]
  },
  {
   "cell_type": "code",
   "execution_count": 3,
   "metadata": {},
   "outputs": [],
   "source": [
    "def extract_centroids(grid):\n",
    "    \"\"\"Extracts the longitude and latitude centroids\n",
    "    from a grid of polygons.\n",
    "    \n",
    "    Parameters\n",
    "    ----------\n",
    "    grid : geopandas GeoDataFrame\n",
    "        Grid dataframe with polygon geometry.\n",
    "    \n",
    "    Returns\n",
    "    -------\n",
    "    centroid_list: list (of tuples)\n",
    "        List containing (longitude, latitude) tuples.\n",
    "    \n",
    "    Example\n",
    "    -------\n",
    "    \n",
    "    \"\"\"\n",
    "    # Create copy of dataframe (avoids altering the original)\n",
    "    grid_extract = grid.copy()\n",
    "    \n",
    "    # Extract latitude and longitude to new columns\n",
    "    grid_extract['longitude'] = grid_extract.centroid.apply(lambda point: point.x)\n",
    "    grid_extract['latitude'] = grid_extract.centroid.apply(lambda point: point.y)\n",
    "    \n",
    "    # Extract centroid (as tuples) from grid\n",
    "    centroid_list = [(row.longitude, row.latitude) for row in grid_extract.itertuples()]\n",
    "    \n",
    "    # Return centroids\n",
    "    return centroid_list"
   ]
  },
  {
   "cell_type": "markdown",
   "metadata": {},
   "source": [
    "### File Paths"
   ]
  },
  {
   "cell_type": "code",
   "execution_count": 4,
   "metadata": {},
   "outputs": [],
   "source": [
    "# Set working directory\n",
    "working_directory = os.path.join(\n",
    "    et.io.HOME, 'earth-analytics', \n",
    "    '03-geog5663-earth-analytics-applications-summer-2020',\n",
    "    'git-repos', 'fire-drought-analysis')"
   ]
  },
  {
   "cell_type": "code",
   "execution_count": 5,
   "metadata": {},
   "outputs": [],
   "source": [
    "# Define path to shapefile\n",
    "vt_bound_path = os.path.join(\n",
    "    working_directory, '02-raw-data', 'shapefiles',\n",
    "    'vermont', 'vermont_state_boundary.shp')"
   ]
  },
  {
   "cell_type": "markdown",
   "metadata": {},
   "source": [
    "## Create Grid"
   ]
  },
  {
   "cell_type": "code",
   "execution_count": 6,
   "metadata": {},
   "outputs": [],
   "source": [
    "# Create grid with 0.12-degree buffer (1.5*cell_size) and default cell size\n",
    "vt_grid = create_awhere_grid(vt_bound_path, buffer_distance=0.12)"
   ]
  },
  {
   "cell_type": "code",
   "execution_count": 7,
   "metadata": {},
   "outputs": [],
   "source": [
    "# Project state boundary to 4326 (for plotting)\n",
    "vt_bound_4326 = gpd.read_file(vt_bound_path).to_crs(4326)"
   ]
  },
  {
   "cell_type": "code",
   "execution_count": 8,
   "metadata": {},
   "outputs": [
    {
     "data": {
      "image/png": "[encoded data removed]",
      "text/plain": [
       "<Figure size 1440x720 with 1 Axes>"
      ]
     },
     "metadata": {},
     "output_type": "display_data"
    }
   ],
   "source": [
    "# Plot state boundary (4326) and grid\n",
    "with plt.style.context('dark_background'):\n",
    "\n",
    "    fig, ax = plt.subplots(figsize=(20, 10))\n",
    "    vt_grid.plot(ax=ax, facecolor=\"none\", edgecolor=\"#984ea3\", linewidth=1.5)\n",
    "    vt_bound_4326.plot(ax=ax, facecolor=\"none\",\n",
    "                       edgecolor=\"#4daf4a\", linewidth=2)\n",
    "\n",
    "    ax.set_xlabel(\"Longitude (degrees)\", fontsize=16)\n",
    "    ax.set_ylabel(\"Latitude (degrees)\", fontsize=16)\n",
    "    ax.set_title(\n",
    "        \"Vermont Boundary & aWhere Grid\\nBuffer = 0.12 Degrees, Cell Size = 0.08 Degrees\",\n",
    "        fontsize=20)\n",
    "    ax.tick_params(axis='both', which='major', labelsize=16)\n",
    "\n",
    "    plt.show()"
   ]
  },
  {
   "cell_type": "markdown",
   "metadata": {},
   "source": [
    "## Extract Grid Centroids"
   ]
  },
  {
   "cell_type": "code",
   "execution_count": 9,
   "metadata": {},
   "outputs": [],
   "source": [
    "# Extract centroids vrom VT grid to list\n",
    "vt_grid_centroids = extract_centroids(vt_grid)"
   ]
  },
  {
   "cell_type": "code",
   "execution_count": 10,
   "metadata": {},
   "outputs": [
    {
     "data": {
      "text/plain": [
       "533"
      ]
     },
     "execution_count": 10,
     "metadata": {},
     "output_type": "execute_result"
    }
   ],
   "source": [
    "# Show number of centroids/grid cells\n",
    "len(vt_grid_centroids)"
   ]
  },
  {
   "cell_type": "code",
   "execution_count": 11,
   "metadata": {},
   "outputs": [
    {
     "data": {
      "text/plain": [
       "[(-73.43784136769847, 43.527012318617274),\n",
       " (-73.43784136769847, 43.60701231861727),\n",
       " (-73.43784136769847, 43.68701231861726),\n",
       " (-73.43784136769847, 43.76701231861726),\n",
       " (-73.43784136769847, 43.84701231861727)]"
      ]
     },
     "execution_count": 11,
     "metadata": {},
     "output_type": "execute_result"
    }
   ],
   "source": [
    "# Show first 5 centroids\n",
    "vt_grid_centroids[:5]"
   ]
  },
  {
   "cell_type": "code",
   "execution_count": 12,
   "metadata": {},
   "outputs": [
    {
     "data": {
      "text/plain": [
       "(-73.43784136769847, 43.527012318617274)"
      ]
     },
     "execution_count": 12,
     "metadata": {},
     "output_type": "execute_result"
    }
   ],
   "source": [
    "# Show first centroid\n",
    "vt_grid_centroids[:5][0]"
   ]
  },
  {
   "cell_type": "code",
   "execution_count": 13,
   "metadata": {},
   "outputs": [
    {
     "data": {
      "text/plain": [
       "-73.43784136769847"
      ]
     },
     "execution_count": 13,
     "metadata": {},
     "output_type": "execute_result"
    }
   ],
   "source": [
    "# Show first longitude\n",
    "vt_grid_centroids[:5][0][0]"
   ]
  },
  {
   "cell_type": "code",
   "execution_count": 14,
   "metadata": {},
   "outputs": [
    {
     "data": {
      "text/plain": [
       "43.527012318617274"
      ]
     },
     "execution_count": 14,
     "metadata": {},
     "output_type": "execute_result"
    }
   ],
   "source": [
    "# Show first latitude\n",
    "vt_grid_centroids[:5][0][-1]"
   ]
  },
  {
   "cell_type": "code",
   "execution_count": null,
   "metadata": {},
   "outputs": [],
   "source": []
  }
 ],
 "metadata": {
  "kernelspec": {
   "display_name": "Python 3",
   "language": "python",
   "name": "python3"
  },
  "language_info": {
   "codemirror_mode": {
    "name": "ipython",
    "version": 3
   },
   "file_extension": ".py",
   "mimetype": "text/x-python",
   "name": "python",
   "nbconvert_exporter": "python",
   "pygments_lexer": "ipython3",
   "version": "3.7.6"
  },
  "toc": {
   "base_numbering": 1,
   "nav_menu": {},
   "number_sections": true,
   "sideBar": true,
   "skip_h1_title": false,
   "title_cell": "Table of Contents",
   "title_sidebar": "Contents",
   "toc_cell": false,
   "toc_position": {},
   "toc_section_display": true,
   "toc_window_display": false
  }
 },
 "nbformat": 4,
 "nbformat_minor": 4
}
